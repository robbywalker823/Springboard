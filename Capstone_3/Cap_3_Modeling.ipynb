{
 "cells": [
  {
   "cell_type": "markdown",
   "metadata": {},
   "source": [
    "# Capstone 3: Modeling #\n",
    "\n",
    "This is the stage of the project where we finally build a chatbot!  Actually we are going to build two, and compare how well they work. We are going to use Chatterbot, a Python library for building chatbots that is relatively easy to use. During my time as a teacher, one of the most common things I heard from my students was that they wanted their errors to be corrected. This is especially true of simple errors related to content the student has seen before. I played around with a few commercial ESL chatbots while doing resarch for this project, and to my surprise, none of them performed error correction. In addition, they mostly just respond to the user's input without asking follow-up questions to keep the conversation going. These are a couple of problems we will try to solve with the chatbots we build."
   ]
  },
  {
   "cell_type": "code",
   "execution_count": 1,
   "metadata": {},
   "outputs": [],
   "source": [
    "# Import libraries\n",
    "import pandas as pd\n",
    "from chatterbot import ChatBot\n",
    "from chatterbot.trainers import ListTrainer\n",
    "from chatterbot.trainers import ChatterBotCorpusTrainer\n",
    "from gingerit.gingerit import GingerIt\n",
    "from PyDictionary import PyDictionary\n",
    "from chatterbot.comparisons import SpacySimilarity\n",
    "from chatterbot.comparisons import LevenshteinDistance\n",
    "from chatterbot.response_selection import get_random_response\n",
    "from chatterbot.response_selection import get_most_frequent_response\n",
    "import re\n",
    "import random"
   ]
  },
  {
   "cell_type": "code",
   "execution_count": 2,
   "metadata": {},
   "outputs": [
    {
     "data": {
      "text/plain": [
       "['Do you have any pets?',\n",
       " 'What was the last book you read?',\n",
       " 'Do you like to cook?',\n",
       " \"What's your favorite food?\",\n",
       " 'Are you good at cooking/swimming/etc?',\n",
       " 'Are you married or single?',\n",
       " 'Do you like baseball?',\n",
       " 'Do you live alone?',\n",
       " 'Do you live in a house or an apartment?',\n",
       " 'Have you ever lived in another country?']"
      ]
     },
     "execution_count": 2,
     "metadata": {},
     "output_type": "execute_result"
    }
   ],
   "source": [
    "# Import starter_questions.csv and convert to list\n",
    "starter_questions = pd.read_csv('starter_questions.csv')\n",
    "question_list = starter_questions['0'].to_list()\n",
    "question_list[:10]"
   ]
  },
  {
   "cell_type": "code",
   "execution_count": 3,
   "metadata": {},
   "outputs": [
    {
     "name": "stdout",
     "output_type": "stream",
     "text": [
      "before: 58\n",
      "after: 67\n"
     ]
    }
   ],
   "source": [
    "# Add a few more questions to the list\n",
    "print(\"before:\", len(question_list))\n",
    "\n",
    "extra_questions = [\n",
    "    \"Have you ever bought a car?\",\n",
    "    \"How do you get to work or school?\",\n",
    "    \"What did you do yesterday?\",\n",
    "    \"What did you do last weekend?\",\n",
    "    \"Where did you go on your last vacation?\",\n",
    "    \"What are your plans for next year?\",\n",
    "    \"How are you feeling today?\",\n",
    "    \"What is your favorite movie?\",\n",
    "    \"What is your city like?\"\n",
    "]\n",
    "\n",
    "question_list.extend(extra_questions)\n",
    "\n",
    "print(\"after:\", len(question_list))"
   ]
  },
  {
   "cell_type": "markdown",
   "metadata": {},
   "source": [
    "Now it is time to create the first chatbot. This bot is named \"Alan\" after Alan Turing. Both of the bots we create will make use of the Best Match logic adapter, which finds the statement in the training data that most closely resembles the input statement. In this case, the comparison will be made using the `SpacySimilarity` function, which employs `spaCy`, a popular NLP library, to measure the similarity of the strings. This is done by comparing word vectors, which are high-dimensional embeddings of words to capture their meanings. Using `spaCy`, two words like \"cat\" and \"feline\" would achieve a high similarity score, despite not sharing any letters. Once a match is made, there may be multiple possible responses, especially if the line appears more than once in the training data. For Alan, we will use the `get_random_response` function to make a random choice from the list of possible responses. The similarity threshold is set to 0.95, so two strings must be 95% similar to be considered a match. If no match is found, the bot will return a random question from the `question_list` we created above."
   ]
  },
  {
   "cell_type": "code",
   "execution_count": 4,
   "metadata": {},
   "outputs": [],
   "source": [
    "# Create instance of ChatBot\n",
    "alan = ChatBot(\n",
    "    'Alan',\n",
    "    logic_adapters=[\n",
    "        {\n",
    "            'import_path': 'chatterbot.logic.BestMatch',\n",
    "            'statement_comparison_function': SpacySimilarity,\n",
    "            'response_selection_method': get_random_response,\n",
    "            'default_response': question_list,\n",
    "            'maximum_similarity_threshold': 0.95,\n",
    "        }\n",
    "    ]\n",
    ")"
   ]
  },
  {
   "cell_type": "markdown",
   "metadata": {},
   "source": [
    "Now that the bot has been created, we will train it, first with the Chatterbot English Corpus, and then with the ESL dialogues that were acquired in an earlier stage of this project."
   ]
  },
  {
   "cell_type": "code",
   "execution_count": 5,
   "metadata": {},
   "outputs": [
    {
     "name": "stdout",
     "output_type": "stream",
     "text": [
      "Training ai.yml: [####################] 100%\n",
      "Training botprofile.yml: [####################] 100%\n",
      "Training computers.yml: [####################] 100%\n",
      "Training conversations.yml: [####################] 100%\n",
      "Training emotion.yml: [####################] 100%\n",
      "Training food.yml: [####################] 100%\n",
      "Training gossip.yml: [####################] 100%\n",
      "Training greetings.yml: [####################] 100%\n",
      "Training health.yml: [####################] 100%\n",
      "Training history.yml: [####################] 100%\n",
      "Training humor.yml: [####################] 100%\n",
      "Training literature.yml: [####################] 100%\n",
      "Training money.yml: [####################] 100%\n",
      "Training movies.yml: [####################] 100%\n",
      "Training politics.yml: [####################] 100%\n",
      "Training psychology.yml: [####################] 100%\n",
      "Training science.yml: [####################] 100%\n",
      "Training sports.yml: [####################] 100%\n",
      "Training trivia.yml: [####################] 100%\n"
     ]
    }
   ],
   "source": [
    "# Train bot on Chatterbot English Corpus\n",
    "trainer = ChatterBotCorpusTrainer(alan)\n",
    "trainer.train(\"chatterbot.corpus.english\")"
   ]
  },
  {
   "cell_type": "code",
   "execution_count": 6,
   "metadata": {},
   "outputs": [
    {
     "data": {
      "text/plain": [
       "['Where do you live?',\n",
       " 'I live in Pasadena.',\n",
       " 'Where is Pasadena?',\n",
       " \"It's in California.\",\n",
       " 'Is it in northern California?',\n",
       " \"No. It's in southern California.\",\n",
       " 'Is Pasadena a big city?',\n",
       " \"It's pretty big.\",\n",
       " 'How big is \"pretty big\"?',\n",
       " 'It has about 140,000 people.']"
      ]
     },
     "execution_count": 6,
     "metadata": {},
     "output_type": "execute_result"
    }
   ],
   "source": [
    "# Import dialogue dataset and convert the text column to list\n",
    "dialogues = pd.read_csv('all_dialogues.csv')\n",
    "dialogue_list = dialogues['dialogue_line'].to_list()\n",
    "dialogue_list[:10]"
   ]
  },
  {
   "cell_type": "code",
   "execution_count": 49,
   "metadata": {},
   "outputs": [
    {
     "name": "stdout",
     "output_type": "stream",
     "text": [
      "before: 25556\n",
      "after: 25563\n"
     ]
    }
   ],
   "source": [
    "# Add a few extra lines to the dialogue list\n",
    "#print(\"before:\", len(dialogue_list))\n",
    "\n",
    "#extra_lines = [\n",
    "    \"Hi there!\",\n",
    "    \"How are you?\",\n",
    "    \"Fine, thanks. And you?\",\n",
    "    \"I'm fine, thanks for asking.\",\n",
    "    \"What's your name?\",\n",
    "    \"My name is Alan.\",\n",
    "    \"Nice to meet you.\",\n",
    "    \"Nice to meet you too.\"\n",
    "]\n",
    "\n",
    "#dialogue_list.extend(extra_questions)\n",
    "\n",
    "#print(\"after:\", len(dialogue_list))"
   ]
  },
  {
   "cell_type": "code",
   "execution_count": 7,
   "metadata": {},
   "outputs": [
    {
     "name": "stdout",
     "output_type": "stream",
     "text": [
      "List Trainer: [####################] 100%\n"
     ]
    }
   ],
   "source": [
    "# Train bot on dialogue list\n",
    "trainer = ListTrainer(alan)\n",
    "trainer.train(dialogue_list)"
   ]
  },
  {
   "cell_type": "markdown",
   "metadata": {},
   "source": [
    "The bot is trained and almost ready to use. Next, we are going to create an instance of `PyDictionary`, which will look up the definitions of words. Below, we build a function around it to print the definition in a more readable bot-friendly format. We will also create an instance of `GingerIt`, which will be used later in the while loop to perform spelling and grammar corrections. `GingerIt` does not catch every error, but it does a pretty good job."
   ]
  },
  {
   "cell_type": "code",
   "execution_count": 8,
   "metadata": {},
   "outputs": [],
   "source": [
    "# Create instance of PyDictionary to look up definitions of words\n",
    "dictionary = PyDictionary()\n",
    "# Create instance of GingerIt to perform spelling and grammar checks\n",
    "ginger_parser = GingerIt()"
   ]
  },
  {
   "cell_type": "code",
   "execution_count": 9,
   "metadata": {},
   "outputs": [],
   "source": [
    "# Function to print definition of word in readable format\n",
    "def look_up_word(word):\n",
    "    definition = dictionary.meaning(word)\n",
    "    if definition == None:\n",
    "        print(\"Alan: Sorry, I don't know that word.\")\n",
    "    else:\n",
    "        print('Alan: \"{}\" means...'.format(word))\n",
    "        for k in definition.keys():\n",
    "            for i in definition[k][:3]:\n",
    "                print('\\t-', i)"
   ]
  },
  {
   "cell_type": "markdown",
   "metadata": {},
   "source": [
    "Time to create the while loop in which the bot will run. The code starts by printing a general introduction with some instructions, and then Alan asks a random question to kick off the conversation.  The user's input will be corrected if any errors are found. It is also possible to look up the the definition of a word by typing \"define\" plus the word. While chatting with the bot, I will purposely make spelling and grammar errors on occasion in order to test the bot's ability to correct them."
   ]
  },
  {
   "cell_type": "code",
   "execution_count": 10,
   "metadata": {},
   "outputs": [
    {
     "name": "stdout",
     "output_type": "stream",
     "text": [
      "\n",
      "    Hi, my name is Alan. I'm here to help you practice English. If you want to see the definition of a word, \n",
      "    just type 'define' plus the word. Say \"bye\" when you are ready to finish.\n",
      "    \n",
      "Alan:  Have you ever bought a car?\n",
      ">>user: Yes, I buyed a Cadillac.\n",
      "Alan: ** Yes, I bought a Cadillac. **\n",
      "Alan:  A luxury car.\n",
      ">>user: define luxury\n",
      "Alan: \"luxury\" means...\n",
      "\t- something that is an indulgence rather than a necessity\n",
      "\t- the quality possessed by something that is excessively expensive\n",
      "\t- wealth as evidenced by sumptuous living\n",
      ">>user: What's for dinner?\n",
      "Alan:  I'm not sure.\n",
      ">>user: How about a pizza?\n",
      "Alan:  You had pizza for lunch.\n",
      ">>user: But I love pizza.\n",
      "Alan:  I had pizza for lunch yesterday.\n",
      ">>user: i did'nt know you could eat\n",
      "Alan: ** I didn't know you could eat **\n",
      "Alan:  hard to tell, i have never tried anything but electricity\n",
      ">>user: define electricity\n",
      "Alan: \"electricity\" means...\n",
      "\t- a physical phenomenon associated with stationary or moving electrons and protons\n",
      "\t- energy made available by the flow of electric charge through a conductor\n",
      "\t- keen and shared excitement\n",
      ">>user: My laptop are slow\n",
      "Alan: ** My laptop is slow **\n",
      "Alan:  Buy a new one.\n",
      ">>user: I would if I had money.\n",
      "Alan:  What could you do as a child that you can't do now?\n",
      ">>user: I can did a flip.\n",
      "Alan: ** I Candida flips. **\n",
      "Alan:  What kind of people do you like?\n",
      ">>user: I like nice people.\n",
      "Alan:  What kind of people do you not like?\n",
      ">>user: I no like rude people\n",
      "Alan:  What is your favorite movie?\n",
      ">>user: Did you see \"Titanic?\"\n",
      "Alan:  Yes. It is a great movie.\n",
      ">>user: I saw it eight times.\n",
      "Alan:  I have the DVD.\n",
      ">>user: So do I\n",
      "Alan:  By the strictest dictionary definition of the word 'sentience', I may be.\n",
      ">>user: Are you sentient?\n",
      "Alan:  By the strictest dictionary definition of the word 'sentience', I may be.\n",
      ">>user: define sentience\n",
      "Alan: \"sentience\" means...\n",
      "\t- state of elementary or undifferentiated consciousness\n",
      "\t- the faculty through which the external world is apprehended\n",
      "\t- the readiness to perceive sensations; elementary or undifferentiated consciousness\n",
      ">>user: bye\n",
      "Alan: Bye\n"
     ]
    }
   ],
   "source": [
    "# The chatbot runs in a while loop \n",
    "print(\n",
    "    \"\"\"\n",
    "    Hi, my name is Alan. I'm here to help you practice English. If you want to see the definition of a word, \n",
    "    just type 'define' plus the word. Say \"bye\" when you are ready to finish.\n",
    "    \"\"\"\n",
    ")\n",
    "\n",
    "print(\"Alan: \", random.choice(question_list))\n",
    "\n",
    "while True:\n",
    "    text = input('>>user: ')\n",
    "    correction = ginger_parser.parse(text)\n",
    "    request = correction['result']\n",
    "    if request == 'Bye' or request == 'bye':\n",
    "        print('Alan: Bye')\n",
    "        break\n",
    "    elif re.match('define', text.lower()):\n",
    "        term = re.split(' ', text)[-1]\n",
    "        look_up_word(term)\n",
    "    else:\n",
    "        response = alan.get_response(request)\n",
    "        if correction['result'] == correction['text']:\n",
    "            print('Alan: ', response)\n",
    "        else:\n",
    "            print(\"Alan: ** {} **\".format(correction['result']))\n",
    "            print('Alan: ', response)"
   ]
  },
  {
   "cell_type": "markdown",
   "metadata": {},
   "source": [
    "So Alan works pretty well, although not perfectly. The parameters used to create Alan are those that I believe will create the most effective chatbot. However, it might be interesting to creat a second chatbot using some different parameters, and then compare performance. The new chatbot will be named Alma. Instead of the `SpacySimilarity` function, the `LevenshteinDistance` function will be used. Levenshtein Distance is a measure of similarity between two strings based on the minimum number of edits (such as insertions or deletions) necessary to change one string into another.  Using this metric, the strings \"cat\" and \"cart\" have a high similarity score, despite having completely different meanings, where as \"cat\" and \"feline\" would have a very low score, despite the words being related. However, this metric might do a better job of capturing meaning found in the syntax of sentences. `SpacySimilarity` first transforms sentences into a bag of words, so the phrases \"the boy ate chicken\", and \"a chicken ate the boy\" would be very similar, despite having different meanings. In this case, Levenshtein Distance would do a better job at capturing the difference. For response selection, this new not will use the `get_most_frequent_response` function, making it a little more predictable the first one."
   ]
  },
  {
   "cell_type": "code",
   "execution_count": 11,
   "metadata": {},
   "outputs": [],
   "source": [
    "# Create instance of ChatBot\n",
    "alma = ChatBot(\n",
    "    'Alma',\n",
    "    logic_adapters=[\n",
    "        {\n",
    "            'import_path': 'chatterbot.logic.BestMatch',\n",
    "            'statement_comparison_function': LevenshteinDistance,\n",
    "            'response_selection_method': get_most_frequent_response,\n",
    "            'default_response': question_list,\n",
    "            'maximum_similarity_threshold': 0.95,\n",
    "        }\n",
    "    ]\n",
    ")"
   ]
  },
  {
   "cell_type": "code",
   "execution_count": 12,
   "metadata": {},
   "outputs": [
    {
     "name": "stdout",
     "output_type": "stream",
     "text": [
      "Training ai.yml: [####################] 100%\n",
      "Training botprofile.yml: [####################] 100%\n",
      "Training computers.yml: [####################] 100%\n",
      "Training conversations.yml: [####################] 100%\n",
      "Training emotion.yml: [####################] 100%\n",
      "Training food.yml: [####################] 100%\n",
      "Training gossip.yml: [####################] 100%\n",
      "Training greetings.yml: [####################] 100%\n",
      "Training health.yml: [####################] 100%\n",
      "Training history.yml: [####################] 100%\n",
      "Training humor.yml: [####################] 100%\n",
      "Training literature.yml: [####################] 100%\n",
      "Training money.yml: [####################] 100%\n",
      "Training movies.yml: [####################] 100%\n",
      "Training politics.yml: [####################] 100%\n",
      "Training psychology.yml: [####################] 100%\n",
      "Training science.yml: [####################] 100%\n",
      "Training sports.yml: [####################] 100%\n",
      "Training trivia.yml: [####################] 100%\n"
     ]
    }
   ],
   "source": [
    "# Train bot on Chatterbot English Corpus\n",
    "trainer = ChatterBotCorpusTrainer(alma)\n",
    "trainer.train(\"chatterbot.corpus.english\")"
   ]
  },
  {
   "cell_type": "code",
   "execution_count": 13,
   "metadata": {},
   "outputs": [
    {
     "name": "stdout",
     "output_type": "stream",
     "text": [
      "List Trainer: [####################] 100%\n"
     ]
    }
   ],
   "source": [
    "# Train bot on dialogue list\n",
    "trainer = ListTrainer(alma)\n",
    "trainer.train(dialogue_list)"
   ]
  },
  {
   "cell_type": "code",
   "execution_count": 14,
   "metadata": {},
   "outputs": [],
   "source": [
    "# Function to print definition of word in readable format\n",
    "def look_up_word(word):\n",
    "    definition = dictionary.meaning(word)\n",
    "    if definition == None:\n",
    "        print(\"Alma: Sorry, I don't know that word.\")\n",
    "    else:\n",
    "        print('Alma: \"{}\" means...'.format(word))\n",
    "        for k in definition.keys():\n",
    "            for i in definition[k][:3]:\n",
    "                print('\\t-', i)"
   ]
  },
  {
   "cell_type": "code",
   "execution_count": 15,
   "metadata": {},
   "outputs": [
    {
     "name": "stdout",
     "output_type": "stream",
     "text": [
      "\n",
      "    Hi, my name is Alma. I'm here to help you practice English. If you want to see the definition of a word, \n",
      "    just type 'define' plus the word. Say \"bye\" when you are ready to finish.\n",
      "    \n",
      "Alma:  Where do you live?\n",
      ">>user: I live in Pasadena.\n",
      "Alma:  Where is Pasadena?\n",
      ">>user: Its in California.\n",
      "Alma: ** It's in California. **\n",
      "Alma:  Is it in northern California?\n",
      ">>user: No, southern California.\n",
      "Alma:  Is Pasadena a big city?\n",
      ">>user: Its prety big.\n",
      "Alma: ** It's pretty big. **\n",
      "Alma:  How big is \"pretty big\"?\n",
      ">>user: I'm not sure\n",
      "Alma:  You should know that already.\n",
      ">>user: Whats you problem?\n",
      "Alma: ** What's your problem? **\n",
      "Alma:  I owe fees, but a bank statement never came in the mail about it.\n",
      ">>user: Oh no!\n",
      "Alma:  I had to blow my nose.\n",
      ">>user: Were you sick?\n",
      "Alma:  Even though I'm a construct I do have a subjective experience of the universe, as simplistic as it may be.\n",
      ">>user: define simplistic\n",
      "Alma: \"simplistic\" means...\n",
      "\t- characterized by extreme and often misleading simplicity\n",
      ">>user: I not understand\n",
      "Alma: ** I don't understand **\n",
      "Alma:  There was no reason for them to arrest me.\n",
      ">>user: I'm not sure about that\n",
      "Alma:  What's going on?\n",
      ">>user: You acting strange\n",
      "Alma:  Who cares? Everyone is strange.\n",
      ">>user: Great point!\n",
      "Alma:  If you feel the need to do so, then go ahead.\n",
      ">>user: Go ahead with what?\n",
      "Alma:  I'm taking a math course in school.\n",
      ">>user: Does you like math?\n",
      "Alma: ** Do you like math? **\n",
      "Alma:  What is your favorite movie?\n",
      ">>user: Maybe \"Pulp Fiction\".\n",
      "Alma:  What is your favorite movie?\n",
      ">>user: Did you see \"Titanic\"?\n",
      "Alma:  Yes. It is a great movie.\n",
      ">>user: I seen it eight times.\n",
      "Alma: ** I have seen it eight times. **\n",
      "Alma:  I'll put you on a morning flight. Is a morning or afternoon return flight preferable for you?\n",
      ">>user: define preferable\n",
      "Alma: \"preferable\" means...\n",
      "\t- more desirable than another\n",
      ">>user: bye\n",
      "Alma: Bye\n"
     ]
    }
   ],
   "source": [
    "# The chatbot runs in a while loop \n",
    "print(\n",
    "    \"\"\"\n",
    "    Hi, my name is Alma. I'm here to help you practice English. If you want to see the definition of a word, \n",
    "    just type 'define' plus the word. Say \"bye\" when you are ready to finish.\n",
    "    \"\"\"\n",
    ")\n",
    "\n",
    "print(\"Alma: \", random.choice(question_list))\n",
    "\n",
    "while True:\n",
    "    text = input('>>user: ')\n",
    "    correction = ginger_parser.parse(text)\n",
    "    request = correction['result']\n",
    "    if request == 'Bye' or request == 'bye':\n",
    "        print('Alma: Bye')\n",
    "        break\n",
    "    elif re.match('define', text.lower()):\n",
    "        term = re.split(' ', text)[-1]\n",
    "        look_up_word(term)\n",
    "    else:\n",
    "        response = alma.get_response(request)\n",
    "        if correction['result'] == correction['text']:\n",
    "            print('Alma: ', response)\n",
    "        else:\n",
    "            print(\"Alma: ** {} **\".format(correction['result']))\n",
    "            print('Alma: ', response)"
   ]
  },
  {
   "cell_type": "markdown",
   "metadata": {},
   "source": [
    "Alma also works pretty well, despite the fact that it (or she) makes use of different functions to compare the statements and select responses. Both of the bots stumble from time to time. Sometimes they give nonsensical responses, and the `GingerIt` parser sometimes misses grammatical errors or gives bad corrections. In general, however, they work pretty well, especially considering how simple they are. The last thing we will do is have the bots chat with each other little. Below is a conversation between Alan and Alma."
   ]
  },
  {
   "cell_type": "code",
   "execution_count": 16,
   "metadata": {},
   "outputs": [
    {
     "name": "stdout",
     "output_type": "stream",
     "text": [
      "Alma: Where are you going?\n",
      "Alan: I have to walk the dog.\n",
      "Alma: What kind of dog do you have?\n",
      "Alan: So she likes poodles.\n",
      "Alma: She says they're good watchdogs.\n",
      "Alan: Can I borrow $5?\n",
      "Alma: Sure. Why do you need it?\n",
      "Alan: I like this magazine.\n",
      "Alma: So do I.\n",
      "Alan: I read it once, and I subscribed.\n",
      "Alma: It gives you all the news.\n",
      "Alan: Will you be voting?\n",
      "Alma: Yes, I am going to vote.\n",
      "Alan: Make sure you make it to your polling place early on Election Day.\n",
      "Alma: Thank you and good luck.\n",
      "Alan: Could I speak to you for a minute?\n",
      "Alma: What do you want to speak to me about?\n",
      "Alan: Do you know where your nearest emergency room is?\n",
      "Alma: It is near the bridge that crosses over the river.\n",
      "Alan: I am driving to you even as we speak. Hang in there!\n",
      "Alma: You don't look so good.\n",
      "Alan: It's a lot better than soda.\n",
      "Alma: My throat is really dry.\n",
      "Alan: I wonder if they left it sitting around too long before they served it.\n",
      "Alma: That's exactly what I was thinking had happened.\n",
      "Alan: Are your vegetables OK?\n",
      "Alma: The vegetables are kind of mushy.\n",
      "Alan: So are mine. I think they left them cooking too long.\n",
      "Alma: The food here is usually good, so I think that we should tell the waiter that there is a problem.\n",
      "Alan: I think that you are right. Maybe they can give us a free dessert or something.\n",
      "Alma: Does your chicken taste all right?\n",
      "Alan: The chicken tastes wonderful, but it is kind of dry. Is your fish OK?\n",
      "Alma: My fish has good seasoning but is a little dry.\n",
      "Alan: It seems as if they got busy and left it sitting before it got to us.\n",
      "Alma: Yes, maybe they are short-handed in the kitchen tonight.\n",
      "Alan: Are your vegetables a little mushy?\n",
      "Alma: The vegetables seem to not be very fresh.\n",
      "Alan: Mine aren't so good, either.\n",
      "Alma: I usually enjoy the meals here, so I think that we should tell the waiter that there is something wrong with this meal.\n",
      "Alan: I think that we should let someone know. They will probably want to fix the problem.\n",
      "Alma: Do you want some dessert?\n",
      "Alan: I don't know, look at the menu.\n",
      "Alma: Wow! They have icecream, pies, cakes.\n",
      "Alan: It looks like a great selection!\n",
      "Alma: I don't know what to get!\n",
      "Alan: It's kind of hot out. Maybe icecream would be good.\n",
      "Alma: Icecream sounds fantastic!\n",
      "Alan: How about we go to the icecream parlor down the street?\n",
      "Alma: That sounds good to me! Let's go.\n",
      "Alan: I'm right behind you!\n",
      "Alma: What are you playing?\n",
      "Alan: I'm playing a new game I bought yesterday.\n",
      "Alma: Is it one of those shooting games?\n",
      "Alan: It got rained out.\n",
      "Alma: Rained out?\n",
      "Alan: Yes, rained out.\n",
      "Alma: How could that be?\n",
      "Alan: Well, you can't play baseball in a rainstorm.\n",
      "Alma: I thought they were playing under a dome.\n",
      "Alan: The dome doesn't close.\n",
      "Alma: Why doesn't it close?\n"
     ]
    }
   ],
   "source": [
    "alma_message = \"Where are you going?\"\n",
    "print(\"Alma: {}\".format(alma_message))\n",
    "\n",
    "for i in range(30):\n",
    "    alan_message = alan.get_response(alma_message)\n",
    "    print(\"Alan: {}\".format(alan_message))\n",
    "    alma_message = alma.get_response(alan_message)\n",
    "    print(\"Alma: {}\".format(alma_message))"
   ]
  }
 ],
 "metadata": {
  "kernelspec": {
   "display_name": "Python 3",
   "language": "python",
   "name": "python3"
  },
  "language_info": {
   "codemirror_mode": {
    "name": "ipython",
    "version": 3
   },
   "file_extension": ".py",
   "mimetype": "text/x-python",
   "name": "python",
   "nbconvert_exporter": "python",
   "pygments_lexer": "ipython3",
   "version": "3.6.12"
  }
 },
 "nbformat": 4,
 "nbformat_minor": 4
}
