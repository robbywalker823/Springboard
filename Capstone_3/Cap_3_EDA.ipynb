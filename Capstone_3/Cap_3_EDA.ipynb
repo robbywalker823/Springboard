{
 "cells": [
  {
   "cell_type": "markdown",
   "metadata": {},
   "source": [
    "# Capstone 3: Exploratory Data Analysis #\n",
    "\n",
    "This stage of the project will consist of examining the dialogues and questions that were acquired through web scraping. The collections of dialogues, which have all been stored as CSV files, will be made into `pandas` DataFrames. The separate DataFrames will then be concatenated into one large DataFrame. For simplicity, the collections of dialogues have been labeled as \"easy\", \"medium\", and \"hard\", as this is how they were classified on the website. However, there does not seem to be much difference in difficulty from one collection to another."
   ]
  },
  {
   "cell_type": "code",
   "execution_count": 1,
   "metadata": {},
   "outputs": [],
   "source": [
    "import numpy as np\n",
    "import pandas as pd\n",
    "import matplotlib.pyplot as plt\n",
    "import seaborn as sns"
   ]
  },
  {
   "cell_type": "code",
   "execution_count": 2,
   "metadata": {},
   "outputs": [
    {
     "data": {
      "text/plain": [
       "(3270, 3)"
      ]
     },
     "execution_count": 2,
     "metadata": {},
     "output_type": "execute_result"
    }
   ],
   "source": [
    "# Create DataFrame from easy dialogues\n",
    "easy = pd.read_csv('easy_dialogues.csv')\n",
    "easy.shape"
   ]
  },
  {
   "cell_type": "code",
   "execution_count": 3,
   "metadata": {},
   "outputs": [
    {
     "data": {
      "text/html": [
       "<div>\n",
       "<style scoped>\n",
       "    .dataframe tbody tr th:only-of-type {\n",
       "        vertical-align: middle;\n",
       "    }\n",
       "\n",
       "    .dataframe tbody tr th {\n",
       "        vertical-align: top;\n",
       "    }\n",
       "\n",
       "    .dataframe thead th {\n",
       "        text-align: right;\n",
       "    }\n",
       "</style>\n",
       "<table border=\"1\" class=\"dataframe\">\n",
       "  <thead>\n",
       "    <tr style=\"text-align: right;\">\n",
       "      <th></th>\n",
       "      <th>topic</th>\n",
       "      <th>title</th>\n",
       "      <th>dialogue_line</th>\n",
       "    </tr>\n",
       "  </thead>\n",
       "  <tbody>\n",
       "    <tr>\n",
       "      <th>0</th>\n",
       "      <td>dailylife0</td>\n",
       "      <td>I Live in Pasadena</td>\n",
       "      <td>Where do you live?</td>\n",
       "    </tr>\n",
       "    <tr>\n",
       "      <th>1</th>\n",
       "      <td>dailylife0</td>\n",
       "      <td>I Live in Pasadena</td>\n",
       "      <td>I live in Pasadena.</td>\n",
       "    </tr>\n",
       "    <tr>\n",
       "      <th>2</th>\n",
       "      <td>dailylife0</td>\n",
       "      <td>I Live in Pasadena</td>\n",
       "      <td>Where is Pasadena?</td>\n",
       "    </tr>\n",
       "    <tr>\n",
       "      <th>3</th>\n",
       "      <td>dailylife0</td>\n",
       "      <td>I Live in Pasadena</td>\n",
       "      <td>It's in California.</td>\n",
       "    </tr>\n",
       "    <tr>\n",
       "      <th>4</th>\n",
       "      <td>dailylife0</td>\n",
       "      <td>I Live in Pasadena</td>\n",
       "      <td>Is it in northern California?</td>\n",
       "    </tr>\n",
       "    <tr>\n",
       "      <th>5</th>\n",
       "      <td>dailylife0</td>\n",
       "      <td>I Live in Pasadena</td>\n",
       "      <td>No. It's in southern California.</td>\n",
       "    </tr>\n",
       "    <tr>\n",
       "      <th>6</th>\n",
       "      <td>dailylife0</td>\n",
       "      <td>I Live in Pasadena</td>\n",
       "      <td>Is Pasadena a big city?</td>\n",
       "    </tr>\n",
       "    <tr>\n",
       "      <th>7</th>\n",
       "      <td>dailylife0</td>\n",
       "      <td>I Live in Pasadena</td>\n",
       "      <td>It's pretty big.</td>\n",
       "    </tr>\n",
       "    <tr>\n",
       "      <th>8</th>\n",
       "      <td>dailylife0</td>\n",
       "      <td>I Live in Pasadena</td>\n",
       "      <td>How big is \"pretty big\"?</td>\n",
       "    </tr>\n",
       "    <tr>\n",
       "      <th>9</th>\n",
       "      <td>dailylife0</td>\n",
       "      <td>I Live in Pasadena</td>\n",
       "      <td>It has about 140,000 people.</td>\n",
       "    </tr>\n",
       "  </tbody>\n",
       "</table>\n",
       "</div>"
      ],
      "text/plain": [
       "        topic               title                     dialogue_line\n",
       "0  dailylife0  I Live in Pasadena                Where do you live?\n",
       "1  dailylife0  I Live in Pasadena               I live in Pasadena.\n",
       "2  dailylife0  I Live in Pasadena                Where is Pasadena?\n",
       "3  dailylife0  I Live in Pasadena               It's in California.\n",
       "4  dailylife0  I Live in Pasadena     Is it in northern California?\n",
       "5  dailylife0  I Live in Pasadena  No. It's in southern California.\n",
       "6  dailylife0  I Live in Pasadena           Is Pasadena a big city?\n",
       "7  dailylife0  I Live in Pasadena                  It's pretty big.\n",
       "8  dailylife0  I Live in Pasadena          How big is \"pretty big\"?\n",
       "9  dailylife0  I Live in Pasadena      It has about 140,000 people."
      ]
     },
     "execution_count": 3,
     "metadata": {},
     "output_type": "execute_result"
    }
   ],
   "source": [
    "easy.head(10)"
   ]
  },
  {
   "cell_type": "code",
   "execution_count": 4,
   "metadata": {},
   "outputs": [
    {
     "data": {
      "text/plain": [
       "array(['dailylife0', 'schoollife', 'transportation', 'entertainment',\n",
       "       'dating', 'restaurant', 'sports', 'safety', 'travel', 'jobs',\n",
       "       'food', 'shop', 'housing', 'election', 'health'], dtype=object)"
      ]
     },
     "execution_count": 4,
     "metadata": {},
     "output_type": "execute_result"
    }
   ],
   "source": [
    "# View unique topics\n",
    "easy['topic'].unique()"
   ]
  },
  {
   "cell_type": "code",
   "execution_count": 5,
   "metadata": {},
   "outputs": [
    {
     "data": {
      "text/plain": [
       "271"
      ]
     },
     "execution_count": 5,
     "metadata": {},
     "output_type": "execute_result"
    }
   ],
   "source": [
    "# Cout number of individual dialogues\n",
    "len(easy['title'].unique())"
   ]
  },
  {
   "cell_type": "code",
   "execution_count": 7,
   "metadata": {},
   "outputs": [
    {
     "data": {
      "text/plain": [
       "(6358, 3)"
      ]
     },
     "execution_count": 7,
     "metadata": {},
     "output_type": "execute_result"
    }
   ],
   "source": [
    "# Create DataFrame from medium/fast dialogues\n",
    "medium = pd.read_csv('fast_dialogues.csv')\n",
    "medium.shape"
   ]
  },
  {
   "cell_type": "code",
   "execution_count": 8,
   "metadata": {},
   "outputs": [
    {
     "data": {
      "text/html": [
       "<div>\n",
       "<style scoped>\n",
       "    .dataframe tbody tr th:only-of-type {\n",
       "        vertical-align: middle;\n",
       "    }\n",
       "\n",
       "    .dataframe tbody tr th {\n",
       "        vertical-align: top;\n",
       "    }\n",
       "\n",
       "    .dataframe thead th {\n",
       "        text-align: right;\n",
       "    }\n",
       "</style>\n",
       "<table border=\"1\" class=\"dataframe\">\n",
       "  <thead>\n",
       "    <tr style=\"text-align: right;\">\n",
       "      <th></th>\n",
       "      <th>topic</th>\n",
       "      <th>title</th>\n",
       "      <th>dialogue_line</th>\n",
       "    </tr>\n",
       "  </thead>\n",
       "  <tbody>\n",
       "    <tr>\n",
       "      <th>0</th>\n",
       "      <td>everyday</td>\n",
       "      <td>Calling Credit Card Company</td>\n",
       "      <td>Hi, I would like to know my credit balance.</td>\n",
       "    </tr>\n",
       "    <tr>\n",
       "      <th>1</th>\n",
       "      <td>everyday</td>\n",
       "      <td>Calling Credit Card Company</td>\n",
       "      <td>Of course. May I have your credit card number?</td>\n",
       "    </tr>\n",
       "    <tr>\n",
       "      <th>2</th>\n",
       "      <td>everyday</td>\n",
       "      <td>Calling Credit Card Company</td>\n",
       "      <td>Yes, it's 512879346. My name is John.</td>\n",
       "    </tr>\n",
       "    <tr>\n",
       "      <th>3</th>\n",
       "      <td>everyday</td>\n",
       "      <td>Calling Credit Card Company</td>\n",
       "      <td>Alright, John. You currently have no dues on y...</td>\n",
       "    </tr>\n",
       "    <tr>\n",
       "      <th>4</th>\n",
       "      <td>everyday</td>\n",
       "      <td>Calling Credit Card Company</td>\n",
       "      <td>Really? I finally paid it off?</td>\n",
       "    </tr>\n",
       "    <tr>\n",
       "      <th>5</th>\n",
       "      <td>everyday</td>\n",
       "      <td>Calling Credit Card Company</td>\n",
       "      <td>Yes, sir. Your balance is officially zero.</td>\n",
       "    </tr>\n",
       "    <tr>\n",
       "      <th>6</th>\n",
       "      <td>everyday</td>\n",
       "      <td>Calling Credit Card Company</td>\n",
       "      <td>I must admit I am proud of myself!</td>\n",
       "    </tr>\n",
       "    <tr>\n",
       "      <th>7</th>\n",
       "      <td>everyday</td>\n",
       "      <td>Calling Credit Card Company</td>\n",
       "      <td>Is there anything else you'd like me to check,...</td>\n",
       "    </tr>\n",
       "    <tr>\n",
       "      <th>8</th>\n",
       "      <td>everyday</td>\n",
       "      <td>Calling Credit Card Company</td>\n",
       "      <td>Yes, can you change my card status from a coll...</td>\n",
       "    </tr>\n",
       "    <tr>\n",
       "      <th>9</th>\n",
       "      <td>everyday</td>\n",
       "      <td>Calling Credit Card Company</td>\n",
       "      <td>Of course, but you'll have to come to the bank...</td>\n",
       "    </tr>\n",
       "  </tbody>\n",
       "</table>\n",
       "</div>"
      ],
      "text/plain": [
       "      topic                        title  \\\n",
       "0  everyday  Calling Credit Card Company   \n",
       "1  everyday  Calling Credit Card Company   \n",
       "2  everyday  Calling Credit Card Company   \n",
       "3  everyday  Calling Credit Card Company   \n",
       "4  everyday  Calling Credit Card Company   \n",
       "5  everyday  Calling Credit Card Company   \n",
       "6  everyday  Calling Credit Card Company   \n",
       "7  everyday  Calling Credit Card Company   \n",
       "8  everyday  Calling Credit Card Company   \n",
       "9  everyday  Calling Credit Card Company   \n",
       "\n",
       "                                       dialogue_line  \n",
       "0        Hi, I would like to know my credit balance.  \n",
       "1     Of course. May I have your credit card number?  \n",
       "2              Yes, it's 512879346. My name is John.  \n",
       "3  Alright, John. You currently have no dues on y...  \n",
       "4                     Really? I finally paid it off?  \n",
       "5         Yes, sir. Your balance is officially zero.  \n",
       "6                 I must admit I am proud of myself!  \n",
       "7  Is there anything else you'd like me to check,...  \n",
       "8  Yes, can you change my card status from a coll...  \n",
       "9  Of course, but you'll have to come to the bank...  "
      ]
     },
     "execution_count": 8,
     "metadata": {},
     "output_type": "execute_result"
    }
   ],
   "source": [
    "medium.head(10)"
   ]
  },
  {
   "cell_type": "code",
   "execution_count": 9,
   "metadata": {},
   "outputs": [
    {
     "data": {
      "text/plain": [
       "array(['everyday', 'smalltalk', 'collegelife', 'library', 'transfer',\n",
       "       'food', 'shop', 'buycar', 'drive', 'apartment1', 'apartment2',\n",
       "       'bus', 'employ', 'unemploy', 'crime', 'date', 'health', 'hotel',\n",
       "       'social', 'travel', 'vote', 'buyhouse', 'sellhouse', 'restaurant',\n",
       "       'neighborhood', 'entertain'], dtype=object)"
      ]
     },
     "execution_count": 9,
     "metadata": {},
     "output_type": "execute_result"
    }
   ],
   "source": [
    "# View unique topics\n",
    "medium['topic'].unique()"
   ]
  },
  {
   "cell_type": "code",
   "execution_count": 10,
   "metadata": {},
   "outputs": [
    {
     "data": {
      "text/plain": [
       "521"
      ]
     },
     "execution_count": 10,
     "metadata": {},
     "output_type": "execute_result"
    }
   ],
   "source": [
    "# Cout number of individual dialogues\n",
    "len(medium['title'].unique())"
   ]
  },
  {
   "cell_type": "code",
   "execution_count": 11,
   "metadata": {},
   "outputs": [
    {
     "data": {
      "text/plain": [
       "(16000, 3)"
      ]
     },
     "execution_count": 11,
     "metadata": {},
     "output_type": "execute_result"
    }
   ],
   "source": [
    "# Create DataFrame from hard dialogues\n",
    "hard = pd.read_csv('int_dialogues.csv')\n",
    "hard.shape"
   ]
  },
  {
   "cell_type": "code",
   "execution_count": 12,
   "metadata": {},
   "outputs": [
    {
     "data": {
      "text/html": [
       "<div>\n",
       "<style scoped>\n",
       "    .dataframe tbody tr th:only-of-type {\n",
       "        vertical-align: middle;\n",
       "    }\n",
       "\n",
       "    .dataframe tbody tr th {\n",
       "        vertical-align: top;\n",
       "    }\n",
       "\n",
       "    .dataframe thead th {\n",
       "        text-align: right;\n",
       "    }\n",
       "</style>\n",
       "<table border=\"1\" class=\"dataframe\">\n",
       "  <thead>\n",
       "    <tr style=\"text-align: right;\">\n",
       "      <th></th>\n",
       "      <th>topic</th>\n",
       "      <th>title</th>\n",
       "      <th>dialogue_line</th>\n",
       "    </tr>\n",
       "  </thead>\n",
       "  <tbody>\n",
       "    <tr>\n",
       "      <th>0</th>\n",
       "      <td>smalltalk</td>\n",
       "      <td>Greetings</td>\n",
       "      <td>Hi, how are you doing?</td>\n",
       "    </tr>\n",
       "    <tr>\n",
       "      <th>1</th>\n",
       "      <td>smalltalk</td>\n",
       "      <td>Greetings</td>\n",
       "      <td>I'm fine. How about yourself?</td>\n",
       "    </tr>\n",
       "    <tr>\n",
       "      <th>2</th>\n",
       "      <td>smalltalk</td>\n",
       "      <td>Greetings</td>\n",
       "      <td>I'm pretty good. Thanks for asking.</td>\n",
       "    </tr>\n",
       "    <tr>\n",
       "      <th>3</th>\n",
       "      <td>smalltalk</td>\n",
       "      <td>Greetings</td>\n",
       "      <td>No problem. So how have you been?</td>\n",
       "    </tr>\n",
       "    <tr>\n",
       "      <th>4</th>\n",
       "      <td>smalltalk</td>\n",
       "      <td>Greetings</td>\n",
       "      <td>I've been great. What about you?</td>\n",
       "    </tr>\n",
       "    <tr>\n",
       "      <th>5</th>\n",
       "      <td>smalltalk</td>\n",
       "      <td>Greetings</td>\n",
       "      <td>I've been good. I'm in school right now.</td>\n",
       "    </tr>\n",
       "    <tr>\n",
       "      <th>6</th>\n",
       "      <td>smalltalk</td>\n",
       "      <td>Greetings</td>\n",
       "      <td>What school do you go to?</td>\n",
       "    </tr>\n",
       "    <tr>\n",
       "      <th>7</th>\n",
       "      <td>smalltalk</td>\n",
       "      <td>Greetings</td>\n",
       "      <td>I go to PCC.</td>\n",
       "    </tr>\n",
       "    <tr>\n",
       "      <th>8</th>\n",
       "      <td>smalltalk</td>\n",
       "      <td>Greetings</td>\n",
       "      <td>Do you like it there?</td>\n",
       "    </tr>\n",
       "    <tr>\n",
       "      <th>9</th>\n",
       "      <td>smalltalk</td>\n",
       "      <td>Greetings</td>\n",
       "      <td>It's okay. It's a really big campus.</td>\n",
       "    </tr>\n",
       "  </tbody>\n",
       "</table>\n",
       "</div>"
      ],
      "text/plain": [
       "       topic      title                             dialogue_line\n",
       "0  smalltalk  Greetings                    Hi, how are you doing?\n",
       "1  smalltalk  Greetings             I'm fine. How about yourself?\n",
       "2  smalltalk  Greetings       I'm pretty good. Thanks for asking.\n",
       "3  smalltalk  Greetings         No problem. So how have you been?\n",
       "4  smalltalk  Greetings          I've been great. What about you?\n",
       "5  smalltalk  Greetings  I've been good. I'm in school right now.\n",
       "6  smalltalk  Greetings                 What school do you go to?\n",
       "7  smalltalk  Greetings                              I go to PCC.\n",
       "8  smalltalk  Greetings                     Do you like it there?\n",
       "9  smalltalk  Greetings      It's okay. It's a really big campus."
      ]
     },
     "execution_count": 12,
     "metadata": {},
     "output_type": "execute_result"
    }
   ],
   "source": [
    "hard.head(10)"
   ]
  },
  {
   "cell_type": "code",
   "execution_count": 139,
   "metadata": {},
   "outputs": [
    {
     "data": {
      "text/plain": [
       "array(['smalltalk', 'collegelife', 'library', 'transfer', 'social',\n",
       "       'dating', '1apartment', '2apartment', 'bus', 'dailylife', 'bank',\n",
       "       'food', 'restaurant', 'buycar', 'drive', 'health', 'employment',\n",
       "       'travel', 'hotel', 'buyhouse', 'salehouse', 'community', 'crime',\n",
       "       'vote'], dtype=object)"
      ]
     },
     "execution_count": 139,
     "metadata": {},
     "output_type": "execute_result"
    }
   ],
   "source": [
    "# View unique topics\n",
    "hard['topic'].unique()"
   ]
  },
  {
   "cell_type": "code",
   "execution_count": 14,
   "metadata": {},
   "outputs": [
    {
     "data": {
      "text/plain": [
       "450"
      ]
     },
     "execution_count": 14,
     "metadata": {},
     "output_type": "execute_result"
    }
   ],
   "source": [
    "# Cout number of individual dialogues\n",
    "len(hard['title'].unique())"
   ]
  },
  {
   "cell_type": "markdown",
   "metadata": {},
   "source": [
    "Next we add a \"level\" column to each DataFrame, and then concatenate them together into one large DataFrame."
   ]
  },
  {
   "cell_type": "code",
   "execution_count": 19,
   "metadata": {},
   "outputs": [
    {
     "data": {
      "text/html": [
       "<div>\n",
       "<style scoped>\n",
       "    .dataframe tbody tr th:only-of-type {\n",
       "        vertical-align: middle;\n",
       "    }\n",
       "\n",
       "    .dataframe tbody tr th {\n",
       "        vertical-align: top;\n",
       "    }\n",
       "\n",
       "    .dataframe thead th {\n",
       "        text-align: right;\n",
       "    }\n",
       "</style>\n",
       "<table border=\"1\" class=\"dataframe\">\n",
       "  <thead>\n",
       "    <tr style=\"text-align: right;\">\n",
       "      <th></th>\n",
       "      <th>topic</th>\n",
       "      <th>title</th>\n",
       "      <th>dialogue_line</th>\n",
       "      <th>level</th>\n",
       "    </tr>\n",
       "  </thead>\n",
       "  <tbody>\n",
       "    <tr>\n",
       "      <th>0</th>\n",
       "      <td>dailylife0</td>\n",
       "      <td>I Live in Pasadena</td>\n",
       "      <td>Where do you live?</td>\n",
       "      <td>easy</td>\n",
       "    </tr>\n",
       "    <tr>\n",
       "      <th>1</th>\n",
       "      <td>dailylife0</td>\n",
       "      <td>I Live in Pasadena</td>\n",
       "      <td>I live in Pasadena.</td>\n",
       "      <td>easy</td>\n",
       "    </tr>\n",
       "    <tr>\n",
       "      <th>2</th>\n",
       "      <td>dailylife0</td>\n",
       "      <td>I Live in Pasadena</td>\n",
       "      <td>Where is Pasadena?</td>\n",
       "      <td>easy</td>\n",
       "    </tr>\n",
       "    <tr>\n",
       "      <th>3</th>\n",
       "      <td>dailylife0</td>\n",
       "      <td>I Live in Pasadena</td>\n",
       "      <td>It's in California.</td>\n",
       "      <td>easy</td>\n",
       "    </tr>\n",
       "    <tr>\n",
       "      <th>4</th>\n",
       "      <td>dailylife0</td>\n",
       "      <td>I Live in Pasadena</td>\n",
       "      <td>Is it in northern California?</td>\n",
       "      <td>easy</td>\n",
       "    </tr>\n",
       "  </tbody>\n",
       "</table>\n",
       "</div>"
      ],
      "text/plain": [
       "        topic               title                  dialogue_line level\n",
       "0  dailylife0  I Live in Pasadena             Where do you live?  easy\n",
       "1  dailylife0  I Live in Pasadena            I live in Pasadena.  easy\n",
       "2  dailylife0  I Live in Pasadena             Where is Pasadena?  easy\n",
       "3  dailylife0  I Live in Pasadena            It's in California.  easy\n",
       "4  dailylife0  I Live in Pasadena  Is it in northern California?  easy"
      ]
     },
     "execution_count": 19,
     "metadata": {},
     "output_type": "execute_result"
    }
   ],
   "source": [
    "easy['level'] = 'easy'\n",
    "easy.head()"
   ]
  },
  {
   "cell_type": "code",
   "execution_count": 20,
   "metadata": {},
   "outputs": [
    {
     "data": {
      "text/html": [
       "<div>\n",
       "<style scoped>\n",
       "    .dataframe tbody tr th:only-of-type {\n",
       "        vertical-align: middle;\n",
       "    }\n",
       "\n",
       "    .dataframe tbody tr th {\n",
       "        vertical-align: top;\n",
       "    }\n",
       "\n",
       "    .dataframe thead th {\n",
       "        text-align: right;\n",
       "    }\n",
       "</style>\n",
       "<table border=\"1\" class=\"dataframe\">\n",
       "  <thead>\n",
       "    <tr style=\"text-align: right;\">\n",
       "      <th></th>\n",
       "      <th>topic</th>\n",
       "      <th>title</th>\n",
       "      <th>dialogue_line</th>\n",
       "      <th>level</th>\n",
       "    </tr>\n",
       "  </thead>\n",
       "  <tbody>\n",
       "    <tr>\n",
       "      <th>0</th>\n",
       "      <td>everyday</td>\n",
       "      <td>Calling Credit Card Company</td>\n",
       "      <td>Hi, I would like to know my credit balance.</td>\n",
       "      <td>medium</td>\n",
       "    </tr>\n",
       "    <tr>\n",
       "      <th>1</th>\n",
       "      <td>everyday</td>\n",
       "      <td>Calling Credit Card Company</td>\n",
       "      <td>Of course. May I have your credit card number?</td>\n",
       "      <td>medium</td>\n",
       "    </tr>\n",
       "    <tr>\n",
       "      <th>2</th>\n",
       "      <td>everyday</td>\n",
       "      <td>Calling Credit Card Company</td>\n",
       "      <td>Yes, it's 512879346. My name is John.</td>\n",
       "      <td>medium</td>\n",
       "    </tr>\n",
       "    <tr>\n",
       "      <th>3</th>\n",
       "      <td>everyday</td>\n",
       "      <td>Calling Credit Card Company</td>\n",
       "      <td>Alright, John. You currently have no dues on y...</td>\n",
       "      <td>medium</td>\n",
       "    </tr>\n",
       "    <tr>\n",
       "      <th>4</th>\n",
       "      <td>everyday</td>\n",
       "      <td>Calling Credit Card Company</td>\n",
       "      <td>Really? I finally paid it off?</td>\n",
       "      <td>medium</td>\n",
       "    </tr>\n",
       "  </tbody>\n",
       "</table>\n",
       "</div>"
      ],
      "text/plain": [
       "      topic                        title  \\\n",
       "0  everyday  Calling Credit Card Company   \n",
       "1  everyday  Calling Credit Card Company   \n",
       "2  everyday  Calling Credit Card Company   \n",
       "3  everyday  Calling Credit Card Company   \n",
       "4  everyday  Calling Credit Card Company   \n",
       "\n",
       "                                       dialogue_line   level  \n",
       "0        Hi, I would like to know my credit balance.  medium  \n",
       "1     Of course. May I have your credit card number?  medium  \n",
       "2              Yes, it's 512879346. My name is John.  medium  \n",
       "3  Alright, John. You currently have no dues on y...  medium  \n",
       "4                     Really? I finally paid it off?  medium  "
      ]
     },
     "execution_count": 20,
     "metadata": {},
     "output_type": "execute_result"
    }
   ],
   "source": [
    "medium['level'] = 'medium'\n",
    "medium.head()"
   ]
  },
  {
   "cell_type": "code",
   "execution_count": 21,
   "metadata": {},
   "outputs": [
    {
     "data": {
      "text/html": [
       "<div>\n",
       "<style scoped>\n",
       "    .dataframe tbody tr th:only-of-type {\n",
       "        vertical-align: middle;\n",
       "    }\n",
       "\n",
       "    .dataframe tbody tr th {\n",
       "        vertical-align: top;\n",
       "    }\n",
       "\n",
       "    .dataframe thead th {\n",
       "        text-align: right;\n",
       "    }\n",
       "</style>\n",
       "<table border=\"1\" class=\"dataframe\">\n",
       "  <thead>\n",
       "    <tr style=\"text-align: right;\">\n",
       "      <th></th>\n",
       "      <th>topic</th>\n",
       "      <th>title</th>\n",
       "      <th>dialogue_line</th>\n",
       "      <th>level</th>\n",
       "    </tr>\n",
       "  </thead>\n",
       "  <tbody>\n",
       "    <tr>\n",
       "      <th>0</th>\n",
       "      <td>smalltalk</td>\n",
       "      <td>Greetings</td>\n",
       "      <td>Hi, how are you doing?</td>\n",
       "      <td>hard</td>\n",
       "    </tr>\n",
       "    <tr>\n",
       "      <th>1</th>\n",
       "      <td>smalltalk</td>\n",
       "      <td>Greetings</td>\n",
       "      <td>I'm fine. How about yourself?</td>\n",
       "      <td>hard</td>\n",
       "    </tr>\n",
       "    <tr>\n",
       "      <th>2</th>\n",
       "      <td>smalltalk</td>\n",
       "      <td>Greetings</td>\n",
       "      <td>I'm pretty good. Thanks for asking.</td>\n",
       "      <td>hard</td>\n",
       "    </tr>\n",
       "    <tr>\n",
       "      <th>3</th>\n",
       "      <td>smalltalk</td>\n",
       "      <td>Greetings</td>\n",
       "      <td>No problem. So how have you been?</td>\n",
       "      <td>hard</td>\n",
       "    </tr>\n",
       "    <tr>\n",
       "      <th>4</th>\n",
       "      <td>smalltalk</td>\n",
       "      <td>Greetings</td>\n",
       "      <td>I've been great. What about you?</td>\n",
       "      <td>hard</td>\n",
       "    </tr>\n",
       "  </tbody>\n",
       "</table>\n",
       "</div>"
      ],
      "text/plain": [
       "       topic      title                        dialogue_line level\n",
       "0  smalltalk  Greetings               Hi, how are you doing?  hard\n",
       "1  smalltalk  Greetings        I'm fine. How about yourself?  hard\n",
       "2  smalltalk  Greetings  I'm pretty good. Thanks for asking.  hard\n",
       "3  smalltalk  Greetings    No problem. So how have you been?  hard\n",
       "4  smalltalk  Greetings     I've been great. What about you?  hard"
      ]
     },
     "execution_count": 21,
     "metadata": {},
     "output_type": "execute_result"
    }
   ],
   "source": [
    "hard['level'] = 'hard'\n",
    "hard.head()"
   ]
  },
  {
   "cell_type": "code",
   "execution_count": 78,
   "metadata": {},
   "outputs": [
    {
     "data": {
      "text/plain": [
       "(25628, 5)"
      ]
     },
     "execution_count": 78,
     "metadata": {},
     "output_type": "execute_result"
    }
   ],
   "source": [
    "# Combine DataFrames\n",
    "df = pd.concat([easy, medium, hard]).reset_index()\n",
    "df.shape"
   ]
  },
  {
   "cell_type": "code",
   "execution_count": 79,
   "metadata": {},
   "outputs": [
    {
     "data": {
      "text/html": [
       "<div>\n",
       "<style scoped>\n",
       "    .dataframe tbody tr th:only-of-type {\n",
       "        vertical-align: middle;\n",
       "    }\n",
       "\n",
       "    .dataframe tbody tr th {\n",
       "        vertical-align: top;\n",
       "    }\n",
       "\n",
       "    .dataframe thead th {\n",
       "        text-align: right;\n",
       "    }\n",
       "</style>\n",
       "<table border=\"1\" class=\"dataframe\">\n",
       "  <thead>\n",
       "    <tr style=\"text-align: right;\">\n",
       "      <th></th>\n",
       "      <th>level</th>\n",
       "      <th>topic</th>\n",
       "      <th>title</th>\n",
       "      <th>dialogue_line</th>\n",
       "    </tr>\n",
       "  </thead>\n",
       "  <tbody>\n",
       "    <tr>\n",
       "      <th>0</th>\n",
       "      <td>easy</td>\n",
       "      <td>dailylife0</td>\n",
       "      <td>I Live in Pasadena</td>\n",
       "      <td>Where do you live?</td>\n",
       "    </tr>\n",
       "    <tr>\n",
       "      <th>1</th>\n",
       "      <td>easy</td>\n",
       "      <td>dailylife0</td>\n",
       "      <td>I Live in Pasadena</td>\n",
       "      <td>I live in Pasadena.</td>\n",
       "    </tr>\n",
       "    <tr>\n",
       "      <th>2</th>\n",
       "      <td>easy</td>\n",
       "      <td>dailylife0</td>\n",
       "      <td>I Live in Pasadena</td>\n",
       "      <td>Where is Pasadena?</td>\n",
       "    </tr>\n",
       "    <tr>\n",
       "      <th>3</th>\n",
       "      <td>easy</td>\n",
       "      <td>dailylife0</td>\n",
       "      <td>I Live in Pasadena</td>\n",
       "      <td>It's in California.</td>\n",
       "    </tr>\n",
       "    <tr>\n",
       "      <th>4</th>\n",
       "      <td>easy</td>\n",
       "      <td>dailylife0</td>\n",
       "      <td>I Live in Pasadena</td>\n",
       "      <td>Is it in northern California?</td>\n",
       "    </tr>\n",
       "  </tbody>\n",
       "</table>\n",
       "</div>"
      ],
      "text/plain": [
       "  level       topic               title                  dialogue_line\n",
       "0  easy  dailylife0  I Live in Pasadena             Where do you live?\n",
       "1  easy  dailylife0  I Live in Pasadena            I live in Pasadena.\n",
       "2  easy  dailylife0  I Live in Pasadena             Where is Pasadena?\n",
       "3  easy  dailylife0  I Live in Pasadena            It's in California.\n",
       "4  easy  dailylife0  I Live in Pasadena  Is it in northern California?"
      ]
     },
     "execution_count": 79,
     "metadata": {},
     "output_type": "execute_result"
    }
   ],
   "source": [
    "# Rearrange columns\n",
    "df = df[['level', 'topic', 'title', 'dialogue_line']]\n",
    "df.head()"
   ]
  },
  {
   "cell_type": "markdown",
   "metadata": {},
   "source": [
    "Due to a flaw in the web scraping process, there are some dialogue lines that contain only numbers. Since the hard dialogue collection generally had three dialogues to a page, the web scraping code removed ones, twos, and threes from the results. However, some pages had four, five, or even six dialogues, and those numbers were unintentionally scraped. They can be easily removed now."
   ]
  },
  {
   "cell_type": "code",
   "execution_count": 80,
   "metadata": {},
   "outputs": [
    {
     "data": {
      "text/html": [
       "<div>\n",
       "<style scoped>\n",
       "    .dataframe tbody tr th:only-of-type {\n",
       "        vertical-align: middle;\n",
       "    }\n",
       "\n",
       "    .dataframe tbody tr th {\n",
       "        vertical-align: top;\n",
       "    }\n",
       "\n",
       "    .dataframe thead th {\n",
       "        text-align: right;\n",
       "    }\n",
       "</style>\n",
       "<table border=\"1\" class=\"dataframe\">\n",
       "  <thead>\n",
       "    <tr style=\"text-align: right;\">\n",
       "      <th></th>\n",
       "      <th>level</th>\n",
       "      <th>topic</th>\n",
       "      <th>title</th>\n",
       "      <th>dialogue_line</th>\n",
       "    </tr>\n",
       "  </thead>\n",
       "  <tbody>\n",
       "    <tr>\n",
       "      <th>12957</th>\n",
       "      <td>hard</td>\n",
       "      <td>1apartment</td>\n",
       "      <td>Scheduling an Apartment Viewing</td>\n",
       "      <td>4.</td>\n",
       "    </tr>\n",
       "    <tr>\n",
       "      <th>12970</th>\n",
       "      <td>hard</td>\n",
       "      <td>1apartment</td>\n",
       "      <td>Scheduling an Apartment Viewing</td>\n",
       "      <td>5.</td>\n",
       "    </tr>\n",
       "    <tr>\n",
       "      <th>13043</th>\n",
       "      <td>hard</td>\n",
       "      <td>1apartment</td>\n",
       "      <td>A Broken Window</td>\n",
       "      <td>4.</td>\n",
       "    </tr>\n",
       "    <tr>\n",
       "      <th>13064</th>\n",
       "      <td>hard</td>\n",
       "      <td>1apartment</td>\n",
       "      <td>A Broken Window</td>\n",
       "      <td>5.</td>\n",
       "    </tr>\n",
       "    <tr>\n",
       "      <th>13109</th>\n",
       "      <td>hard</td>\n",
       "      <td>1apartment</td>\n",
       "      <td>Asking about Public Transportation</td>\n",
       "      <td>4.</td>\n",
       "    </tr>\n",
       "    <tr>\n",
       "      <th>...</th>\n",
       "      <td>...</td>\n",
       "      <td>...</td>\n",
       "      <td>...</td>\n",
       "      <td>...</td>\n",
       "    </tr>\n",
       "    <tr>\n",
       "      <th>23091</th>\n",
       "      <td>hard</td>\n",
       "      <td>hotel</td>\n",
       "      <td>. Storing Luggage for a Few Hours</td>\n",
       "      <td>5.</td>\n",
       "    </tr>\n",
       "    <tr>\n",
       "      <th>23114</th>\n",
       "      <td>hard</td>\n",
       "      <td>hotel</td>\n",
       "      <td>. To Hold a Parcel for Pick-up</td>\n",
       "      <td>4.</td>\n",
       "    </tr>\n",
       "    <tr>\n",
       "      <th>23119</th>\n",
       "      <td>hard</td>\n",
       "      <td>hotel</td>\n",
       "      <td>. To Hold a Parcel for Pick-up</td>\n",
       "      <td>5.</td>\n",
       "    </tr>\n",
       "    <tr>\n",
       "      <th>23142</th>\n",
       "      <td>hard</td>\n",
       "      <td>hotel</td>\n",
       "      <td>. Calling to Cancel a Reservation</td>\n",
       "      <td>4.</td>\n",
       "    </tr>\n",
       "    <tr>\n",
       "      <th>23149</th>\n",
       "      <td>hard</td>\n",
       "      <td>hotel</td>\n",
       "      <td>. Calling to Cancel a Reservation</td>\n",
       "      <td>5.</td>\n",
       "    </tr>\n",
       "  </tbody>\n",
       "</table>\n",
       "<p>72 rows × 4 columns</p>\n",
       "</div>"
      ],
      "text/plain": [
       "      level       topic                               title dialogue_line\n",
       "12957  hard  1apartment     Scheduling an Apartment Viewing            4.\n",
       "12970  hard  1apartment     Scheduling an Apartment Viewing            5.\n",
       "13043  hard  1apartment                     A Broken Window            4.\n",
       "13064  hard  1apartment                     A Broken Window            5.\n",
       "13109  hard  1apartment  Asking about Public Transportation            4.\n",
       "...     ...         ...                                 ...           ...\n",
       "23091  hard       hotel   . Storing Luggage for a Few Hours            5.\n",
       "23114  hard       hotel      . To Hold a Parcel for Pick-up            4.\n",
       "23119  hard       hotel      . To Hold a Parcel for Pick-up            5.\n",
       "23142  hard       hotel   . Calling to Cancel a Reservation            4.\n",
       "23149  hard       hotel   . Calling to Cancel a Reservation            5.\n",
       "\n",
       "[72 rows x 4 columns]"
      ]
     },
     "execution_count": 80,
     "metadata": {},
     "output_type": "execute_result"
    }
   ],
   "source": [
    "# Find rows containing only digit and period\n",
    "df.loc[(df['dialogue_line'].str.len() < 3)&(df['dialogue_line'].str.contains('\\d'))]"
   ]
  },
  {
   "cell_type": "code",
   "execution_count": 81,
   "metadata": {},
   "outputs": [
    {
     "name": "stdout",
     "output_type": "stream",
     "text": [
      "rows before: 25628\n",
      "rows after: 25556\n"
     ]
    }
   ],
   "source": [
    "# Drop rows containing only digit and period.\n",
    "print('rows before:', len(df))\n",
    "df = df[~((df['dialogue_line'].str.len() < 3)&(df['dialogue_line'].str.contains('\\d')))]\n",
    "df = df.reset_index(drop=True)\n",
    "print('rows after:', len(df))"
   ]
  },
  {
   "cell_type": "markdown",
   "metadata": {},
   "source": [
    "No it is time to begin analysis with Natural Language Processing. The first step will be to tokenize each line. After that we can count the number of tokens per line and create a histogram showing the distribution."
   ]
  },
  {
   "cell_type": "code",
   "execution_count": 28,
   "metadata": {},
   "outputs": [],
   "source": [
    "from nltk.tokenize import word_tokenize"
   ]
  },
  {
   "cell_type": "code",
   "execution_count": 82,
   "metadata": {},
   "outputs": [
    {
     "data": {
      "text/plain": [
       "['I', 'live', 'in', 'Pasadena', '.']"
      ]
     },
     "execution_count": 82,
     "metadata": {},
     "output_type": "execute_result"
    }
   ],
   "source": [
    "word_tokenize('I live in Pasadena.')"
   ]
  },
  {
   "cell_type": "code",
   "execution_count": 83,
   "metadata": {},
   "outputs": [
    {
     "data": {
      "text/plain": [
       "0                                [Where, do, you, live, ?]\n",
       "1                               [I, live, in, Pasadena, .]\n",
       "2                                 [Where, is, Pasadena, ?]\n",
       "3                              [It, 's, in, California, .]\n",
       "4                    [Is, it, in, northern, California, ?]\n",
       "                               ...                        \n",
       "25551    [Yeah, ., I, have, faith, that, he, will, help...\n",
       "25552    [Our, country, really, could, use, some, work, .]\n",
       "25553    [I, believe, that, change, has, already, begun...\n",
       "25554                      [I, could, n't, agree, more, .]\n",
       "25555    [I, no, longer, need, to, worry, about, what, ...\n",
       "Name: dialogue_line, Length: 25556, dtype: object"
      ]
     },
     "execution_count": 83,
     "metadata": {},
     "output_type": "execute_result"
    }
   ],
   "source": [
    "doc_series = df['dialogue_line'].apply(lambda text: word_tokenize(text))\n",
    "doc_series"
   ]
  },
  {
   "cell_type": "code",
   "execution_count": 84,
   "metadata": {
    "scrolled": false
   },
   "outputs": [
    {
     "data": {
      "image/png": "[encoded data removed]",
      "text/plain": [
       "<Figure size 720x504 with 1 Axes>"
      ]
     },
     "metadata": {},
     "output_type": "display_data"
    }
   ],
   "source": [
    "lengths = doc_series.apply(lambda doc: len(doc))\n",
    "\n",
    "sns.set(font_scale=1.5)\n",
    "plt.figure(figsize=(10, 7))\n",
    "plt.hist(lengths, bins=20)\n",
    "plt.title('Length of Dialogue Lines')\n",
    "plt.xlabel('number of tokens per line')\n",
    "plt.ylabel('number of lines');"
   ]
  },
  {
   "cell_type": "markdown",
   "metadata": {},
   "source": [
    "Apparently the most common number of tokens per line is just under ten, while some lines have as many as forty tokens. Below, we take a look at the lines with the highest and lowest numbers of tokens. In the longest line, the speaker is asking someone out on a date. The shortest lines are all single words plus a period or question mark."
   ]
  },
  {
   "cell_type": "code",
   "execution_count": 85,
   "metadata": {},
   "outputs": [
    {
     "name": "stdout",
     "output_type": "stream",
     "text": [
      "I was hoping that you and I could maybe spend a Friday evening together. I was wondering if you would like to go with me this Friday to see a movie and get a bite to eat afterwards.\n",
      "\n",
      "\n",
      "I would try to avoid going in to the DMV in person. If you are a member of the Automobile Club, they oftentimes can take care of things for you or you can try the DMV website.\n",
      "\n",
      "\n",
      "You need to make sure you arrive on time, smile, be pleasant and friendly, look the person in the eye and answer all questions to the best of your ability. You'll do great!\n",
      "\n",
      "\n",
      "Well, my car is very old, so I didn't worry so much about what it would cost to repair it. I did buy a lot of coverage for fixing someone else's car.\n",
      "\n",
      "\n",
      "As long as you are careful reading the signs, you will always know how long you can park and what days are OK to park there. Are you aware of the curb colors?\n",
      "\n",
      "\n"
     ]
    }
   ],
   "source": [
    "inds = lengths.sort_values(ascending=False)[:5].index\n",
    "for i in inds:\n",
    "    print(df['dialogue_line'][i])\n",
    "    print('\\n')"
   ]
  },
  {
   "cell_type": "code",
   "execution_count": 86,
   "metadata": {},
   "outputs": [
    {
     "name": "stdout",
     "output_type": "stream",
     "text": [
      "Why?\n",
      "Really?\n",
      "Why?\n",
      "Really?\n",
      "Smart.\n"
     ]
    }
   ],
   "source": [
    "inds = lengths.sort_values()[:5].index\n",
    "for i in inds:\n",
    "    print(df['dialogue_line'][i])\n",
    "    #print('\\n')"
   ]
  },
  {
   "cell_type": "markdown",
   "metadata": {},
   "source": [
    "Next we get a list of all of the individual words in the dialogues, remove the stop words, and get the count of how many times each word appears."
   ]
  },
  {
   "cell_type": "code",
   "execution_count": 34,
   "metadata": {},
   "outputs": [],
   "source": [
    "from nltk.corpus import stopwords\n",
    "from collections import Counter"
   ]
  },
  {
   "cell_type": "code",
   "execution_count": 87,
   "metadata": {},
   "outputs": [
    {
     "data": {
      "text/plain": [
       "['live',\n",
       " 'live',\n",
       " 'pasadena',\n",
       " 'pasadena',\n",
       " 'california',\n",
       " 'northern',\n",
       " 'california',\n",
       " 'southern',\n",
       " 'california',\n",
       " 'pasadena',\n",
       " 'big',\n",
       " 'city',\n",
       " 'pretty',\n",
       " 'big',\n",
       " 'big',\n",
       " 'pretty',\n",
       " 'big',\n",
       " 'people',\n",
       " 'big',\n",
       " 'los']"
      ]
     },
     "execution_count": 87,
     "metadata": {},
     "output_type": "execute_result"
    }
   ],
   "source": [
    "token_lists = doc_series.to_list()\n",
    "\n",
    "tokens = []\n",
    "for l in token_lists:\n",
    "    tokens.extend(l)\n",
    "\n",
    "\n",
    "words = [w.lower() for w in tokens if w.isalpha()]\n",
    "no_stops = [t for t in words if t not in stopwords.words('english')]\n",
    "\n",
    "no_stops[:20]"
   ]
  },
  {
   "cell_type": "code",
   "execution_count": 88,
   "metadata": {},
   "outputs": [
    {
     "data": {
      "text/plain": [
       "[('would', 1395),\n",
       " ('like', 1357),\n",
       " ('need', 1241),\n",
       " ('get', 1083),\n",
       " ('know', 1011),\n",
       " ('yes', 988),\n",
       " ('go', 915),\n",
       " ('good', 886),\n",
       " ('think', 851),\n",
       " ('going', 844),\n",
       " ('want', 820),\n",
       " ('right', 685),\n",
       " ('really', 668),\n",
       " ('take', 651),\n",
       " ('help', 630),\n",
       " ('sure', 616),\n",
       " ('see', 599),\n",
       " ('one', 579),\n",
       " ('time', 574),\n",
       " ('make', 570),\n",
       " ('could', 567),\n",
       " ('well', 560),\n",
       " ('great', 495),\n",
       " ('much', 478),\n",
       " ('let', 463),\n",
       " ('thank', 426),\n",
       " ('problem', 395),\n",
       " ('okay', 372),\n",
       " ('today', 359),\n",
       " ('look', 341)]"
      ]
     },
     "execution_count": 88,
     "metadata": {},
     "output_type": "execute_result"
    }
   ],
   "source": [
    "# Most common words\n",
    "Counter(no_stops).most_common(30)"
   ]
  },
  {
   "cell_type": "markdown",
   "metadata": {},
   "source": [
    "Above, we see that even after removing all of the stop words, the most common words are still fairly ordinary words that can be used in conversations about virtually any topic. This is unsurprising, since there are over 25,000 lines of dialogue covering a huge variety of topics.\n",
    "\n",
    "Below, we look at parts of speech, and attempt to look at the most common proper nouns. However, we will see that the NLTK library does not do a great job with this."
   ]
  },
  {
   "cell_type": "code",
   "execution_count": 89,
   "metadata": {},
   "outputs": [],
   "source": [
    "import nltk"
   ]
  },
  {
   "cell_type": "code",
   "execution_count": 90,
   "metadata": {},
   "outputs": [
    {
     "data": {
      "text/plain": [
       "[('Where', 'WRB'),\n",
       " ('do', 'VB'),\n",
       " ('you', 'PRP'),\n",
       " ('live', 'VB'),\n",
       " ('?', '.'),\n",
       " ('I', 'PRP'),\n",
       " ('live', 'VBP'),\n",
       " ('in', 'IN'),\n",
       " ('Pasadena', 'NNP'),\n",
       " ('.', '.'),\n",
       " ('Where', 'NNP'),\n",
       " ('is', 'VBZ'),\n",
       " ('Pasadena', 'NNP'),\n",
       " ('?', '.'),\n",
       " ('It', 'PRP'),\n",
       " (\"'s\", 'VBZ'),\n",
       " ('in', 'IN'),\n",
       " ('California', 'NNP'),\n",
       " ('.', '.'),\n",
       " ('Is', 'VBZ')]"
      ]
     },
     "execution_count": 90,
     "metadata": {},
     "output_type": "execute_result"
    }
   ],
   "source": [
    "# Create list of tuples, each with a token and its part of speech\n",
    "tagged = nltk.pos_tag(tokens)\n",
    "\n",
    "tagged[:20]"
   ]
  },
  {
   "cell_type": "code",
   "execution_count": 91,
   "metadata": {},
   "outputs": [
    {
     "data": {
      "text/plain": [
       "['Pasadena',\n",
       " 'Where',\n",
       " 'Pasadena',\n",
       " 'California',\n",
       " 'California',\n",
       " 'California',\n",
       " 'Pasadena',\n",
       " 'Los',\n",
       " 'Angeles',\n",
       " 'Honda',\n",
       " 'My',\n",
       " 'Girls',\n",
       " 'Me',\n",
       " 'Poodles',\n",
       " 'Are',\n",
       " 'Deal',\n",
       " 'Deal',\n",
       " 'Tell',\n",
       " 'Pasadena',\n",
       " 'Rose']"
      ]
     },
     "execution_count": 91,
     "metadata": {},
     "output_type": "execute_result"
    }
   ],
   "source": [
    "# Create list of tokens classified as proper nouns\n",
    "proper_nouns = [x[0] for x in tagged if x[1] == 'NNP' or x[1] == 'NNPS']\n",
    "proper_nouns[:20]"
   ]
  },
  {
   "cell_type": "markdown",
   "metadata": {},
   "source": [
    "Below is a count of the most common proper nouns, although we immediately see that most of the words are not proper nouns, but rather are words that were often found capitalized at the beginnings of sentences."
   ]
  },
  {
   "cell_type": "code",
   "execution_count": 92,
   "metadata": {},
   "outputs": [
    {
     "data": {
      "text/plain": [
       "[('Thank', 293),\n",
       " ('Did', 274),\n",
       " ('Okay', 224),\n",
       " ('Well', 222),\n",
       " ('Are', 149),\n",
       " ('Just', 122),\n",
       " ('Hello', 108),\n",
       " ('Friday', 100),\n",
       " ('May', 92),\n",
       " ('Mr.', 88),\n",
       " ('Hi', 85),\n",
       " ('Could', 73),\n",
       " ('Saturday', 71),\n",
       " ('Fine', 58),\n",
       " ('Monday', 58),\n",
       " ('Alright', 57),\n",
       " ('Please', 56),\n",
       " ('Great', 52),\n",
       " ('Sure', 50),\n",
       " ('Me', 48)]"
      ]
     },
     "execution_count": 92,
     "metadata": {},
     "output_type": "execute_result"
    }
   ],
   "source": [
    "Counter(proper_nouns).most_common(20)"
   ]
  },
  {
   "cell_type": "markdown",
   "metadata": {},
   "source": [
    "The next part will be fun. We are going to perform sentiment analysis on each line of dialogue. The first step will be to create a histogram showing the distribution of sentiment, and after that we can take a look at the most positive and most negative lines. NLTK's Vader Sentiment Intensity Analyzer returns a dictionary for each string analyzed, with scores for negative (neg), neutral (neu), positive (pos), and compound. The first three scores range from 0 to 1, and the compound score ranges from -1 to 1."
   ]
  },
  {
   "cell_type": "code",
   "execution_count": 41,
   "metadata": {},
   "outputs": [],
   "source": [
    " from nltk.sentiment.vader import SentimentIntensityAnalyzer"
   ]
  },
  {
   "cell_type": "code",
   "execution_count": 93,
   "metadata": {},
   "outputs": [],
   "source": [
    "sid = SentimentIntensityAnalyzer()"
   ]
  },
  {
   "cell_type": "code",
   "execution_count": 94,
   "metadata": {},
   "outputs": [
    {
     "data": {
      "text/plain": [
       "{'neg': 0.0, 'neu': 0.549, 'pos': 0.451, 'compound': 0.6249}"
      ]
     },
     "execution_count": 94,
     "metadata": {},
     "output_type": "execute_result"
    }
   ],
   "source": [
    "sid.polarity_scores(\"I've been great. What about you?\")"
   ]
  },
  {
   "cell_type": "code",
   "execution_count": 95,
   "metadata": {},
   "outputs": [
    {
     "data": {
      "text/plain": [
       "0     {'neg': 0.0, 'neu': 1.0, 'pos': 0.0, 'compound...\n",
       "1     {'neg': 0.0, 'neu': 1.0, 'pos': 0.0, 'compound...\n",
       "2     {'neg': 0.0, 'neu': 1.0, 'pos': 0.0, 'compound...\n",
       "3     {'neg': 0.0, 'neu': 1.0, 'pos': 0.0, 'compound...\n",
       "4     {'neg': 0.0, 'neu': 1.0, 'pos': 0.0, 'compound...\n",
       "5     {'neg': 0.355, 'neu': 0.645, 'pos': 0.0, 'comp...\n",
       "6     {'neg': 0.0, 'neu': 1.0, 'pos': 0.0, 'compound...\n",
       "7     {'neg': 0.0, 'neu': 0.385, 'pos': 0.615, 'comp...\n",
       "8     {'neg': 0.0, 'neu': 0.556, 'pos': 0.444, 'comp...\n",
       "9     {'neg': 0.0, 'neu': 1.0, 'pos': 0.0, 'compound...\n",
       "10    {'neg': 0.0, 'neu': 1.0, 'pos': 0.0, 'compound...\n",
       "11    {'neg': 0.0, 'neu': 1.0, 'pos': 0.0, 'compound...\n",
       "12    {'neg': 0.0, 'neu': 1.0, 'pos': 0.0, 'compound...\n",
       "13    {'neg': 0.0, 'neu': 0.27, 'pos': 0.73, 'compou...\n",
       "14    {'neg': 0.0, 'neu': 1.0, 'pos': 0.0, 'compound...\n",
       "15    {'neg': 0.0, 'neu': 1.0, 'pos': 0.0, 'compound...\n",
       "16    {'neg': 0.0, 'neu': 1.0, 'pos': 0.0, 'compound...\n",
       "17    {'neg': 0.0, 'neu': 1.0, 'pos': 0.0, 'compound...\n",
       "18    {'neg': 0.0, 'neu': 0.535, 'pos': 0.465, 'comp...\n",
       "19    {'neg': 0.0, 'neu': 0.517, 'pos': 0.483, 'comp...\n",
       "Name: dialogue_line, dtype: object"
      ]
     },
     "execution_count": 95,
     "metadata": {},
     "output_type": "execute_result"
    }
   ],
   "source": [
    "sentiment_series = df['dialogue_line'].apply(lambda text: sid.polarity_scores(text))\n",
    "sentiment_series[:20]"
   ]
  },
  {
   "cell_type": "code",
   "execution_count": 96,
   "metadata": {},
   "outputs": [
    {
     "data": {
      "text/plain": [
       "0     0.0000\n",
       "1     0.0000\n",
       "2     0.0000\n",
       "3     0.0000\n",
       "4     0.0000\n",
       "5    -0.2960\n",
       "6     0.0000\n",
       "7     0.4939\n",
       "8     0.4939\n",
       "9     0.0000\n",
       "10    0.0000\n",
       "11    0.0000\n",
       "12    0.0000\n",
       "13    0.4019\n",
       "14    0.0000\n",
       "15    0.0000\n",
       "16    0.0000\n",
       "17    0.0000\n",
       "18    0.5390\n",
       "19    0.6808\n",
       "dtype: float64"
      ]
     },
     "execution_count": 96,
     "metadata": {},
     "output_type": "execute_result"
    }
   ],
   "source": [
    "# Get a Series of just the compound scores\n",
    "compound_list = [x['compound'] for x in sentiment_series]\n",
    "compound_series = pd.Series(compound_list)\n",
    "compound_series[:20]"
   ]
  },
  {
   "cell_type": "code",
   "execution_count": 97,
   "metadata": {},
   "outputs": [
    {
     "data": {
      "image/png": "[encoded data removed]",
      "text/plain": [
       "<Figure size 720x504 with 1 Axes>"
      ]
     },
     "metadata": {},
     "output_type": "display_data"
    }
   ],
   "source": [
    "# Plot histogram\n",
    "plt.figure(figsize=(10, 7))\n",
    "plt.hist(compound_series, bins=20)\n",
    "plt.title('Sentiment of Dialogue Lines')\n",
    "plt.xlabel('sentiment of line')\n",
    "plt.ylabel('number of lines');"
   ]
  },
  {
   "cell_type": "markdown",
   "metadata": {},
   "source": [
    "Interestingly, most of the lines are exactly neutral. After that there is a fairly irregular distribution, with more lines on the positive side. Below, we will take a look at the most positive and most negative lines."
   ]
  },
  {
   "cell_type": "code",
   "execution_count": 98,
   "metadata": {},
   "outputs": [
    {
     "name": "stdout",
     "output_type": "stream",
     "text": [
      "You need to make sure you arrive on time, smile, be pleasant and friendly, look the person in the eye and answer all questions to the best of your ability. You'll do great!\n",
      "sentiment score: 0.969\n",
      "\n",
      "\n",
      "I loved the special effects and the story. I like Princess Leah. Who did you like the best?\n",
      "sentiment score: 0.9413\n",
      "\n",
      "\n",
      "Fine, well the job search tools are all here for you to use. Feel free to look around and use what works best for you. Have fun with it!\n",
      "sentiment score: 0.9324\n",
      "\n",
      "\n",
      "OK. I will mention how great you were about helping me today. I appreciate your help.\n",
      "sentiment score: 0.9278\n",
      "\n",
      "\n",
      "The best way is to go to a website like Travelocity or Expedia. They can help you find the best price.\n",
      "sentiment score: 0.9274\n",
      "\n",
      "\n",
      "I love the beautiful lawn. What a great front entryway!\n",
      "sentiment score: 0.9259\n",
      "\n",
      "\n",
      "I would be happy to help. What would you like me to help with, food or entertainment?\n",
      "sentiment score: 0.9246\n",
      "\n",
      "\n",
      "Oh, wow! Well, here is my last $10. Please send my best to Chris.\n",
      "sentiment score: 0.9134\n",
      "\n",
      "\n",
      "She fell in love with my best friend.\n",
      "sentiment score: 0.9118\n",
      "\n",
      "\n",
      "The Automobile Club has many benefits, and taking care of your DMV transactions is one of the best benefits.\n",
      "sentiment score: 0.9118\n",
      "\n",
      "\n"
     ]
    }
   ],
   "source": [
    "# Most positive lines\n",
    "inds = compound_series.sort_values(ascending=False)[:10].index\n",
    "for i in inds:\n",
    "    print(df['dialogue_line'][i])\n",
    "    print('sentiment score:', compound_series[i])\n",
    "    print('\\n')"
   ]
  },
  {
   "cell_type": "code",
   "execution_count": 99,
   "metadata": {
    "scrolled": false
   },
   "outputs": [
    {
     "name": "stdout",
     "output_type": "stream",
     "text": [
      "There is a new horror flick about a rapist serial killer.\n",
      "sentiment score: -0.9313\n",
      "\n",
      "\n",
      "I started feeling kind of sick last night after dinner, but this morning the pain got really bad!\n",
      "sentiment score: -0.9158\n",
      "\n",
      "\n",
      "I'm sorry, but no. We used to have a trainer, but then he had an unfortunate accident.\n",
      "sentiment score: -0.9022\n",
      "\n",
      "\n",
      "If we are bad, we will be unhappy forever in hell.\n",
      "sentiment score: -0.8979\n",
      "\n",
      "\n",
      "Crime can happen anywhere, but it is a little worse here because of the poverty.\n",
      "sentiment score: -0.8863\n",
      "\n",
      "\n",
      "I am scared of flying to begin with, but bad weather makes it a little worse.\n",
      "sentiment score: -0.8863\n",
      "\n",
      "\n",
      "I was thinking about seeing that one about the rapist serial killer.\n",
      "sentiment score: -0.8807\n",
      "\n",
      "\n",
      "There were several rooms, but the worst leak was in the bathroom.\n",
      "sentiment score: -0.8674\n",
      "\n",
      "\n",
      "I've had it a few days, but the rash really got bad last night.\n",
      "sentiment score: -0.8663\n",
      "\n",
      "\n",
      "It is unsafe because a rapist could hide in there and attack women.\n",
      "sentiment score: -0.8658\n",
      "\n",
      "\n"
     ]
    }
   ],
   "source": [
    "# Most negative lines\n",
    "inds = compound_series.sort_values()[:10].index\n",
    "for i in inds:\n",
    "    print(df['dialogue_line'][i])\n",
    "    print('sentiment score:', compound_series[i])\n",
    "    print('\\n')"
   ]
  },
  {
   "cell_type": "markdown",
   "metadata": {},
   "source": [
    "Above, we see that the sentiment analysis seems to work pretty well. The positive statements are really positive, and the negative statements are really negative. Below, we are going to quickly change one of the lines in the dialogue. The dialogue is about getting a new kitten, and the speaker says \"I'll call him Blacky\". Since this line could easily be considered offensive if taken out of context, we will change the name to something different."
   ]
  },
  {
   "cell_type": "code",
   "execution_count": 114,
   "metadata": {},
   "outputs": [
    {
     "data": {
      "text/html": [
       "<div>\n",
       "<style scoped>\n",
       "    .dataframe tbody tr th:only-of-type {\n",
       "        vertical-align: middle;\n",
       "    }\n",
       "\n",
       "    .dataframe tbody tr th {\n",
       "        vertical-align: top;\n",
       "    }\n",
       "\n",
       "    .dataframe thead th {\n",
       "        text-align: right;\n",
       "    }\n",
       "</style>\n",
       "<table border=\"1\" class=\"dataframe\">\n",
       "  <thead>\n",
       "    <tr style=\"text-align: right;\">\n",
       "      <th></th>\n",
       "      <th>level</th>\n",
       "      <th>topic</th>\n",
       "      <th>title</th>\n",
       "      <th>dialogue_line</th>\n",
       "    </tr>\n",
       "  </thead>\n",
       "  <tbody>\n",
       "    <tr>\n",
       "      <th>309</th>\n",
       "      <td>easy</td>\n",
       "      <td>dailylife0</td>\n",
       "      <td>Kittens to Give Away</td>\n",
       "      <td>I'll call him Blacky.</td>\n",
       "    </tr>\n",
       "  </tbody>\n",
       "</table>\n",
       "</div>"
      ],
      "text/plain": [
       "    level       topic                 title          dialogue_line\n",
       "309  easy  dailylife0  Kittens to Give Away  I'll call him Blacky."
      ]
     },
     "execution_count": 114,
     "metadata": {},
     "output_type": "execute_result"
    }
   ],
   "source": [
    "df.loc[df.dialogue_line.str.contains('Blacky')]"
   ]
  },
  {
   "cell_type": "code",
   "execution_count": 118,
   "metadata": {},
   "outputs": [],
   "source": [
    "df.dialogue_line[309] = \"I'll call him Strider\""
   ]
  },
  {
   "cell_type": "code",
   "execution_count": 121,
   "metadata": {},
   "outputs": [
    {
     "data": {
      "text/plain": [
       "level                             easy\n",
       "topic                       dailylife0\n",
       "title             Kittens to Give Away\n",
       "dialogue_line    I'll call him Strider\n",
       "Name: 309, dtype: object"
      ]
     },
     "execution_count": 121,
     "metadata": {},
     "output_type": "execute_result"
    }
   ],
   "source": [
    "df.iloc[309]"
   ]
  },
  {
   "cell_type": "markdown",
   "metadata": {},
   "source": [
    "This next part will be even more fun. We are going to use a Decision Tree Classifier from SciKit Learn to build a simple chatbot from scratch. Ultimately, the final chatbot will be made using a different framework, but this is an interesting exercise to show how a converational chatbot can work."
   ]
  },
  {
   "cell_type": "code",
   "execution_count": 67,
   "metadata": {},
   "outputs": [],
   "source": [
    "from sklearn.feature_extraction.text import CountVectorizer\n",
    "from sklearn.tree import DecisionTreeClassifier\n",
    "from sklearn.feature_extraction.text import TfidfTransformer,TfidfVectorizer\n",
    "from sklearn.pipeline import Pipeline\n",
    "import string"
   ]
  },
  {
   "cell_type": "markdown",
   "metadata": {},
   "source": [
    "We start by duplicating the column containing the dialogue lines. We remove the last line from the first column, and the first line from the second column, and then combine them together to create a DataFrame of statement/response pairs."
   ]
  },
  {
   "cell_type": "code",
   "execution_count": 100,
   "metadata": {},
   "outputs": [
    {
     "data": {
      "text/html": [
       "<div>\n",
       "<style scoped>\n",
       "    .dataframe tbody tr th:only-of-type {\n",
       "        vertical-align: middle;\n",
       "    }\n",
       "\n",
       "    .dataframe tbody tr th {\n",
       "        vertical-align: top;\n",
       "    }\n",
       "\n",
       "    .dataframe thead th {\n",
       "        text-align: right;\n",
       "    }\n",
       "</style>\n",
       "<table border=\"1\" class=\"dataframe\">\n",
       "  <thead>\n",
       "    <tr style=\"text-align: right;\">\n",
       "      <th></th>\n",
       "      <th>text1</th>\n",
       "      <th>text2</th>\n",
       "    </tr>\n",
       "  </thead>\n",
       "  <tbody>\n",
       "    <tr>\n",
       "      <th>0</th>\n",
       "      <td>Where do you live?</td>\n",
       "      <td>I live in Pasadena.</td>\n",
       "    </tr>\n",
       "    <tr>\n",
       "      <th>1</th>\n",
       "      <td>I live in Pasadena.</td>\n",
       "      <td>Where is Pasadena?</td>\n",
       "    </tr>\n",
       "    <tr>\n",
       "      <th>2</th>\n",
       "      <td>Where is Pasadena?</td>\n",
       "      <td>It's in California.</td>\n",
       "    </tr>\n",
       "    <tr>\n",
       "      <th>3</th>\n",
       "      <td>It's in California.</td>\n",
       "      <td>Is it in northern California?</td>\n",
       "    </tr>\n",
       "    <tr>\n",
       "      <th>4</th>\n",
       "      <td>Is it in northern California?</td>\n",
       "      <td>No. It's in southern California.</td>\n",
       "    </tr>\n",
       "  </tbody>\n",
       "</table>\n",
       "</div>"
      ],
      "text/plain": [
       "                           text1                             text2\n",
       "0             Where do you live?               I live in Pasadena.\n",
       "1            I live in Pasadena.                Where is Pasadena?\n",
       "2             Where is Pasadena?               It's in California.\n",
       "3            It's in California.     Is it in northern California?\n",
       "4  Is it in northern California?  No. It's in southern California."
      ]
     },
     "execution_count": 100,
     "metadata": {},
     "output_type": "execute_result"
    }
   ],
   "source": [
    "text_pairs = pd.DataFrame({'text1': df.dialogue_line[:-1], 'text2': df.dialogue_line[1:].reset_index(drop=True)})\n",
    "text_pairs.head()"
   ]
  },
  {
   "cell_type": "code",
   "execution_count": 101,
   "metadata": {},
   "outputs": [
    {
     "data": {
      "text/plain": [
       "(25555, 2)"
      ]
     },
     "execution_count": 101,
     "metadata": {},
     "output_type": "execute_result"
    }
   ],
   "source": [
    "text_pairs.shape"
   ]
  },
  {
   "cell_type": "markdown",
   "metadata": {},
   "source": [
    "The next step is to create a pipeline that converts each line into a bag of words, preforms a TF-IDF transformation (placing greater significance on words less common to the dataset), and finally applies the Decision Tree Classifier. The classifier treats each response in the `text2` column as a class, and evaluates inputs based on their similarity to statements in the `tex1` column."
   ]
  },
  {
   "cell_type": "code",
   "execution_count": 102,
   "metadata": {},
   "outputs": [],
   "source": [
    "# Function to create \"bag of words\"\n",
    "def cleaner(x):\n",
    "    return [a for a in (''.join([a for a in x if a not in string.punctuation])).lower().split()]"
   ]
  },
  {
   "cell_type": "code",
   "execution_count": 103,
   "metadata": {},
   "outputs": [],
   "source": [
    "# Create pipeline\n",
    "pipe = Pipeline([\n",
    "    ('bow', CountVectorizer(analyzer=cleaner)),\n",
    "    ('tfidf', TfidfTransformer()),\n",
    "    ('classifier', DecisionTreeClassifier())\n",
    "])"
   ]
  },
  {
   "cell_type": "code",
   "execution_count": 104,
   "metadata": {},
   "outputs": [
    {
     "data": {
      "text/plain": [
       "Pipeline(steps=[('bow',\n",
       "                 CountVectorizer(analyzer=<function cleaner at 0x7fe12c0ef378>)),\n",
       "                ('tfidf', TfidfTransformer()),\n",
       "                ('classifier', DecisionTreeClassifier())])"
      ]
     },
     "execution_count": 104,
     "metadata": {},
     "output_type": "execute_result"
    }
   ],
   "source": [
    "# Fit pipeline\n",
    "pipe.fit(text_pairs['text1'], text_pairs['text2'])"
   ]
  },
  {
   "cell_type": "markdown",
   "metadata": {},
   "source": [
    "Let's try it out!"
   ]
  },
  {
   "cell_type": "code",
   "execution_count": 112,
   "metadata": {},
   "outputs": [
    {
     "data": {
      "text/plain": [
       "\"I'm fine. How about yourself?\""
      ]
     },
     "execution_count": 112,
     "metadata": {},
     "output_type": "execute_result"
    }
   ],
   "source": [
    "pipe.predict(['Hi, how are you doing?'])[0]"
   ]
  },
  {
   "cell_type": "code",
   "execution_count": 106,
   "metadata": {},
   "outputs": [
    {
     "data": {
      "text/plain": [
       "\"I don't know. Look in the fridge.\""
      ]
     },
     "execution_count": 106,
     "metadata": {},
     "output_type": "execute_result"
    }
   ],
   "source": [
    "pipe.predict(['What is there to eat?'])[0]"
   ]
  },
  {
   "cell_type": "code",
   "execution_count": 113,
   "metadata": {},
   "outputs": [
    {
     "data": {
      "text/plain": [
       "\"What's on TV?\""
      ]
     },
     "execution_count": 113,
     "metadata": {},
     "output_type": "execute_result"
    }
   ],
   "source": [
    "pipe.predict([\"I'm bored.\"])[0]"
   ]
  },
  {
   "cell_type": "code",
   "execution_count": 108,
   "metadata": {},
   "outputs": [
    {
     "data": {
      "text/plain": [
       "'Of course they talk to each other.'"
      ]
     },
     "execution_count": 108,
     "metadata": {},
     "output_type": "execute_result"
    }
   ],
   "source": [
    "pipe.predict(['Do animals talk to each other?'])[0]"
   ]
  },
  {
   "cell_type": "code",
   "execution_count": 105,
   "metadata": {},
   "outputs": [
    {
     "data": {
      "text/plain": [
       "'Uh oh! It sounds like you are going to break up with me or are pregnant.'"
      ]
     },
     "execution_count": 105,
     "metadata": {},
     "output_type": "execute_result"
    }
   ],
   "source": [
    "pipe.predict(['We need to talk.'])[0]"
   ]
  },
  {
   "cell_type": "code",
   "execution_count": 110,
   "metadata": {},
   "outputs": [
    {
     "data": {
      "text/plain": [
       "\"What's your problem with him?\""
      ]
     },
     "execution_count": 110,
     "metadata": {},
     "output_type": "execute_result"
    }
   ],
   "source": [
    "pipe.predict([\"I really don't like olives.\"])[0]"
   ]
  },
  {
   "cell_type": "code",
   "execution_count": 111,
   "metadata": {},
   "outputs": [
    {
     "data": {
      "text/plain": [
       "'The swim stations are open daily from 7 a.m. to 10 p.m.'"
      ]
     },
     "execution_count": 111,
     "metadata": {},
     "output_type": "execute_result"
    }
   ],
   "source": [
    "pipe.predict(['I used to go fishing all the time.'])[0]"
   ]
  },
  {
   "cell_type": "code",
   "execution_count": 140,
   "metadata": {},
   "outputs": [
    {
     "data": {
      "text/plain": [
       "'I want to go on the slide.'"
      ]
     },
     "execution_count": 140,
     "metadata": {},
     "output_type": "execute_result"
    }
   ],
   "source": [
    "pipe.predict(['What games do you like to play?'])[0]"
   ]
  },
  {
   "cell_type": "code",
   "execution_count": 141,
   "metadata": {},
   "outputs": [
    {
     "data": {
      "text/plain": [
       "\"I'm visiting friends. If you don't mind me asking, what are you going to do?\""
      ]
     },
     "execution_count": 141,
     "metadata": {},
     "output_type": "execute_result"
    }
   ],
   "source": [
    "pipe.predict(['I have lived in five different cities.'])[0]"
   ]
  },
  {
   "cell_type": "code",
   "execution_count": 143,
   "metadata": {},
   "outputs": [
    {
     "data": {
      "text/plain": [
       "\"That can't be true!\""
      ]
     },
     "execution_count": 143,
     "metadata": {},
     "output_type": "execute_result"
    }
   ],
   "source": [
    "pipe.predict(['Trump says he won the election.'])[0]"
   ]
  },
  {
   "cell_type": "markdown",
   "metadata": {},
   "source": [
    "This simple chatbot works remarkably well, especially considering it was created with a Decision Tree Classifier, which is not specifically designed for this type of task. The final verion will have additional features, such as grammar correction, and the ability to look up words, but we already have a model that works pretty well. Another feature of the final chatbot will be that whenever it is unsure how to respond, it will simply ask a random question in order to continue the conversation. Below is a `pandas` Series of questions that were scraped for this purpose. We'll take a quick look, and make a few adjustments to the Series."
   ]
  },
  {
   "cell_type": "code",
   "execution_count": 124,
   "metadata": {},
   "outputs": [
    {
     "data": {
      "text/plain": [
       "0                                 Do you have any pets?\n",
       "1                      What was the last book you read?\n",
       "2                                  Do you like to cook?\n",
       "3                            What's your favorite food?\n",
       "4                 Are you good at cooking/swimming/etc?\n",
       "5                            Are you married or single?\n",
       "6                                 Do you like baseball?\n",
       "7                                    Do you live alone?\n",
       "8               Do you live in a house or an apartment?\n",
       "9               Have you ever lived in another country?\n",
       "10                   Have you ever met a famous person?\n",
       "11                     How do you spend your free time?\n",
       "12             How long have you been studying English?\n",
       "13                                     How old are you?\n",
       "14                                    How tall are you?\n",
       "15    Tell me about a favorite event of your adulthood.\n",
       "16    Tell me about a favorite event of your childhood.\n",
       "17                               What are your hobbies?\n",
       "18    What two things could you not do when you were...\n",
       "19                     What countries have you visited?\n",
       "20                           What country are you from?\n",
       "21                           What do you do on Sundays?\n",
       "22                     What do you do? What's your job?\n",
       "23            What do you like to do in your free time?\n",
       "24                            What hobbies do you have?\n",
       "25                                  What is your motto?\n",
       "26                       What kind of food do you like?\n",
       "27                     What kind of people do you like?\n",
       "28                 What kind of people do you not like?\n",
       "29                         What languages do you speak?\n",
       "30                        What's something you do well?\n",
       "31                                 What's your address?\n",
       "32                             What's your father like?\n",
       "33                             What's your mother like?\n",
       "34                                    What's your name?\n",
       "35                            What's your phone number?\n",
       "36                        What's your telephone number?\n",
       "37                 When did you start to study English?\n",
       "38                                  Where are you from?\n",
       "39                                   Where do you live?\n",
       "40    Where do you live? How long have you lived there?\n",
       "41                                 Where were you born?\n",
       "42                            Which sports do you like?\n",
       "43                                Who do you live with?\n",
       "44                         Who do you respect the most?\n",
       "45         Who has had the most influence in your life?\n",
       "46              Why did you decide to take this course?\n",
       "47                    Why do you want to learn English?\n",
       "48                         Would you like to be famous?\n",
       "49                           What is your goal in life?\n",
       "50               Are you a 'morning' or 'night' person?\n",
       "51                   How many cities have you lived in?\n",
       "52                             What jobs have you done?\n",
       "53            Which do you prefer, sunrises or sunsets?\n",
       "54    What could you do as a child that you can't do...\n",
       "55             What is the worst memory of our country?\n",
       "56              How many times did you move as a child?\n",
       "57    Are you a task oriented person or a people ori...\n",
       "Name: 0, dtype: object"
      ]
     },
     "execution_count": 124,
     "metadata": {},
     "output_type": "execute_result"
    }
   ],
   "source": [
    "questions_df = pd.read_csv('esl_questions.csv')\n",
    "questions_series = questions_df['0']\n",
    "questions_series"
   ]
  },
  {
   "cell_type": "code",
   "execution_count": 129,
   "metadata": {},
   "outputs": [
    {
     "name": "stdout",
     "output_type": "stream",
     "text": [
      "original: What two things could you not do when you were...?\n",
      "new: What two things could you not do when you were five years old?\n"
     ]
    }
   ],
   "source": [
    "# Edit incomplete question\n",
    "print('original:', questions_series[18])\n",
    "questions_series[18] = 'What two things could you not do when you were five years old?'\n",
    "print('new:', questions_series[18])"
   ]
  },
  {
   "cell_type": "code",
   "execution_count": 137,
   "metadata": {},
   "outputs": [
    {
     "name": "stdout",
     "output_type": "stream",
     "text": [
      "original: What is the worst memory of our country?\n",
      "new: So how have you been lately?\n"
     ]
    }
   ],
   "source": [
    "# Change bizarre, negative sounding question to a more normal one\n",
    "print('original:', questions_series[55])\n",
    "questions_series[55] = 'So how have you been lately?'\n",
    "print('new:', questions_series[55])"
   ]
  },
  {
   "cell_type": "markdown",
   "metadata": {},
   "source": [
    "Finally, it's time to save DataFrame containing the dialogues and the Series containing the questions to new CSV files."
   ]
  },
  {
   "cell_type": "code",
   "execution_count": 146,
   "metadata": {},
   "outputs": [],
   "source": [
    "df.to_csv('all_dialogues.csv', index=False)\n",
    "questions_series.to_csv('starter_questions.csv', index=False)"
   ]
  }
 ],
 "metadata": {
  "kernelspec": {
   "display_name": "Python 3",
   "language": "python",
   "name": "python3"
  },
  "language_info": {
   "codemirror_mode": {
    "name": "ipython",
    "version": 3
   },
   "file_extension": ".py",
   "mimetype": "text/x-python",
   "name": "python",
   "nbconvert_exporter": "python",
   "pygments_lexer": "ipython3",
   "version": "3.6.10"
  }
 },
 "nbformat": 4,
 "nbformat_minor": 4
}
