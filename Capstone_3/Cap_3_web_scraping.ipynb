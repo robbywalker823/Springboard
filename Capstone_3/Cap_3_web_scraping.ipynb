{
 "cells": [
  {
   "cell_type": "markdown",
   "metadata": {},
   "source": [
    "# Capstone 3: Web Scraping #\n",
    "\n",
    "To build the dataset for the project, we will be scraping the two websites: www.eslfast.com and http://iteslj.org/. From the first website we are going to scrape two large sets of ESL dialogues, one set that is beginner level and another that is intermediate. From the second website we will scrape a list of discussion questions to use as \"starter questions\"\n",
    "\n",
    "The following code is designed to extract the desired information from the website's source code.  The specific operations involved in web scraping vary considerably and must be tailored to the particular page being scraped.  This process involves a lot of trial and error.  In addition, any changes to the site's HTML can cause the code to no longer work, so there is no guarantee that code below will continue to work indefinitely in the future."
   ]
  },
  {
   "cell_type": "code",
   "execution_count": 1,
   "metadata": {},
   "outputs": [],
   "source": [
    "import requests\n",
    "from bs4 import BeautifulSoup\n",
    "import pandas as pd\n",
    "from time import sleep\n",
    "from random import randint\n",
    "import re"
   ]
  },
  {
   "cell_type": "markdown",
   "metadata": {},
   "source": [
    "### Read Webpage into Python ###\n",
    "\n",
    "We start by getting a sample of HTML to work with from www.eslfast.com. The URL below is first dialogue in a section called Easy Dialogues. Now we use the requests library to fetch the web page by passing the URL to the `get` function, and store the results to a response object called `r`. The response object has a `text` attribute which can be used to access the HTML."
   ]
  },
  {
   "cell_type": "code",
   "execution_count": 2,
   "metadata": {},
   "outputs": [],
   "source": [
    "r = requests.get('https://www.eslfast.com/easydialogs/ec/dailylife001.htm')"
   ]
  },
  {
   "cell_type": "code",
   "execution_count": 3,
   "metadata": {},
   "outputs": [
    {
     "name": "stdout",
     "output_type": "stream",
     "text": [
      "<html>\n",
      "\n",
      "<head> <!-- Global site tag (gtag.js) - Google Analytics --> <script async src=\"https://www.googletagmanager.com/gtag/js?id=UA-18587813-3\"></script> <script> window.dataLayer = window.dataLayer || []; function gtag(){dataLayer.push(arguments);} gtag('js', new Date()); gtag('config', 'UA-18587813-3'); </script>  <style> audio::-internal-media-controls-download-button { display:none; } audio::-webkit-media-controls-enclosure { overflow:hidden; } audio::-webkit-media-controls-panel { width:\n"
     ]
    }
   ],
   "source": [
    "# print the first 500 characters of the HTML\n",
    "print(r.text[0:500])"
   ]
  },
  {
   "cell_type": "markdown",
   "metadata": {},
   "source": [
    "### Parse the HTML ###\n",
    "\n",
    "Next, we parse the HTML using the Beautiful Soup 4 library. This code parses the HTML into an object called `soup` which `BeatifulSoup` understands. (html.parser is the default parser in Python, but others can be used.)"
   ]
  },
  {
   "cell_type": "code",
   "execution_count": 4,
   "metadata": {},
   "outputs": [],
   "source": [
    "soup = BeautifulSoup(r.text, 'html.parser')"
   ]
  },
  {
   "cell_type": "code",
   "execution_count": 5,
   "metadata": {},
   "outputs": [
    {
     "name": "stdout",
     "output_type": "stream",
     "text": [
      "<html>\n",
      "<head> <!-- Global site tag (gtag.js) - Google Analytics --> <script async=\"\" src=\"https://www.googletagmanager.com/gtag/js?id=UA-18587813-3\"></script> <script> window.dataLayer = window.dataLayer || []; function gtag(){dataLayer.push(arguments);} gtag('js', new Date()); gtag('config', 'UA-18587813-3'); </script> <style> audio::-internal-media-controls-download-button { display:none; } audio::-webkit-media-controls-enclosure { overflow:hidden; } audio::-webkit-media-controls-panel { width: calc(100% + 30px); } </style>\n",
      "<meta content=\"en-us\" http-equiv=\"Content-Language\"/>\n",
      "<meta content=\"text/html; charset=utf-8\" http-equiv=\"Content-Type\"/>\n",
      "<script async=\"\" src=\"https://pagead2.googlesyndication.com/pagead/js/adsbygoogle.js\"></script> <script> (adsbygoogle = window.adsbygoogle || []).push({ google_ad_client: \"ca-pub-4240992229388079\", enable_page_level_ads: true }); </script>\n",
      "<meta content=\"Learning English, ESL, EFL, English as a Second Language, easy dialogues, easy conversations, ESL conversations\" name=\"keyWords\"/>\n",
      "<meta content=\"education, language, English as a Second Language, speaking\" name=\"classification\"/>\n",
      "<title>Easy Conversation: 1. I Live in Pasadena</title>\n",
      "</head>\n",
      "<body><div style=\"width:950px; margin:0 auto;\">\n",
      "<center><script async=\"\" src=\"https://pagead2.googlesyndication.com/pagead/js/adsbygoogle.js\"></script> <!-- ResponsiveIndex970x90 --> <ins class=\"adsbygoogle\" data-ad-client=\"ca-pub-4240992229388079\" data-ad-format=\"auto\" data-ad-slot=\"8135245216\" data-full-width-responsive=\"true\" style=\"display:block\"></ins> <script> (adsbygoogle = window.adsbygoogle || []).push({}); </script><br/><font color=\"#FF0000\" face=\"arial\" size=\"7\"><b>1. I Live in Pasadena</b></font></center><br/>\n",
      "<center><script async=\"\" src=\"https://pagead2.googlesyndication.com/pagead/js/adsbygoogle.js\"></script> <!-- newads728x90 --> <ins class=\"adsbygoogle\" data-ad-client=\"ca-pub-4240992229388079\" data-ad-slot=\"7440080419\" style=\"display:inline-block;width:728px;height:90px\"></ins> <script> (adsbygoogle = window.adsbygoogle || []).push({}); </script></center><br/>\n",
      "<table><tr><td align=\"center\" valign=\"top\" width=\"80\">\n",
      "<br/><br/>\n",
      "<br/><br/>\n",
      "</td><td width=\"20\"></td>\n",
      "<td valign=\"top\">\n",
      "<audio controls=\"\" id=\"audio\" oncontextmenu=\"return false;\" src=\"../audio/dailylife001.mp3\"></audio><script> function toggleLoop(checkbox) {var audio = document.getElementById(\"audio\"); var loop = checkbox.checked; if (typeof audio.loop == \"boolean\") {audio.loop = true;} else {audio.addEventListener(\"ended\", function() {this.currentTime = 0; this.play(); }, false); } } </script> <input onclick=\"toggleLoop(this)\" type=\"checkbox\"/>Repeat<br/>\n",
      "<font face=\"arial\" size=\"6\"><p class=\"MsoNormal\" style=\"text-indent: .0in; line-height: 200%\">\n",
      "<b>A:</b> Where do you live?<br/>\n",
      "<b>B:</b> I live in Pasadena.<br/>\n",
      "<b>A:</b> Where is Pasadena?<br/>\n",
      "<b>B:</b> It's in California.<br/>\n",
      "<b>A:</b> Is it in northern California?<br/>\n",
      "<b>B:</b> No. It's in southern California.<br/>\n",
      "<b>A:</b> Is Pasadena a big city?<br/>\n",
      "<b>B:</b> It's pretty big.<br/>\n",
      "<b>A:</b> How big is \"pretty big\"?<br/>\n",
      "<b>B:</b> It has about 140,000 people.<br/>\n",
      "<b>A:</b> How big is Los Angeles?<br/>\n",
      "<b>B:</b> It has about 3 million people.\n",
      "\n",
      "</p></font></td></tr></table><br/><br/>\n",
      "<script async=\"\" src=\"https://pagead2.googlesyndication.com/pagead/js/adsbygoogle.js\"></script> <ins class=\"adsbygoogle\" data-ad-client=\"ca-pub-2261234785396789\" data-ad-format=\"fluid\" data-ad-layout=\"in-article\" data-ad-slot=\"6972313443\" style=\"display:block; text-align:center;\"></ins> <script>(adsbygoogle = window.adsbygoogle || []).push({}); </script><br/><br/>\n",
      "<center><hr/><table><tr><td align=\"center\" valign=\"top\" width=\"250\"><script async=\"\" src=\"https://pagead2.googlesyndication.com/pagead/js/adsbygoogle.js\"></script> <!-- NewLinks120x90 --> <ins class=\"adsbygoogle\" data-ad-client=\"ca-pub-4240992229388079\" data-ad-slot=\"4953658815\" style=\"display:inline-block;width:120px;height:90px\"></ins> <script> (adsbygoogle = window.adsbygoogle || []).push({}); </script></td>\n",
      "<td align=\"center\" width=\"300\">\n",
      "            <a href=\"../dailylife.htm\"><b><font size=\"5\">MENU</font></b></a>            \n",
      "<a href=\"dailylife002.htm\"><img border=\"0\" height=\"45\" src=\"../images/next.gif\" width=\"45\"/></a></td>\n",
      "<td align=\"center\" valign=\"top\" width=\"250\"><script async=\"\" src=\"https://pagead2.googlesyndication.com/pagead/js/adsbygoogle.js\"></script> <!-- NewLinks120x90 --> <ins class=\"adsbygoogle\" data-ad-client=\"ca-pub-4240992229388079\" data-ad-slot=\"4953658815\" style=\"display:inline-block;width:120px;height:90px\"></ins> <script> (adsbygoogle = window.adsbygoogle || []).push({}); </script></td></tr></table><hr/></center>\n",
      "<p align=\"center\"><small>Copyright © 2020. All rights reserved.<br/>eslfast.com</small></p>\n",
      "<center><script async=\"\" src=\"https://pagead2.googlesyndication.com/pagead/js/adsbygoogle.js\"></script> <!-- ESL728x90 --> <ins class=\"adsbygoogle\" data-ad-client=\"ca-pub-4240992229388079\" data-ad-slot=\"8928708017\" style=\"display:inline-block;width:728px;height:90px\"></ins> <script> (adsbygoogle = window.adsbygoogle || []).push({}); </script></center><br/><br/><br/><br/></div></body>\n",
      "</html>\n"
     ]
    }
   ],
   "source": [
    "print(soup)"
   ]
  },
  {
   "cell_type": "markdown",
   "metadata": {},
   "source": [
    "### Collect the Results ###\n",
    "\n",
    "HTML contains text as well as tags used to mark up the text.  The tags are found within angle brackets, and many can be seen in the sample of HTML above. For example, there is an opening tag `<title>`, followed by some text, followed by a closing tag `</title>`.  Tags also have attributes, for example the tag `<font face=\"arial\" size=\"6\">` specifies the font and of the text. Finally, tags can be nest within one another. Web scraping involves taking advantage of all of these facts to locate and extract information on a website.\n",
    "\n",
    "From this point on, the code used is specific to this particular project. Inspecting the HTML of www.eslfast.com reveals that the dialogues we seek are contained in `p` tags with the class `MsoNormal`. The following code produces an object called a \"ResultSet\" which behaves like a Python list, which in this case only has one item. After that, we split the dialogue into individual lines, and write some code to get the title of the dialogue."
   ]
  },
  {
   "cell_type": "code",
   "execution_count": 6,
   "metadata": {},
   "outputs": [],
   "source": [
    "result = soup.find('p', attrs={'class':'MsoNormal'})"
   ]
  },
  {
   "cell_type": "code",
   "execution_count": 7,
   "metadata": {},
   "outputs": [
    {
     "name": "stdout",
     "output_type": "stream",
     "text": [
      "<p class=\"MsoNormal\" style=\"text-indent: .0in; line-height: 200%\">\n",
      "<b>A:</b> Where do you live?<br/>\n",
      "<b>B:</b> I live in Pasadena.<br/>\n",
      "<b>A:</b> Where is Pasadena?<br/>\n",
      "<b>B:</b> It's in California.<br/>\n",
      "<b>A:</b> Is it in northern California?<br/>\n",
      "<b>B:</b> No. It's in southern California.<br/>\n",
      "<b>A:</b> Is Pasadena a big city?<br/>\n",
      "<b>B:</b> It's pretty big.<br/>\n",
      "<b>A:</b> How big is \"pretty big\"?<br/>\n",
      "<b>B:</b> It has about 140,000 people.<br/>\n",
      "<b>A:</b> How big is Los Angeles?<br/>\n",
      "<b>B:</b> It has about 3 million people.\n",
      "\n",
      "</p>\n"
     ]
    }
   ],
   "source": [
    "print(result)"
   ]
  },
  {
   "cell_type": "code",
   "execution_count": 8,
   "metadata": {},
   "outputs": [
    {
     "name": "stdout",
     "output_type": "stream",
     "text": [
      "['Where do you live?', 'I live in Pasadena.', 'Where is Pasadena?', \"It's in California.\", 'Is it in northern California?', \"No. It's in southern California.\", 'Is Pasadena a big city?', \"It's pretty big.\", 'How big is \"pretty big\"?', 'It has about 140,000 people.', 'How big is Los Angeles?', 'It has about 3 million people.']\n"
     ]
    }
   ],
   "source": [
    "dialogue = re.split('\\nA: |\\nB: ', result.text)\n",
    "dialogue = [x.strip() for x in dialogue][1:]\n",
    "print(dialogue)"
   ]
  },
  {
   "cell_type": "code",
   "execution_count": 9,
   "metadata": {},
   "outputs": [],
   "source": [
    "title = soup.find('title')\n",
    "title = re.findall('\\d. (.*)', title.text)[0]"
   ]
  },
  {
   "cell_type": "code",
   "execution_count": 10,
   "metadata": {},
   "outputs": [
    {
     "name": "stdout",
     "output_type": "stream",
     "text": [
      "I Live in Pasadena\n"
     ]
    }
   ],
   "source": [
    "print(title)"
   ]
  },
  {
   "cell_type": "markdown",
   "metadata": {},
   "source": [
    "### Gather the Data ###\n",
    "\n",
    "Next we'll take all the code from above and package it into a function. We can test out the function on a different URL. After that, we need to apply the function to all of the pages with dialogues.  To accomplish this, we create a list of tuples containing the names of different sections and the number of dialogues in each section.  We will then create a loop within a loop that iterates over this list and returns the lines of each dialogue, along with its section and title. Finally, all of this information can be converted into a `pandas` DataFrame."
   ]
  },
  {
   "cell_type": "code",
   "execution_count": 11,
   "metadata": {},
   "outputs": [],
   "source": [
    "def scrape_page(url):\n",
    "    r = requests.get(url)\n",
    "    soup = BeautifulSoup(r.text, 'html.parser')\n",
    "    result = soup.find('p', attrs={'class':'MsoNormal'})\n",
    "    dialogue = re.split('\\nA: |\\nB: ', result.text)\n",
    "    dialogue = [x.strip() for x in dialogue][1:]\n",
    "    title = soup.find('title')\n",
    "    title = re.findall('\\d. (.*)', title.text)[0]\n",
    "    return title, dialogue"
   ]
  },
  {
   "cell_type": "code",
   "execution_count": 12,
   "metadata": {},
   "outputs": [
    {
     "name": "stdout",
     "output_type": "stream",
     "text": [
      "title:  I Have a Honda\n",
      "dialogue lines:  ['Do you have a car?', 'Yes, I do.', 'What kind of car do you have?', 'I have a Honda.', 'Is it new?', 'It was new in 2003.', \"So, it's pretty old now.\", 'Yes, it is. But it still looks good.', 'Do you take good care of it?', 'Oh, yes. I wash it once a week.', 'Do you change the oil?', 'My mechanic changes the oil twice a year.']\n"
     ]
    }
   ],
   "source": [
    "title, dialogue = scrape_page('https://www.eslfast.com/easydialogs/ec/dailylife002.htm')\n",
    "print('title: ', title)\n",
    "print('dialogue lines: ', dialogue)"
   ]
  },
  {
   "cell_type": "code",
   "execution_count": 13,
   "metadata": {},
   "outputs": [],
   "source": [
    "sections = [('dailylife0', 77), ('schoollife', 15), ('transportation', 21), ('entertainment', 20), ('dating', 13), \n",
    "            ('restaurant', 10), ('sports', 12), ('safety', 12), ('travel', 14), ('jobs', 16), ('food', 11), \n",
    "            ('shop', 10), ('housing', 10), ('election', 12), ('health', 20)]"
   ]
  },
  {
   "cell_type": "code",
   "execution_count": 14,
   "metadata": {},
   "outputs": [
    {
     "name": "stdout",
     "output_type": "stream",
     "text": [
      "completed  dailylife0\n",
      "completed  schoollife\n",
      "completed  transportation\n",
      "completed  entertainment\n",
      "completed  dating\n",
      "completed  restaurant\n",
      "completed  sports\n",
      "completed  safety\n",
      "completed  travel\n",
      "completed  jobs\n",
      "completed  food\n",
      "completed  shop\n",
      "completed  housing\n",
      "completed  election\n",
      "completed  health\n"
     ]
    }
   ],
   "source": [
    "topics = []\n",
    "titles = []\n",
    "dialogue_lines = []\n",
    "\n",
    "for section in sections:\n",
    "    name, length = section\n",
    "    for n in range(1, length+1):\n",
    "        num = str(n).zfill(2)\n",
    "        url = 'https://www.eslfast.com/easydialogs/ec/{}.htm'.format(name+num)\n",
    "        title, dialogue = scrape_page(url)\n",
    "        dialogue_lines.extend(dialogue)\n",
    "        for i in range(len(dialogue)):\n",
    "            titles.append(title)\n",
    "            topics.append(name)\n",
    "        sleep(randint(2,10))\n",
    "    print(\"completed \", name)\n",
    "    \n",
    "easy_dialogues = pd.DataFrame({'topic': topics, 'title': titles, 'dialogue_line': dialogue_lines})"
   ]
  },
  {
   "cell_type": "code",
   "execution_count": 15,
   "metadata": {},
   "outputs": [
    {
     "data": {
      "text/plain": [
       "(3270, 3)"
      ]
     },
     "execution_count": 15,
     "metadata": {},
     "output_type": "execute_result"
    }
   ],
   "source": [
    "easy_dialogues.shape"
   ]
  },
  {
   "cell_type": "code",
   "execution_count": 16,
   "metadata": {},
   "outputs": [
    {
     "data": {
      "text/html": [
       "<div>\n",
       "<style scoped>\n",
       "    .dataframe tbody tr th:only-of-type {\n",
       "        vertical-align: middle;\n",
       "    }\n",
       "\n",
       "    .dataframe tbody tr th {\n",
       "        vertical-align: top;\n",
       "    }\n",
       "\n",
       "    .dataframe thead th {\n",
       "        text-align: right;\n",
       "    }\n",
       "</style>\n",
       "<table border=\"1\" class=\"dataframe\">\n",
       "  <thead>\n",
       "    <tr style=\"text-align: right;\">\n",
       "      <th></th>\n",
       "      <th>topic</th>\n",
       "      <th>title</th>\n",
       "      <th>dialogue_line</th>\n",
       "    </tr>\n",
       "  </thead>\n",
       "  <tbody>\n",
       "    <tr>\n",
       "      <th>0</th>\n",
       "      <td>dailylife0</td>\n",
       "      <td>I Live in Pasadena</td>\n",
       "      <td>Where do you live?</td>\n",
       "    </tr>\n",
       "    <tr>\n",
       "      <th>1</th>\n",
       "      <td>dailylife0</td>\n",
       "      <td>I Live in Pasadena</td>\n",
       "      <td>I live in Pasadena.</td>\n",
       "    </tr>\n",
       "    <tr>\n",
       "      <th>2</th>\n",
       "      <td>dailylife0</td>\n",
       "      <td>I Live in Pasadena</td>\n",
       "      <td>Where is Pasadena?</td>\n",
       "    </tr>\n",
       "    <tr>\n",
       "      <th>3</th>\n",
       "      <td>dailylife0</td>\n",
       "      <td>I Live in Pasadena</td>\n",
       "      <td>It's in California.</td>\n",
       "    </tr>\n",
       "    <tr>\n",
       "      <th>4</th>\n",
       "      <td>dailylife0</td>\n",
       "      <td>I Live in Pasadena</td>\n",
       "      <td>Is it in northern California?</td>\n",
       "    </tr>\n",
       "    <tr>\n",
       "      <th>5</th>\n",
       "      <td>dailylife0</td>\n",
       "      <td>I Live in Pasadena</td>\n",
       "      <td>No. It's in southern California.</td>\n",
       "    </tr>\n",
       "    <tr>\n",
       "      <th>6</th>\n",
       "      <td>dailylife0</td>\n",
       "      <td>I Live in Pasadena</td>\n",
       "      <td>Is Pasadena a big city?</td>\n",
       "    </tr>\n",
       "    <tr>\n",
       "      <th>7</th>\n",
       "      <td>dailylife0</td>\n",
       "      <td>I Live in Pasadena</td>\n",
       "      <td>It's pretty big.</td>\n",
       "    </tr>\n",
       "    <tr>\n",
       "      <th>8</th>\n",
       "      <td>dailylife0</td>\n",
       "      <td>I Live in Pasadena</td>\n",
       "      <td>How big is \"pretty big\"?</td>\n",
       "    </tr>\n",
       "    <tr>\n",
       "      <th>9</th>\n",
       "      <td>dailylife0</td>\n",
       "      <td>I Live in Pasadena</td>\n",
       "      <td>It has about 140,000 people.</td>\n",
       "    </tr>\n",
       "  </tbody>\n",
       "</table>\n",
       "</div>"
      ],
      "text/plain": [
       "        topic               title                     dialogue_line\n",
       "0  dailylife0  I Live in Pasadena                Where do you live?\n",
       "1  dailylife0  I Live in Pasadena               I live in Pasadena.\n",
       "2  dailylife0  I Live in Pasadena                Where is Pasadena?\n",
       "3  dailylife0  I Live in Pasadena               It's in California.\n",
       "4  dailylife0  I Live in Pasadena     Is it in northern California?\n",
       "5  dailylife0  I Live in Pasadena  No. It's in southern California.\n",
       "6  dailylife0  I Live in Pasadena           Is Pasadena a big city?\n",
       "7  dailylife0  I Live in Pasadena                  It's pretty big.\n",
       "8  dailylife0  I Live in Pasadena          How big is \"pretty big\"?\n",
       "9  dailylife0  I Live in Pasadena      It has about 140,000 people."
      ]
     },
     "execution_count": 16,
     "metadata": {},
     "output_type": "execute_result"
    }
   ],
   "source": [
    "easy_dialogues.head(10)"
   ]
  },
  {
   "cell_type": "markdown",
   "metadata": {},
   "source": [
    "### Intermediate Dialogues ###\n",
    "\n",
    "Our first DataFrame looks good. Next we can repeat the process for the intermediate dialogues. All of the steps will basically be the same, except for differences in the tags used to locate the dialogues. The intermediate dialogues come three to a page, and the html contains the names of each section as well as a subsection, so the scraping process will be a little bit trickier this time."
   ]
  },
  {
   "cell_type": "code",
   "execution_count": 17,
   "metadata": {},
   "outputs": [],
   "source": [
    "r = requests.get('https://www.eslfast.com/robot/topics/smalltalk/smalltalk01.htm')"
   ]
  },
  {
   "cell_type": "code",
   "execution_count": 18,
   "metadata": {},
   "outputs": [
    {
     "name": "stdout",
     "output_type": "stream",
     "text": [
      "<html>\n",
      "\n",
      "<head> <!-- Global site tag (gtag.js) - Google Analytics --> <script async src=\"https://www.googletagmanager.com/gtag/js?id=UA-18587813-3\"></script> <script> window.dataLayer = window.dataLayer || []; function gtag(){dataLayer.push(arguments);} gtag('js', new Date()); gtag('config', 'UA-18587813-3'); </script>  \n",
      "\n",
      "<style> audio::-internal-media-controls-download-button { display:none; } audio::-webkit-media-controls-enclosure { overflow:hidden; } audio::-webkit-media-controls-panel { widt\n"
     ]
    }
   ],
   "source": [
    "# print the first 500 characters of the HTML\n",
    "print(r.text[0:500])"
   ]
  },
  {
   "cell_type": "code",
   "execution_count": 19,
   "metadata": {},
   "outputs": [],
   "source": [
    "soup = BeautifulSoup(r.text, 'html.parser')"
   ]
  },
  {
   "cell_type": "code",
   "execution_count": 20,
   "metadata": {},
   "outputs": [
    {
     "name": "stdout",
     "output_type": "stream",
     "text": [
      "<html>\n",
      "<head> <!-- Global site tag (gtag.js) - Google Analytics --> <script async=\"\" src=\"https://www.googletagmanager.com/gtag/js?id=UA-18587813-3\"></script> <script> window.dataLayer = window.dataLayer || []; function gtag(){dataLayer.push(arguments);} gtag('js', new Date()); gtag('config', 'UA-18587813-3'); </script>\n",
      "<style> audio::-internal-media-controls-download-button { display:none; } audio::-webkit-media-controls-enclosure { overflow:hidden; } audio::-webkit-media-controls-panel { width: calc(100% + 30px); } </style>\n",
      "<meta content=\"en-us\" http-equiv=\"Content-Language\"/>\n",
      "<meta content=\"text/html; charset=utf-8\" http-equiv=\"Content-Type\"/>\n",
      "<script async=\"\" src=\"https://pagead2.googlesyndication.com/pagead/js/adsbygoogle.js\"></script> <script> (adsbygoogle = window.adsbygoogle || []).push({ google_ad_client: \"ca-pub-4240992229388079\", enable_page_level_ads: true }); </script>\n",
      "<title>Conversation: 1. Greetings</title>\n",
      "</head>\n",
      "<body><div style=\"width:970px; margin:0 auto;\">\n",
      "<center><font color=\"#FF0000\" size=\"7\">1. Greetings</font></center>\n",
      "<script async=\"\" src=\"https://pagead2.googlesyndication.com/pagead/js/adsbygoogle.js\"></script> <!-- listen_responsive --> <ins class=\"adsbygoogle\" data-ad-client=\"ca-pub-4240992229388079\" data-ad-format=\"auto\" data-ad-slot=\"2122614019\" data-full-width-responsive=\"true\" style=\"display:block\"></ins> <script> (adsbygoogle = window.adsbygoogle || []).push({}); </script><br/>\n",
      "<table><tr><td valign=\"top\" width=\"50\">\n",
      "<br/><br/>\n",
      "<br/> <br/>\n",
      "<br/> <br/>\n",
      "<br/> <br/>\n",
      "<br/> <br/>\n",
      "<br/><br/> <br/><br/><br/><br/><br/><br/>\n",
      "</td><td width=\"20\"></td><td valign=\"top\"><font size=\"5\">\n",
      "\n",
      "1. \n",
      "<audio controls=\"\" id=\"audio\" oncontextmenu=\"return false;\" src=\"../../audio/smalltalk/smalltalk0101.mp3\"></audio><script> function toggleLoop(checkbox) {var audio = document.getElementById(\"audio\"); var loop = checkbox.checked; if (typeof audio.loop == \"boolean\") {audio.loop = true;} else {audio.addEventListener(\"ended\", function() {this.currentTime = 0; this.play(); }, false); } } </script> <input onclick=\"toggleLoop(this)\" type=\"checkbox\"/>Repeat<br/><br/><script async=\"\" src=\"https://pagead2.googlesyndication.com/pagead/js/adsbygoogle.js\"></script> <!-- newads728x90 --> <ins class=\"adsbygoogle\" data-ad-client=\"ca-pub-4240992229388079\" data-ad-slot=\"7440080419\" style=\"display:inline-block;width:728px;height:90px\"></ins> <script> (adsbygoogle = window.adsbygoogle || []).push({}); </script><br/><br/>\n",
      "<b>A:</b> Hi, how are you doing?<br/><br/>\n",
      "<b>B:</b> I'm fine. How about yourself?<br/><br/>\n",
      "<b>A:</b> I'm pretty good. Thanks for asking.<br/><br/>\n",
      "<b>B:</b> No problem. So how have you been?<br/><br/>\n",
      "<b>A:</b> I've been great. What about you?<br/><br/>\n",
      "<b>B:</b> I've been good. I'm in school right now.<br/><br/>\n",
      "<b>A:</b> What school do you go to?<br/><br/>\n",
      "<b>B:</b> I go to PCC.<br/><br/>\n",
      "<b>A:</b> Do you like it there?<br/><br/>\n",
      "<b>B:</b> It's okay. It's a really big campus.<br/><br/>\n",
      "<b>A:</b> Good luck with school.<br/><br/>\n",
      "<b>B:</b> Thank you very much.<br/><br/>\n",
      "<br/>2.\n",
      "<audio controls=\"\" id=\"audio\" oncontextmenu=\"return false;\" src=\"../../audio/smalltalk/smalltalk0102.mp3\"></audio><script> function toggleLoop(checkbox) {var audio = document.getElementById(\"audio\"); var loop = checkbox.checked; if (typeof audio.loop == \"boolean\") {audio.loop = true;} else {audio.addEventListener(\"ended\", function() {this.currentTime = 0; this.play(); }, false); } } </script> <input onclick=\"toggleLoop(this)\" type=\"checkbox\"/>Repeat<br/><br/><script async=\"\" src=\"https://pagead2.googlesyndication.com/pagead/js/adsbygoogle.js\"></script> <!-- newads728x90 --> <ins class=\"adsbygoogle\" data-ad-client=\"ca-pub-4240992229388079\" data-ad-slot=\"7440080419\" style=\"display:inline-block;width:728px;height:90px\"></ins> <script> (adsbygoogle = window.adsbygoogle || []).push({}); </script><br/><br/>\n",
      "<b>A:</b> How's it going?<br/><br/>\n",
      "<b>B:</b> I'm doing well. How about you?<br/><br/>\n",
      "<b>A:</b> Never better, thanks.<br/><br/>\n",
      "<b>B:</b> So how have you been lately?<br/><br/>\n",
      "<b>A:</b> I've actually been pretty good. You?<br/><br/>\n",
      "<b>B:</b> I'm actually in school right now.<br/><br/>\n",
      "<b>A:</b> Which school do you attend?<br/><br/>\n",
      "<b>B:</b> I'm attending PCC right now.<br/><br/>\n",
      "<b>A:</b> Are you enjoying it there?<br/><br/>\n",
      "<b>B:</b> It's not bad. There are a lot of people there.<br/><br/>\n",
      "<b>A:</b> Good luck with that.<br/><br/>\n",
      "<b>B:</b> Thanks.<br/><br/>\n",
      "<br/>3.\n",
      "<audio controls=\"\" id=\"audio\" oncontextmenu=\"return false;\" src=\"../../audio/smalltalk/smalltalk0103.mp3\"></audio><script> function toggleLoop(checkbox) {var audio = document.getElementById(\"audio\"); var loop = checkbox.checked; if (typeof audio.loop == \"boolean\") {audio.loop = true;} else {audio.addEventListener(\"ended\", function() {this.currentTime = 0; this.play(); }, false); } } </script> <input onclick=\"toggleLoop(this)\" type=\"checkbox\"/>Repeat<br/><br/><script async=\"\" src=\"https://pagead2.googlesyndication.com/pagead/js/adsbygoogle.js\"></script> <!-- newads728x90 --> <ins class=\"adsbygoogle\" data-ad-client=\"ca-pub-4240992229388079\" data-ad-slot=\"7440080419\" style=\"display:inline-block;width:728px;height:90px\"></ins> <script> (adsbygoogle = window.adsbygoogle || []).push({}); </script><br/><br/>\n",
      "<b>A:</b> How are you doing today?<br/><br/>\n",
      "<b>B:</b> I'm doing great. What about you?<br/><br/>\n",
      "<b>A:</b> I'm absolutely lovely, thank you.<br/><br/>\n",
      "<b>B:</b> Everything's been good with you?<br/><br/>\n",
      "<b>A:</b> I haven't been better. How about yourself?<br/><br/>\n",
      "<b>B:</b> I started school recently.<br/><br/>\n",
      "<b>A:</b> Where are you going to school?<br/><br/>\n",
      "<b>B:</b> I'm going to PCC.<br/><br/>\n",
      "<b>A:</b> How do you like it so far?<br/><br/>\n",
      "<b>B:</b> I like it so far. My classes are pretty good right now.<br/><br/>\n",
      "<b>A:</b> I wish you luck.<br/><br/>\n",
      "<b>B:</b> Thanks a lot.<br/><br/>\n",
      "</font></td></tr></table>\n",
      "<script async=\"\" src=\"https://pagead2.googlesyndication.com/pagead/js/adsbygoogle.js\"></script> <ins class=\"adsbygoogle\" data-ad-client=\"ca-pub-4240992229388079\" data-ad-format=\"fluid\" data-ad-layout=\"in-article\" data-ad-slot=\"1507155779\" style=\"display:block; text-align:center;\"></ins> <script> (adsbygoogle = window.adsbygoogle || []).push({}); </script><br/>\n",
      "<p align=\"center\"><a href=\"../../tutor_mike.htm\" target=\"_blank\"><font size=\"5\">Practice the Conversations of This Topic with Mike</font></a></p>\n",
      "<p align=\"center\"><script> document.write('<a href=\"' + document.referrer + '\"><font size=\"6\">Back</font></a>'); </script></p>\n",
      "<p align=\"center\"><small>Copyright © 2020. All rights reserved.</small><br/><b>eslfast.com</b></p>\n",
      "<center><script async=\"\" src=\"https://pagead2.googlesyndication.com/pagead/js/adsbygoogle.js\"></script> <!-- ESL728x90 --> <ins class=\"adsbygoogle\" data-ad-client=\"ca-pub-4240992229388079\" data-ad-slot=\"8928708017\" style=\"display:inline-block;width:728px;height:90px\"></ins> <script> (adsbygoogle = window.adsbygoogle || []).push({}); </script></center><br/><br/><br/><br/></div></body>\n",
      "</html>\n"
     ]
    }
   ],
   "source": [
    "print(soup)"
   ]
  },
  {
   "cell_type": "code",
   "execution_count": 21,
   "metadata": {},
   "outputs": [
    {
     "name": "stdout",
     "output_type": "stream",
     "text": [
      "Greetings\n",
      "['Hi, how are you doing?', \"I'm fine. How about yourself?\", \"I'm pretty good. Thanks for asking.\", 'No problem. So how have you been?', \"I've been great. What about you?\", \"I've been good. I'm in school right now.\", 'What school do you go to?', 'I go to PCC.', 'Do you like it there?', \"It's okay. It's a really big campus.\", 'Good luck with school.', 'Thank you very much.', \"How's it going?\", \"I'm doing well. How about you?\", 'Never better, thanks.', 'So how have you been lately?', \"I've actually been pretty good. You?\", \"I'm actually in school right now.\", 'Which school do you attend?', \"I'm attending PCC right now.\", 'Are you enjoying it there?', \"It's not bad. There are a lot of people there.\", 'Good luck with that.', 'Thanks.', 'How are you doing today?', \"I'm doing great. What about you?\", \"I'm absolutely lovely, thank you.\", \"Everything's been good with you?\", \"I haven't been better. How about yourself?\", 'I started school recently.', 'Where are you going to school?', \"I'm going to PCC.\", 'How do you like it so far?', 'I like it so far. My classes are pretty good right now.', 'I wish you luck.', 'Thanks a lot.']\n"
     ]
    }
   ],
   "source": [
    "result = soup.find('html')\n",
    "lines = re.split('\\n1.|\\n2.|\\n3.|\\nA: |\\nB: |\\n', result.text)\n",
    "lines = [x.strip() for x in lines]\n",
    "lines = [x for x in lines if x != '' and x != 'Repeat']\n",
    "title = lines[1]\n",
    "dialogue_lines = lines[2:-2]\n",
    "print(title)\n",
    "print(dialogue_lines)"
   ]
  },
  {
   "cell_type": "code",
   "execution_count": 22,
   "metadata": {},
   "outputs": [],
   "source": [
    "def scrape_page2(url):\n",
    "    r = requests.get(url)\n",
    "    soup = BeautifulSoup(r.text, 'html.parser')\n",
    "    result = soup.find('html')\n",
    "    lines = re.split('\\n1.|\\n2.|\\n3.|\\nA: |\\nB: |\\n', result.text)\n",
    "    lines = [x.strip() for x in lines]\n",
    "    lines = [x for x in lines if x != '' and x != 'Repeat']\n",
    "    title = lines[1]\n",
    "    dialogue_lines = lines[2:-2]\n",
    "    return title, dialogue_lines"
   ]
  },
  {
   "cell_type": "code",
   "execution_count": 23,
   "metadata": {},
   "outputs": [
    {
     "name": "stdout",
     "output_type": "stream",
     "text": [
      "title:  Weather (1)\n",
      "dialogue lines:  [\"It's an ugly day today.\", 'I know. I think it may rain.', \"It's the middle of summer, it shouldn't rain today.\", 'That would be weird.', \"Yeah, especially since it's ninety degrees outside.\", 'I know, it would be horrible if it rained and it was hot outside.', 'Yes, it would be.', \"I really wish it wasn't so hot every day.\", \"Me too. I can't wait until winter.\", 'I like winter too, but sometimes it gets too cold.', \"I'd rather be cold than hot.\", 'Me too.', \"It doesn't look very nice outside today.\", \"You're right. I think it's going to rain later.\", \"In the middle of the summer, it shouldn't be raining.\", \"That wouldn't seem right.\", \"Considering that it's over ninety degrees outside, that would be weird.\", \"Exactly, it wouldn't be nice if it started raining. It's too hot.\", \"I know, you're absolutely right.\", 'I wish it would cool off one day.', \"That's how I feel, I want winter to come soon.\", 'I enjoy the winter, but it gets really cold sometimes.', \"I know what you mean, but I'd rather be cold than hot.\", \"That's exactly how I feel.\", 'I wish it was a nicer day today.', \"That is true. I hope it doesn't rain.\", \"It wouldn't rain in the middle of the summer.\", \"It wouldn't seem right if it started raining right now.\", 'It would be weird if it started raining in ninety degree weather.', 'Any rain right now would be pointless.', \"That's right, it really would be.\", 'I want it to cool down some.', \"I know what you mean, I can't wait until it's winter.\", \"Winter is great. I wish it didn't get so cold sometimes though.\", 'I would rather deal with the winter than the summer.', 'I feel the same way.']\n"
     ]
    }
   ],
   "source": [
    "title, dialogue = scrape_page2('https://www.eslfast.com/robot/topics/smalltalk/smalltalk02.htm')\n",
    "print('title: ', title)\n",
    "print('dialogue lines: ', dialogue)"
   ]
  },
  {
   "cell_type": "code",
   "execution_count": 24,
   "metadata": {},
   "outputs": [],
   "source": [
    "sections = [('smalltalk', 'smalltalk', 24), ('college', 'collegelife', 24), ('library', 'library', 14), \n",
    "            ('transfer', 'transfer', 14), ('social', 'social', 14), ('dating', 'dating', 8), \n",
    "            ('apartment', '1apartment', 10), ('apartment', '2apartment', 45), ('transport', 'bus', 15), \n",
    "            ('dailylife', 'dailylife', 26), ('shop', 'shop', 21), ('bank', 'bank', 17), ('food', 'food', 21), \n",
    "            ('restaurant', 'restaurant', 16), ('transport', 'buycar', 13), ('transport', 'drive', 20), \n",
    "            ('health', 'health', 26), ('employment', 'employment', 24), ('travel', 'travel', 28), \n",
    "            ('hotel', 'hotel', 21), ('buyhouse', 'buyhouse', 12), ('salehouse', 'salehouse', 17), \n",
    "            ('community', 'community', 13), ('crime', 'crime', 14), ('vote', 'vote', 17)\n",
    "           ]"
   ]
  },
  {
   "cell_type": "code",
   "execution_count": 26,
   "metadata": {},
   "outputs": [
    {
     "name": "stdout",
     "output_type": "stream",
     "text": [
      "completed  smalltalk\n",
      "completed  collegelife\n",
      "completed  library\n",
      "completed  transfer\n",
      "completed  social\n",
      "completed  dating\n",
      "completed  1apartment\n",
      "completed  2apartment\n",
      "completed  bus\n",
      "completed  dailylife\n",
      "completed  shop\n",
      "completed  bank\n",
      "completed  food\n",
      "completed  restaurant\n",
      "completed  buycar\n",
      "completed  drive\n",
      "completed  health\n",
      "completed  employment\n",
      "completed  travel\n",
      "completed  hotel\n",
      "completed  buyhouse\n",
      "completed  salehouse\n",
      "completed  community\n",
      "completed  crime\n",
      "completed  vote\n"
     ]
    }
   ],
   "source": [
    "topics = []\n",
    "titles = []\n",
    "dialogue_lines = []\n",
    "\n",
    "for section in sections:\n",
    "    name1, name2, length = section\n",
    "    for n in range(1, length+1):\n",
    "        num = str(n).zfill(2)\n",
    "        url = 'https://www.eslfast.com/robot/topics/{}/{}.htm'.format(name1, name2+num)\n",
    "        title, dialogue = scrape_page2(url)\n",
    "        dialogue_lines.extend(dialogue)\n",
    "        for i in range(len(dialogue)):\n",
    "            titles.append(title)\n",
    "            topics.append(name2)\n",
    "        sleep(randint(2,10))\n",
    "    print(\"completed \", name2)\n",
    "    \n",
    "int_dialogues = pd.DataFrame({'topic': topics, 'title': titles, 'dialogue_line': dialogue_lines})"
   ]
  },
  {
   "cell_type": "code",
   "execution_count": 27,
   "metadata": {},
   "outputs": [
    {
     "data": {
      "text/plain": [
       "(16000, 3)"
      ]
     },
     "execution_count": 27,
     "metadata": {},
     "output_type": "execute_result"
    }
   ],
   "source": [
    "int_dialogues.shape"
   ]
  },
  {
   "cell_type": "code",
   "execution_count": 28,
   "metadata": {},
   "outputs": [
    {
     "data": {
      "text/html": [
       "<div>\n",
       "<style scoped>\n",
       "    .dataframe tbody tr th:only-of-type {\n",
       "        vertical-align: middle;\n",
       "    }\n",
       "\n",
       "    .dataframe tbody tr th {\n",
       "        vertical-align: top;\n",
       "    }\n",
       "\n",
       "    .dataframe thead th {\n",
       "        text-align: right;\n",
       "    }\n",
       "</style>\n",
       "<table border=\"1\" class=\"dataframe\">\n",
       "  <thead>\n",
       "    <tr style=\"text-align: right;\">\n",
       "      <th></th>\n",
       "      <th>topic</th>\n",
       "      <th>title</th>\n",
       "      <th>dialogue_line</th>\n",
       "    </tr>\n",
       "  </thead>\n",
       "  <tbody>\n",
       "    <tr>\n",
       "      <th>0</th>\n",
       "      <td>smalltalk</td>\n",
       "      <td>Greetings</td>\n",
       "      <td>Hi, how are you doing?</td>\n",
       "    </tr>\n",
       "    <tr>\n",
       "      <th>1</th>\n",
       "      <td>smalltalk</td>\n",
       "      <td>Greetings</td>\n",
       "      <td>I'm fine. How about yourself?</td>\n",
       "    </tr>\n",
       "    <tr>\n",
       "      <th>2</th>\n",
       "      <td>smalltalk</td>\n",
       "      <td>Greetings</td>\n",
       "      <td>I'm pretty good. Thanks for asking.</td>\n",
       "    </tr>\n",
       "    <tr>\n",
       "      <th>3</th>\n",
       "      <td>smalltalk</td>\n",
       "      <td>Greetings</td>\n",
       "      <td>No problem. So how have you been?</td>\n",
       "    </tr>\n",
       "    <tr>\n",
       "      <th>4</th>\n",
       "      <td>smalltalk</td>\n",
       "      <td>Greetings</td>\n",
       "      <td>I've been great. What about you?</td>\n",
       "    </tr>\n",
       "    <tr>\n",
       "      <th>5</th>\n",
       "      <td>smalltalk</td>\n",
       "      <td>Greetings</td>\n",
       "      <td>I've been good. I'm in school right now.</td>\n",
       "    </tr>\n",
       "    <tr>\n",
       "      <th>6</th>\n",
       "      <td>smalltalk</td>\n",
       "      <td>Greetings</td>\n",
       "      <td>What school do you go to?</td>\n",
       "    </tr>\n",
       "    <tr>\n",
       "      <th>7</th>\n",
       "      <td>smalltalk</td>\n",
       "      <td>Greetings</td>\n",
       "      <td>I go to PCC.</td>\n",
       "    </tr>\n",
       "    <tr>\n",
       "      <th>8</th>\n",
       "      <td>smalltalk</td>\n",
       "      <td>Greetings</td>\n",
       "      <td>Do you like it there?</td>\n",
       "    </tr>\n",
       "    <tr>\n",
       "      <th>9</th>\n",
       "      <td>smalltalk</td>\n",
       "      <td>Greetings</td>\n",
       "      <td>It's okay. It's a really big campus.</td>\n",
       "    </tr>\n",
       "  </tbody>\n",
       "</table>\n",
       "</div>"
      ],
      "text/plain": [
       "       topic      title                             dialogue_line\n",
       "0  smalltalk  Greetings                    Hi, how are you doing?\n",
       "1  smalltalk  Greetings             I'm fine. How about yourself?\n",
       "2  smalltalk  Greetings       I'm pretty good. Thanks for asking.\n",
       "3  smalltalk  Greetings         No problem. So how have you been?\n",
       "4  smalltalk  Greetings          I've been great. What about you?\n",
       "5  smalltalk  Greetings  I've been good. I'm in school right now.\n",
       "6  smalltalk  Greetings                 What school do you go to?\n",
       "7  smalltalk  Greetings                              I go to PCC.\n",
       "8  smalltalk  Greetings                     Do you like it there?\n",
       "9  smalltalk  Greetings      It's okay. It's a really big campus."
      ]
     },
     "execution_count": 28,
     "metadata": {},
     "output_type": "execute_result"
    }
   ],
   "source": [
    "int_dialogues.head(10)"
   ]
  },
  {
   "cell_type": "markdown",
   "metadata": {},
   "source": [
    "### The Starter Questions ###\n",
    "\n",
    "The second DataFrame also looks good. Now let's move on to scraping the next page to get the starter questions. We will repeat much of the process again, but in this case there is only need to scrape one page, so it isn't necessary to create functions to use inside of a for loop. In this case, we will convert the list of questions into a `pandas` Series, since there aren't different sections to worry about."
   ]
  },
  {
   "cell_type": "code",
   "execution_count": 29,
   "metadata": {},
   "outputs": [],
   "source": [
    "r = requests.get('http://iteslj.org/questions/getting.html')"
   ]
  },
  {
   "cell_type": "code",
   "execution_count": 30,
   "metadata": {},
   "outputs": [
    {
     "name": "stdout",
     "output_type": "stream",
     "text": [
      "<html><head><title>ESL Conversation Questions - Getting to Know Each Other (I-TESL-J)</title><meta name=\"description\" content=\"A list of questions you can use to generate conversations in the ESL/EFL classroom.\"><meta name=\"keywords\" content=\"ESL EFL ESOL TESL TEFL TESOL ELT English as a Second Language English as a Foreign Language\"><meta http-equiv=\"Content-Type\" content=\"text/html;charset=iso-8859-1\"><script src=\"http://iteslj.org/ue.js\"></script></head><body bgcolor=\"#ffffff\" text=\"#000000\" \n"
     ]
    }
   ],
   "source": [
    "# print the first 500 characters of the HTML\n",
    "print(r.text[0:500])"
   ]
  },
  {
   "cell_type": "code",
   "execution_count": 31,
   "metadata": {},
   "outputs": [],
   "source": [
    "soup = BeautifulSoup(r.text, 'html.parser')"
   ]
  },
  {
   "cell_type": "code",
   "execution_count": 32,
   "metadata": {},
   "outputs": [
    {
     "name": "stdout",
     "output_type": "stream",
     "text": [
      "<html><head><title>ESL Conversation Questions - Getting to Know Each Other (I-TESL-J)</title><meta content=\"A list of questions you can use to generate conversations in the ESL/EFL classroom.\" name=\"description\"/><meta content=\"ESL EFL ESOL TESL TEFL TESOL ELT English as a Second Language English as a Foreign Language\" name=\"keywords\"/><meta content=\"text/html;charset=utf-8\" http-equiv=\"Content-Type\"/><script src=\"http://iteslj.org/ue.js\"></script></head><body bgcolor=\"#ffffff\" link=\"#0000ff\" text=\"#000000\" vlink=\"#600042\"><script type=\"text/javascript\">menu();</script><div class=\"main wide\"><center><h1>Conversation Questions<br/>\r\n",
      "Getting to Know Each Other\r\n",
      "</h1>\r\n",
      "A Part of <a href=\"http://iteslj.org/questions/\">Conversation Questions for the ESL Classroom</a>.\r\n",
      "</center>\n",
      "<ul>\n",
      "<li>Do you have any pets?\r\n",
      "<li>What was the last book you read?\r\n",
      "<li>Do you like to cook?\r\n",
      "<li>What's your favorite food?\r\n",
      "<li>Are you good at cooking/swimming/etc?\r\n",
      "<li>Are you married or single?\r\n",
      "<li>Do you have brothers and sisters?<ul><li>Are they older or younger than you?</li></ul>\n",
      "<li>Do you like baseball?\r\n",
      "<li>Do you live alone?\r\n",
      "<li>Do you live in a house or an apartment?\r\n",
      "<li>Have you ever lived in another country?\r\n",
      "<li>Have you ever met a famous person?\r\n",
      "<li>How do you spend your free time?\r\n",
      "<li>How long have you been studying English?\r\n",
      "<li>How old are you?\r\n",
      "<li>How tall are you?\r\n",
      "<li>Tell me about a favorite event of your adulthood.\r\n",
      "<li>Tell me about a favorite event of your childhood.\r\n",
      "<li>What are your hobbies?\r\n",
      "<li>What two things could you not do when you were...?\r\n",
      "<li>What countries have you visited?\r\n",
      "<li>What country are you from?\r\n",
      "<li>What do you do on Sundays?\r\n",
      "<li>What do you do? What's your job?\r\n",
      "<li>What do you like to do in your free time?\r\n",
      "<li>What hobbies do you have?\r\n",
      "<li>What is the nearest bus stop or train station to your house?\r\n",
      "<li>What is your motto?\r\n",
      "<li>What is your religion? (Perhaps not a good question in some situations.)\r\n",
      "<li>What kind of food do you like?\r\n",
      "<li>What kind of people do you like?\r\n",
      "<li>What kind of people do you not like?\r\n",
      "<li>What languages do you speak?\r\n",
      "<li>What two things could you not do when you were a child, but you can do now?\r\n",
      "<li>What's something you do well?\r\n",
      "<li>What's your address?\r\n",
      "<li>What's your father like?\r\n",
      "<li>What's your mother like?\r\n",
      "<li>What's your name?\r\n",
      "<li>What's your phone number?\r\n",
      "<li>What's your telephone number?\r\n",
      "<li>When did you start to study English?\r\n",
      "<li>Where are you from?\r\n",
      "<li>Where do you live?\r\n",
      "<li>Where do you live? How long have you lived there?\r\n",
      "<li>Where were you born?\r\n",
      "<li>Which sports do you like?\r\n",
      "<li>Who do you live with?\r\n",
      "<li>Who do you respect the most?\r\n",
      "<li>Who has had the most influence in your life?\r\n",
      "<li>Why did you decide to take this course?\r\n",
      "<li>Why do you want to learn English?\r\n",
      "<li>Would you like to be famous?\r\n",
      "<li>What do you think you will be doing five years from now?<ul><li>Where do you think you'll be living five years from now?</li></ul>\n",
      "<li>What is your goal in life?\r\n",
      "<li>Are you a 'morning' or 'night' person?\r\n",
      "<li>When do you feel best? In the morning, afternoon, or evening?\r\n",
      "<li>How many cities have you lived in?\r\n",
      "<li>What jobs have you done?\r\n",
      "<li>Which do you prefer, sunrises or sunsets?\r\n",
      "<li>What could you do as a child that you can't do now?\r\n",
      "<li>Who is your next door neighbor in your home country?<ul><li>What is he or she like?<li>Did you get along with each other?</li></li></ul>\n",
      "<li>What is the best memory of our country that you will take back home with you?\r\n",
      "<li>What is the worst memory of our country?\r\n",
      "<li>How many times did you move as a child?\r\n",
      "<li>Are you a task oriented person or a people oriented person?\r\n",
      "<li>What is the profile of the wife/husband you would meet?<ul><li>What kind of woman/man would you like to marry?</li></ul>\n",
      "</li></li></li></li></li></li></li></li></li></li></li></li></li></li></li></li></li></li></li></li></li></li></li></li></li></li></li></li></li></li></li></li></li></li></li></li></li></li></li></li></li></li></li></li></li></li></li></li></li></li></li></li></li></li></li></li></li></li></li></li></li></li></li></li></li></li></li></ul>\n",
      "<center>\n",
      "<hr/>If you can think of another good question for this list, please <a href=\"http://iteslj.org/c/questions.html\">add it</a>.\r\n",
      "<hr/>http://iteslj.org/questions/</center></div></body></html><p><center><font size=\"1\">Many of these questions come from textbooks <br/>Copyright © 1982-2000 by Charles Kelly &amp; Lawrence Kelly (Used by Permission)\r\n",
      "<br/>Copyright © 1997-2010 by <a href=\"http://iteslj.org/\">The Internet TESL Journal</a>\n",
      "</font></center></p><script>if(top.location!=self.location){top.location=self.location}</script>\n",
      "<script>questionsmessage();</script>\n",
      "\n",
      "\n"
     ]
    }
   ],
   "source": [
    "print(soup)"
   ]
  },
  {
   "cell_type": "code",
   "execution_count": 33,
   "metadata": {},
   "outputs": [],
   "source": [
    "results = soup.find('ul')"
   ]
  },
  {
   "cell_type": "code",
   "execution_count": 34,
   "metadata": {},
   "outputs": [
    {
     "name": "stdout",
     "output_type": "stream",
     "text": [
      "<ul>\n",
      "<li>Do you have any pets?\r\n",
      "<li>What was the last book you read?\r\n",
      "<li>Do you like to cook?\r\n",
      "<li>What's your favorite food?\r\n",
      "<li>Are you good at cooking/swimming/etc?\r\n",
      "<li>Are you married or single?\r\n",
      "<li>Do you have brothers and sisters?<ul><li>Are they older or younger than you?</li></ul>\n",
      "<li>Do you like baseball?\r\n",
      "<li>Do you live alone?\r\n",
      "<li>Do you live in a house or an apartment?\r\n",
      "<li>Have you ever lived in another country?\r\n",
      "<li>Have you ever met a famous person?\r\n",
      "<li>How do you spend your free time?\r\n",
      "<li>How long have you been studying English?\r\n",
      "<li>How old are you?\r\n",
      "<li>How tall are you?\r\n",
      "<li>Tell me about a favorite event of your adulthood.\r\n",
      "<li>Tell me about a favorite event of your childhood.\r\n",
      "<li>What are your hobbies?\r\n",
      "<li>What two things could you not do when you were...?\r\n",
      "<li>What countries have you visited?\r\n",
      "<li>What country are you from?\r\n",
      "<li>What do you do on Sundays?\r\n",
      "<li>What do you do? What's your job?\r\n",
      "<li>What do you like to do in your free time?\r\n",
      "<li>What hobbies do you have?\r\n",
      "<li>What is the nearest bus stop or train station to your house?\r\n",
      "<li>What is your motto?\r\n",
      "<li>What is your religion? (Perhaps not a good question in some situations.)\r\n",
      "<li>What kind of food do you like?\r\n",
      "<li>What kind of people do you like?\r\n",
      "<li>What kind of people do you not like?\r\n",
      "<li>What languages do you speak?\r\n",
      "<li>What two things could you not do when you were a child, but you can do now?\r\n",
      "<li>What's something you do well?\r\n",
      "<li>What's your address?\r\n",
      "<li>What's your father like?\r\n",
      "<li>What's your mother like?\r\n",
      "<li>What's your name?\r\n",
      "<li>What's your phone number?\r\n",
      "<li>What's your telephone number?\r\n",
      "<li>When did you start to study English?\r\n",
      "<li>Where are you from?\r\n",
      "<li>Where do you live?\r\n",
      "<li>Where do you live? How long have you lived there?\r\n",
      "<li>Where were you born?\r\n",
      "<li>Which sports do you like?\r\n",
      "<li>Who do you live with?\r\n",
      "<li>Who do you respect the most?\r\n",
      "<li>Who has had the most influence in your life?\r\n",
      "<li>Why did you decide to take this course?\r\n",
      "<li>Why do you want to learn English?\r\n",
      "<li>Would you like to be famous?\r\n",
      "<li>What do you think you will be doing five years from now?<ul><li>Where do you think you'll be living five years from now?</li></ul>\n",
      "<li>What is your goal in life?\r\n",
      "<li>Are you a 'morning' or 'night' person?\r\n",
      "<li>When do you feel best? In the morning, afternoon, or evening?\r\n",
      "<li>How many cities have you lived in?\r\n",
      "<li>What jobs have you done?\r\n",
      "<li>Which do you prefer, sunrises or sunsets?\r\n",
      "<li>What could you do as a child that you can't do now?\r\n",
      "<li>Who is your next door neighbor in your home country?<ul><li>What is he or she like?<li>Did you get along with each other?</li></li></ul>\n",
      "<li>What is the best memory of our country that you will take back home with you?\r\n",
      "<li>What is the worst memory of our country?\r\n",
      "<li>How many times did you move as a child?\r\n",
      "<li>Are you a task oriented person or a people oriented person?\r\n",
      "<li>What is the profile of the wife/husband you would meet?<ul><li>What kind of woman/man would you like to marry?</li></ul>\n",
      "</li></li></li></li></li></li></li></li></li></li></li></li></li></li></li></li></li></li></li></li></li></li></li></li></li></li></li></li></li></li></li></li></li></li></li></li></li></li></li></li></li></li></li></li></li></li></li></li></li></li></li></li></li></li></li></li></li></li></li></li></li></li></li></li></li></li></li></ul>\n"
     ]
    }
   ],
   "source": [
    "print(results)"
   ]
  },
  {
   "cell_type": "code",
   "execution_count": 35,
   "metadata": {},
   "outputs": [
    {
     "name": "stdout",
     "output_type": "stream",
     "text": [
      "['Do you have any pets?', 'What was the last book you read?', 'Do you like to cook?', \"What's your favorite food?\", 'Are you good at cooking/swimming/etc?', 'Are you married or single?', 'Do you like baseball?', 'Do you live alone?', 'Do you live in a house or an apartment?', 'Have you ever lived in another country?', 'Have you ever met a famous person?', 'How do you spend your free time?', 'How long have you been studying English?', 'How old are you?', 'How tall are you?', 'Tell me about a favorite event of your adulthood.', 'Tell me about a favorite event of your childhood.', 'What are your hobbies?', 'What two things could you not do when you were...?', 'What countries have you visited?', 'What country are you from?', 'What do you do on Sundays?', \"What do you do? What's your job?\", 'What do you like to do in your free time?', 'What hobbies do you have?', 'What is your motto?', 'What kind of food do you like?', 'What kind of people do you like?', 'What kind of people do you not like?', 'What languages do you speak?', \"What's something you do well?\", \"What's your address?\", \"What's your father like?\", \"What's your mother like?\", \"What's your name?\", \"What's your phone number?\", \"What's your telephone number?\", 'When did you start to study English?', 'Where are you from?', 'Where do you live?', 'Where do you live? How long have you lived there?', 'Where were you born?', 'Which sports do you like?', 'Who do you live with?', 'Who do you respect the most?', 'Who has had the most influence in your life?', 'Why did you decide to take this course?', 'Why do you want to learn English?', 'Would you like to be famous?', 'What is your goal in life?', \"Are you a 'morning' or 'night' person?\", 'How many cities have you lived in?', 'What jobs have you done?', 'Which do you prefer, sunrises or sunsets?', \"What could you do as a child that you can't do now?\", 'What is the worst memory of our country?', 'How many times did you move as a child?', 'Are you a task oriented person or a people oriented person?']\n"
     ]
    }
   ],
   "source": [
    "questions = re.split('<li>|<ul>|\\n|\\r\\n', results.text)\n",
    "questions = [x for x in questions if (len(x)>0 and len(x)<60)]\n",
    "\n",
    "print(questions)"
   ]
  },
  {
   "cell_type": "code",
   "execution_count": 36,
   "metadata": {},
   "outputs": [
    {
     "data": {
      "text/plain": [
       "0                      Do you have any pets?\n",
       "1           What was the last book you read?\n",
       "2                       Do you like to cook?\n",
       "3                 What's your favorite food?\n",
       "4      Are you good at cooking/swimming/etc?\n",
       "5                 Are you married or single?\n",
       "6                      Do you like baseball?\n",
       "7                         Do you live alone?\n",
       "8    Do you live in a house or an apartment?\n",
       "9    Have you ever lived in another country?\n",
       "dtype: object"
      ]
     },
     "execution_count": 36,
     "metadata": {},
     "output_type": "execute_result"
    }
   ],
   "source": [
    "question_series = pd.Series(questions)\n",
    "question_series.head(10)"
   ]
  },
  {
   "cell_type": "markdown",
   "metadata": {},
   "source": [
    "### Save Data to a CSV Files ###\n",
    "\n",
    "The final step is to save dialogues dataframe and the questions series as a CSV files. This will allow them to be easily imported during the next stage of the project."
   ]
  },
  {
   "cell_type": "code",
   "execution_count": 37,
   "metadata": {},
   "outputs": [],
   "source": [
    "easy_dialogues.to_csv('easy_dialogues.csv', index=False)\n",
    "int_dialogues.to_csv('int_dialogues.csv', index=False)\n",
    "question_series.to_csv('esl_questions.csv', index=False)"
   ]
  }
 ],
 "metadata": {
  "kernelspec": {
   "display_name": "Python 3",
   "language": "python",
   "name": "python3"
  },
  "language_info": {
   "codemirror_mode": {
    "name": "ipython",
    "version": 3
   },
   "file_extension": ".py",
   "mimetype": "text/x-python",
   "name": "python",
   "nbconvert_exporter": "python",
   "pygments_lexer": "ipython3",
   "version": "3.6.10"
  }
 },
 "nbformat": 4,
 "nbformat_minor": 4
}
