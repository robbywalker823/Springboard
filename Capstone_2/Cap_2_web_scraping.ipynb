{
 "cells": [
  {
   "cell_type": "markdown",
   "metadata": {},
   "source": [
    "# Capstone 2: Web Scraping #\n",
    "\n",
    "To build the dataset for the project, we will be scraping the website https://chilepropiedades.cl/. It contains thousands of listings of new and used homes for sale in Chile. To run a search on the website, you choose a locality, type of home (house, apartment, etc.), and the state of the home (new, used, or all).  We will focus on the Metropolitan Region, which is composed of Santiago, Chile’s capital, as well as the surrounding *comunas*. A *comuna* is like a borough or district.  Each listing contains information pertaining to the home such as the total area, number of bedrooms, etc.\n",
    "\n",
    "The following code is designed to extract the desired information from the website's source code.  The specific operations involved in web scraping vary considerably and must be tailored to the particular page being scraped.  This process involves a lot of trial and error.  In addition, any changes to the site's HTML can cause the code to no longer work, so there is no guarantee that code below will continue to work indefinitely in the future.  The final function `scrape_to_df`, takes a URL and a number of pages as parameters, and returns a dataframe. We simply run a search for a type of home, then feed the URL of the search results into the function along with the number of pages of results."
   ]
  },
  {
   "cell_type": "code",
   "execution_count": 1,
   "metadata": {},
   "outputs": [],
   "source": [
    "import requests\n",
    "from bs4 import BeautifulSoup\n",
    "import pandas as pd\n",
    "from time import sleep\n",
    "from random import randint"
   ]
  },
  {
   "cell_type": "markdown",
   "metadata": {},
   "source": [
    "### Read Webpage into Python ###\n",
    "\n",
    "Start by getting a sample of HTML to work with. Go to chilepropiedades.cl and run a search. Here we search houses (*casas*). Once the search is complete, copy the URL of the first page of results. Now use the requests library to fetch the web page by passing the URL to the `get` function, and store the results to a response object called `r`. The response object has a `text` attribute which can be used to access the HTML."
   ]
  },
  {
   "cell_type": "code",
   "execution_count": 2,
   "metadata": {},
   "outputs": [],
   "source": [
    "r = requests.get('https://chilepropiedades.cl/propiedades/venta/casa/region-metropolitana(rm)/0')"
   ]
  },
  {
   "cell_type": "code",
   "execution_count": 3,
   "metadata": {},
   "outputs": [
    {
     "name": "stdout",
     "output_type": "stream",
     "text": [
      " \n",
      "\n",
      "\n",
      "\n",
      "\n",
      "\n",
      "\n",
      "\n",
      "\n",
      "\n",
      "\n",
      "\n",
      "\n",
      "<!DOCTYPE HTML>\n",
      "<html lang=\"es\">\n",
      "  <head>\n",
      "    <link rel=\"alternate\" href=\"https://chilepropiedades.cl\" hreflang=\"es-cl\"/>\n",
      "    <meta name=\"robots\" content=\"noarchive\" />\n",
      "    <meta name=\"viewport\" content=\"width=device-width, initial-scale=1.0\"/>\n",
      "    <meta http-equiv=\"Content-Type\" content=\"text/html; charset=UTF-8\"/>\n",
      "    \n",
      "    <script type=\"text/javascript\">var callAtTheEnd = [];</script>\n",
      "    \n",
      "    \n",
      "\n",
      "  <title>Venta de Casa en Región Metropolitana(RM) - Avisos ChilePropiedades.cl</title>\n",
      "  <meta name=\"description\" content=\"Chile propiedades. Venta, arriendo de departamentos, casas y otras propiedades en Chile. Casa, Venta de Casa en Región Metropolitana(RM)\" />\n",
      "  <meta name=\"keywords\" content=\"Chile propiedades, portal inmobiliario, Venta, Casa, Venta de Casa en Región Metropolitana(RM), propiedades en Venta, Venta de Casa\"/>\n",
      "  <meta property=\"og:title\" content=\"Venta de Casa en Región Metropolitana(RM) - Avisos ChilePropiedades.cl\"/>\n",
      "  <meta property=\"og:description\" content\n"
     ]
    }
   ],
   "source": [
    "# print the first 500 characters of the HTML\n",
    "print(r.text[0:1000])"
   ]
  },
  {
   "cell_type": "markdown",
   "metadata": {},
   "source": [
    "### Parse the HTML ###\n",
    "\n",
    "Next, parse the HTML using the Beautiful Soup 4 library. This code parses the HTML into an object called `soup` which Beatiful soup understands. (html.parser is the default parser in Python, but others can be used."
   ]
  },
  {
   "cell_type": "code",
   "execution_count": 4,
   "metadata": {},
   "outputs": [],
   "source": [
    "soup = BeautifulSoup(r.text, 'html.parser')"
   ]
  },
  {
   "cell_type": "markdown",
   "metadata": {},
   "source": [
    "### Collect the Results ###\n",
    "\n",
    "HTML contains text as well as tags used to mark up the text.  The tags are found within angle brackets, and many can be seen in the sample of HTML above. For example, there is an opening tag `<title>`, followed by some text, followed by a closing tag `</title>`.  Tags also have attributes, for example the tag `<html lang=\"es\">` specifies the language of the text as Spanish (*español*). Finally, tags can be nest within one another. Web scraping involves taking advantage of all of these facts to locate and extract information on a website.\n",
    "\n",
    "From this point on, the code used is specific to this particular project. Inspecting the HTML of chilepropiedades.cl reveals that all of listings for homes are contained with `div` tags with the class `col-sm-12 publication-element`. The following code produces an object called a \"ResultSet\" which behaves like a Python list. Use this to access individual listings."
   ]
  },
  {
   "cell_type": "code",
   "execution_count": 5,
   "metadata": {},
   "outputs": [],
   "source": [
    "results = soup.find_all('div', attrs={'class':'col-sm-12 publication-element'})"
   ]
  },
  {
   "cell_type": "code",
   "execution_count": 6,
   "metadata": {},
   "outputs": [
    {
     "data": {
      "text/plain": [
       "10"
      ]
     },
     "execution_count": 6,
     "metadata": {},
     "output_type": "execute_result"
    }
   ],
   "source": [
    "len(results)"
   ]
  },
  {
   "cell_type": "code",
   "execution_count": 7,
   "metadata": {
    "scrolled": false
   },
   "outputs": [
    {
     "name": "stdout",
     "output_type": "stream",
     "text": [
      "<div class=\"col-sm-12 publication-element\">\n",
      " <div class=\"clp-premium-table-item\" id=\"publication_4227020\">\n",
      "  <div class=\"margin-left-0 margin-right-0 relative row\">\n",
      "   <div class=\"col-sm-3 clp-search-image-container\" style=\"position:relative;\">\n",
      "    <div class=\"new-premium-ribon-clp\">\n",
      "     <i class=\"glyphicon glyphicon-star\">\n",
      "     </i>\n",
      "     Destacado\n",
      "    </div>\n",
      "    <a href=\"/ver-publicacion/venta-usada/puente-alto/casa/lugo-sur/4227020\">\n",
      "     <img alt=\"Venta propiedad usada / Casa / Puente Alto\" src=\"/imagenes/publicacion/venta-usada/casa/puente-alto/0/1971750E39F6814AEAACADA61A0BC8D3FA20799DE44.jpg\"/>\n",
      "    </a>\n",
      "    <div class=\"text-center\">\n",
      "     <small>\n",
      "      10/09/2020\n",
      "     </small>\n",
      "    </div>\n",
      "   </div>\n",
      "   <div class=\"col-sm-6\">\n",
      "    <div>\n",
      "     <h2 class=\"publication-title-list\">\n",
      "      <a href=\"/ver-publicacion/venta-usada/puente-alto/casa/lugo-sur/4227020\">\n",
      "       Puente Alto, Lugo sur\n",
      "      </a>\n",
      "      <span class=\"clp-reciente\">\n",
      "       Publicación Reciente\n",
      "      </span>\n",
      "     </h2>\n",
      "    </div>\n",
      "    <div class=\"font-size-small\">\n",
      "     Casa en Hacienda Los Conquistadores (Puente Alto) Acogedora casa con segundo piso, ubicada en barrió residencial en Hacienda Los Conquistadores en Puente Alto. Propiedad inmersa en un sector residencial consolidado, tranquilo, con área verde. Excelente conexión y locomoción a través de Av. Camilo...\n",
      "    </div>\n",
      "    <div>\n",
      "     <span class=\"light-bold\">\n",
      "      Código:\n",
      "     </span>\n",
      "     4227020\n",
      "     <br/>\n",
      "     <h3 class=\"sub-codigo-data\">\n",
      "      Venta propiedad usada / Casa / Puente Alto\n",
      "     </h3>\n",
      "    </div>\n",
      "    <div>\n",
      "     <button class=\"favorite-button btn btn-sm btn-raised\" data-favorite=\"false\" onclick=\"toggeFavoriteFromListing(this, 'PUBLICATION', 4227020);return false;\" type=\"button\">\n",
      "      <span class=\"favorite-false\">\n",
      "       <i class=\"fa fa-star-o\">\n",
      "       </i>\n",
      "       <span>\n",
      "        Agregar a favoritos\n",
      "       </span>\n",
      "      </span>\n",
      "      <span class=\"favorite-true\">\n",
      "       <i class=\"fa fa-star\">\n",
      "       </i>\n",
      "       <span>\n",
      "        Quitar de favoritos\n",
      "       </span>\n",
      "      </span>\n",
      "     </button>\n",
      "    </div>\n",
      "   </div>\n",
      "   <div class=\"col-sm-3 relative\">\n",
      "    <a class=\"btn btn-raised btn-info btn-block margin-top-0 text-ellipsis padding-left-10 padding-right-10\" href=\"/ver-publicacion/venta-usada/puente-alto/casa/lugo-sur/4227020\">\n",
      "     <span areaunit=\"\" class=\"clp-value-container\" data-no-value-unit=\"\" value=\"8.2E7\" valueunit=\"1\">\n",
      "      82.000.000\n",
      "     </span>\n",
      "     <span areaunit=\"\" class=\"clp-value-container\" data-no-value=\"\" valueunit=\"1\">\n",
      "      CLP\n",
      "     </span>\n",
      "    </a>\n",
      "    <small>\n",
      "     <span class=\"light-bold\">\n",
      "      Terreno:\n",
      "     </span>\n",
      "     90 m²\n",
      "    </small>\n",
      "    <br/>\n",
      "    <small>\n",
      "     <span class=\"light-bold\">\n",
      "      Superficie Construida:\n",
      "     </span>\n",
      "     60 m²\n",
      "    </small>\n",
      "    <br/>\n",
      "    <small>\n",
      "     <span class=\"light-bold\">\n",
      "      Habitaciones:\n",
      "     </span>\n",
      "     3\n",
      "    </small>\n",
      "    <br/>\n",
      "    <small>\n",
      "     <span class=\"light-bold\">\n",
      "      Baños:\n",
      "     </span>\n",
      "     3\n",
      "    </small>\n",
      "    <br/>\n",
      "    <a class=\"imagen-corredora-list-clp\" href=\"/ver-corredora/2763326/de-la-barrera-propiedades/0\">\n",
      "     <img alt=\"De La Barrera Propiedades\" src=\"/imagenes/corredoras/0/nullE982508EECE543729BB2EEE9C7D3BC0CCC22.jpg\" title=\"De La Barrera Propiedades\"/>\n",
      "    </a>\n",
      "   </div>\n",
      "  </div>\n",
      " </div>\n",
      "</div>\n",
      "\n"
     ]
    }
   ],
   "source": [
    "# the prettify method shows how tags are nested\n",
    "print(results[0].prettify())"
   ]
  },
  {
   "cell_type": "markdown",
   "metadata": {},
   "source": [
    "The HTML code above contains all of the information for the first listing in the results. Some of the information we need is in an `h3` tag, and can be accessed and extracted using the `find` method."
   ]
  },
  {
   "cell_type": "code",
   "execution_count": 8,
   "metadata": {},
   "outputs": [
    {
     "data": {
      "text/plain": [
       "'Venta propiedad usada / Casa / Puente Alto'"
      ]
     },
     "execution_count": 8,
     "metadata": {},
     "output_type": "execute_result"
    }
   ],
   "source": [
    "results[0].find('h3').text"
   ]
  },
  {
   "cell_type": "code",
   "execution_count": 9,
   "metadata": {},
   "outputs": [
    {
     "data": {
      "text/plain": [
       "['Venta propiedad usada ', ' Casa ', ' Puente Alto']"
      ]
     },
     "execution_count": 9,
     "metadata": {},
     "output_type": "execute_result"
    }
   ],
   "source": [
    "results[0].find('h3').text.split('/')"
   ]
  },
  {
   "cell_type": "code",
   "execution_count": 10,
   "metadata": {},
   "outputs": [
    {
     "name": "stdout",
     "output_type": "stream",
     "text": [
      "Puente Alto\n",
      "Casa\n",
      "usada\n"
     ]
    }
   ],
   "source": [
    "comuna = results[0].find('h3').text.split('/')[2].strip()\n",
    "home_type = results[0].find('h3').text.split('/')[1].strip()\n",
    "state = results[0].find('h3').text.split('/')[0].split(' ')[-2]\n",
    "\n",
    "print(comuna)\n",
    "print(home_type)\n",
    "print(state)"
   ]
  },
  {
   "cell_type": "markdown",
   "metadata": {},
   "source": [
    "There is more useful information contained within `small` tags. Since there are multiple small tags, use the `find_all` method, which again returns a ResultSet."
   ]
  },
  {
   "cell_type": "code",
   "execution_count": 11,
   "metadata": {},
   "outputs": [
    {
     "data": {
      "text/plain": [
       "[<small>10/09/2020</small>,\n",
       " <small>\n",
       " <span class=\"light-bold\">Terreno:</span> 90 m²\n",
       "     </small>,\n",
       " <small>\n",
       " <span class=\"light-bold\">Superficie Construida:</span> 60 m²\n",
       "     </small>,\n",
       " <small>\n",
       " <span class=\"light-bold\">Habitaciones:</span> 3\n",
       "     </small>,\n",
       " <small>\n",
       " <span class=\"light-bold\">Baños:</span> 3\n",
       "     </small>]"
      ]
     },
     "execution_count": 11,
     "metadata": {},
     "output_type": "execute_result"
    }
   ],
   "source": [
    "results[0].find_all('small')"
   ]
  },
  {
   "cell_type": "markdown",
   "metadata": {},
   "source": [
    "This time it is a little more challenging to access the information needed. Some of the listings have fields missing, so the order cannot be trusted for indexing. The text needed to identify the field is found within a `span` tag inside each `small` tag, but the information needed is outside of the `span` tag. There is a field that indicates the apartment is furnished, which is only included only for furnished homes. The function below extracts six values and stores them as variables. If the field is missing, an empty string is returned."
   ]
  },
  {
   "cell_type": "code",
   "execution_count": 12,
   "metadata": {},
   "outputs": [],
   "source": [
    "def smalls_parse(result):   \n",
    "    smalls = result.find_all('small')\n",
    "    \n",
    "    date = smalls[0].text\n",
    "\n",
    "    tot_area = ''\n",
    "    built_area = ''\n",
    "    bedrooms = ''\n",
    "    bathrooms = ''\n",
    "    furnished = ''\n",
    "\n",
    "    for n in range(1, len(smalls)):\n",
    "        rec = smalls[n]\n",
    "        if rec.find('span', class_=\"light-bold\").text == 'Terreno:':\n",
    "            tot_area = rec.contents[-1].split()[0]\n",
    "        elif rec.find('span', class_=\"light-bold\").text == 'Superficie Construida:':\n",
    "            built_area = rec.contents[-1].split()[0]\n",
    "        elif rec.find('span', class_=\"light-bold\").text == 'Habitaciones:':\n",
    "            bedrooms = rec.contents[-1].split()[0]\n",
    "        elif rec.find('span', class_=\"light-bold\").text == 'Baños:':\n",
    "            bathrooms = rec.contents[-1].split()[0]\n",
    "        elif rec.find('span', class_=\"light-bold\").text == 'Amoblado:':\n",
    "            furnished = rec.contents[-1].strip()\n",
    "    return date, tot_area, built_area, bedrooms, bathrooms, furnished"
   ]
  },
  {
   "cell_type": "code",
   "execution_count": 13,
   "metadata": {},
   "outputs": [
    {
     "name": "stdout",
     "output_type": "stream",
     "text": [
      "10/09/2020\n",
      "140\n",
      "90\n",
      "4\n",
      "2\n",
      "\n"
     ]
    }
   ],
   "source": [
    "date, tot_area, built_area, bedrooms, bathrooms, furnished = smalls_parse(results[1])\n",
    "print(date)\n",
    "print(tot_area)\n",
    "print(built_area)\n",
    "print(bedrooms)\n",
    "print(bathrooms)\n",
    "print(furnished)"
   ]
  },
  {
   "cell_type": "markdown",
   "metadata": {},
   "source": [
    "This code extracts the address, which may be useful later, although in many cases it is not specific."
   ]
  },
  {
   "cell_type": "code",
   "execution_count": 14,
   "metadata": {},
   "outputs": [
    {
     "name": "stdout",
     "output_type": "stream",
     "text": [
      "Puente Alto, Lugo sur\n"
     ]
    }
   ],
   "source": [
    "address = results[0].find('h2', class_=\"publication-title-list\").text.split('\\n')[1]\n",
    "print(address)"
   ]
  },
  {
   "cell_type": "markdown",
   "metadata": {},
   "source": [
    "Also scrape the description of the home and assign it to the variable `description`. This will make the final dataset larger in size, but the descriptions contain information that might be helpful."
   ]
  },
  {
   "cell_type": "code",
   "execution_count": 15,
   "metadata": {},
   "outputs": [
    {
     "name": "stdout",
     "output_type": "stream",
     "text": [
      "Casa en Hacienda Los Conquistadores (Puente Alto) Acogedora casa con segundo piso, ubicada en barrió residencial en Hacienda Los Conquistadores en Puente Alto. Propiedad inmersa en un sector residencial consolidado, tranquilo, con área verde. Excelente conexión y locomoción a través de Av. Camilo...\n"
     ]
    }
   ],
   "source": [
    "description = results[0].find('div', class_=\"font-size-small\").text\n",
    "print(description)"
   ]
  },
  {
   "cell_type": "markdown",
   "metadata": {},
   "source": [
    "Next, locate the value for price, as well as the unit in which the price is expressed, and then assign them to the variables `price` and `unit`."
   ]
  },
  {
   "cell_type": "code",
   "execution_count": 16,
   "metadata": {},
   "outputs": [
    {
     "data": {
      "text/plain": [
       "[<span areaunit=\"\" class=\"clp-value-container\" data-no-value-unit=\"\" value=\"8.2E7\" valueunit=\"1\">\n",
       "         82.000.000\n",
       "       </span>,\n",
       " <span areaunit=\"\" class=\"clp-value-container\" data-no-value=\"\" valueunit=\"1\">\n",
       "         CLP\n",
       "       </span>]"
      ]
     },
     "execution_count": 16,
     "metadata": {},
     "output_type": "execute_result"
    }
   ],
   "source": [
    "results[0].find_all('span', class_=\"clp-value-container\")"
   ]
  },
  {
   "cell_type": "code",
   "execution_count": 17,
   "metadata": {},
   "outputs": [
    {
     "name": "stdout",
     "output_type": "stream",
     "text": [
      "82.000.000\n",
      "CLP\n"
     ]
    }
   ],
   "source": [
    "price = results[0].find_all('span', class_=\"clp-value-container\")[0].text.strip()\n",
    "unit = results[0].find_all('span', class_=\"clp-value-container\")[1].text.strip()\n",
    "\n",
    "print(price)\n",
    "print(unit)"
   ]
  },
  {
   "cell_type": "markdown",
   "metadata": {},
   "source": [
    "### Building the Dataset ###\n",
    "\n",
    "Now we know how to extract all of the information needed to build the dataframe. The function below compiles all of the all of the code we have written so far and loops over the ResultSet, creating a tuple of variables for each publication. Each tuple is then appended to a list called records."
   ]
  },
  {
   "cell_type": "code",
   "execution_count": 18,
   "metadata": {},
   "outputs": [],
   "source": [
    "# Creates a list of tuples for the records on each page\n",
    "def scrape_page(results):\n",
    "    records = []\n",
    "    \n",
    "    for result in results:\n",
    "        comuna = result.find('h3').text.split('/')[2].strip()\n",
    "        home_type = result.find('h3').text.split('/')[1].strip()\n",
    "        state = result.find('h3').text.split('/')[0].split(' ')[-2]\n",
    "        address = result.find('h2', class_=\"publication-title-list\").text.split('\\n')[1]\n",
    "        description = result.find('div', class_=\"font-size-small\").text\n",
    "        price = result.find_all('span', class_=\"clp-value-container\")[0].text.strip()\n",
    "        unit = result.find_all('span', class_=\"clp-value-container\")[1].text.strip()\n",
    "\n",
    "        date, tot_area, built_area, bedrooms, bathrooms, furnished = smalls_parse(result)\n",
    "\n",
    "        records.append((date, comuna, home_type, state, tot_area, built_area, bedrooms, bathrooms, furnished, \n",
    "                        address, description, price, unit))\n",
    "    \n",
    "    return records"
   ]
  },
  {
   "cell_type": "markdown",
   "metadata": {},
   "source": [
    "Time to try out the new function on the ResultSet that was scraped from the webpage. After that, convert the list of tuples into a pandas DataFrame."
   ]
  },
  {
   "cell_type": "code",
   "execution_count": 19,
   "metadata": {},
   "outputs": [],
   "source": [
    "records = scrape_page(results)"
   ]
  },
  {
   "cell_type": "code",
   "execution_count": 20,
   "metadata": {},
   "outputs": [],
   "source": [
    "cols_list = ['date', 'comuna', 'home_type', 'state', 'total_area', 'built_area', 'bedrooms', 'bathrooms', \n",
    "             'furnished', 'address', 'description', 'price', 'unit']\n",
    "df = pd.DataFrame(records, columns=cols_list)\n",
    "df['date'] = pd.to_datetime(df['date'], dayfirst=True)"
   ]
  },
  {
   "cell_type": "code",
   "execution_count": 21,
   "metadata": {},
   "outputs": [
    {
     "data": {
      "text/html": [
       "<div>\n",
       "<style scoped>\n",
       "    .dataframe tbody tr th:only-of-type {\n",
       "        vertical-align: middle;\n",
       "    }\n",
       "\n",
       "    .dataframe tbody tr th {\n",
       "        vertical-align: top;\n",
       "    }\n",
       "\n",
       "    .dataframe thead th {\n",
       "        text-align: right;\n",
       "    }\n",
       "</style>\n",
       "<table border=\"1\" class=\"dataframe\">\n",
       "  <thead>\n",
       "    <tr style=\"text-align: right;\">\n",
       "      <th></th>\n",
       "      <th>date</th>\n",
       "      <th>comuna</th>\n",
       "      <th>home_type</th>\n",
       "      <th>state</th>\n",
       "      <th>total_area</th>\n",
       "      <th>built_area</th>\n",
       "      <th>bedrooms</th>\n",
       "      <th>bathrooms</th>\n",
       "      <th>furnished</th>\n",
       "      <th>address</th>\n",
       "      <th>description</th>\n",
       "      <th>price</th>\n",
       "      <th>unit</th>\n",
       "    </tr>\n",
       "  </thead>\n",
       "  <tbody>\n",
       "    <tr>\n",
       "      <th>0</th>\n",
       "      <td>2020-09-10</td>\n",
       "      <td>Puente Alto</td>\n",
       "      <td>Casa</td>\n",
       "      <td>usada</td>\n",
       "      <td>90</td>\n",
       "      <td>60</td>\n",
       "      <td>3</td>\n",
       "      <td>3</td>\n",
       "      <td></td>\n",
       "      <td>Puente Alto, Lugo sur</td>\n",
       "      <td>Casa en Hacienda Los Conquistadores (Puente Al...</td>\n",
       "      <td>82.000.000</td>\n",
       "      <td>CLP</td>\n",
       "    </tr>\n",
       "    <tr>\n",
       "      <th>1</th>\n",
       "      <td>2020-09-10</td>\n",
       "      <td>San Bernardo</td>\n",
       "      <td>Casa</td>\n",
       "      <td>usada</td>\n",
       "      <td>140</td>\n",
       "      <td>90</td>\n",
       "      <td>4</td>\n",
       "      <td>2</td>\n",
       "      <td></td>\n",
       "      <td>San Bernardo, Villa maestranza iii</td>\n",
       "      <td>Excelente chalet ubicado en la calle Eduardo O...</td>\n",
       "      <td>89.500.000</td>\n",
       "      <td>CLP</td>\n",
       "    </tr>\n",
       "    <tr>\n",
       "      <th>2</th>\n",
       "      <td>2020-09-09</td>\n",
       "      <td>Lampa</td>\n",
       "      <td>Casa</td>\n",
       "      <td>usada</td>\n",
       "      <td>1.000</td>\n",
       "      <td>110</td>\n",
       "      <td>4</td>\n",
       "      <td>1</td>\n",
       "      <td></td>\n",
       "      <td>Lampa, Arturo Prat</td>\n",
       "      <td>Oportunidad Inversionistas o particualares! ca...</td>\n",
       "      <td>4.100</td>\n",
       "      <td>UF</td>\n",
       "    </tr>\n",
       "    <tr>\n",
       "      <th>3</th>\n",
       "      <td>2020-09-09</td>\n",
       "      <td>El Monte</td>\n",
       "      <td>Casa</td>\n",
       "      <td>usada</td>\n",
       "      <td>1.800</td>\n",
       "      <td>200</td>\n",
       "      <td></td>\n",
       "      <td>1</td>\n",
       "      <td></td>\n",
       "      <td>El Monte, Los Libertadores</td>\n",
       "      <td>Acepta ofertas. Ideal negocio y/o vivir. Cason...</td>\n",
       "      <td>6.600</td>\n",
       "      <td>UF</td>\n",
       "    </tr>\n",
       "    <tr>\n",
       "      <th>4</th>\n",
       "      <td>2020-09-09</td>\n",
       "      <td>El Monte</td>\n",
       "      <td>Casa</td>\n",
       "      <td>usada</td>\n",
       "      <td>5.000</td>\n",
       "      <td>360</td>\n",
       "      <td>4</td>\n",
       "      <td>4</td>\n",
       "      <td></td>\n",
       "      <td>El Monte, Chinigue</td>\n",
       "      <td>Excelente oportunidad, plusvalía. Vendo estupe...</td>\n",
       "      <td>235.000.000</td>\n",
       "      <td>CLP</td>\n",
       "    </tr>\n",
       "    <tr>\n",
       "      <th>5</th>\n",
       "      <td>2020-09-09</td>\n",
       "      <td>Quinta Normal</td>\n",
       "      <td>Casa</td>\n",
       "      <td>usada</td>\n",
       "      <td>250</td>\n",
       "      <td>130</td>\n",
       "      <td>5</td>\n",
       "      <td>1</td>\n",
       "      <td></td>\n",
       "      <td>Quinta Normal, Salvador Gutiérrez</td>\n",
       "      <td>Vendo amplia casa. Conversable. Cuenta con 5 d...</td>\n",
       "      <td>130.000.000</td>\n",
       "      <td>CLP</td>\n",
       "    </tr>\n",
       "    <tr>\n",
       "      <th>6</th>\n",
       "      <td>2020-09-09</td>\n",
       "      <td>Maipú</td>\n",
       "      <td>Casa</td>\n",
       "      <td>usada</td>\n",
       "      <td>130</td>\n",
       "      <td>110</td>\n",
       "      <td>4</td>\n",
       "      <td>2</td>\n",
       "      <td></td>\n",
       "      <td>Maipú, Ramayana , Villa Las Terrazas</td>\n",
       "      <td>Linda casa de 2 pisos en pasaje cercano al Met...</td>\n",
       "      <td>150.000.000</td>\n",
       "      <td>CLP</td>\n",
       "    </tr>\n",
       "    <tr>\n",
       "      <th>7</th>\n",
       "      <td>2020-09-09</td>\n",
       "      <td>Lo Barnechea</td>\n",
       "      <td>Casa</td>\n",
       "      <td>usada</td>\n",
       "      <td>492</td>\n",
       "      <td>212</td>\n",
       "      <td>5</td>\n",
       "      <td>4</td>\n",
       "      <td></td>\n",
       "      <td>Lo Barnechea, Avenida San Josemaría Escrivá de...</td>\n",
       "      <td>San Josemaría Escrivá de Balaguer / La Torment...</td>\n",
       "      <td>13.900</td>\n",
       "      <td>UF</td>\n",
       "    </tr>\n",
       "    <tr>\n",
       "      <th>8</th>\n",
       "      <td>2020-09-09</td>\n",
       "      <td>Macul</td>\n",
       "      <td>Casa</td>\n",
       "      <td>usada</td>\n",
       "      <td>550</td>\n",
       "      <td>110</td>\n",
       "      <td>4</td>\n",
       "      <td>1</td>\n",
       "      <td></td>\n",
       "      <td>Macul, Nicanor Molinare</td>\n",
       "      <td>Se vende casa en excelente ubicación de Villa ...</td>\n",
       "      <td>255.000.000</td>\n",
       "      <td>CLP</td>\n",
       "    </tr>\n",
       "    <tr>\n",
       "      <th>9</th>\n",
       "      <td>2020-09-09</td>\n",
       "      <td>Peñalolén</td>\n",
       "      <td>Casa</td>\n",
       "      <td>usada</td>\n",
       "      <td>160</td>\n",
       "      <td>120</td>\n",
       "      <td>5</td>\n",
       "      <td>3</td>\n",
       "      <td></td>\n",
       "      <td>Peñalolén, Camino Peñalolén</td>\n",
       "      <td>Peñalolén, Se vende casa de tres pisos en pasa...</td>\n",
       "      <td>180.000.000</td>\n",
       "      <td>CLP</td>\n",
       "    </tr>\n",
       "  </tbody>\n",
       "</table>\n",
       "</div>"
      ],
      "text/plain": [
       "        date         comuna home_type  state total_area built_area bedrooms  \\\n",
       "0 2020-09-10    Puente Alto      Casa  usada         90         60        3   \n",
       "1 2020-09-10   San Bernardo      Casa  usada        140         90        4   \n",
       "2 2020-09-09          Lampa      Casa  usada      1.000        110        4   \n",
       "3 2020-09-09       El Monte      Casa  usada      1.800        200            \n",
       "4 2020-09-09       El Monte      Casa  usada      5.000        360        4   \n",
       "5 2020-09-09  Quinta Normal      Casa  usada        250        130        5   \n",
       "6 2020-09-09          Maipú      Casa  usada        130        110        4   \n",
       "7 2020-09-09   Lo Barnechea      Casa  usada        492        212        5   \n",
       "8 2020-09-09          Macul      Casa  usada        550        110        4   \n",
       "9 2020-09-09      Peñalolén      Casa  usada        160        120        5   \n",
       "\n",
       "  bathrooms furnished                                            address  \\\n",
       "0         3                                        Puente Alto, Lugo sur   \n",
       "1         2                           San Bernardo, Villa maestranza iii   \n",
       "2         1                                           Lampa, Arturo Prat   \n",
       "3         1                                   El Monte, Los Libertadores   \n",
       "4         4                                           El Monte, Chinigue   \n",
       "5         1                            Quinta Normal, Salvador Gutiérrez   \n",
       "6         2                         Maipú, Ramayana , Villa Las Terrazas   \n",
       "7         4            Lo Barnechea, Avenida San Josemaría Escrivá de...   \n",
       "8         1                                      Macul, Nicanor Molinare   \n",
       "9         3                                  Peñalolén, Camino Peñalolén   \n",
       "\n",
       "                                         description        price unit  \n",
       "0  Casa en Hacienda Los Conquistadores (Puente Al...   82.000.000  CLP  \n",
       "1  Excelente chalet ubicado en la calle Eduardo O...   89.500.000  CLP  \n",
       "2  Oportunidad Inversionistas o particualares! ca...        4.100   UF  \n",
       "3  Acepta ofertas. Ideal negocio y/o vivir. Cason...        6.600   UF  \n",
       "4  Excelente oportunidad, plusvalía. Vendo estupe...  235.000.000  CLP  \n",
       "5  Vendo amplia casa. Conversable. Cuenta con 5 d...  130.000.000  CLP  \n",
       "6  Linda casa de 2 pisos en pasaje cercano al Met...  150.000.000  CLP  \n",
       "7  San Josemaría Escrivá de Balaguer / La Torment...       13.900   UF  \n",
       "8  Se vende casa en excelente ubicación de Villa ...  255.000.000  CLP  \n",
       "9  Peñalolén, Se vende casa de tres pisos en pasa...  180.000.000  CLP  "
      ]
     },
     "execution_count": 21,
     "metadata": {},
     "output_type": "execute_result"
    }
   ],
   "source": [
    "df"
   ]
  },
  {
   "cell_type": "markdown",
   "metadata": {},
   "source": [
    "We have a DataFrame! The `scrape_page` function sucessfully exracted the necessary information from the first page of results. This is great, except that the DataFrame has only 10 rows. There are hundreds of pages of search results, so individually scraping each page will take too long. The solution is to write yet another function that loops over all the pages of search results and returns a DataFrame containing all of the listings. This can be done by examining how the URL changes when displaying each successive page results, and writing a loop that modifies the URL accordingly. When scraping multiple pages, it is good practice to make the program sleep for random intervals after scraping each page of results. This avoids overwhelming the website's server, and possibly getting our ip address blocked."
   ]
  },
  {
   "cell_type": "code",
   "execution_count": 22,
   "metadata": {},
   "outputs": [],
   "source": [
    "# Scrapes multiple pages of search results and returns DataFrame\n",
    "\n",
    "def scrape_to_df(url, num_pages):\n",
    "    all_records = []\n",
    "    \n",
    "    for n in range(num_pages):\n",
    "        r = requests.get(url[:-1] + str(n))\n",
    "        soup = BeautifulSoup(r.text, 'html.parser')\n",
    "        results = soup.find_all('div', attrs={'class':'col-sm-12 publication-element'})\n",
    "        records = scrape_page(results)\n",
    "        all_records += records\n",
    "        sleep(randint(2,10))\n",
    "    \n",
    "    cols_list = ['date', 'comuna', 'home_type', 'state', 'total_area', 'built_area', 'bedrooms', 'bathrooms', \n",
    "                 'furnished', 'address', 'description', 'price', 'unit']\n",
    "    df = pd.DataFrame(all_records, columns=cols_list)\n",
    "    df['date'] = pd.to_datetime(df['date'], dayfirst=True)\n",
    "    \n",
    "    return df"
   ]
  },
  {
   "cell_type": "markdown",
   "metadata": {},
   "source": [
    "Now that all the functions are defined, it is time to try them out on the website.  A search for studio apartments for sale yields only three results.  This will take much less time to scrape, so it is a good chance to test the code before we use it on larger sets of results.  We just enter the url and the number of pages, which is one."
   ]
  },
  {
   "cell_type": "code",
   "execution_count": 23,
   "metadata": {},
   "outputs": [
    {
     "data": {
      "text/plain": [
       "(3, 13)"
      ]
     },
     "execution_count": 23,
     "metadata": {},
     "output_type": "execute_result"
    }
   ],
   "source": [
    "url = 'https://chilepropiedades.cl/propiedades/venta/estudio/region-metropolitana(rm)/0'\n",
    "studio_df = scrape_to_df(url, 1)\n",
    "studio_df.shape"
   ]
  },
  {
   "cell_type": "code",
   "execution_count": 24,
   "metadata": {},
   "outputs": [
    {
     "data": {
      "text/html": [
       "<div>\n",
       "<style scoped>\n",
       "    .dataframe tbody tr th:only-of-type {\n",
       "        vertical-align: middle;\n",
       "    }\n",
       "\n",
       "    .dataframe tbody tr th {\n",
       "        vertical-align: top;\n",
       "    }\n",
       "\n",
       "    .dataframe thead th {\n",
       "        text-align: right;\n",
       "    }\n",
       "</style>\n",
       "<table border=\"1\" class=\"dataframe\">\n",
       "  <thead>\n",
       "    <tr style=\"text-align: right;\">\n",
       "      <th></th>\n",
       "      <th>date</th>\n",
       "      <th>comuna</th>\n",
       "      <th>home_type</th>\n",
       "      <th>state</th>\n",
       "      <th>total_area</th>\n",
       "      <th>built_area</th>\n",
       "      <th>bedrooms</th>\n",
       "      <th>bathrooms</th>\n",
       "      <th>furnished</th>\n",
       "      <th>address</th>\n",
       "      <th>description</th>\n",
       "      <th>price</th>\n",
       "      <th>unit</th>\n",
       "    </tr>\n",
       "  </thead>\n",
       "  <tbody>\n",
       "    <tr>\n",
       "      <th>0</th>\n",
       "      <td>2020-09-09</td>\n",
       "      <td>Santiago</td>\n",
       "      <td>Estudio</td>\n",
       "      <td>usada</td>\n",
       "      <td>20</td>\n",
       "      <td></td>\n",
       "      <td>1</td>\n",
       "      <td>1</td>\n",
       "      <td>Sí</td>\n",
       "      <td>Santiago, Estación Central</td>\n",
       "      <td>Oportunidad de Inversión, Estación Central, Ve...</td>\n",
       "      <td>1.700</td>\n",
       "      <td>UF</td>\n",
       "    </tr>\n",
       "    <tr>\n",
       "      <th>1</th>\n",
       "      <td>2020-09-09</td>\n",
       "      <td>Santiago</td>\n",
       "      <td>Estudio</td>\n",
       "      <td>usada</td>\n",
       "      <td>29</td>\n",
       "      <td></td>\n",
       "      <td>1</td>\n",
       "      <td>1</td>\n",
       "      <td>Sí</td>\n",
       "      <td>Santiago, Santiago</td>\n",
       "      <td>Oportunidad de Inversión, Santiago Centro, Ave...</td>\n",
       "      <td>1.780</td>\n",
       "      <td>UF</td>\n",
       "    </tr>\n",
       "    <tr>\n",
       "      <th>2</th>\n",
       "      <td>2020-07-10</td>\n",
       "      <td>Recoleta</td>\n",
       "      <td>Estudio</td>\n",
       "      <td>usada</td>\n",
       "      <td>31</td>\n",
       "      <td></td>\n",
       "      <td>1</td>\n",
       "      <td>1</td>\n",
       "      <td></td>\n",
       "      <td>Recoleta, Santos Dumont 867</td>\n",
       "      <td>DISPONIBILIDAD INMEDIATA *Ideal Inversión Inmo...</td>\n",
       "      <td>45.000.000</td>\n",
       "      <td>CLP</td>\n",
       "    </tr>\n",
       "  </tbody>\n",
       "</table>\n",
       "</div>"
      ],
      "text/plain": [
       "        date    comuna home_type  state total_area built_area bedrooms  \\\n",
       "0 2020-09-09  Santiago   Estudio  usada         20                   1   \n",
       "1 2020-09-09  Santiago   Estudio  usada         29                   1   \n",
       "2 2020-07-10  Recoleta   Estudio  usada         31                   1   \n",
       "\n",
       "  bathrooms furnished                      address  \\\n",
       "0         1        Sí   Santiago, Estación Central   \n",
       "1         1        Sí           Santiago, Santiago   \n",
       "2         1            Recoleta, Santos Dumont 867   \n",
       "\n",
       "                                         description       price unit  \n",
       "0  Oportunidad de Inversión, Estación Central, Ve...       1.700   UF  \n",
       "1  Oportunidad de Inversión, Santiago Centro, Ave...       1.780   UF  \n",
       "2  DISPONIBILIDAD INMEDIATA *Ideal Inversión Inmo...  45.000.000  CLP  "
      ]
     },
     "execution_count": 24,
     "metadata": {},
     "output_type": "execute_result"
    }
   ],
   "source": [
    "studio_df.head()"
   ]
  },
  {
   "cell_type": "markdown",
   "metadata": {},
   "source": [
    "Everything looks good, so now we try on a slightly larger set of results covering multiple pages. In Spanish, a *parcela* is a plot of land, often with a house on it.  The website has 255 listings for *parcelas* on 29 pages."
   ]
  },
  {
   "cell_type": "code",
   "execution_count": 25,
   "metadata": {},
   "outputs": [
    {
     "data": {
      "text/plain": [
       "(284, 13)"
      ]
     },
     "execution_count": 25,
     "metadata": {},
     "output_type": "execute_result"
    }
   ],
   "source": [
    "url = 'https://chilepropiedades.cl/propiedades/venta/parcela/region-metropolitana(rm)/0'\n",
    "parcela_df = scrape_to_df(url, 29)\n",
    "parcela_df.shape"
   ]
  },
  {
   "cell_type": "code",
   "execution_count": 26,
   "metadata": {},
   "outputs": [
    {
     "data": {
      "text/html": [
       "<div>\n",
       "<style scoped>\n",
       "    .dataframe tbody tr th:only-of-type {\n",
       "        vertical-align: middle;\n",
       "    }\n",
       "\n",
       "    .dataframe tbody tr th {\n",
       "        vertical-align: top;\n",
       "    }\n",
       "\n",
       "    .dataframe thead th {\n",
       "        text-align: right;\n",
       "    }\n",
       "</style>\n",
       "<table border=\"1\" class=\"dataframe\">\n",
       "  <thead>\n",
       "    <tr style=\"text-align: right;\">\n",
       "      <th></th>\n",
       "      <th>date</th>\n",
       "      <th>comuna</th>\n",
       "      <th>home_type</th>\n",
       "      <th>state</th>\n",
       "      <th>total_area</th>\n",
       "      <th>built_area</th>\n",
       "      <th>bedrooms</th>\n",
       "      <th>bathrooms</th>\n",
       "      <th>furnished</th>\n",
       "      <th>address</th>\n",
       "      <th>description</th>\n",
       "      <th>price</th>\n",
       "      <th>unit</th>\n",
       "    </tr>\n",
       "  </thead>\n",
       "  <tbody>\n",
       "    <tr>\n",
       "      <th>0</th>\n",
       "      <td>2020-08-31</td>\n",
       "      <td>Melipilla</td>\n",
       "      <td>Parcela</td>\n",
       "      <td>nueva</td>\n",
       "      <td>5.000</td>\n",
       "      <td></td>\n",
       "      <td></td>\n",
       "      <td></td>\n",
       "      <td></td>\n",
       "      <td>Melipilla, huechun</td>\n",
       "      <td>SE VENDE GRAN PARCELA DE AGRADO, con las sigui...</td>\n",
       "      <td>50.000.000</td>\n",
       "      <td>CLP</td>\n",
       "    </tr>\n",
       "    <tr>\n",
       "      <th>1</th>\n",
       "      <td>2020-08-28</td>\n",
       "      <td>Talagante</td>\n",
       "      <td>Parcela</td>\n",
       "      <td>usada</td>\n",
       "      <td>7.191</td>\n",
       "      <td></td>\n",
       "      <td>4</td>\n",
       "      <td>3</td>\n",
       "      <td></td>\n",
       "      <td>Talagante, Parcela en Lonquén Sur. Talagante</td>\n",
       "      <td>- (CE) Propiedad de 7.191 m2 con 2 Casas - Lot...</td>\n",
       "      <td>290.000.000</td>\n",
       "      <td>CLP</td>\n",
       "    </tr>\n",
       "    <tr>\n",
       "      <th>2</th>\n",
       "      <td>2020-08-28</td>\n",
       "      <td>Curacaví</td>\n",
       "      <td>Parcela</td>\n",
       "      <td>usada</td>\n",
       "      <td>11.701</td>\n",
       "      <td>490</td>\n",
       "      <td>6</td>\n",
       "      <td>5</td>\n",
       "      <td></td>\n",
       "      <td>Curacaví, Parcela de 11.701 m2 en Condominio L...</td>\n",
       "      <td>- Casa Aislada Sólida con Segundo Piso. (360 m...</td>\n",
       "      <td>190.000.000</td>\n",
       "      <td>CLP</td>\n",
       "    </tr>\n",
       "    <tr>\n",
       "      <th>3</th>\n",
       "      <td>2020-08-28</td>\n",
       "      <td>Colina</td>\n",
       "      <td>Parcela</td>\n",
       "      <td>usada</td>\n",
       "      <td>5.787</td>\n",
       "      <td>310</td>\n",
       "      <td></td>\n",
       "      <td>6</td>\n",
       "      <td></td>\n",
       "      <td>Colina, Chicureo, Excelente Parcela de Agrado ...</td>\n",
       "      <td>- Casas del Alba Pc 18, Chicureo. Colina - Cas...</td>\n",
       "      <td>310.000.000</td>\n",
       "      <td>CLP</td>\n",
       "    </tr>\n",
       "    <tr>\n",
       "      <th>4</th>\n",
       "      <td>2020-08-21</td>\n",
       "      <td>San Pedro</td>\n",
       "      <td>Parcela</td>\n",
       "      <td>usada</td>\n",
       "      <td>40.000</td>\n",
       "      <td></td>\n",
       "      <td></td>\n",
       "      <td></td>\n",
       "      <td></td>\n",
       "      <td>San Pedro, San pedro</td>\n",
       "      <td>Esta parcela agrícola de más de 4 Há, cuenta c...</td>\n",
       "      <td>140.000.000</td>\n",
       "      <td>CLP</td>\n",
       "    </tr>\n",
       "  </tbody>\n",
       "</table>\n",
       "</div>"
      ],
      "text/plain": [
       "        date     comuna home_type  state total_area built_area bedrooms  \\\n",
       "0 2020-08-31  Melipilla   Parcela  nueva      5.000                       \n",
       "1 2020-08-28  Talagante   Parcela  usada      7.191                   4   \n",
       "2 2020-08-28   Curacaví   Parcela  usada     11.701        490        6   \n",
       "3 2020-08-28     Colina   Parcela  usada      5.787        310            \n",
       "4 2020-08-21  San Pedro   Parcela  usada     40.000                       \n",
       "\n",
       "  bathrooms furnished                                            address  \\\n",
       "0                                                     Melipilla, huechun   \n",
       "1         3                 Talagante, Parcela en Lonquén Sur. Talagante   \n",
       "2         5            Curacaví, Parcela de 11.701 m2 en Condominio L...   \n",
       "3         6            Colina, Chicureo, Excelente Parcela de Agrado ...   \n",
       "4                                                   San Pedro, San pedro   \n",
       "\n",
       "                                         description        price unit  \n",
       "0  SE VENDE GRAN PARCELA DE AGRADO, con las sigui...   50.000.000  CLP  \n",
       "1  - (CE) Propiedad de 7.191 m2 con 2 Casas - Lot...  290.000.000  CLP  \n",
       "2  - Casa Aislada Sólida con Segundo Piso. (360 m...  190.000.000  CLP  \n",
       "3  - Casas del Alba Pc 18, Chicureo. Colina - Cas...  310.000.000  CLP  \n",
       "4  Esta parcela agrícola de más de 4 Há, cuenta c...  140.000.000  CLP  "
      ]
     },
     "execution_count": 26,
     "metadata": {},
     "output_type": "execute_result"
    }
   ],
   "source": [
    "parcela_df.head()"
   ]
  },
  {
   "cell_type": "markdown",
   "metadata": {},
   "source": [
    "The code has worked again, so it is time to try it on the search results for houses (*casas*), which contain more than two thousand listings.  This step can take quite a while."
   ]
  },
  {
   "cell_type": "code",
   "execution_count": 27,
   "metadata": {},
   "outputs": [
    {
     "data": {
      "text/plain": [
       "(2142, 13)"
      ]
     },
     "execution_count": 27,
     "metadata": {},
     "output_type": "execute_result"
    }
   ],
   "source": [
    "url = 'https://chilepropiedades.cl/propiedades/venta/casa/region-metropolitana(rm)/0'\n",
    "casa_df = scrape_to_df(url, 215)\n",
    "casa_df.shape"
   ]
  },
  {
   "cell_type": "code",
   "execution_count": 28,
   "metadata": {},
   "outputs": [
    {
     "data": {
      "text/html": [
       "<div>\n",
       "<style scoped>\n",
       "    .dataframe tbody tr th:only-of-type {\n",
       "        vertical-align: middle;\n",
       "    }\n",
       "\n",
       "    .dataframe tbody tr th {\n",
       "        vertical-align: top;\n",
       "    }\n",
       "\n",
       "    .dataframe thead th {\n",
       "        text-align: right;\n",
       "    }\n",
       "</style>\n",
       "<table border=\"1\" class=\"dataframe\">\n",
       "  <thead>\n",
       "    <tr style=\"text-align: right;\">\n",
       "      <th></th>\n",
       "      <th>date</th>\n",
       "      <th>comuna</th>\n",
       "      <th>home_type</th>\n",
       "      <th>state</th>\n",
       "      <th>total_area</th>\n",
       "      <th>built_area</th>\n",
       "      <th>bedrooms</th>\n",
       "      <th>bathrooms</th>\n",
       "      <th>furnished</th>\n",
       "      <th>address</th>\n",
       "      <th>description</th>\n",
       "      <th>price</th>\n",
       "      <th>unit</th>\n",
       "    </tr>\n",
       "  </thead>\n",
       "  <tbody>\n",
       "    <tr>\n",
       "      <th>0</th>\n",
       "      <td>2020-09-10</td>\n",
       "      <td>Puente Alto</td>\n",
       "      <td>Casa</td>\n",
       "      <td>usada</td>\n",
       "      <td>90</td>\n",
       "      <td>60</td>\n",
       "      <td>3</td>\n",
       "      <td>3</td>\n",
       "      <td></td>\n",
       "      <td>Puente Alto, Lugo sur</td>\n",
       "      <td>Casa en Hacienda Los Conquistadores (Puente Al...</td>\n",
       "      <td>82.000.000</td>\n",
       "      <td>CLP</td>\n",
       "    </tr>\n",
       "    <tr>\n",
       "      <th>1</th>\n",
       "      <td>2020-09-10</td>\n",
       "      <td>San Bernardo</td>\n",
       "      <td>Casa</td>\n",
       "      <td>usada</td>\n",
       "      <td>140</td>\n",
       "      <td>90</td>\n",
       "      <td>4</td>\n",
       "      <td>2</td>\n",
       "      <td></td>\n",
       "      <td>San Bernardo, Villa maestranza iii</td>\n",
       "      <td>Excelente chalet ubicado en la calle Eduardo O...</td>\n",
       "      <td>89.500.000</td>\n",
       "      <td>CLP</td>\n",
       "    </tr>\n",
       "    <tr>\n",
       "      <th>2</th>\n",
       "      <td>2020-09-09</td>\n",
       "      <td>Lampa</td>\n",
       "      <td>Casa</td>\n",
       "      <td>usada</td>\n",
       "      <td>1.000</td>\n",
       "      <td>110</td>\n",
       "      <td>4</td>\n",
       "      <td>1</td>\n",
       "      <td></td>\n",
       "      <td>Lampa, Arturo Prat</td>\n",
       "      <td>Oportunidad Inversionistas o particualares! ca...</td>\n",
       "      <td>4.100</td>\n",
       "      <td>UF</td>\n",
       "    </tr>\n",
       "    <tr>\n",
       "      <th>3</th>\n",
       "      <td>2020-09-09</td>\n",
       "      <td>El Monte</td>\n",
       "      <td>Casa</td>\n",
       "      <td>usada</td>\n",
       "      <td>1.800</td>\n",
       "      <td>200</td>\n",
       "      <td></td>\n",
       "      <td>1</td>\n",
       "      <td></td>\n",
       "      <td>El Monte, Los Libertadores</td>\n",
       "      <td>Acepta ofertas. Ideal negocio y/o vivir. Cason...</td>\n",
       "      <td>6.600</td>\n",
       "      <td>UF</td>\n",
       "    </tr>\n",
       "    <tr>\n",
       "      <th>4</th>\n",
       "      <td>2020-09-09</td>\n",
       "      <td>El Monte</td>\n",
       "      <td>Casa</td>\n",
       "      <td>usada</td>\n",
       "      <td>5.000</td>\n",
       "      <td>360</td>\n",
       "      <td>4</td>\n",
       "      <td>4</td>\n",
       "      <td></td>\n",
       "      <td>El Monte, Chinigue</td>\n",
       "      <td>Excelente oportunidad, plusvalía. Vendo estupe...</td>\n",
       "      <td>235.000.000</td>\n",
       "      <td>CLP</td>\n",
       "    </tr>\n",
       "  </tbody>\n",
       "</table>\n",
       "</div>"
      ],
      "text/plain": [
       "        date        comuna home_type  state total_area built_area bedrooms  \\\n",
       "0 2020-09-10   Puente Alto      Casa  usada         90         60        3   \n",
       "1 2020-09-10  San Bernardo      Casa  usada        140         90        4   \n",
       "2 2020-09-09         Lampa      Casa  usada      1.000        110        4   \n",
       "3 2020-09-09      El Monte      Casa  usada      1.800        200            \n",
       "4 2020-09-09      El Monte      Casa  usada      5.000        360        4   \n",
       "\n",
       "  bathrooms furnished                             address  \\\n",
       "0         3                         Puente Alto, Lugo sur   \n",
       "1         2            San Bernardo, Villa maestranza iii   \n",
       "2         1                            Lampa, Arturo Prat   \n",
       "3         1                    El Monte, Los Libertadores   \n",
       "4         4                            El Monte, Chinigue   \n",
       "\n",
       "                                         description        price unit  \n",
       "0  Casa en Hacienda Los Conquistadores (Puente Al...   82.000.000  CLP  \n",
       "1  Excelente chalet ubicado en la calle Eduardo O...   89.500.000  CLP  \n",
       "2  Oportunidad Inversionistas o particualares! ca...        4.100   UF  \n",
       "3  Acepta ofertas. Ideal negocio y/o vivir. Cason...        6.600   UF  \n",
       "4  Excelente oportunidad, plusvalía. Vendo estupe...  235.000.000  CLP  "
      ]
     },
     "execution_count": 28,
     "metadata": {},
     "output_type": "execute_result"
    }
   ],
   "source": [
    "casa_df.head()"
   ]
  },
  {
   "cell_type": "markdown",
   "metadata": {},
   "source": [
    "Finally, we scrape the results for apartments (*departamentos*), which is the category with the most listings, at over three thousand."
   ]
  },
  {
   "cell_type": "code",
   "execution_count": 29,
   "metadata": {},
   "outputs": [
    {
     "data": {
      "text/plain": [
       "(3434, 13)"
      ]
     },
     "execution_count": 29,
     "metadata": {},
     "output_type": "execute_result"
    }
   ],
   "source": [
    "url = 'https://chilepropiedades.cl/propiedades/venta/departamento/region-metropolitana(rm)/0'\n",
    "depto_df = scrape_to_df(url, 344)\n",
    "depto_df.shape"
   ]
  },
  {
   "cell_type": "code",
   "execution_count": 30,
   "metadata": {},
   "outputs": [
    {
     "data": {
      "text/html": [
       "<div>\n",
       "<style scoped>\n",
       "    .dataframe tbody tr th:only-of-type {\n",
       "        vertical-align: middle;\n",
       "    }\n",
       "\n",
       "    .dataframe tbody tr th {\n",
       "        vertical-align: top;\n",
       "    }\n",
       "\n",
       "    .dataframe thead th {\n",
       "        text-align: right;\n",
       "    }\n",
       "</style>\n",
       "<table border=\"1\" class=\"dataframe\">\n",
       "  <thead>\n",
       "    <tr style=\"text-align: right;\">\n",
       "      <th></th>\n",
       "      <th>date</th>\n",
       "      <th>comuna</th>\n",
       "      <th>home_type</th>\n",
       "      <th>state</th>\n",
       "      <th>total_area</th>\n",
       "      <th>built_area</th>\n",
       "      <th>bedrooms</th>\n",
       "      <th>bathrooms</th>\n",
       "      <th>furnished</th>\n",
       "      <th>address</th>\n",
       "      <th>description</th>\n",
       "      <th>price</th>\n",
       "      <th>unit</th>\n",
       "    </tr>\n",
       "  </thead>\n",
       "  <tbody>\n",
       "    <tr>\n",
       "      <th>0</th>\n",
       "      <td>2020-09-10</td>\n",
       "      <td>Santiago</td>\n",
       "      <td>Departamento</td>\n",
       "      <td>usada</td>\n",
       "      <td></td>\n",
       "      <td></td>\n",
       "      <td></td>\n",
       "      <td></td>\n",
       "      <td></td>\n",
       "      <td>Santiago, Santiago, Región Metropolitana</td>\n",
       "      <td>CODIGO INTERNO: 56117 Se Vende Impecable Depar...</td>\n",
       "      <td>73.000.000</td>\n",
       "      <td>CLP</td>\n",
       "    </tr>\n",
       "    <tr>\n",
       "      <th>1</th>\n",
       "      <td>2020-09-10</td>\n",
       "      <td>Puente Alto</td>\n",
       "      <td>Departamento</td>\n",
       "      <td>usada</td>\n",
       "      <td>42</td>\n",
       "      <td></td>\n",
       "      <td>2</td>\n",
       "      <td>1</td>\n",
       "      <td></td>\n",
       "      <td>Puente Alto, Sgto Menadier 2779</td>\n",
       "      <td>Departamento ubicado en segundo piso, en plena...</td>\n",
       "      <td>25.000.000</td>\n",
       "      <td>CLP</td>\n",
       "    </tr>\n",
       "    <tr>\n",
       "      <th>2</th>\n",
       "      <td>2020-09-09</td>\n",
       "      <td>Ñuñoa</td>\n",
       "      <td>Departamento</td>\n",
       "      <td>usada</td>\n",
       "      <td>70</td>\n",
       "      <td></td>\n",
       "      <td>2</td>\n",
       "      <td>2</td>\n",
       "      <td></td>\n",
       "      <td>Ñuñoa, Irarrázaval 1401</td>\n",
       "      <td>Depto Vista despejada 2D 2B E B *2 dormitorios...</td>\n",
       "      <td>4.900</td>\n",
       "      <td>UF</td>\n",
       "    </tr>\n",
       "    <tr>\n",
       "      <th>3</th>\n",
       "      <td>2020-09-09</td>\n",
       "      <td>Santiago</td>\n",
       "      <td>Departamento</td>\n",
       "      <td>usada</td>\n",
       "      <td>23</td>\n",
       "      <td></td>\n",
       "      <td>1</td>\n",
       "      <td>1</td>\n",
       "      <td></td>\n",
       "      <td>Santiago, Huérfanos</td>\n",
       "      <td>Oportunidad Inversionistas o particulares. Ven...</td>\n",
       "      <td>1.575</td>\n",
       "      <td>UF</td>\n",
       "    </tr>\n",
       "    <tr>\n",
       "      <th>4</th>\n",
       "      <td>2020-09-09</td>\n",
       "      <td>Santiago</td>\n",
       "      <td>Departamento</td>\n",
       "      <td>usada</td>\n",
       "      <td>163</td>\n",
       "      <td></td>\n",
       "      <td>3</td>\n",
       "      <td>4</td>\n",
       "      <td></td>\n",
       "      <td>Santiago, Vespucio Norte</td>\n",
       "      <td>Vespucio Norte, Las Condes, Vendo confortable ...</td>\n",
       "      <td>13.500</td>\n",
       "      <td>UF</td>\n",
       "    </tr>\n",
       "  </tbody>\n",
       "</table>\n",
       "</div>"
      ],
      "text/plain": [
       "        date       comuna     home_type  state total_area built_area bedrooms  \\\n",
       "0 2020-09-10     Santiago  Departamento  usada                                  \n",
       "1 2020-09-10  Puente Alto  Departamento  usada         42                   2   \n",
       "2 2020-09-09        Ñuñoa  Departamento  usada         70                   2   \n",
       "3 2020-09-09     Santiago  Departamento  usada         23                   1   \n",
       "4 2020-09-09     Santiago  Departamento  usada        163                   3   \n",
       "\n",
       "  bathrooms furnished                                   address  \\\n",
       "0                      Santiago, Santiago, Región Metropolitana   \n",
       "1         1                     Puente Alto, Sgto Menadier 2779   \n",
       "2         2                             Ñuñoa, Irarrázaval 1401   \n",
       "3         1                                 Santiago, Huérfanos   \n",
       "4         4                            Santiago, Vespucio Norte   \n",
       "\n",
       "                                         description       price unit  \n",
       "0  CODIGO INTERNO: 56117 Se Vende Impecable Depar...  73.000.000  CLP  \n",
       "1  Departamento ubicado en segundo piso, en plena...  25.000.000  CLP  \n",
       "2  Depto Vista despejada 2D 2B E B *2 dormitorios...       4.900   UF  \n",
       "3  Oportunidad Inversionistas o particulares. Ven...       1.575   UF  \n",
       "4  Vespucio Norte, Las Condes, Vendo confortable ...      13.500   UF  "
      ]
     },
     "execution_count": 30,
     "metadata": {},
     "output_type": "execute_result"
    }
   ],
   "source": [
    "depto_df.head()"
   ]
  },
  {
   "cell_type": "markdown",
   "metadata": {},
   "source": [
    "### Combine Results into a Single DataFrame ###\n",
    "\n",
    "Now that the web scraping is finished, the next step combines all of the dataframes that have been created into one large dataframe."
   ]
  },
  {
   "cell_type": "code",
   "execution_count": 31,
   "metadata": {},
   "outputs": [
    {
     "data": {
      "text/plain": [
       "(5863, 13)"
      ]
     },
     "execution_count": 31,
     "metadata": {},
     "output_type": "execute_result"
    }
   ],
   "source": [
    "# Combine the dataframes\n",
    "combined_df = pd.concat([depto_df, casa_df, parcela_df, studio_df], axis=0)\n",
    "combined_df.shape"
   ]
  },
  {
   "cell_type": "code",
   "execution_count": 32,
   "metadata": {},
   "outputs": [
    {
     "data": {
      "text/html": [
       "<div>\n",
       "<style scoped>\n",
       "    .dataframe tbody tr th:only-of-type {\n",
       "        vertical-align: middle;\n",
       "    }\n",
       "\n",
       "    .dataframe tbody tr th {\n",
       "        vertical-align: top;\n",
       "    }\n",
       "\n",
       "    .dataframe thead th {\n",
       "        text-align: right;\n",
       "    }\n",
       "</style>\n",
       "<table border=\"1\" class=\"dataframe\">\n",
       "  <thead>\n",
       "    <tr style=\"text-align: right;\">\n",
       "      <th></th>\n",
       "      <th>date</th>\n",
       "      <th>comuna</th>\n",
       "      <th>home_type</th>\n",
       "      <th>state</th>\n",
       "      <th>total_area</th>\n",
       "      <th>built_area</th>\n",
       "      <th>bedrooms</th>\n",
       "      <th>bathrooms</th>\n",
       "      <th>furnished</th>\n",
       "      <th>address</th>\n",
       "      <th>description</th>\n",
       "      <th>price</th>\n",
       "      <th>unit</th>\n",
       "    </tr>\n",
       "  </thead>\n",
       "  <tbody>\n",
       "    <tr>\n",
       "      <th>5858</th>\n",
       "      <td>2020-02-20</td>\n",
       "      <td>Padre Hurtado</td>\n",
       "      <td>Parcela</td>\n",
       "      <td>usada</td>\n",
       "      <td>5.000</td>\n",
       "      <td>300</td>\n",
       "      <td>4</td>\n",
       "      <td>3</td>\n",
       "      <td></td>\n",
       "      <td>Padre Hurtado, Camino antiguo de Valparaiso/Ru...</td>\n",
       "      <td>Naturaleza a sólo 35 minutos de Santiago. Prec...</td>\n",
       "      <td>249.000.000</td>\n",
       "      <td>CLP</td>\n",
       "    </tr>\n",
       "    <tr>\n",
       "      <th>5859</th>\n",
       "      <td>2020-02-20</td>\n",
       "      <td>Melipilla</td>\n",
       "      <td>Parcela</td>\n",
       "      <td>usada</td>\n",
       "      <td>5.050</td>\n",
       "      <td>370</td>\n",
       "      <td>4</td>\n",
       "      <td>6</td>\n",
       "      <td></td>\n",
       "      <td>Melipilla, Hijuela 1/___</td>\n",
       "      <td>Excelente parcela, hall de entrad, muy espacio...</td>\n",
       "      <td>14.600</td>\n",
       "      <td>UF</td>\n",
       "    </tr>\n",
       "    <tr>\n",
       "      <th>5860</th>\n",
       "      <td>2020-09-09</td>\n",
       "      <td>Santiago</td>\n",
       "      <td>Estudio</td>\n",
       "      <td>usada</td>\n",
       "      <td>20</td>\n",
       "      <td></td>\n",
       "      <td>1</td>\n",
       "      <td>1</td>\n",
       "      <td>Sí</td>\n",
       "      <td>Santiago, Estación Central</td>\n",
       "      <td>Oportunidad de Inversión, Estación Central, Ve...</td>\n",
       "      <td>1.700</td>\n",
       "      <td>UF</td>\n",
       "    </tr>\n",
       "    <tr>\n",
       "      <th>5861</th>\n",
       "      <td>2020-09-09</td>\n",
       "      <td>Santiago</td>\n",
       "      <td>Estudio</td>\n",
       "      <td>usada</td>\n",
       "      <td>29</td>\n",
       "      <td></td>\n",
       "      <td>1</td>\n",
       "      <td>1</td>\n",
       "      <td>Sí</td>\n",
       "      <td>Santiago, Santiago</td>\n",
       "      <td>Oportunidad de Inversión, Santiago Centro, Ave...</td>\n",
       "      <td>1.780</td>\n",
       "      <td>UF</td>\n",
       "    </tr>\n",
       "    <tr>\n",
       "      <th>5862</th>\n",
       "      <td>2020-07-10</td>\n",
       "      <td>Recoleta</td>\n",
       "      <td>Estudio</td>\n",
       "      <td>usada</td>\n",
       "      <td>31</td>\n",
       "      <td></td>\n",
       "      <td>1</td>\n",
       "      <td>1</td>\n",
       "      <td></td>\n",
       "      <td>Recoleta, Santos Dumont 867</td>\n",
       "      <td>DISPONIBILIDAD INMEDIATA *Ideal Inversión Inmo...</td>\n",
       "      <td>45.000.000</td>\n",
       "      <td>CLP</td>\n",
       "    </tr>\n",
       "  </tbody>\n",
       "</table>\n",
       "</div>"
      ],
      "text/plain": [
       "           date         comuna home_type  state total_area built_area  \\\n",
       "5858 2020-02-20  Padre Hurtado   Parcela  usada      5.000        300   \n",
       "5859 2020-02-20      Melipilla   Parcela  usada      5.050        370   \n",
       "5860 2020-09-09       Santiago   Estudio  usada         20              \n",
       "5861 2020-09-09       Santiago   Estudio  usada         29              \n",
       "5862 2020-07-10       Recoleta   Estudio  usada         31              \n",
       "\n",
       "     bedrooms bathrooms furnished  \\\n",
       "5858        4         3             \n",
       "5859        4         6             \n",
       "5860        1         1        Sí   \n",
       "5861        1         1        Sí   \n",
       "5862        1         1             \n",
       "\n",
       "                                                address  \\\n",
       "5858  Padre Hurtado, Camino antiguo de Valparaiso/Ru...   \n",
       "5859                           Melipilla, Hijuela 1/___   \n",
       "5860                         Santiago, Estación Central   \n",
       "5861                                 Santiago, Santiago   \n",
       "5862                        Recoleta, Santos Dumont 867   \n",
       "\n",
       "                                            description        price unit  \n",
       "5858  Naturaleza a sólo 35 minutos de Santiago. Prec...  249.000.000  CLP  \n",
       "5859  Excelente parcela, hall de entrad, muy espacio...       14.600   UF  \n",
       "5860  Oportunidad de Inversión, Estación Central, Ve...        1.700   UF  \n",
       "5861  Oportunidad de Inversión, Santiago Centro, Ave...        1.780   UF  \n",
       "5862  DISPONIBILIDAD INMEDIATA *Ideal Inversión Inmo...   45.000.000  CLP  "
      ]
     },
     "execution_count": 32,
     "metadata": {},
     "output_type": "execute_result"
    }
   ],
   "source": [
    "# Reset the index and check the indices of the final rows\n",
    "combined_df = combined_df.reset_index(drop=True)\n",
    "combined_df.tail()"
   ]
  },
  {
   "cell_type": "markdown",
   "metadata": {},
   "source": [
    "### Save DataFrame to a CSV File ###\n",
    "\n",
    "The final step is to save new dataframe as a CSV file. Remember the listings on the website will be constantly changing.  This is the raw data that we scraped from the website before any cleaning. We will use semicolons the field delimiter because the dataframe might contain commas. (In Spanish decimals are expressed with commas rather than periods.) "
   ]
  },
  {
   "cell_type": "code",
   "execution_count": 33,
   "metadata": {},
   "outputs": [],
   "source": [
    "# Save dataframe as a csv file\n",
    "combined_df.to_csv('scraped_data.csv', sep=';', index=False)"
   ]
  }
 ],
 "metadata": {
  "kernelspec": {
   "display_name": "Python 3",
   "language": "python",
   "name": "python3"
  },
  "language_info": {
   "codemirror_mode": {
    "name": "ipython",
    "version": 3
   },
   "file_extension": ".py",
   "mimetype": "text/x-python",
   "name": "python",
   "nbconvert_exporter": "python",
   "pygments_lexer": "ipython3",
   "version": "3.6.10"
  }
 },
 "nbformat": 4,
 "nbformat_minor": 4
}
