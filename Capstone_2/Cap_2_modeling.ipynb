{
 "cells": [
  {
   "cell_type": "markdown",
   "metadata": {},
   "source": [
    "# Capstone 2: Modeling #"
   ]
  },
  {
   "cell_type": "markdown",
   "metadata": {},
   "source": [
    "In this stage of the project we will create a series of machine learning models and evaluate their ability to accurately predict the prices of homes in Santiago, Chile. In order to obtain a baseline for performance, we will start by creating a dummy model which simply uses the mean price from the training data as the predicted price for all of the listings.  We will subsequently use Linear Regression, a Random Forest Regressor, and an XG Boost Regressor to make predictions, and compare those to our baseline. Each model will be evaluated using R-squared, Mean Absolute Error, and Root Mean Squared Error."
   ]
  },
  {
   "cell_type": "code",
   "execution_count": 1,
   "metadata": {},
   "outputs": [],
   "source": [
    "import numpy as np\n",
    "import pandas as pd\n",
    "import matplotlib.pyplot as plt\n",
    "import seaborn as sns\n",
    "import time\n",
    "from sklearn.dummy import DummyRegressor\n",
    "from sklearn.linear_model import LinearRegression\n",
    "from sklearn.ensemble import RandomForestRegressor\n",
    "from sklearn.metrics import r2_score, mean_squared_error, mean_absolute_error\n",
    "from sklearn.model_selection import GridSearchCV, RandomizedSearchCV\n",
    "from sklearn.pipeline import make_pipeline\n",
    "from sklearn.feature_selection import SelectKBest, f_regression\n",
    "import xgboost as xgb"
   ]
  },
  {
   "cell_type": "markdown",
   "metadata": {},
   "source": [
    "In the previous stage we saved an original and scaled version of the training and testing data as csv files.  Now we import the files and create pandas DataFrames."
   ]
  },
  {
   "cell_type": "code",
   "execution_count": 2,
   "metadata": {},
   "outputs": [],
   "source": [
    "# Import train and test sets\n",
    "X_train = pd.read_csv('train_data/X_train.csv')\n",
    "X_train_scaled = pd.read_csv('train_data/X_train_scaled.csv')\n",
    "y_train = pd.read_csv('train_data/y_train.csv')\n",
    "\n",
    "X_test = pd.read_csv('test_data/X_test.csv')\n",
    "X_test_scaled = pd.read_csv('test_data/X_test_scaled.csv')\n",
    "y_test = pd.read_csv('test_data/y_test.csv')"
   ]
  },
  {
   "cell_type": "code",
   "execution_count": 3,
   "metadata": {},
   "outputs": [
    {
     "data": {
      "text/html": [
       "<div>\n",
       "<style scoped>\n",
       "    .dataframe tbody tr th:only-of-type {\n",
       "        vertical-align: middle;\n",
       "    }\n",
       "\n",
       "    .dataframe tbody tr th {\n",
       "        vertical-align: top;\n",
       "    }\n",
       "\n",
       "    .dataframe thead th {\n",
       "        text-align: right;\n",
       "    }\n",
       "</style>\n",
       "<table border=\"1\" class=\"dataframe\">\n",
       "  <thead>\n",
       "    <tr style=\"text-align: right;\">\n",
       "      <th></th>\n",
       "      <th>house</th>\n",
       "      <th>total_area</th>\n",
       "      <th>built_area</th>\n",
       "      <th>bedrooms</th>\n",
       "      <th>bathrooms</th>\n",
       "      <th>zone_east</th>\n",
       "      <th>zone_north</th>\n",
       "      <th>zone_northeast</th>\n",
       "      <th>zone_rural east</th>\n",
       "      <th>zone_rural west</th>\n",
       "      <th>zone_south</th>\n",
       "      <th>zone_southeast</th>\n",
       "      <th>zone_west</th>\n",
       "    </tr>\n",
       "  </thead>\n",
       "  <tbody>\n",
       "    <tr>\n",
       "      <th>0</th>\n",
       "      <td>1</td>\n",
       "      <td>172.0</td>\n",
       "      <td>120.0</td>\n",
       "      <td>7</td>\n",
       "      <td>3</td>\n",
       "      <td>0</td>\n",
       "      <td>0</td>\n",
       "      <td>0</td>\n",
       "      <td>0</td>\n",
       "      <td>0</td>\n",
       "      <td>0</td>\n",
       "      <td>1</td>\n",
       "      <td>0</td>\n",
       "    </tr>\n",
       "    <tr>\n",
       "      <th>1</th>\n",
       "      <td>1</td>\n",
       "      <td>190.0</td>\n",
       "      <td>89.0</td>\n",
       "      <td>3</td>\n",
       "      <td>3</td>\n",
       "      <td>0</td>\n",
       "      <td>0</td>\n",
       "      <td>0</td>\n",
       "      <td>0</td>\n",
       "      <td>1</td>\n",
       "      <td>0</td>\n",
       "      <td>0</td>\n",
       "      <td>0</td>\n",
       "    </tr>\n",
       "    <tr>\n",
       "      <th>2</th>\n",
       "      <td>0</td>\n",
       "      <td>37.0</td>\n",
       "      <td>37.0</td>\n",
       "      <td>1</td>\n",
       "      <td>1</td>\n",
       "      <td>0</td>\n",
       "      <td>0</td>\n",
       "      <td>0</td>\n",
       "      <td>0</td>\n",
       "      <td>0</td>\n",
       "      <td>0</td>\n",
       "      <td>0</td>\n",
       "      <td>1</td>\n",
       "    </tr>\n",
       "    <tr>\n",
       "      <th>3</th>\n",
       "      <td>0</td>\n",
       "      <td>64.0</td>\n",
       "      <td>64.0</td>\n",
       "      <td>3</td>\n",
       "      <td>2</td>\n",
       "      <td>1</td>\n",
       "      <td>0</td>\n",
       "      <td>0</td>\n",
       "      <td>0</td>\n",
       "      <td>0</td>\n",
       "      <td>0</td>\n",
       "      <td>0</td>\n",
       "      <td>0</td>\n",
       "    </tr>\n",
       "    <tr>\n",
       "      <th>4</th>\n",
       "      <td>1</td>\n",
       "      <td>198.0</td>\n",
       "      <td>94.0</td>\n",
       "      <td>2</td>\n",
       "      <td>1</td>\n",
       "      <td>0</td>\n",
       "      <td>0</td>\n",
       "      <td>0</td>\n",
       "      <td>0</td>\n",
       "      <td>0</td>\n",
       "      <td>0</td>\n",
       "      <td>1</td>\n",
       "      <td>0</td>\n",
       "    </tr>\n",
       "  </tbody>\n",
       "</table>\n",
       "</div>"
      ],
      "text/plain": [
       "   house  total_area  built_area  bedrooms  bathrooms  zone_east  zone_north  \\\n",
       "0      1       172.0       120.0         7          3          0           0   \n",
       "1      1       190.0        89.0         3          3          0           0   \n",
       "2      0        37.0        37.0         1          1          0           0   \n",
       "3      0        64.0        64.0         3          2          1           0   \n",
       "4      1       198.0        94.0         2          1          0           0   \n",
       "\n",
       "   zone_northeast  zone_rural east  zone_rural west  zone_south  \\\n",
       "0               0                0                0           0   \n",
       "1               0                0                1           0   \n",
       "2               0                0                0           0   \n",
       "3               0                0                0           0   \n",
       "4               0                0                0           0   \n",
       "\n",
       "   zone_southeast  zone_west  \n",
       "0               1          0  \n",
       "1               0          0  \n",
       "2               0          1  \n",
       "3               0          0  \n",
       "4               1          0  "
      ]
     },
     "execution_count": 3,
     "metadata": {},
     "output_type": "execute_result"
    }
   ],
   "source": [
    "# View unscaled training set\n",
    "X_train.head()"
   ]
  },
  {
   "cell_type": "code",
   "execution_count": 4,
   "metadata": {},
   "outputs": [
    {
     "data": {
      "text/html": [
       "<div>\n",
       "<style scoped>\n",
       "    .dataframe tbody tr th:only-of-type {\n",
       "        vertical-align: middle;\n",
       "    }\n",
       "\n",
       "    .dataframe tbody tr th {\n",
       "        vertical-align: top;\n",
       "    }\n",
       "\n",
       "    .dataframe thead th {\n",
       "        text-align: right;\n",
       "    }\n",
       "</style>\n",
       "<table border=\"1\" class=\"dataframe\">\n",
       "  <thead>\n",
       "    <tr style=\"text-align: right;\">\n",
       "      <th></th>\n",
       "      <th>house</th>\n",
       "      <th>total_area</th>\n",
       "      <th>built_area</th>\n",
       "      <th>bedrooms</th>\n",
       "      <th>bathrooms</th>\n",
       "      <th>zone_east</th>\n",
       "      <th>zone_north</th>\n",
       "      <th>zone_northeast</th>\n",
       "      <th>zone_rural east</th>\n",
       "      <th>zone_rural west</th>\n",
       "      <th>zone_south</th>\n",
       "      <th>zone_southeast</th>\n",
       "      <th>zone_west</th>\n",
       "    </tr>\n",
       "  </thead>\n",
       "  <tbody>\n",
       "    <tr>\n",
       "      <th>0</th>\n",
       "      <td>1.248715</td>\n",
       "      <td>0.600521</td>\n",
       "      <td>0.620878</td>\n",
       "      <td>2.178508</td>\n",
       "      <td>0.919623</td>\n",
       "      <td>-0.401790</td>\n",
       "      <td>-0.258872</td>\n",
       "      <td>-0.474516</td>\n",
       "      <td>-0.298069</td>\n",
       "      <td>-0.252588</td>\n",
       "      <td>-0.360579</td>\n",
       "      <td>2.725313</td>\n",
       "      <td>-0.297044</td>\n",
       "    </tr>\n",
       "    <tr>\n",
       "      <th>1</th>\n",
       "      <td>1.248715</td>\n",
       "      <td>0.688534</td>\n",
       "      <td>0.149475</td>\n",
       "      <td>0.224363</td>\n",
       "      <td>0.919623</td>\n",
       "      <td>-0.401790</td>\n",
       "      <td>-0.258872</td>\n",
       "      <td>-0.474516</td>\n",
       "      <td>-0.298069</td>\n",
       "      <td>3.959018</td>\n",
       "      <td>-0.360579</td>\n",
       "      <td>-0.366930</td>\n",
       "      <td>-0.297044</td>\n",
       "    </tr>\n",
       "    <tr>\n",
       "      <th>2</th>\n",
       "      <td>-0.800823</td>\n",
       "      <td>-1.608512</td>\n",
       "      <td>-1.742633</td>\n",
       "      <td>-1.799294</td>\n",
       "      <td>-1.315618</td>\n",
       "      <td>-0.401790</td>\n",
       "      <td>-0.258872</td>\n",
       "      <td>-0.474516</td>\n",
       "      <td>-0.298069</td>\n",
       "      <td>-0.252588</td>\n",
       "      <td>-0.360579</td>\n",
       "      <td>-0.366930</td>\n",
       "      <td>3.366502</td>\n",
       "    </tr>\n",
       "    <tr>\n",
       "      <th>3</th>\n",
       "      <td>-0.800823</td>\n",
       "      <td>-0.600592</td>\n",
       "      <td>-0.463586</td>\n",
       "      <td>0.224363</td>\n",
       "      <td>0.102062</td>\n",
       "      <td>2.488864</td>\n",
       "      <td>-0.258872</td>\n",
       "      <td>-0.474516</td>\n",
       "      <td>-0.298069</td>\n",
       "      <td>-0.252588</td>\n",
       "      <td>-0.360579</td>\n",
       "      <td>-0.366930</td>\n",
       "      <td>-0.297044</td>\n",
       "    </tr>\n",
       "    <tr>\n",
       "      <th>4</th>\n",
       "      <td>1.248715</td>\n",
       "      <td>0.723579</td>\n",
       "      <td>0.241302</td>\n",
       "      <td>-0.606953</td>\n",
       "      <td>-1.315618</td>\n",
       "      <td>-0.401790</td>\n",
       "      <td>-0.258872</td>\n",
       "      <td>-0.474516</td>\n",
       "      <td>-0.298069</td>\n",
       "      <td>-0.252588</td>\n",
       "      <td>-0.360579</td>\n",
       "      <td>2.725313</td>\n",
       "      <td>-0.297044</td>\n",
       "    </tr>\n",
       "  </tbody>\n",
       "</table>\n",
       "</div>"
      ],
      "text/plain": [
       "      house  total_area  built_area  bedrooms  bathrooms  zone_east  \\\n",
       "0  1.248715    0.600521    0.620878  2.178508   0.919623  -0.401790   \n",
       "1  1.248715    0.688534    0.149475  0.224363   0.919623  -0.401790   \n",
       "2 -0.800823   -1.608512   -1.742633 -1.799294  -1.315618  -0.401790   \n",
       "3 -0.800823   -0.600592   -0.463586  0.224363   0.102062   2.488864   \n",
       "4  1.248715    0.723579    0.241302 -0.606953  -1.315618  -0.401790   \n",
       "\n",
       "   zone_north  zone_northeast  zone_rural east  zone_rural west  zone_south  \\\n",
       "0   -0.258872       -0.474516        -0.298069        -0.252588   -0.360579   \n",
       "1   -0.258872       -0.474516        -0.298069         3.959018   -0.360579   \n",
       "2   -0.258872       -0.474516        -0.298069        -0.252588   -0.360579   \n",
       "3   -0.258872       -0.474516        -0.298069        -0.252588   -0.360579   \n",
       "4   -0.258872       -0.474516        -0.298069        -0.252588   -0.360579   \n",
       "\n",
       "   zone_southeast  zone_west  \n",
       "0        2.725313  -0.297044  \n",
       "1       -0.366930  -0.297044  \n",
       "2       -0.366930   3.366502  \n",
       "3       -0.366930  -0.297044  \n",
       "4        2.725313  -0.297044  "
      ]
     },
     "execution_count": 4,
     "metadata": {},
     "output_type": "execute_result"
    }
   ],
   "source": [
    "# View scaled training set\n",
    "X_train_scaled.head()"
   ]
  },
  {
   "cell_type": "code",
   "execution_count": 5,
   "metadata": {},
   "outputs": [
    {
     "data": {
      "text/html": [
       "<div>\n",
       "<style scoped>\n",
       "    .dataframe tbody tr th:only-of-type {\n",
       "        vertical-align: middle;\n",
       "    }\n",
       "\n",
       "    .dataframe tbody tr th {\n",
       "        vertical-align: top;\n",
       "    }\n",
       "\n",
       "    .dataframe thead th {\n",
       "        text-align: right;\n",
       "    }\n",
       "</style>\n",
       "<table border=\"1\" class=\"dataframe\">\n",
       "  <thead>\n",
       "    <tr style=\"text-align: right;\">\n",
       "      <th></th>\n",
       "      <th>price_uf</th>\n",
       "    </tr>\n",
       "  </thead>\n",
       "  <tbody>\n",
       "    <tr>\n",
       "      <th>0</th>\n",
       "      <td>4357.11</td>\n",
       "    </tr>\n",
       "    <tr>\n",
       "      <th>1</th>\n",
       "      <td>3500.00</td>\n",
       "    </tr>\n",
       "    <tr>\n",
       "      <th>2</th>\n",
       "      <td>2280.00</td>\n",
       "    </tr>\n",
       "    <tr>\n",
       "      <th>3</th>\n",
       "      <td>7300.00</td>\n",
       "    </tr>\n",
       "    <tr>\n",
       "      <th>4</th>\n",
       "      <td>2962.84</td>\n",
       "    </tr>\n",
       "  </tbody>\n",
       "</table>\n",
       "</div>"
      ],
      "text/plain": [
       "   price_uf\n",
       "0   4357.11\n",
       "1   3500.00\n",
       "2   2280.00\n",
       "3   7300.00\n",
       "4   2962.84"
      ]
     },
     "execution_count": 5,
     "metadata": {},
     "output_type": "execute_result"
    }
   ],
   "source": [
    "# View target variable\n",
    "y_train.head()"
   ]
  },
  {
   "cell_type": "markdown",
   "metadata": {},
   "source": [
    "We begin by creating the dummy variable. First, we obtain the mean value of `y_train`, so that we can verify that it is the same as the constant given by the dummy regressor. The mean value is 7176.61 UF, which is roughly 270,000 USD. (This is incredibly high considering the average income in Chile, but that is a discussion for a different day.) "
   ]
  },
  {
   "cell_type": "code",
   "execution_count": 6,
   "metadata": {},
   "outputs": [
    {
     "data": {
      "text/plain": [
       "price_uf    7176.613683\n",
       "dtype: float64"
      ]
     },
     "execution_count": 6,
     "metadata": {},
     "output_type": "execute_result"
    }
   ],
   "source": [
    "# Find the mean price\n",
    "train_mean = y_train.mean()\n",
    "train_mean"
   ]
  },
  {
   "cell_type": "code",
   "execution_count": 7,
   "metadata": {},
   "outputs": [
    {
     "data": {
      "text/plain": [
       "array([[7176.6136834]])"
      ]
     },
     "execution_count": 7,
     "metadata": {},
     "output_type": "execute_result"
    }
   ],
   "source": [
    "# Fit the dummy regressor on the training data\n",
    "dum_reg = DummyRegressor(strategy='mean')\n",
    "start_time = time.time()\n",
    "dum_reg.fit(X_train, y_train)\n",
    "end_time = time.time()\n",
    "dummy_time = round(end_time - start_time, 2)\n",
    "\n",
    "dum_reg.constant_"
   ]
  },
  {
   "cell_type": "markdown",
   "metadata": {},
   "source": [
    "We will record the run time of all of our models including this one, although in this case it is so small as to be negligible."
   ]
  },
  {
   "cell_type": "code",
   "execution_count": 8,
   "metadata": {},
   "outputs": [
    {
     "name": "stdout",
     "output_type": "stream",
     "text": [
      "run time: 0.0 s\n"
     ]
    }
   ],
   "source": [
    "# print run time\n",
    "print('run time: {} s'.format(dummy_time))"
   ]
  },
  {
   "cell_type": "code",
   "execution_count": 9,
   "metadata": {},
   "outputs": [
    {
     "data": {
      "text/plain": [
       "array([7176.6136834, 7176.6136834, 7176.6136834, 7176.6136834,\n",
       "       7176.6136834])"
      ]
     },
     "execution_count": 9,
     "metadata": {},
     "output_type": "execute_result"
    }
   ],
   "source": [
    "# Prediction is the mean price for every example\n",
    "y_tr_pred = dum_reg.predict(X_train)\n",
    "y_tr_pred[:5]"
   ]
  },
  {
   "cell_type": "code",
   "execution_count": 10,
   "metadata": {},
   "outputs": [
    {
     "data": {
      "text/plain": [
       "array([7176.6136834, 7176.6136834, 7176.6136834, 7176.6136834,\n",
       "       7176.6136834])"
      ]
     },
     "execution_count": 10,
     "metadata": {},
     "output_type": "execute_result"
    }
   ],
   "source": [
    "# Mean price of training data also used as prediction for test set\n",
    "start_time = time.time()\n",
    "y_te_pred = dum_reg.predict(X_test)\n",
    "end_time = time.time()\n",
    "dummy_pred_time = round((end_time - start_time) * 1000, 2)\n",
    "y_te_pred[:5]"
   ]
  },
  {
   "cell_type": "code",
   "execution_count": 11,
   "metadata": {},
   "outputs": [
    {
     "name": "stdout",
     "output_type": "stream",
     "text": [
      "prediction time: 0.33 ms\n"
     ]
    }
   ],
   "source": [
    "print('prediction time: {} ms'.format(dummy_pred_time))"
   ]
  },
  {
   "cell_type": "code",
   "execution_count": 12,
   "metadata": {},
   "outputs": [
    {
     "name": "stdout",
     "output_type": "stream",
     "text": [
      "R2 for Training using Dummy Model: 0.0\n",
      "R2 for Testing using Dummy Model: -0.0007\n"
     ]
    }
   ],
   "source": [
    "# R2 is 0 for training set, meaning the MSE is equal to the variance, slightly worse for test set\n",
    "dummy_tr_r2 = round(r2_score(y_train, y_tr_pred), 4)\n",
    "dummy_te_r2 = round(r2_score(y_test, y_te_pred), 4)\n",
    "\n",
    "print('R2 for Training using Dummy Model:', dummy_tr_r2)\n",
    "print('R2 for Testing using Dummy Model:', dummy_te_r2)"
   ]
  },
  {
   "cell_type": "code",
   "execution_count": 13,
   "metadata": {},
   "outputs": [
    {
     "name": "stdout",
     "output_type": "stream",
     "text": [
      "MAE for Training using Dummy Model: 4957.43\n",
      "MAE for Testing using Dummy Model: 4710.85\n"
     ]
    }
   ],
   "source": [
    "# Mean absolute error for train and test sets\n",
    "dummy_tr_mae = round(mean_absolute_error(y_train, y_tr_pred), 2)\n",
    "dummy_te_mae = round(mean_absolute_error(y_test, y_te_pred), 2)\n",
    "\n",
    "print('MAE for Training using Dummy Model:', dummy_tr_mae)\n",
    "print('MAE for Testing using Dummy Model:', dummy_te_mae)"
   ]
  },
  {
   "cell_type": "code",
   "execution_count": 14,
   "metadata": {},
   "outputs": [
    {
     "name": "stdout",
     "output_type": "stream",
     "text": [
      "RMSE for Training using Dummy Model: 7468.68\n",
      "RMSE for Testing using Dummy Model: 6638.09\n"
     ]
    }
   ],
   "source": [
    "# Root mean squared error for train and test sets\n",
    "dummy_tr_rmse = round(np.sqrt(mean_squared_error(y_train, y_tr_pred)), 2)\n",
    "dummy_te_rmse = round(np.sqrt(mean_squared_error(y_test, y_te_pred)), 2)\n",
    "\n",
    "print('RMSE for Training using Dummy Model:', dummy_tr_rmse)\n",
    "print('RMSE for Testing using Dummy Model:', dummy_te_rmse)"
   ]
  },
  {
   "cell_type": "markdown",
   "metadata": {},
   "source": [
    "The results for R-squared are what we would expect. Namely, the training R-squared is 0 and the testing R-squared is just below 0. Notably, both of our error measures are higher for the training set, which is unusual. Below we see that the variance is higher in the training set, which is likely the reason for the higher error."
   ]
  },
  {
   "cell_type": "code",
   "execution_count": 15,
   "metadata": {},
   "outputs": [
    {
     "name": "stdout",
     "output_type": "stream",
     "text": [
      "y_train variance: 55795491.63953769\n",
      "y_test variance:  44057852.695500135\n"
     ]
    }
   ],
   "source": [
    "print('y_train variance:', float(y_train.var()))\n",
    "print('y_test variance: ', float(y_test.var()))"
   ]
  },
  {
   "cell_type": "markdown",
   "metadata": {},
   "source": [
    "## Linear Regression"
   ]
  },
  {
   "cell_type": "markdown",
   "metadata": {},
   "source": [
    "This will be the first real model.  We will use a pipeline and grid search with cross validation to determine the optimal number of features, then see how the model performs according to different metrics."
   ]
  },
  {
   "cell_type": "code",
   "execution_count": 16,
   "metadata": {},
   "outputs": [],
   "source": [
    "# Create pipeline\n",
    "pipe = make_pipeline(\n",
    "    SelectKBest(f_regression),\n",
    "    LinearRegression()\n",
    ")"
   ]
  },
  {
   "cell_type": "code",
   "execution_count": 17,
   "metadata": {},
   "outputs": [
    {
     "name": "stdout",
     "output_type": "stream",
     "text": [
      "Fitting 5 folds for each of 13 candidates, totalling 65 fits\n"
     ]
    },
    {
     "name": "stderr",
     "output_type": "stream",
     "text": [
      "[Parallel(n_jobs=-1)]: Using backend LokyBackend with 4 concurrent workers.\n",
      "[Parallel(n_jobs=-1)]: Done  42 tasks      | elapsed:  1.6min\n",
      "[Parallel(n_jobs=-1)]: Done  58 out of  65 | elapsed:  1.6min remaining:   11.6s\n",
      "[Parallel(n_jobs=-1)]: Done  65 out of  65 | elapsed:  1.6min finished\n"
     ]
    }
   ],
   "source": [
    "# Grid Search with pipeline\n",
    "k = [k+1 for k in range(len(X_train.columns))]\n",
    "grid_params = {'selectkbest__k': k}\n",
    "lr_grid_cv = GridSearchCV(pipe, param_grid=grid_params, cv=5, n_jobs=-1, verbose=1)\n",
    "\n",
    "# Fit Model and recored run time\n",
    "start_time = time.time()\n",
    "linreg1 = lr_grid_cv.fit(X_train, y_train.values.flatten())\n",
    "end_time = time.time()\n",
    "linreg1_time = round(end_time - start_time, 2)"
   ]
  },
  {
   "cell_type": "code",
   "execution_count": 18,
   "metadata": {},
   "outputs": [
    {
     "name": "stdout",
     "output_type": "stream",
     "text": [
      "run time: 97.57 sec\n"
     ]
    }
   ],
   "source": [
    "# print run time\n",
    "print('run time: {} sec'.format(linreg1_time))"
   ]
  },
  {
   "cell_type": "code",
   "execution_count": 19,
   "metadata": {},
   "outputs": [],
   "source": [
    "# Collect results of Grid Search\n",
    "score_mean = lr_grid_cv.cv_results_['mean_test_score']\n",
    "score_std = lr_grid_cv.cv_results_['std_test_score']\n",
    "cv_k = [k for k in lr_grid_cv.cv_results_['param_selectkbest__k']]"
   ]
  },
  {
   "cell_type": "code",
   "execution_count": 20,
   "metadata": {},
   "outputs": [
    {
     "data": {
      "text/plain": [
       "{'selectkbest__k': 13}"
      ]
     },
     "execution_count": 20,
     "metadata": {},
     "output_type": "execute_result"
    }
   ],
   "source": [
    "# The optimal number of best features is 13, which is all of them\n",
    "linreg1.best_params_"
   ]
  },
  {
   "cell_type": "code",
   "execution_count": 21,
   "metadata": {},
   "outputs": [
    {
     "data": {
      "image/png": "[encoded data removed]",
      "text/plain": [
       "<Figure size 720x504 with 1 Axes>"
      ]
     },
     "metadata": {
      "needs_background": "light"
     },
     "output_type": "display_data"
    }
   ],
   "source": [
    "# See performance with different numbers of best features, improvement after top 5 features is small\n",
    "best_k = lr_grid_cv.best_params_['selectkbest__k']\n",
    "plt.subplots(figsize=(10, 7))\n",
    "plt.errorbar(cv_k, score_mean, yerr=score_std)\n",
    "plt.axvline(x=best_k, c='r', ls='--', alpha=.5)\n",
    "plt.xlabel('k')\n",
    "plt.ylabel('CV score (r-squared)')\n",
    "plt.title('Pipeline mean CV score (error bars +/- 1sd)');"
   ]
  },
  {
   "cell_type": "code",
   "execution_count": 22,
   "metadata": {},
   "outputs": [],
   "source": [
    "# Call the `predict()` method of the model on both the train and test data\n",
    "y_tr_pred1 = linreg1.predict(X_train)\n",
    "\n",
    "start_time = time.time()\n",
    "y_te_pred1 = linreg1.predict(X_test)\n",
    "end_time = time.time()\n",
    "linreg1_pred_time = round((end_time - start_time) * 1000, 2)"
   ]
  },
  {
   "cell_type": "code",
   "execution_count": 23,
   "metadata": {},
   "outputs": [
    {
     "name": "stdout",
     "output_type": "stream",
     "text": [
      "prediction time: 5.48 ms\n"
     ]
    }
   ],
   "source": [
    "# Print prediction time\n",
    "print('prediction time: {} ms'.format(linreg1_pred_time))"
   ]
  },
  {
   "cell_type": "code",
   "execution_count": 24,
   "metadata": {},
   "outputs": [
    {
     "name": "stdout",
     "output_type": "stream",
     "text": [
      "R2 for Training using Linear Regression: 0.7215\n",
      "R2 for Testing using Linear Regression: 0.7219\n"
     ]
    }
   ],
   "source": [
    "# Obtain the R-squared for train and test set\n",
    "linreg1_tr_r2 = round(r2_score(y_train, y_tr_pred1), 4)\n",
    "linreg1_te_r2 = round(r2_score(y_test, y_te_pred1), 4)\n",
    "\n",
    "print('R2 for Training using Linear Regression:', linreg1_tr_r2)\n",
    "print('R2 for Testing using Linear Regression:', linreg1_te_r2)"
   ]
  },
  {
   "cell_type": "code",
   "execution_count": 25,
   "metadata": {},
   "outputs": [
    {
     "name": "stdout",
     "output_type": "stream",
     "text": [
      "MAE for Training using Linear Regression: 2088.99\n",
      "MAE for Testing using Linear Regression: 1991.0\n"
     ]
    }
   ],
   "source": [
    "# Obtain the mean absolute error for train and test set\n",
    "linreg1_tr_mae = round(mean_absolute_error(y_train, y_tr_pred1), 2)\n",
    "linreg1_te_mae = round(mean_absolute_error(y_test, y_te_pred1), 2)\n",
    "\n",
    "print('MAE for Training using Linear Regression:', linreg1_tr_mae)\n",
    "print('MAE for Testing using Linear Regression:', linreg1_te_mae)"
   ]
  },
  {
   "cell_type": "code",
   "execution_count": 26,
   "metadata": {},
   "outputs": [
    {
     "name": "stdout",
     "output_type": "stream",
     "text": [
      "Test MAE reduction compared to baseline: 57.74%\n"
     ]
    }
   ],
   "source": [
    "print('Test MAE reduction compared to baseline: {}%'.format(round((1 - (linreg1_te_mae / dummy_te_mae)) * 100, 2)))"
   ]
  },
  {
   "cell_type": "code",
   "execution_count": 27,
   "metadata": {},
   "outputs": [
    {
     "name": "stdout",
     "output_type": "stream",
     "text": [
      "RMSE for Training using Linear Regression: 3941.74\n",
      "RMSE for Testing using Linear Regression: 3499.18\n"
     ]
    }
   ],
   "source": [
    "# Obtain the root mean squared error for train and test set\n",
    "linreg1_tr_rmse = round(np.sqrt(mean_squared_error(y_train, y_tr_pred1)), 2)\n",
    "linreg1_te_rmse = round(np.sqrt(mean_squared_error(y_test, y_te_pred1)), 2)\n",
    "\n",
    "print('RMSE for Training using Linear Regression:', linreg1_tr_rmse)\n",
    "print('RMSE for Testing using Linear Regression:', linreg1_te_rmse)"
   ]
  },
  {
   "cell_type": "code",
   "execution_count": 28,
   "metadata": {},
   "outputs": [
    {
     "name": "stdout",
     "output_type": "stream",
     "text": [
      "Test RMSE reduction compared to baseline: 47.29%\n"
     ]
    }
   ],
   "source": [
    "print('Test RMSE reduction compared to baseline: {}%'.format(round((1 - (linreg1_te_rmse / dummy_te_rmse)) * 100, 2)))"
   ]
  },
  {
   "cell_type": "markdown",
   "metadata": {},
   "source": [
    "So using linear regression we can expect our predicted prices and the true prices to differ by an average of 1991 UF (about 76,500 USD at the time this notebook was created). This might seem like a lot, but simply using the mean price to make our predictions gives an average error of 4711 UF (roughly 181,000 USD). This means we have reduced the error by around 58%. Next we will repeat the process using scaled data."
   ]
  },
  {
   "cell_type": "code",
   "execution_count": 29,
   "metadata": {},
   "outputs": [
    {
     "name": "stdout",
     "output_type": "stream",
     "text": [
      "Fitting 5 folds for each of 13 candidates, totalling 65 fits\n"
     ]
    },
    {
     "name": "stderr",
     "output_type": "stream",
     "text": [
      "[Parallel(n_jobs=-1)]: Using backend LokyBackend with 4 concurrent workers.\n",
      "[Parallel(n_jobs=-1)]: Done  65 out of  65 | elapsed:    0.6s finished\n"
     ]
    }
   ],
   "source": [
    "# Fit linear regression model with Grid Search to scaled training data, record run time\n",
    "lr_grid_cv2 = GridSearchCV(pipe, param_grid=grid_params, cv=5, n_jobs=-1, verbose=1)\n",
    "\n",
    "start_time = time.time()\n",
    "linreg2 = lr_grid_cv2.fit(X_train_scaled, y_train.values.flatten())\n",
    "end_time = time.time()\n",
    "linreg2_time = round(end_time - start_time, 2)"
   ]
  },
  {
   "cell_type": "code",
   "execution_count": 30,
   "metadata": {},
   "outputs": [
    {
     "name": "stdout",
     "output_type": "stream",
     "text": [
      "run time: 0.86 sec\n"
     ]
    }
   ],
   "source": [
    "# print run time\n",
    "print('run time: {} sec'.format(linreg2_time))"
   ]
  },
  {
   "cell_type": "code",
   "execution_count": 31,
   "metadata": {},
   "outputs": [],
   "source": [
    "# Collect results of Grid Search\n",
    "score_mean = lr_grid_cv2.cv_results_['mean_test_score']\n",
    "score_std = lr_grid_cv2.cv_results_['std_test_score']\n",
    "cv_k = [k for k in lr_grid_cv2.cv_results_['param_selectkbest__k']]"
   ]
  },
  {
   "cell_type": "code",
   "execution_count": 32,
   "metadata": {},
   "outputs": [
    {
     "data": {
      "text/plain": [
       "{'selectkbest__k': 13}"
      ]
     },
     "execution_count": 32,
     "metadata": {},
     "output_type": "execute_result"
    }
   ],
   "source": [
    "# Once again, the optimal number of best features is 13, which is all of them\n",
    "linreg2.best_params_"
   ]
  },
  {
   "cell_type": "code",
   "execution_count": 33,
   "metadata": {},
   "outputs": [
    {
     "data": {
      "image/png": "[encoded data removed]",
      "text/plain": [
       "<Figure size 720x504 with 1 Axes>"
      ]
     },
     "metadata": {
      "needs_background": "light"
     },
     "output_type": "display_data"
    }
   ],
   "source": [
    "# See performance with different numbers of best features, improvement after top 6 features is small\n",
    "best_k = lr_grid_cv2.best_params_['selectkbest__k']\n",
    "plt.subplots(figsize=(10, 7))\n",
    "plt.errorbar(cv_k, score_mean, yerr=score_std)\n",
    "plt.axvline(x=best_k, c='r', ls='--', alpha=.5)\n",
    "plt.xlabel('k')\n",
    "plt.ylabel('CV score (r-squared)')\n",
    "plt.title('Pipeline mean CV score (error bars +/- 1sd)');"
   ]
  },
  {
   "cell_type": "code",
   "execution_count": 34,
   "metadata": {},
   "outputs": [],
   "source": [
    "# Call the `predict()` method of the model on both the (scaled) train and test data\n",
    "y_tr_pred2 = linreg2.predict(X_train_scaled)\n",
    "\n",
    "start_time = time.time()\n",
    "y_te_pred2 = linreg2.predict(X_test_scaled)\n",
    "end_time = time.time()\n",
    "linreg2_pred_time = round((end_time - start_time) * 1000, 2)"
   ]
  },
  {
   "cell_type": "code",
   "execution_count": 35,
   "metadata": {},
   "outputs": [
    {
     "name": "stdout",
     "output_type": "stream",
     "text": [
      "prediction time: 4.91 ms\n"
     ]
    }
   ],
   "source": [
    "# Print prediction time\n",
    "print('prediction time: {} ms'.format(linreg2_pred_time))"
   ]
  },
  {
   "cell_type": "code",
   "execution_count": 36,
   "metadata": {},
   "outputs": [
    {
     "name": "stdout",
     "output_type": "stream",
     "text": [
      "R2 for Training using Linear Regression: 0.5755\n",
      "R2 for Linear Regression using Scaled Data: 0.5562\n"
     ]
    }
   ],
   "source": [
    "# Obtain the R-squared for (scaled) train and test set\n",
    "linreg2_tr_r2 = round(r2_score(y_train, y_tr_pred2), 4)\n",
    "linreg2_te_r2 = round(r2_score(y_test, y_te_pred2), 4)\n",
    "\n",
    "print('R2 for Training using Linear Regression:', linreg2_tr_r2)\n",
    "print('R2 for Linear Regression using Scaled Data:', linreg2_te_r2)"
   ]
  },
  {
   "cell_type": "code",
   "execution_count": 37,
   "metadata": {},
   "outputs": [
    {
     "name": "stdout",
     "output_type": "stream",
     "text": [
      "MAE for Training using Linear Regression with Scaled Data: 2752.58\n",
      "MAE for Testing using Linear Regression with Scaled Data: 2746.2\n"
     ]
    }
   ],
   "source": [
    "# Obtain the mean absolute error for (scaled) train and test set\n",
    "linreg2_tr_mae = round(mean_absolute_error(y_train, y_tr_pred2), 2)\n",
    "linreg2_te_mae = round(mean_absolute_error(y_test, y_te_pred2), 2)\n",
    "\n",
    "print('MAE for Training using Linear Regression with Scaled Data:', linreg2_tr_mae)\n",
    "print('MAE for Testing using Linear Regression with Scaled Data:', linreg2_te_mae)"
   ]
  },
  {
   "cell_type": "code",
   "execution_count": 38,
   "metadata": {},
   "outputs": [
    {
     "name": "stdout",
     "output_type": "stream",
     "text": [
      "Test MAE reduction compared to baseline: 41.7%\n"
     ]
    }
   ],
   "source": [
    "print('Test MAE reduction compared to baseline: {}%'.format(round((1 - (linreg2_te_mae / dummy_te_mae)) * 100, 2)))"
   ]
  },
  {
   "cell_type": "code",
   "execution_count": 39,
   "metadata": {},
   "outputs": [
    {
     "name": "stdout",
     "output_type": "stream",
     "text": [
      "RMSE for Training using Linear Regression with Scaled Data: 4865.91\n",
      "RMSE for Testing using Linear Regression with Scaled Data: 4420.76\n"
     ]
    }
   ],
   "source": [
    "# Obtain the root mean squared error for (scaled) train and test set\n",
    "linreg2_tr_rmse = round(np.sqrt(mean_squared_error(y_train, y_tr_pred2)), 2)\n",
    "linreg2_te_rmse = round(np.sqrt(mean_squared_error(y_test, y_te_pred2)), 2)\n",
    "\n",
    "print('RMSE for Training using Linear Regression with Scaled Data:', linreg2_tr_rmse)\n",
    "print('RMSE for Testing using Linear Regression with Scaled Data:', linreg2_te_rmse)"
   ]
  },
  {
   "cell_type": "code",
   "execution_count": 40,
   "metadata": {},
   "outputs": [
    {
     "name": "stdout",
     "output_type": "stream",
     "text": [
      "Test RMSE reduction compared to baseline: 33.4%\n"
     ]
    }
   ],
   "source": [
    "print('Test RMSE reduction compared to baseline: {}%'.format(round((1 - (linreg2_te_rmse / dummy_te_rmse)) * 100, 2)))"
   ]
  },
  {
   "cell_type": "markdown",
   "metadata": {},
   "source": [
    "In this case, using scaled data with Linear Regression actually gives us worse results (lower R-squared, higher error) than using the original data, although the results are still much better than the dummy model."
   ]
  },
  {
   "cell_type": "markdown",
   "metadata": {},
   "source": [
    "## Random Forest Regressor"
   ]
  },
  {
   "cell_type": "markdown",
   "metadata": {},
   "source": [
    "Next we will try a Random Forest Regressor, and we will tune the hyperparameters using a Randomized Search. We will fit the model to the training data using the best parameters, and then evaluate the performance according to various metrics."
   ]
  },
  {
   "cell_type": "code",
   "execution_count": 41,
   "metadata": {},
   "outputs": [
    {
     "name": "stdout",
     "output_type": "stream",
     "text": [
      "Fitting 5 folds for each of 100 candidates, totalling 500 fits\n"
     ]
    },
    {
     "name": "stderr",
     "output_type": "stream",
     "text": [
      "[Parallel(n_jobs=-1)]: Using backend LokyBackend with 4 concurrent workers.\n",
      "[Parallel(n_jobs=-1)]: Done  42 tasks      | elapsed:   11.8s\n",
      "[Parallel(n_jobs=-1)]: Done 192 tasks      | elapsed:  1.0min\n",
      "[Parallel(n_jobs=-1)]: Done 442 tasks      | elapsed:  2.9min\n",
      "[Parallel(n_jobs=-1)]: Done 500 out of 500 | elapsed:  3.2min finished\n"
     ]
    }
   ],
   "source": [
    "# Define Hyperparameter Grid\n",
    "random_grid = {'n_estimators': [20, 50, 100, 200, 400, 800],\n",
    "               'max_features': ['auto', 'sqrt'],\n",
    "               'max_depth': [5, 10, 20, 30, 40, 50], # 60, 70, 80, 90, 100, None],\n",
    "               'min_samples_split': [1, 2, 4, 8],\n",
    "               'min_samples_leaf': [1, 2, 4, 8],\n",
    "               'bootstrap': [True, False]}\n",
    "\n",
    "# Create instance of Random Forest Regressor\n",
    "rf = RandomForestRegressor()\n",
    "\n",
    "# Create instance of Randomized Search\n",
    "rf1 = RandomizedSearchCV(estimator = rf, param_distributions = random_grid, n_iter = 100, cv = 5, verbose=1, \n",
    "                          random_state=42, n_jobs = -1)\n",
    "\n",
    "# Fit model and record run time\n",
    "start_time = time.time()\n",
    "rf1.fit(X_train, y_train.values.flatten())\n",
    "end_time = time.time()\n",
    "rf1_time = round(end_time - start_time, 2)"
   ]
  },
  {
   "cell_type": "code",
   "execution_count": 42,
   "metadata": {},
   "outputs": [
    {
     "data": {
      "text/plain": [
       "{'n_estimators': 800,\n",
       " 'min_samples_split': 2,\n",
       " 'min_samples_leaf': 2,\n",
       " 'max_features': 'sqrt',\n",
       " 'max_depth': 30,\n",
       " 'bootstrap': True}"
      ]
     },
     "execution_count": 42,
     "metadata": {},
     "output_type": "execute_result"
    }
   ],
   "source": [
    "# Check best parameters\n",
    "rf1.best_params_"
   ]
  },
  {
   "cell_type": "code",
   "execution_count": 43,
   "metadata": {},
   "outputs": [
    {
     "name": "stdout",
     "output_type": "stream",
     "text": [
      "runtime: 194.44 sec\n"
     ]
    }
   ],
   "source": [
    "# print run time\n",
    "print('runtime: {} sec'.format(rf1_time))"
   ]
  },
  {
   "cell_type": "code",
   "execution_count": 44,
   "metadata": {},
   "outputs": [],
   "source": [
    "# Call the `predict()` method of the model on both the train and test data\n",
    "y_tr_pred1 = rf1.predict(X_train)\n",
    "\n",
    "start_time = time.time()\n",
    "y_te_pred1 = rf1.predict(X_test)\n",
    "end_time = time.time()\n",
    "rf1_pred_time = round((end_time - start_time) * 1000, 2)"
   ]
  },
  {
   "cell_type": "code",
   "execution_count": 45,
   "metadata": {},
   "outputs": [
    {
     "name": "stdout",
     "output_type": "stream",
     "text": [
      "prediction time: 254.18 ms\n"
     ]
    }
   ],
   "source": [
    "# Print prediction time\n",
    "print('prediction time: {} ms'.format(rf1_pred_time))"
   ]
  },
  {
   "cell_type": "code",
   "execution_count": 46,
   "metadata": {},
   "outputs": [
    {
     "name": "stdout",
     "output_type": "stream",
     "text": [
      "R2 for Training using Random Forest Regressor: 0.9061\n",
      "R2 for Testing using Random Forest Regressor: 0.8419\n"
     ]
    }
   ],
   "source": [
    "# Obtain the R-squared for train and test set\n",
    "rf1_tr_r2 = round(r2_score(y_train, y_tr_pred1), 4)\n",
    "rf1_te_r2 = round(r2_score(y_test, y_te_pred1), 4)\n",
    "\n",
    "print('R2 for Training using Random Forest Regressor:', rf1_tr_r2)\n",
    "print('R2 for Testing using Random Forest Regressor:', rf1_te_r2)"
   ]
  },
  {
   "cell_type": "code",
   "execution_count": 47,
   "metadata": {},
   "outputs": [
    {
     "name": "stdout",
     "output_type": "stream",
     "text": [
      "MAE for Training using Random Forest Regressor: 1101.16\n",
      "MAE for Testing using Random Forest Regressor: 1405.89\n"
     ]
    }
   ],
   "source": [
    "# Obtain the mean absolute error for train and test set\n",
    "rf1_tr_mae = round(mean_absolute_error(y_train, y_tr_pred1), 2)\n",
    "rf1_te_mae = round(mean_absolute_error(y_test, y_te_pred1), 2)\n",
    "\n",
    "print('MAE for Training using Random Forest Regressor:', rf1_tr_mae)\n",
    "print('MAE for Testing using Random Forest Regressor:', rf1_te_mae)"
   ]
  },
  {
   "cell_type": "code",
   "execution_count": 48,
   "metadata": {},
   "outputs": [
    {
     "name": "stdout",
     "output_type": "stream",
     "text": [
      "Test MAE reduction compared to baseline: 70.16%\n"
     ]
    }
   ],
   "source": [
    "print('Test MAE reduction compared to baseline: {}%'.format(round((1 - (rf1_te_mae / dummy_te_mae)) * 100, 2)))"
   ]
  },
  {
   "cell_type": "code",
   "execution_count": 49,
   "metadata": {},
   "outputs": [
    {
     "name": "stdout",
     "output_type": "stream",
     "text": [
      "RMSE for Training using Random Forest Regressor: 2288.97\n",
      "RMSE for Testing using Random Forest Regressor: 2638.42\n"
     ]
    }
   ],
   "source": [
    "# Obtain the root mean squared error for train and test set\n",
    "rf1_tr_rmse = round(np.sqrt(mean_squared_error(y_train, y_tr_pred1)), 2)\n",
    "rf1_te_rmse = round(np.sqrt(mean_squared_error(y_test, y_te_pred1)), 2)\n",
    "\n",
    "print('RMSE for Training using Random Forest Regressor:', rf1_tr_rmse)\n",
    "print('RMSE for Testing using Random Forest Regressor:', rf1_te_rmse)"
   ]
  },
  {
   "cell_type": "code",
   "execution_count": 50,
   "metadata": {},
   "outputs": [
    {
     "name": "stdout",
     "output_type": "stream",
     "text": [
      "Test RMSE reduction compared to baseline: 60.25%\n"
     ]
    }
   ],
   "source": [
    "print('Test RMSE reduction compared to baseline: {}%'.format(round((1 - (rf1_te_rmse / dummy_te_rmse)) * 100, 2)))"
   ]
  },
  {
   "cell_type": "markdown",
   "metadata": {},
   "source": [
    "The Random Forest Regressor has performed even better than Linear Regression, reducing the MAE from the baseline model by over 70%. However, we can still expect the predictions to be off by about 1389 UF, or roughly 53,000 USD, which is substantial. The plot below shows which features were considered by the model to be most important, with `built_area` coming in first. In general, this model does not place high importance on the zones. "
   ]
  },
  {
   "cell_type": "code",
   "execution_count": 51,
   "metadata": {},
   "outputs": [
    {
     "data": {
      "image/png": "[encoded data removed]",
      "text/plain": [
       "<Figure size 720x360 with 1 Axes>"
      ]
     },
     "metadata": {},
     "output_type": "display_data"
    }
   ],
   "source": [
    "# Plot feature importance for random forest model\n",
    "sns.set(font_scale=1.2)\n",
    "plt.subplots(figsize=(10, 5))\n",
    "imps = rf1.best_estimator_.feature_importances_\n",
    "rf_feat_imps = pd.Series(imps, index=X_train.columns).sort_values(ascending=False)\n",
    "rf_feat_imps.plot(kind='bar')\n",
    "plt.xlabel('features')\n",
    "plt.ylabel('importance')\n",
    "plt.title('Best Random Forest Regressor Feature Importances');"
   ]
  },
  {
   "cell_type": "markdown",
   "metadata": {},
   "source": [
    "Next we will repeat the process using the scaled data."
   ]
  },
  {
   "cell_type": "code",
   "execution_count": 52,
   "metadata": {},
   "outputs": [
    {
     "name": "stdout",
     "output_type": "stream",
     "text": [
      "Fitting 5 folds for each of 200 candidates, totalling 1000 fits\n"
     ]
    },
    {
     "name": "stderr",
     "output_type": "stream",
     "text": [
      "[Parallel(n_jobs=-1)]: Using backend LokyBackend with 4 concurrent workers.\n",
      "[Parallel(n_jobs=-1)]: Done  42 tasks      | elapsed:    9.2s\n",
      "[Parallel(n_jobs=-1)]: Done 192 tasks      | elapsed:   56.2s\n",
      "[Parallel(n_jobs=-1)]: Done 442 tasks      | elapsed:  2.8min\n",
      "[Parallel(n_jobs=-1)]: Done 792 tasks      | elapsed:  4.6min\n",
      "[Parallel(n_jobs=-1)]: Done 1000 out of 1000 | elapsed:  6.1min finished\n"
     ]
    }
   ],
   "source": [
    "# Create new instance of Random Forest Regressor, we will use the same paramter grid as before\n",
    "rf = RandomForestRegressor()\n",
    "\n",
    "# Create instance of Randomized Search\n",
    "rf2 = RandomizedSearchCV(estimator = rf, param_distributions = random_grid, n_iter = 200, cv = 5, verbose=1, \n",
    "                          random_state=42, n_jobs = -1)\n",
    "\n",
    "# Fit Model and recored run time\n",
    "start_time = time.time()\n",
    "rf2.fit(X_train_scaled, y_train.values.flatten())\n",
    "end_time = time.time()\n",
    "rf2_time = round(end_time - start_time, 2)"
   ]
  },
  {
   "cell_type": "code",
   "execution_count": 53,
   "metadata": {},
   "outputs": [
    {
     "data": {
      "text/plain": [
       "{'n_estimators': 100,\n",
       " 'min_samples_split': 4,\n",
       " 'min_samples_leaf': 1,\n",
       " 'max_features': 'sqrt',\n",
       " 'max_depth': 30,\n",
       " 'bootstrap': True}"
      ]
     },
     "execution_count": 53,
     "metadata": {},
     "output_type": "execute_result"
    }
   ],
   "source": [
    "# Check best parameters\n",
    "rf2.best_params_"
   ]
  },
  {
   "cell_type": "code",
   "execution_count": 54,
   "metadata": {},
   "outputs": [
    {
     "name": "stdout",
     "output_type": "stream",
     "text": [
      "runtime: 368.55 sec\n"
     ]
    }
   ],
   "source": [
    "# print run time\n",
    "print('runtime: {} sec'.format(rf2_time))"
   ]
  },
  {
   "cell_type": "code",
   "execution_count": 55,
   "metadata": {},
   "outputs": [],
   "source": [
    "# Call the `predict()` method of the model on both the (scaled) train and test data\n",
    "y_tr_pred2 = rf2.predict(X_train_scaled)\n",
    "\n",
    "start_time = time.time()\n",
    "y_te_pred2 = rf2.predict(X_test_scaled)\n",
    "end_time = time.time()\n",
    "rf2_pred_time = round((end_time - start_time) * 1000, 2)"
   ]
  },
  {
   "cell_type": "code",
   "execution_count": 56,
   "metadata": {},
   "outputs": [
    {
     "name": "stdout",
     "output_type": "stream",
     "text": [
      "prediction time: 42.86 ms\n"
     ]
    }
   ],
   "source": [
    "# Print prediction time\n",
    "print('prediction time: {} ms'.format(rf2_pred_time))"
   ]
  },
  {
   "cell_type": "code",
   "execution_count": 57,
   "metadata": {},
   "outputs": [
    {
     "name": "stdout",
     "output_type": "stream",
     "text": [
      "R2 for Training using Random Forest Regressor with Scaled Data: 0.9392\n",
      "R2 for Testing using Random Forest Regressor with Scaled Data: 0.8467\n"
     ]
    }
   ],
   "source": [
    "# Obtain the R-squared for (scaled) train and test set\n",
    "rf2_tr_r2 = round(r2_score(y_train, y_tr_pred2), 4)\n",
    "rf2_te_r2 = round(r2_score(y_test, y_te_pred2), 4)\n",
    "\n",
    "print('R2 for Training using Random Forest Regressor with Scaled Data:', rf2_tr_r2)\n",
    "print('R2 for Testing using Random Forest Regressor with Scaled Data:', rf2_te_r2)"
   ]
  },
  {
   "cell_type": "code",
   "execution_count": 58,
   "metadata": {},
   "outputs": [
    {
     "name": "stdout",
     "output_type": "stream",
     "text": [
      "MAE for Training using Random Forest Regressor with Scaled Data: 908.64\n",
      "MAE for Testing using Random Forest Regressor with Scaled Data: 1407.96\n"
     ]
    }
   ],
   "source": [
    "# Obtain the mean absolute error for (scaled) train and test set\n",
    "rf2_tr_mae = round(mean_absolute_error(y_train, y_tr_pred2), 2)\n",
    "rf2_te_mae = round(mean_absolute_error(y_test, y_te_pred2), 2)\n",
    "\n",
    "print('MAE for Training using Random Forest Regressor with Scaled Data:', rf2_tr_mae)\n",
    "print('MAE for Testing using Random Forest Regressor with Scaled Data:', rf2_te_mae)"
   ]
  },
  {
   "cell_type": "code",
   "execution_count": 59,
   "metadata": {},
   "outputs": [
    {
     "name": "stdout",
     "output_type": "stream",
     "text": [
      "Test MAE reduction compared to baseline: 70.11%\n"
     ]
    }
   ],
   "source": [
    "print('Test MAE reduction compared to baseline: {}%'.format(round((1 - (rf2_te_mae / dummy_te_mae)) * 100, 2)))"
   ]
  },
  {
   "cell_type": "code",
   "execution_count": 60,
   "metadata": {},
   "outputs": [
    {
     "name": "stdout",
     "output_type": "stream",
     "text": [
      "RMSE for Training using Random Forest Regressor with Scaled Data: 1842.31\n",
      "RMSE for Testing using Random Forest Regressor with Scaled Data: 2597.76\n"
     ]
    }
   ],
   "source": [
    "# Obtain the root mean squared error for (scaled) train and test set\n",
    "rf2_tr_rmse = round(np.sqrt(mean_squared_error(y_train, y_tr_pred2)), 2)\n",
    "rf2_te_rmse = round(np.sqrt(mean_squared_error(y_test, y_te_pred2)), 2)\n",
    "\n",
    "print('RMSE for Training using Random Forest Regressor with Scaled Data:', rf2_tr_rmse)\n",
    "print('RMSE for Testing using Random Forest Regressor with Scaled Data:', rf2_te_rmse)"
   ]
  },
  {
   "cell_type": "code",
   "execution_count": 61,
   "metadata": {},
   "outputs": [
    {
     "name": "stdout",
     "output_type": "stream",
     "text": [
      "Test RMSE reduction compared to baseline: 60.87%\n"
     ]
    }
   ],
   "source": [
    "print('Test RMSE reduction compared to baseline: {}%'.format(round((1 - (rf2_te_rmse / dummy_te_rmse)) * 100, 2)))"
   ]
  },
  {
   "cell_type": "code",
   "execution_count": 62,
   "metadata": {
    "scrolled": false
   },
   "outputs": [
    {
     "data": {
      "image/png": "[encoded data removed]",
      "text/plain": [
       "<Figure size 720x360 with 1 Axes>"
      ]
     },
     "metadata": {},
     "output_type": "display_data"
    }
   ],
   "source": [
    "# Plot feature importance for random forest model using scaled data\n",
    "plt.subplots(figsize=(10, 5))\n",
    "imps = rf2.best_estimator_.feature_importances_\n",
    "rf_feat_imps = pd.Series(imps, index=X_train.columns).sort_values(ascending=False)\n",
    "rf_feat_imps.plot(kind='bar', color='orange')\n",
    "plt.xlabel('features')\n",
    "plt.ylabel('importance')\n",
    "plt.title('Best Random Forest Regressor Feature Importances with Scaled Data');"
   ]
  },
  {
   "cell_type": "markdown",
   "metadata": {},
   "source": [
    "With the Random Forest Regressor, the results from scaled data are almost identical to the original data.  The distribution of feature importance is also quite similar."
   ]
  },
  {
   "cell_type": "markdown",
   "metadata": {},
   "source": [
    "## XG Boost Regressor ##"
   ]
  },
  {
   "cell_type": "markdown",
   "metadata": {},
   "source": [
    "The final model we try will be an XG Boost Regressor. Again we will use a Randomized Search to tune the hyperparameters."
   ]
  },
  {
   "cell_type": "code",
   "execution_count": 63,
   "metadata": {},
   "outputs": [
    {
     "name": "stdout",
     "output_type": "stream",
     "text": [
      "Fitting 5 folds for each of 100 candidates, totalling 500 fits\n"
     ]
    },
    {
     "name": "stderr",
     "output_type": "stream",
     "text": [
      "[Parallel(n_jobs=-1)]: Using backend LokyBackend with 4 concurrent workers.\n",
      "[Parallel(n_jobs=-1)]: Done  42 tasks      | elapsed:   52.7s\n",
      "[Parallel(n_jobs=-1)]: Done 192 tasks      | elapsed:  3.4min\n",
      "[Parallel(n_jobs=-1)]: Done 442 tasks      | elapsed:  6.8min\n",
      "[Parallel(n_jobs=-1)]: Done 500 out of 500 | elapsed:  7.4min finished\n"
     ]
    }
   ],
   "source": [
    "# Define Hyperparameter Grid\n",
    "gbm_param_grid = {'learning_rate': [0.005, 0.01, 0.05, 0.1, 0.5],\n",
    "                  'gamma': [0, 0.1, 0.5, 1.0, 5, 10],\n",
    "                  'max_depth': [5, 10, 15, 20],\n",
    "                  'reg_lambda': [0.1, 1.0, 5.0, 10.0, 50.0, 100.0],\n",
    "                  'colsample_bytree': [0.4, 0.5, 0.6, 0.7, 0.8, 0.9, 1.0],\n",
    "                  'colsample_bylevel': [0.4, 0.5, 0.6, 0.7, 0.8, 0.9, 1.0],\n",
    "                  'min_child_weight': [0.5, 1.0, 3.0, 5.0, 7.0, 10.0],\n",
    "                  'n_estimators': [100, 200, 400, 600, 800, 1000],\n",
    "                  'subsample': np.arange(0.05, 1.05, 0.05)}\n",
    "\n",
    "# Create instance of XG Boost Regressor\n",
    "gbm = xgb.XGBRegressor()\n",
    "\n",
    "# Create instance of Randomized Search\n",
    "gbm1 = RandomizedSearchCV(estimator=gbm, param_distributions=gbm_param_grid, n_iter=100, \n",
    "                           scoring='neg_mean_squared_error', cv=5, random_state=42, n_jobs = -1, verbose=1)\n",
    "\n",
    "# Fit model and record run time\n",
    "start_time = time.time()\n",
    "gbm1.fit(X_train, y_train)\n",
    "end_time = time.time()\n",
    "gbm1_time = round(end_time - start_time, 2)"
   ]
  },
  {
   "cell_type": "code",
   "execution_count": 64,
   "metadata": {},
   "outputs": [
    {
     "data": {
      "text/plain": [
       "{'subsample': 0.55,\n",
       " 'reg_lambda': 1.0,\n",
       " 'n_estimators': 1000,\n",
       " 'min_child_weight': 3.0,\n",
       " 'max_depth': 15,\n",
       " 'learning_rate': 0.01,\n",
       " 'gamma': 1.0,\n",
       " 'colsample_bytree': 0.9,\n",
       " 'colsample_bylevel': 0.4}"
      ]
     },
     "execution_count": 64,
     "metadata": {},
     "output_type": "execute_result"
    }
   ],
   "source": [
    "# Check best parameters\n",
    "gbm1.best_params_"
   ]
  },
  {
   "cell_type": "code",
   "execution_count": 65,
   "metadata": {},
   "outputs": [
    {
     "name": "stdout",
     "output_type": "stream",
     "text": [
      "runtime: 444.84 sec\n"
     ]
    }
   ],
   "source": [
    "# print run time\n",
    "print('runtime: {} sec'.format(gbm1_time))"
   ]
  },
  {
   "cell_type": "code",
   "execution_count": 66,
   "metadata": {},
   "outputs": [],
   "source": [
    "# Call the `predict()` method of the model on both the train and test data\n",
    "y_tr_pred1 = gbm1.predict(X_train)\n",
    "\n",
    "start_time = time.time()\n",
    "y_te_pred1 = gbm1.predict(X_test)\n",
    "end_time = time.time()\n",
    "gbm1_pred_time = round((end_time - start_time) * 1000, 2)"
   ]
  },
  {
   "cell_type": "code",
   "execution_count": 67,
   "metadata": {},
   "outputs": [
    {
     "name": "stdout",
     "output_type": "stream",
     "text": [
      "prediction time: 129.88 ms\n"
     ]
    }
   ],
   "source": [
    "# Print prediction time\n",
    "print('prediction time: {} ms'.format(gbm1_pred_time))"
   ]
  },
  {
   "cell_type": "code",
   "execution_count": 68,
   "metadata": {},
   "outputs": [
    {
     "name": "stdout",
     "output_type": "stream",
     "text": [
      "R2 for Training using XG Boost Regressor: 0.9556\n",
      "R2 for Testing using XG Boost Regressor: 0.8441\n"
     ]
    }
   ],
   "source": [
    "# Obtain the R-squared for train and test set\n",
    "xgb1_tr_r2 = round(r2_score(y_train, y_tr_pred1), 4)\n",
    "xgb1_te_r2 = round(r2_score(y_test, y_te_pred1), 4)\n",
    "\n",
    "print('R2 for Training using XG Boost Regressor:', xgb1_tr_r2)\n",
    "print('R2 for Testing using XG Boost Regressor:', xgb1_te_r2)"
   ]
  },
  {
   "cell_type": "code",
   "execution_count": 69,
   "metadata": {},
   "outputs": [
    {
     "name": "stdout",
     "output_type": "stream",
     "text": [
      "MAE for Training using XG Boost Regressor: 858.66\n",
      "MAE for Testing using XG Boost Regressor: 1412.89\n"
     ]
    }
   ],
   "source": [
    "# Obtain the mean absolute error for train and test set\n",
    "xgb1_tr_mae = round(mean_absolute_error(y_train, y_tr_pred1), 2)\n",
    "xgb1_te_mae = round(mean_absolute_error(y_test, y_te_pred1), 2)\n",
    "\n",
    "print('MAE for Training using XG Boost Regressor:', xgb1_tr_mae)\n",
    "print('MAE for Testing using XG Boost Regressor:', xgb1_te_mae)"
   ]
  },
  {
   "cell_type": "code",
   "execution_count": 70,
   "metadata": {},
   "outputs": [
    {
     "name": "stdout",
     "output_type": "stream",
     "text": [
      "Test MAE reduction compared to baseline: 70.01%\n"
     ]
    }
   ],
   "source": [
    "print('Test MAE reduction compared to baseline: {}%'.format(round((1 - (xgb1_te_mae / dummy_te_mae)) * 100, 2)))"
   ]
  },
  {
   "cell_type": "code",
   "execution_count": 71,
   "metadata": {},
   "outputs": [
    {
     "name": "stdout",
     "output_type": "stream",
     "text": [
      "RMSE for Training using XG Boost Regressor: 1573.18\n",
      "RMSE for Testing using XG Boost Regressor: 2620.16\n"
     ]
    }
   ],
   "source": [
    "# Obtain the root mean squared error for train and test set\n",
    "xgb1_tr_rmse = round(np.sqrt(mean_squared_error(y_train, y_tr_pred1)), 2)\n",
    "xgb1_te_rmse = round(np.sqrt(mean_squared_error(y_test, y_te_pred1)), 2)\n",
    "\n",
    "print('RMSE for Training using XG Boost Regressor:', xgb1_tr_rmse)\n",
    "print('RMSE for Testing using XG Boost Regressor:', xgb1_te_rmse)"
   ]
  },
  {
   "cell_type": "code",
   "execution_count": 72,
   "metadata": {},
   "outputs": [
    {
     "name": "stdout",
     "output_type": "stream",
     "text": [
      "Test RMSE reduction compared to baseline: 60.53%\n"
     ]
    }
   ],
   "source": [
    "print('Test RMSE reduction compared to baseline: {}%'.format(round((1 - (xgb1_te_rmse / dummy_te_rmse)) * 100, 2)))"
   ]
  },
  {
   "cell_type": "markdown",
   "metadata": {},
   "source": [
    "Interestingly, the results from the XG Boost Regressor are almost exactly the same as both Random Forest models, although the features the model considers to be most important are completely different (shown below). This could be because boosting algorithms focus on examples with high error. The most important feature in this case is being located in the northeast zone of the city. It makes sense that listings in this zone would cause problems, because they are likely to be much more expensive than similar homes in other areas."
   ]
  },
  {
   "cell_type": "code",
   "execution_count": 73,
   "metadata": {},
   "outputs": [
    {
     "data": {
      "image/png": "[encoded data removed]",
      "text/plain": [
       "<Figure size 720x360 with 1 Axes>"
      ]
     },
     "metadata": {},
     "output_type": "display_data"
    }
   ],
   "source": [
    "# Plot feature importance for XG Boost model\n",
    "plt.subplots(figsize=(10, 5))\n",
    "imps = gbm1.best_estimator_.feature_importances_\n",
    "rf_feat_imps = pd.Series(imps, index=X_train.columns).sort_values(ascending=False)\n",
    "rf_feat_imps.plot(kind='bar')\n",
    "plt.xlabel('features')\n",
    "plt.ylabel('importance')\n",
    "plt.title('Best XG Boost Regressor Feature Importances');"
   ]
  },
  {
   "cell_type": "markdown",
   "metadata": {},
   "source": [
    "Finally, we will use an XG Boost Regressor with the scaled data to see if there is an improvement, although up to this point, the scaling has not benefitted the results"
   ]
  },
  {
   "cell_type": "code",
   "execution_count": 74,
   "metadata": {},
   "outputs": [
    {
     "name": "stdout",
     "output_type": "stream",
     "text": [
      "Fitting 5 folds for each of 100 candidates, totalling 500 fits\n"
     ]
    },
    {
     "name": "stderr",
     "output_type": "stream",
     "text": [
      "[Parallel(n_jobs=-1)]: Using backend LokyBackend with 4 concurrent workers.\n",
      "[Parallel(n_jobs=-1)]: Done  42 tasks      | elapsed:   36.9s\n",
      "[Parallel(n_jobs=-1)]: Done 192 tasks      | elapsed:  3.1min\n",
      "[Parallel(n_jobs=-1)]: Done 442 tasks      | elapsed:  6.3min\n",
      "[Parallel(n_jobs=-1)]: Done 500 out of 500 | elapsed:  6.9min finished\n"
     ]
    }
   ],
   "source": [
    "# Create new instance of XG Boost Regressor, we will use the same paramter grid as before\n",
    "gbm = xgb.XGBRegressor()\n",
    "\n",
    "# Create instance of Randomized Search\n",
    "gbm2 = RandomizedSearchCV(estimator=gbm, param_distributions=gbm_param_grid, n_iter=100, \n",
    "                           scoring='neg_mean_squared_error', cv=5, random_state=42, n_jobs = -1, verbose=1)\n",
    "\n",
    "# Fit model and record run time\n",
    "start_time = time.time()\n",
    "gbm2.fit(X_train_scaled, y_train)\n",
    "end_time = time.time()\n",
    "gbm2_time = round(end_time - start_time, 2)"
   ]
  },
  {
   "cell_type": "code",
   "execution_count": 75,
   "metadata": {},
   "outputs": [
    {
     "data": {
      "text/plain": [
       "{'subsample': 0.9000000000000001,\n",
       " 'reg_lambda': 1.0,\n",
       " 'n_estimators': 1000,\n",
       " 'min_child_weight': 5.0,\n",
       " 'max_depth': 20,\n",
       " 'learning_rate': 0.005,\n",
       " 'gamma': 1.0,\n",
       " 'colsample_bytree': 1.0,\n",
       " 'colsample_bylevel': 0.4}"
      ]
     },
     "execution_count": 75,
     "metadata": {},
     "output_type": "execute_result"
    }
   ],
   "source": [
    "# Check best parameters\n",
    "gbm2.best_params_"
   ]
  },
  {
   "cell_type": "code",
   "execution_count": 76,
   "metadata": {},
   "outputs": [
    {
     "name": "stdout",
     "output_type": "stream",
     "text": [
      "runtime: 419.94 sec\n"
     ]
    }
   ],
   "source": [
    "# print run time\n",
    "print('runtime: {} sec'.format(gbm2_time))"
   ]
  },
  {
   "cell_type": "code",
   "execution_count": 77,
   "metadata": {},
   "outputs": [],
   "source": [
    "# Call the `predict()` method of the model on both the (scaled) train and test data\n",
    "y_tr_pred2 = gbm2.predict(X_train_scaled)\n",
    "\n",
    "start_time = time.time()\n",
    "y_te_pred2 = gbm2.predict(X_test_scaled)\n",
    "end_time = time.time()\n",
    "gbm2_pred_time = round((end_time - start_time) * 1000, 2)"
   ]
  },
  {
   "cell_type": "code",
   "execution_count": 78,
   "metadata": {},
   "outputs": [
    {
     "name": "stdout",
     "output_type": "stream",
     "text": [
      "prediction time: 206.13 ms\n"
     ]
    }
   ],
   "source": [
    "# Print prediction time\n",
    "print('prediction time: {} ms'.format(gbm2_pred_time))"
   ]
  },
  {
   "cell_type": "code",
   "execution_count": 79,
   "metadata": {},
   "outputs": [
    {
     "name": "stdout",
     "output_type": "stream",
     "text": [
      "R2 for Training using XG Boost Regressor with Scaled Data: 0.9411\n",
      "R2 for Testing using XG Boost Regressor with Scaled Data: 0.8489\n"
     ]
    }
   ],
   "source": [
    "# Obtain the R-squared for (scaled) train and test set\n",
    "xgb2_tr_r2 = round(r2_score(y_train, y_tr_pred2), 4)\n",
    "xgb2_te_r2 = round(r2_score(y_test, y_te_pred2), 4)\n",
    "\n",
    "print('R2 for Training using XG Boost Regressor with Scaled Data:', xgb2_tr_r2)\n",
    "print('R2 for Testing using XG Boost Regressor with Scaled Data:', xgb2_te_r2)"
   ]
  },
  {
   "cell_type": "code",
   "execution_count": 80,
   "metadata": {},
   "outputs": [
    {
     "name": "stdout",
     "output_type": "stream",
     "text": [
      "MAE for Training using XG Boost Regressor with Scaled Data: 914.83\n",
      "MAE for Testing using XG Boost Regressor with Scaled Data: 1371.83\n"
     ]
    }
   ],
   "source": [
    "# Obtain the mean absolute error for (scaled) train and test set\n",
    "xgb2_tr_mae = round(mean_absolute_error(y_train, y_tr_pred2), 2)\n",
    "xgb2_te_mae = round(mean_absolute_error(y_test, y_te_pred2), 2)\n",
    "\n",
    "print('MAE for Training using XG Boost Regressor with Scaled Data:', xgb2_tr_mae)\n",
    "print('MAE for Testing using XG Boost Regressor with Scaled Data:', xgb2_te_mae)"
   ]
  },
  {
   "cell_type": "code",
   "execution_count": 81,
   "metadata": {},
   "outputs": [
    {
     "name": "stdout",
     "output_type": "stream",
     "text": [
      "Test MAE reduction compared to baseline: 70.88%\n"
     ]
    }
   ],
   "source": [
    "print('Test MAE reduction compared to baseline: {}%'.format(round((1 - (xgb2_te_mae / dummy_te_mae)) * 100, 2)))"
   ]
  },
  {
   "cell_type": "code",
   "execution_count": 82,
   "metadata": {},
   "outputs": [
    {
     "name": "stdout",
     "output_type": "stream",
     "text": [
      "RMSE for Training using XG Boost Regressor with Scaled Data: 1812.94\n",
      "RMSE for Testing using XG Boost Regressor with Scaled Data: 2579.13\n"
     ]
    }
   ],
   "source": [
    "# Obtain the root mean squared error for (scaled) train and test set\n",
    "xgb2_tr_rmse = round(np.sqrt(mean_squared_error(y_train, y_tr_pred2)), 2)\n",
    "xgb2_te_rmse = round(np.sqrt(mean_squared_error(y_test, y_te_pred2)), 2)\n",
    "\n",
    "print('RMSE for Training using XG Boost Regressor with Scaled Data:', xgb2_tr_rmse)\n",
    "print('RMSE for Testing using XG Boost Regressor with Scaled Data:', xgb2_te_rmse)"
   ]
  },
  {
   "cell_type": "code",
   "execution_count": 83,
   "metadata": {},
   "outputs": [
    {
     "name": "stdout",
     "output_type": "stream",
     "text": [
      "Test RMSE reduction compared to baseline: 61.15%\n"
     ]
    }
   ],
   "source": [
    "print('Test RMSE reduction compared to baseline: {}%'.format(round((1 - (xgb2_te_rmse / dummy_te_rmse)) * 100, 2)))"
   ]
  },
  {
   "cell_type": "markdown",
   "metadata": {},
   "source": [
    "As with the Random Forest model, using the scaled data has produced essentially te same results as the original data, and also the same feature importance."
   ]
  },
  {
   "cell_type": "code",
   "execution_count": 84,
   "metadata": {
    "scrolled": false
   },
   "outputs": [
    {
     "data": {
      "image/png": "[encoded data removed]",
      "text/plain": [
       "<Figure size 720x360 with 1 Axes>"
      ]
     },
     "metadata": {},
     "output_type": "display_data"
    }
   ],
   "source": [
    "# Plot feature importance for XG Boost model using scaled data\n",
    "plt.subplots(figsize=(10, 5))\n",
    "imps = gbm2.best_estimator_.feature_importances_\n",
    "rf_feat_imps = pd.Series(imps, index=X_train.columns).sort_values(ascending=False)\n",
    "rf_feat_imps.plot(kind='bar', color='orange')\n",
    "plt.xlabel('features')\n",
    "plt.ylabel('importance')\n",
    "plt.title('Best XG Boost Regressor Feature Importances with Scaled Data');"
   ]
  },
  {
   "cell_type": "markdown",
   "metadata": {},
   "source": [
    "## Average of Models ##"
   ]
  },
  {
   "cell_type": "markdown",
   "metadata": {},
   "source": [
    "In recent years some of the models that have been most successful have actually been combinations of multiple models. After experimenting with multiple combinations of the models, the best seems to be a 50 / 50 split between the Random Forest Regressor and the XG Boost Regressor. Unfortunately, the Linear Regression model only lowered the overall score, although there are examples that it is better at predicting, as we shall see. Since using scaled data has not offered any benefit so far, we will use the only the original data in the next section."
   ]
  },
  {
   "cell_type": "code",
   "execution_count": 85,
   "metadata": {},
   "outputs": [],
   "source": [
    "def avg_models(X_tr, X_te, y_tr, y_te):\n",
    "    \n",
    "    y_tr_preds_rf = rf1.predict(X_tr)\n",
    "    y_te_preds_rf = rf1.predict(X_te)\n",
    "\n",
    "    y_tr_preds_xgb = gbm1.predict(X_tr)\n",
    "    y_te_preds_xgb = gbm1.predict(X_te)\n",
    "    \n",
    "    y_tr_preds_avg = ((y_tr_preds_rf.flatten() * 0.5) + (y_tr_preds_xgb.flatten() * 0.5))\n",
    "    y_te_preds_avg = ((y_te_preds_rf.flatten() * 0.5) + (y_te_preds_xgb.flatten() * 0.5))\n",
    "    \n",
    "    return y_tr_preds_avg, y_te_preds_avg"
   ]
  },
  {
   "cell_type": "code",
   "execution_count": 86,
   "metadata": {},
   "outputs": [],
   "source": [
    "y_tr_preds_avg, y_te_preds_avg = avg_models(X_train, X_test, y_train, y_test)"
   ]
  },
  {
   "cell_type": "code",
   "execution_count": 87,
   "metadata": {},
   "outputs": [
    {
     "name": "stdout",
     "output_type": "stream",
     "text": [
      "R2 for Training using Average of Models: 0.9364\n",
      "R2 for Testing using Average of Models: 0.8477\n"
     ]
    }
   ],
   "source": [
    "# Obtain the R-squared for train and test set\n",
    "avg_tr_r2 = round(r2_score(y_train, y_tr_preds_avg), 4)\n",
    "avg_te_r2 = round(r2_score(y_test, y_te_preds_avg), 4)\n",
    "\n",
    "print('R2 for Training using Average of Models:', avg_tr_r2)\n",
    "print('R2 for Testing using Average of Models:', avg_te_r2)"
   ]
  },
  {
   "cell_type": "code",
   "execution_count": 88,
   "metadata": {},
   "outputs": [
    {
     "name": "stdout",
     "output_type": "stream",
     "text": [
      "MAE for Training using Average of Models: 964.22\n",
      "MAE for Testing using Average of Models: 1389.39\n"
     ]
    }
   ],
   "source": [
    "# Obtain the mean absolute error for train and test set\n",
    "avg_tr_mae = round(mean_absolute_error(y_train, y_tr_preds_avg), 2)\n",
    "avg_te_mae = round(mean_absolute_error(y_test, y_te_preds_avg), 2)\n",
    "\n",
    "print('MAE for Training using Average of Models:', avg_tr_mae)\n",
    "print('MAE for Testing using Average of Models:', avg_te_mae)"
   ]
  },
  {
   "cell_type": "code",
   "execution_count": 89,
   "metadata": {},
   "outputs": [
    {
     "name": "stdout",
     "output_type": "stream",
     "text": [
      "MAE reduction compared to baseline: 70.51%\n"
     ]
    }
   ],
   "source": [
    "print('MAE reduction compared to baseline: {}%'.format(round((1 - (avg_te_mae / dummy_te_mae)) * 100, 2)))"
   ]
  },
  {
   "cell_type": "code",
   "execution_count": 90,
   "metadata": {},
   "outputs": [
    {
     "name": "stdout",
     "output_type": "stream",
     "text": [
      "RMSE for Training using XG Boost Regressor: 1883.89\n",
      "RMSE for Testing using XG Boost Regressor: 2589.42\n"
     ]
    }
   ],
   "source": [
    "# Obtain the root mean squared error for train and test set\n",
    "avg_tr_rmse = round(np.sqrt(mean_squared_error(y_train, y_tr_preds_avg)), 2)\n",
    "avg_te_rmse = round(np.sqrt(mean_squared_error(y_test, y_te_preds_avg)), 2)\n",
    "\n",
    "print('RMSE for Training using XG Boost Regressor:', avg_tr_rmse)\n",
    "print('RMSE for Testing using XG Boost Regressor:', avg_te_rmse)"
   ]
  },
  {
   "cell_type": "code",
   "execution_count": 91,
   "metadata": {},
   "outputs": [
    {
     "name": "stdout",
     "output_type": "stream",
     "text": [
      "RMSE reduction compared to baseline: 60.99%\n"
     ]
    }
   ],
   "source": [
    "print('RMSE reduction compared to baseline: {}%'.format(round((1 - (avg_te_rmse / dummy_te_rmse)) * 100, 2)))"
   ]
  },
  {
   "cell_type": "markdown",
   "metadata": {},
   "source": [
    "The scores obtained from the ensemble model are slightly better than those obtained by either model individually, although only slightly."
   ]
  },
  {
   "cell_type": "markdown",
   "metadata": {},
   "source": [
    "## Model Comparison ##"
   ]
  },
  {
   "cell_type": "markdown",
   "metadata": {},
   "source": [
    "Now it is time to view all of the models side by side to compare their performance. We can start by creating a pandas DataFrame to compare the results on the testing data. In the DataFrame below, each row is a model, and each column is a performance metric. Note that we have includedthe dummy model, as well as the combination of Random Forest and XG Boost. The run time for the combination is simply the sum of the run time for each of the two algorithms used."
   ]
  },
  {
   "cell_type": "code",
   "execution_count": 93,
   "metadata": {},
   "outputs": [
    {
     "data": {
      "text/html": [
       "<div>\n",
       "<style scoped>\n",
       "    .dataframe tbody tr th:only-of-type {\n",
       "        vertical-align: middle;\n",
       "    }\n",
       "\n",
       "    .dataframe tbody tr th {\n",
       "        vertical-align: top;\n",
       "    }\n",
       "\n",
       "    .dataframe thead th {\n",
       "        text-align: right;\n",
       "    }\n",
       "</style>\n",
       "<table border=\"1\" class=\"dataframe\">\n",
       "  <thead>\n",
       "    <tr style=\"text-align: right;\">\n",
       "      <th></th>\n",
       "      <th>r2</th>\n",
       "      <th>MAE</th>\n",
       "      <th>RMSE</th>\n",
       "      <th>run_time</th>\n",
       "      <th>pred_time_ms</th>\n",
       "    </tr>\n",
       "    <tr>\n",
       "      <th>model</th>\n",
       "      <th></th>\n",
       "      <th></th>\n",
       "      <th></th>\n",
       "      <th></th>\n",
       "      <th></th>\n",
       "    </tr>\n",
       "  </thead>\n",
       "  <tbody>\n",
       "    <tr>\n",
       "      <th>Dummy</th>\n",
       "      <td>-0.0007</td>\n",
       "      <td>4710.85</td>\n",
       "      <td>6638.09</td>\n",
       "      <td>0.00</td>\n",
       "      <td>0.33</td>\n",
       "    </tr>\n",
       "    <tr>\n",
       "      <th>LinearRegression</th>\n",
       "      <td>0.7219</td>\n",
       "      <td>1991.00</td>\n",
       "      <td>3499.18</td>\n",
       "      <td>97.57</td>\n",
       "      <td>5.48</td>\n",
       "    </tr>\n",
       "    <tr>\n",
       "      <th>LinReg_Scaled</th>\n",
       "      <td>0.5562</td>\n",
       "      <td>2746.20</td>\n",
       "      <td>4420.76</td>\n",
       "      <td>0.86</td>\n",
       "      <td>4.91</td>\n",
       "    </tr>\n",
       "    <tr>\n",
       "      <th>RandomForest</th>\n",
       "      <td>0.8419</td>\n",
       "      <td>1405.89</td>\n",
       "      <td>2638.42</td>\n",
       "      <td>194.44</td>\n",
       "      <td>254.18</td>\n",
       "    </tr>\n",
       "    <tr>\n",
       "      <th>RF_Scaled</th>\n",
       "      <td>0.8467</td>\n",
       "      <td>1407.96</td>\n",
       "      <td>2597.76</td>\n",
       "      <td>368.55</td>\n",
       "      <td>42.86</td>\n",
       "    </tr>\n",
       "    <tr>\n",
       "      <th>XGB</th>\n",
       "      <td>0.8441</td>\n",
       "      <td>1412.89</td>\n",
       "      <td>2620.16</td>\n",
       "      <td>444.84</td>\n",
       "      <td>129.88</td>\n",
       "    </tr>\n",
       "    <tr>\n",
       "      <th>XGB_Scaled</th>\n",
       "      <td>0.8489</td>\n",
       "      <td>1371.83</td>\n",
       "      <td>2579.13</td>\n",
       "      <td>419.94</td>\n",
       "      <td>206.13</td>\n",
       "    </tr>\n",
       "    <tr>\n",
       "      <th>Average</th>\n",
       "      <td>0.8477</td>\n",
       "      <td>1389.39</td>\n",
       "      <td>2589.42</td>\n",
       "      <td>639.28</td>\n",
       "      <td>384.06</td>\n",
       "    </tr>\n",
       "  </tbody>\n",
       "</table>\n",
       "</div>"
      ],
      "text/plain": [
       "                      r2      MAE     RMSE  run_time  pred_time_ms\n",
       "model                                                             \n",
       "Dummy            -0.0007  4710.85  6638.09      0.00          0.33\n",
       "LinearRegression  0.7219  1991.00  3499.18     97.57          5.48\n",
       "LinReg_Scaled     0.5562  2746.20  4420.76      0.86          4.91\n",
       "RandomForest      0.8419  1405.89  2638.42    194.44        254.18\n",
       "RF_Scaled         0.8467  1407.96  2597.76    368.55         42.86\n",
       "XGB               0.8441  1412.89  2620.16    444.84        129.88\n",
       "XGB_Scaled        0.8489  1371.83  2579.13    419.94        206.13\n",
       "Average           0.8477  1389.39  2589.42    639.28        384.06"
      ]
     },
     "execution_count": 93,
     "metadata": {},
     "output_type": "execute_result"
    }
   ],
   "source": [
    "# Create a dataframe for model comparison\n",
    "model_comparison = pd.DataFrame({'model': ['Dummy', 'LinearRegression', 'LinReg_Scaled', 'RandomForest', 'RF_Scaled', 'XGB', 'XGB_Scaled', 'Average'], \n",
    "                                 'r2':  [dummy_te_r2, linreg1_te_r2, linreg2_te_r2, rf1_te_r2, rf2_te_r2, xgb1_te_r2, xgb2_te_r2, avg_te_r2],\n",
    "                                 'MAE': [dummy_te_mae, linreg1_te_mae, linreg2_te_mae, rf1_te_mae, rf2_te_mae, xgb1_te_mae, xgb2_te_mae, avg_te_mae],\n",
    "                                 'RMSE': [dummy_te_rmse, linreg1_te_rmse, linreg2_te_rmse, rf1_te_rmse, rf2_te_rmse, xgb1_te_rmse, xgb2_te_rmse, avg_te_rmse],\n",
    "                                 'run_time': [dummy_time, linreg1_time, linreg2_time, rf1_time, rf2_time, gbm1_time, gbm2_time, (rf1_time + gbm1_time)],\n",
    "                                 'pred_time_ms': [dummy_pred_time, linreg1_pred_time, linreg2_pred_time, rf1_pred_time, rf2_pred_time, gbm1_pred_time, \n",
    "                                                  gbm2_pred_time, (rf1_pred_time + gbm1_pred_time)]\n",
    "                                })\n",
    "\n",
    "model_comparison = model_comparison.set_index('model')\n",
    "model_comparison"
   ]
  },
  {
   "cell_type": "code",
   "execution_count": 94,
   "metadata": {},
   "outputs": [
    {
     "data": {
      "image/png": "[encoded data removed]",
      "text/plain": [
       "<Figure size 720x360 with 1 Axes>"
      ]
     },
     "metadata": {},
     "output_type": "display_data"
    }
   ],
   "source": [
    "# Plot R-squared for each model\n",
    "plt.subplots(figsize=(10, 5))\n",
    "model_comparison['r2'].plot(kind='bar', color=['y', 'b', 'b', 'r', 'r', 'g', 'g', 'c'])\n",
    "plt.ylim(0, 1)\n",
    "plt.xlabel('models')\n",
    "plt.ylabel('R-squared')\n",
    "plt.title('Model R2 Comparison')\n",
    "plt.xticks(rotation=60);"
   ]
  },
  {
   "cell_type": "code",
   "execution_count": 95,
   "metadata": {},
   "outputs": [
    {
     "data": {
      "image/png": "[encoded data removed]",
      "text/plain": [
       "<Figure size 720x360 with 1 Axes>"
      ]
     },
     "metadata": {},
     "output_type": "display_data"
    }
   ],
   "source": [
    "# Plot Mean Absolute Error for each model\n",
    "plt.subplots(figsize=(10, 5))\n",
    "model_comparison['MAE'].plot(kind='bar', color=['y', 'b', 'b', 'r', 'r', 'g', 'g', 'c'])\n",
    "plt.xlabel('models')\n",
    "plt.ylabel('MAE score')\n",
    "plt.title('Model MAE Comparison')\n",
    "plt.xticks(rotation=60);"
   ]
  },
  {
   "cell_type": "code",
   "execution_count": 96,
   "metadata": {},
   "outputs": [
    {
     "data": {
      "image/png": "[encoded data removed]",
      "text/plain": [
       "<Figure size 720x360 with 1 Axes>"
      ]
     },
     "metadata": {},
     "output_type": "display_data"
    }
   ],
   "source": [
    "# Plot Root Mean Squared Error for each model\n",
    "plt.subplots(figsize=(10, 5))\n",
    "model_comparison['RMSE'].plot(kind='bar', color=['y', 'b', 'b', 'r', 'r', 'g', 'g', 'c'])\n",
    "plt.xlabel('models')\n",
    "plt.ylabel('RMSE score')\n",
    "plt.title('Model RMSE Comparison')\n",
    "plt.xticks(rotation=60);"
   ]
  },
  {
   "cell_type": "code",
   "execution_count": 97,
   "metadata": {
    "scrolled": false
   },
   "outputs": [
    {
     "data": {
      "image/png": "[encoded data removed]",
      "text/plain": [
       "<Figure size 720x360 with 1 Axes>"
      ]
     },
     "metadata": {},
     "output_type": "display_data"
    }
   ],
   "source": [
    "# Plot Run Time for each model\n",
    "plt.subplots(figsize=(10, 5))\n",
    "model_comparison['run_time'].plot(kind='bar', color=['y', 'b', 'b', 'r', 'r', 'g', 'g', 'c'])\n",
    "plt.xlabel('models')\n",
    "plt.ylabel('Run Time (Seconds)')\n",
    "plt.title('Model Run Time Comparison')\n",
    "plt.xticks(rotation=60);"
   ]
  },
  {
   "cell_type": "code",
   "execution_count": 98,
   "metadata": {
    "scrolled": false
   },
   "outputs": [
    {
     "data": {
      "image/png": "[encoded data removed]",
      "text/plain": [
       "<Figure size 720x360 with 1 Axes>"
      ]
     },
     "metadata": {},
     "output_type": "display_data"
    }
   ],
   "source": [
    "# Plot Prediction Time for each model\n",
    "plt.subplots(figsize=(10, 5))\n",
    "model_comparison['pred_time_ms'].plot(kind='bar', color=['y', 'b', 'b', 'r', 'r', 'g', 'g', 'c'])\n",
    "plt.xlabel('models')\n",
    "plt.ylabel('Prediction Time (Milliseconds)')\n",
    "plt.title('Model Prediction Time Comparison')\n",
    "plt.xticks(rotation=60);"
   ]
  },
  {
   "cell_type": "markdown",
   "metadata": {},
   "source": [
    "Although the combination of models gives the best performance, we see that there is a negligible difference between the Random Forest models, the XG Boost Models, and the combination. All of them have an MAE that hovers a little over 50,000 USD. With the average price being roughly 270,000 USD, this means this means an error of roughly 18.5%.\n",
    "\n",
    "Of these models, the Random Forest has the lowest run time. Strangely, the Random Forest had a high prediction time, although this was probably the result of some anomaly. Now we will take some random examples from the data and see how the predictions made by our different algorithms compare to the real prices."
   ]
  },
  {
   "cell_type": "code",
   "execution_count": 99,
   "metadata": {
    "scrolled": true
   },
   "outputs": [
    {
     "data": {
      "text/html": [
       "<div>\n",
       "<style scoped>\n",
       "    .dataframe tbody tr th:only-of-type {\n",
       "        vertical-align: middle;\n",
       "    }\n",
       "\n",
       "    .dataframe tbody tr th {\n",
       "        vertical-align: top;\n",
       "    }\n",
       "\n",
       "    .dataframe thead th {\n",
       "        text-align: right;\n",
       "    }\n",
       "</style>\n",
       "<table border=\"1\" class=\"dataframe\">\n",
       "  <thead>\n",
       "    <tr style=\"text-align: right;\">\n",
       "      <th></th>\n",
       "      <th>house</th>\n",
       "      <th>total_area</th>\n",
       "      <th>built_area</th>\n",
       "      <th>bedrooms</th>\n",
       "      <th>bathrooms</th>\n",
       "      <th>zone_east</th>\n",
       "      <th>zone_north</th>\n",
       "      <th>zone_northeast</th>\n",
       "      <th>zone_rural east</th>\n",
       "      <th>zone_rural west</th>\n",
       "      <th>zone_south</th>\n",
       "      <th>zone_southeast</th>\n",
       "      <th>zone_west</th>\n",
       "    </tr>\n",
       "  </thead>\n",
       "  <tbody>\n",
       "    <tr>\n",
       "      <th>1527</th>\n",
       "      <td>1</td>\n",
       "      <td>5000.0</td>\n",
       "      <td>300.0</td>\n",
       "      <td>5</td>\n",
       "      <td>5</td>\n",
       "      <td>0</td>\n",
       "      <td>0</td>\n",
       "      <td>0</td>\n",
       "      <td>0</td>\n",
       "      <td>1</td>\n",
       "      <td>0</td>\n",
       "      <td>0</td>\n",
       "      <td>0</td>\n",
       "    </tr>\n",
       "    <tr>\n",
       "      <th>1324</th>\n",
       "      <td>0</td>\n",
       "      <td>64.0</td>\n",
       "      <td>64.0</td>\n",
       "      <td>1</td>\n",
       "      <td>1</td>\n",
       "      <td>0</td>\n",
       "      <td>1</td>\n",
       "      <td>0</td>\n",
       "      <td>0</td>\n",
       "      <td>0</td>\n",
       "      <td>0</td>\n",
       "      <td>0</td>\n",
       "      <td>0</td>\n",
       "    </tr>\n",
       "    <tr>\n",
       "      <th>315</th>\n",
       "      <td>1</td>\n",
       "      <td>492.0</td>\n",
       "      <td>212.0</td>\n",
       "      <td>4</td>\n",
       "      <td>3</td>\n",
       "      <td>0</td>\n",
       "      <td>0</td>\n",
       "      <td>0</td>\n",
       "      <td>1</td>\n",
       "      <td>0</td>\n",
       "      <td>0</td>\n",
       "      <td>0</td>\n",
       "      <td>0</td>\n",
       "    </tr>\n",
       "    <tr>\n",
       "      <th>1136</th>\n",
       "      <td>0</td>\n",
       "      <td>57.0</td>\n",
       "      <td>57.0</td>\n",
       "      <td>3</td>\n",
       "      <td>2</td>\n",
       "      <td>0</td>\n",
       "      <td>0</td>\n",
       "      <td>0</td>\n",
       "      <td>0</td>\n",
       "      <td>0</td>\n",
       "      <td>1</td>\n",
       "      <td>0</td>\n",
       "      <td>0</td>\n",
       "    </tr>\n",
       "    <tr>\n",
       "      <th>1580</th>\n",
       "      <td>0</td>\n",
       "      <td>47.0</td>\n",
       "      <td>47.0</td>\n",
       "      <td>3</td>\n",
       "      <td>1</td>\n",
       "      <td>0</td>\n",
       "      <td>0</td>\n",
       "      <td>0</td>\n",
       "      <td>0</td>\n",
       "      <td>0</td>\n",
       "      <td>0</td>\n",
       "      <td>0</td>\n",
       "      <td>1</td>\n",
       "    </tr>\n",
       "    <tr>\n",
       "      <th>1515</th>\n",
       "      <td>0</td>\n",
       "      <td>64.0</td>\n",
       "      <td>64.0</td>\n",
       "      <td>2</td>\n",
       "      <td>2</td>\n",
       "      <td>1</td>\n",
       "      <td>0</td>\n",
       "      <td>0</td>\n",
       "      <td>0</td>\n",
       "      <td>0</td>\n",
       "      <td>0</td>\n",
       "      <td>0</td>\n",
       "      <td>0</td>\n",
       "    </tr>\n",
       "    <tr>\n",
       "      <th>767</th>\n",
       "      <td>1</td>\n",
       "      <td>225.0</td>\n",
       "      <td>137.0</td>\n",
       "      <td>4</td>\n",
       "      <td>3</td>\n",
       "      <td>1</td>\n",
       "      <td>0</td>\n",
       "      <td>0</td>\n",
       "      <td>0</td>\n",
       "      <td>0</td>\n",
       "      <td>0</td>\n",
       "      <td>0</td>\n",
       "      <td>0</td>\n",
       "    </tr>\n",
       "    <tr>\n",
       "      <th>1123</th>\n",
       "      <td>1</td>\n",
       "      <td>134.0</td>\n",
       "      <td>125.0</td>\n",
       "      <td>3</td>\n",
       "      <td>3</td>\n",
       "      <td>0</td>\n",
       "      <td>0</td>\n",
       "      <td>0</td>\n",
       "      <td>0</td>\n",
       "      <td>1</td>\n",
       "      <td>0</td>\n",
       "      <td>0</td>\n",
       "      <td>0</td>\n",
       "    </tr>\n",
       "    <tr>\n",
       "      <th>821</th>\n",
       "      <td>0</td>\n",
       "      <td>86.0</td>\n",
       "      <td>86.0</td>\n",
       "      <td>2</td>\n",
       "      <td>2</td>\n",
       "      <td>0</td>\n",
       "      <td>0</td>\n",
       "      <td>1</td>\n",
       "      <td>0</td>\n",
       "      <td>0</td>\n",
       "      <td>0</td>\n",
       "      <td>0</td>\n",
       "      <td>0</td>\n",
       "    </tr>\n",
       "    <tr>\n",
       "      <th>1219</th>\n",
       "      <td>0</td>\n",
       "      <td>36.0</td>\n",
       "      <td>36.0</td>\n",
       "      <td>2</td>\n",
       "      <td>1</td>\n",
       "      <td>0</td>\n",
       "      <td>0</td>\n",
       "      <td>0</td>\n",
       "      <td>0</td>\n",
       "      <td>0</td>\n",
       "      <td>0</td>\n",
       "      <td>0</td>\n",
       "      <td>0</td>\n",
       "    </tr>\n",
       "  </tbody>\n",
       "</table>\n",
       "</div>"
      ],
      "text/plain": [
       "      house  total_area  built_area  bedrooms  bathrooms  zone_east  \\\n",
       "1527      1      5000.0       300.0         5          5          0   \n",
       "1324      0        64.0        64.0         1          1          0   \n",
       "315       1       492.0       212.0         4          3          0   \n",
       "1136      0        57.0        57.0         3          2          0   \n",
       "1580      0        47.0        47.0         3          1          0   \n",
       "1515      0        64.0        64.0         2          2          1   \n",
       "767       1       225.0       137.0         4          3          1   \n",
       "1123      1       134.0       125.0         3          3          0   \n",
       "821       0        86.0        86.0         2          2          0   \n",
       "1219      0        36.0        36.0         2          1          0   \n",
       "\n",
       "      zone_north  zone_northeast  zone_rural east  zone_rural west  \\\n",
       "1527           0               0                0                1   \n",
       "1324           1               0                0                0   \n",
       "315            0               0                1                0   \n",
       "1136           0               0                0                0   \n",
       "1580           0               0                0                0   \n",
       "1515           0               0                0                0   \n",
       "767            0               0                0                0   \n",
       "1123           0               0                0                1   \n",
       "821            0               1                0                0   \n",
       "1219           0               0                0                0   \n",
       "\n",
       "      zone_south  zone_southeast  zone_west  \n",
       "1527           0               0          0  \n",
       "1324           0               0          0  \n",
       "315            0               0          0  \n",
       "1136           1               0          0  \n",
       "1580           0               0          1  \n",
       "1515           0               0          0  \n",
       "767            0               0          0  \n",
       "1123           0               0          0  \n",
       "821            0               0          0  \n",
       "1219           0               0          0  "
      ]
     },
     "execution_count": 99,
     "metadata": {},
     "output_type": "execute_result"
    }
   ],
   "source": [
    "sample_df = X_test.sample(n=10, random_state=23)\n",
    "sample_df"
   ]
  },
  {
   "cell_type": "code",
   "execution_count": 100,
   "metadata": {},
   "outputs": [],
   "source": [
    "# Create prediction intervals \n",
    "true_preds = y_test.iloc[list(sample_df.index)].values.flatten()\n",
    "\n",
    "mean_price = float(train_mean)\n",
    "\n",
    "lr_preds = linreg1.predict(sample_df).flatten()\n",
    "lr_margin = linreg1_te_mae / mean_price\n",
    "lr_min = lr_preds - (lr_preds * lr_margin)\n",
    "lr_max = lr_preds + (lr_preds * lr_margin)\n",
    "\n",
    "rf_preds = rf1.predict(sample_df)\n",
    "rf_margin = rf1_te_mae / mean_price\n",
    "rf_min = rf_preds - (rf_preds * rf_margin)\n",
    "rf_max = rf_preds + (rf_preds * rf_margin)\n",
    "\n",
    "xgb_preds = np.float64(gbm1.predict(sample_df))\n",
    "xgb_margin = xgb1_te_mae / mean_price\n",
    "xgb_min = xgb_preds - (xgb_preds * xgb_margin)\n",
    "xgb_max = xgb_preds + (xgb_preds * xgb_margin)\n",
    "\n",
    "\n",
    "avg_preds = (rf_preds + xgb_preds) / 2\n",
    "avg_mae = (rf1_te_mae + xgb1_te_mae) / 2\n",
    "avg_margin = avg_te_mae / mean_price\n",
    "avg_min = avg_preds - (avg_preds * avg_margin)\n",
    "avg_max = avg_preds + (avg_preds * avg_margin)"
   ]
  },
  {
   "cell_type": "code",
   "execution_count": 101,
   "metadata": {
    "scrolled": true
   },
   "outputs": [
    {
     "data": {
      "text/html": [
       "<div>\n",
       "<style scoped>\n",
       "    .dataframe tbody tr th:only-of-type {\n",
       "        vertical-align: middle;\n",
       "    }\n",
       "\n",
       "    .dataframe tbody tr th {\n",
       "        vertical-align: top;\n",
       "    }\n",
       "\n",
       "    .dataframe thead th {\n",
       "        text-align: right;\n",
       "    }\n",
       "</style>\n",
       "<table border=\"1\" class=\"dataframe\">\n",
       "  <thead>\n",
       "    <tr style=\"text-align: right;\">\n",
       "      <th></th>\n",
       "      <th>true_pred</th>\n",
       "      <th>lr_min</th>\n",
       "      <th>lr_max</th>\n",
       "      <th>in_lr_margin</th>\n",
       "      <th>rf_min</th>\n",
       "      <th>rf_max</th>\n",
       "      <th>in_rf_margin</th>\n",
       "      <th>xgb_min</th>\n",
       "      <th>xgb_max</th>\n",
       "      <th>in_xgb_margin</th>\n",
       "      <th>avg_min</th>\n",
       "      <th>avg_max</th>\n",
       "      <th>in_avg_margin</th>\n",
       "    </tr>\n",
       "  </thead>\n",
       "  <tbody>\n",
       "    <tr>\n",
       "      <th>1527</th>\n",
       "      <td>9000.00</td>\n",
       "      <td>9298.17</td>\n",
       "      <td>16438.17</td>\n",
       "      <td>False</td>\n",
       "      <td>9308.55</td>\n",
       "      <td>13844.13</td>\n",
       "      <td>False</td>\n",
       "      <td>8870.97</td>\n",
       "      <td>13220.13</td>\n",
       "      <td>True</td>\n",
       "      <td>9121.15</td>\n",
       "      <td>13500.74</td>\n",
       "      <td>False</td>\n",
       "    </tr>\n",
       "    <tr>\n",
       "      <th>1324</th>\n",
       "      <td>1394.28</td>\n",
       "      <td>1709.93</td>\n",
       "      <td>3022.98</td>\n",
       "      <td>False</td>\n",
       "      <td>1856.21</td>\n",
       "      <td>2760.65</td>\n",
       "      <td>False</td>\n",
       "      <td>1780.90</td>\n",
       "      <td>2654.03</td>\n",
       "      <td>False</td>\n",
       "      <td>1824.84</td>\n",
       "      <td>2701.05</td>\n",
       "      <td>False</td>\n",
       "    </tr>\n",
       "    <tr>\n",
       "      <th>315</th>\n",
       "      <td>13900.00</td>\n",
       "      <td>11511.95</td>\n",
       "      <td>20351.90</td>\n",
       "      <td>True</td>\n",
       "      <td>13066.63</td>\n",
       "      <td>19433.33</td>\n",
       "      <td>True</td>\n",
       "      <td>13227.08</td>\n",
       "      <td>19711.92</td>\n",
       "      <td>True</td>\n",
       "      <td>13192.50</td>\n",
       "      <td>19526.98</td>\n",
       "      <td>True</td>\n",
       "    </tr>\n",
       "    <tr>\n",
       "      <th>1136</th>\n",
       "      <td>3067.41</td>\n",
       "      <td>1994.43</td>\n",
       "      <td>3525.94</td>\n",
       "      <td>True</td>\n",
       "      <td>2426.88</td>\n",
       "      <td>3609.37</td>\n",
       "      <td>True</td>\n",
       "      <td>2389.20</td>\n",
       "      <td>3560.56</td>\n",
       "      <td>True</td>\n",
       "      <td>2416.38</td>\n",
       "      <td>3576.62</td>\n",
       "      <td>True</td>\n",
       "    </tr>\n",
       "    <tr>\n",
       "      <th>1580</th>\n",
       "      <td>1847.42</td>\n",
       "      <td>550.30</td>\n",
       "      <td>972.87</td>\n",
       "      <td>False</td>\n",
       "      <td>1810.64</td>\n",
       "      <td>2692.88</td>\n",
       "      <td>True</td>\n",
       "      <td>1744.25</td>\n",
       "      <td>2599.41</td>\n",
       "      <td>True</td>\n",
       "      <td>1783.59</td>\n",
       "      <td>2640.00</td>\n",
       "      <td>True</td>\n",
       "    </tr>\n",
       "    <tr>\n",
       "      <th>1515</th>\n",
       "      <td>4800.00</td>\n",
       "      <td>3875.98</td>\n",
       "      <td>6852.32</td>\n",
       "      <td>True</td>\n",
       "      <td>3870.93</td>\n",
       "      <td>5757.03</td>\n",
       "      <td>True</td>\n",
       "      <td>3885.51</td>\n",
       "      <td>5790.46</td>\n",
       "      <td>True</td>\n",
       "      <td>3891.67</td>\n",
       "      <td>5760.29</td>\n",
       "      <td>True</td>\n",
       "    </tr>\n",
       "    <tr>\n",
       "      <th>767</th>\n",
       "      <td>5350.53</td>\n",
       "      <td>6557.40</td>\n",
       "      <td>11592.79</td>\n",
       "      <td>False</td>\n",
       "      <td>7307.23</td>\n",
       "      <td>10867.67</td>\n",
       "      <td>False</td>\n",
       "      <td>7243.75</td>\n",
       "      <td>10795.14</td>\n",
       "      <td>False</td>\n",
       "      <td>7300.70</td>\n",
       "      <td>10806.19</td>\n",
       "      <td>False</td>\n",
       "    </tr>\n",
       "    <tr>\n",
       "      <th>1123</th>\n",
       "      <td>4000.00</td>\n",
       "      <td>3294.22</td>\n",
       "      <td>5823.83</td>\n",
       "      <td>True</td>\n",
       "      <td>3580.66</td>\n",
       "      <td>5325.33</td>\n",
       "      <td>True</td>\n",
       "      <td>3337.10</td>\n",
       "      <td>4973.19</td>\n",
       "      <td>True</td>\n",
       "      <td>3470.80</td>\n",
       "      <td>5137.34</td>\n",
       "      <td>True</td>\n",
       "    </tr>\n",
       "    <tr>\n",
       "      <th>821</th>\n",
       "      <td>8100.00</td>\n",
       "      <td>7510.75</td>\n",
       "      <td>13278.21</td>\n",
       "      <td>True</td>\n",
       "      <td>5733.73</td>\n",
       "      <td>8527.48</td>\n",
       "      <td>True</td>\n",
       "      <td>5925.68</td>\n",
       "      <td>8830.86</td>\n",
       "      <td>True</td>\n",
       "      <td>5849.98</td>\n",
       "      <td>8658.89</td>\n",
       "      <td>True</td>\n",
       "    </tr>\n",
       "    <tr>\n",
       "      <th>1219</th>\n",
       "      <td>1790.00</td>\n",
       "      <td>1266.58</td>\n",
       "      <td>2239.18</td>\n",
       "      <td>True</td>\n",
       "      <td>1668.28</td>\n",
       "      <td>2481.15</td>\n",
       "      <td>True</td>\n",
       "      <td>1735.14</td>\n",
       "      <td>2585.83</td>\n",
       "      <td>True</td>\n",
       "      <td>1707.64</td>\n",
       "      <td>2527.57</td>\n",
       "      <td>True</td>\n",
       "    </tr>\n",
       "  </tbody>\n",
       "</table>\n",
       "</div>"
      ],
      "text/plain": [
       "      true_pred    lr_min    lr_max  in_lr_margin    rf_min    rf_max  \\\n",
       "1527    9000.00   9298.17  16438.17         False   9308.55  13844.13   \n",
       "1324    1394.28   1709.93   3022.98         False   1856.21   2760.65   \n",
       "315    13900.00  11511.95  20351.90          True  13066.63  19433.33   \n",
       "1136    3067.41   1994.43   3525.94          True   2426.88   3609.37   \n",
       "1580    1847.42    550.30    972.87         False   1810.64   2692.88   \n",
       "1515    4800.00   3875.98   6852.32          True   3870.93   5757.03   \n",
       "767     5350.53   6557.40  11592.79         False   7307.23  10867.67   \n",
       "1123    4000.00   3294.22   5823.83          True   3580.66   5325.33   \n",
       "821     8100.00   7510.75  13278.21          True   5733.73   8527.48   \n",
       "1219    1790.00   1266.58   2239.18          True   1668.28   2481.15   \n",
       "\n",
       "      in_rf_margin   xgb_min   xgb_max  in_xgb_margin   avg_min   avg_max  \\\n",
       "1527         False   8870.97  13220.13           True   9121.15  13500.74   \n",
       "1324         False   1780.90   2654.03          False   1824.84   2701.05   \n",
       "315           True  13227.08  19711.92           True  13192.50  19526.98   \n",
       "1136          True   2389.20   3560.56           True   2416.38   3576.62   \n",
       "1580          True   1744.25   2599.41           True   1783.59   2640.00   \n",
       "1515          True   3885.51   5790.46           True   3891.67   5760.29   \n",
       "767          False   7243.75  10795.14          False   7300.70  10806.19   \n",
       "1123          True   3337.10   4973.19           True   3470.80   5137.34   \n",
       "821           True   5925.68   8830.86           True   5849.98   8658.89   \n",
       "1219          True   1735.14   2585.83           True   1707.64   2527.57   \n",
       "\n",
       "      in_avg_margin  \n",
       "1527          False  \n",
       "1324          False  \n",
       "315            True  \n",
       "1136           True  \n",
       "1580           True  \n",
       "1515           True  \n",
       "767           False  \n",
       "1123           True  \n",
       "821            True  \n",
       "1219           True  "
      ]
     },
     "execution_count": 101,
     "metadata": {},
     "output_type": "execute_result"
    }
   ],
   "source": [
    "# Compare prediction intervals to real prices\n",
    "\n",
    "preds_int_df = pd.DataFrame({'true_pred': true_preds, \n",
    "                             'lr_min': lr_min, 'lr_max': lr_max, 'in_lr_margin': (lr_min < true_preds) & (true_preds < lr_max),\n",
    "                             'rf_min': rf_min, 'rf_max': rf_max, 'in_rf_margin': (rf_min < true_preds) & (true_preds < rf_max),\n",
    "                             'xgb_min': xgb_min, 'xgb_max': xgb_max, 'in_xgb_margin': (xgb_min < true_preds) & (true_preds < xgb_max),\n",
    "                             'avg_min': avg_min, 'avg_max': avg_max, 'in_avg_margin': (avg_min < true_preds) & (true_preds < avg_max),\n",
    "                            })\n",
    "\n",
    "preds_int_df.index = sample_df.index\n",
    "preds_int_df = preds_int_df.round(2)\n",
    "preds_int_df"
   ]
  },
  {
   "cell_type": "markdown",
   "metadata": {},
   "source": [
    "Above we have a few example listings taken from the test set, and below is a DataFrame showing the real prices compared to ranges given by each model. One interesting point is that the models are often pretty consistent with each other, even if they all differ significantly from the true price.  We see this in the first two examples. Other times, the two tree-based algorithms give similar ranges, while Linear Regression gives a different range, such as rows `1580`, `821`, or `1219`. Also, we can find at least one example where each model outperforms the others."
   ]
  },
  {
   "cell_type": "code",
   "execution_count": 102,
   "metadata": {},
   "outputs": [],
   "source": [
    "# Save the best models to a pickle file\n",
    "\n",
    "from sklearn import __version__ as sklearn_version\n",
    "import datetime\n",
    "import pickle as pkl\n",
    "\n",
    "rf_model = rf1.best_estimator_\n",
    "rf_model.version = '1.0'\n",
    "rf_model.pandas_version = pd.__version__\n",
    "rf_model.numpy_version = np.__version__\n",
    "rf_model.sklearn_version = sklearn_version\n",
    "rf_model.X_columns = [col for col in X_train.columns]\n",
    "rf_model.build_datetime = datetime.datetime.now()\n",
    "\n",
    "xgb_model = gbm1.best_estimator_\n",
    "xgb_model.version = '1.0'\n",
    "xgb_model.pandas_version = pd.__version__\n",
    "xgb_model.numpy_version = np.__version__\n",
    "xgb_model.sklearn_version = sklearn_version\n",
    "xgb_model.X_columns = [col for col in X_train.columns]\n",
    "xgb_model.build_datetime = datetime.datetime.now()\n",
    "\n",
    "with open('housing_price_models.pkl', 'wb') as file:\n",
    "    pkl.dump([rf_model, xgb_model], file)"
   ]
  }
 ],
 "metadata": {
  "kernelspec": {
   "display_name": "Python 3",
   "language": "python",
   "name": "python3"
  },
  "language_info": {
   "codemirror_mode": {
    "name": "ipython",
    "version": 3
   },
   "file_extension": ".py",
   "mimetype": "text/x-python",
   "name": "python",
   "nbconvert_exporter": "python",
   "pygments_lexer": "ipython3",
   "version": "3.6.10"
  }
 },
 "nbformat": 4,
 "nbformat_minor": 4
}
