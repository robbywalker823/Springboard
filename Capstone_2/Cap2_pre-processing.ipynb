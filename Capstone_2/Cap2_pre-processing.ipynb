{
 "cells": [
  {
   "cell_type": "markdown",
   "metadata": {},
   "source": [
    "# Capstone 2: Pre-processing #"
   ]
  },
  {
   "cell_type": "markdown",
   "metadata": {},
   "source": [
    "This stage of the project will involve preparing the data for machine learning. This will include selecting appropriate features, imputing null values with sensible estimates, splitting the data into training and testing sets, and finally scaling the data. When imputing values and scaling the data it is important to avoid data leakage. This happens when information from the test set indirectly influences machine learning models."
   ]
  },
  {
   "cell_type": "code",
   "execution_count": 1,
   "metadata": {},
   "outputs": [],
   "source": [
    "# Import necessary packages\n",
    "import pandas as pd\n",
    "import numpy as np\n",
    "import matplotlib.pyplot as plt\n",
    "import seaborn as sns\n",
    "from sklearn.model_selection import train_test_split\n",
    "from sklearn.preprocessing import PowerTransformer\n",
    "import pickle as pkl"
   ]
  },
  {
   "cell_type": "code",
   "execution_count": 2,
   "metadata": {},
   "outputs": [
    {
     "data": {
      "text/html": [
       "<div>\n",
       "<style scoped>\n",
       "    .dataframe tbody tr th:only-of-type {\n",
       "        vertical-align: middle;\n",
       "    }\n",
       "\n",
       "    .dataframe tbody tr th {\n",
       "        vertical-align: top;\n",
       "    }\n",
       "\n",
       "    .dataframe thead th {\n",
       "        text-align: right;\n",
       "    }\n",
       "</style>\n",
       "<table border=\"1\" class=\"dataframe\">\n",
       "  <thead>\n",
       "    <tr style=\"text-align: right;\">\n",
       "      <th></th>\n",
       "      <th>date</th>\n",
       "      <th>comuna</th>\n",
       "      <th>house</th>\n",
       "      <th>new</th>\n",
       "      <th>total_area</th>\n",
       "      <th>built_area</th>\n",
       "      <th>bedrooms</th>\n",
       "      <th>bathrooms</th>\n",
       "      <th>furnished</th>\n",
       "      <th>address</th>\n",
       "      <th>description</th>\n",
       "      <th>price_uf</th>\n",
       "      <th>days_old</th>\n",
       "      <th>zone</th>\n",
       "    </tr>\n",
       "  </thead>\n",
       "  <tbody>\n",
       "    <tr>\n",
       "      <th>0</th>\n",
       "      <td>2020-09-10</td>\n",
       "      <td>Puente Alto</td>\n",
       "      <td>0</td>\n",
       "      <td>0</td>\n",
       "      <td>42.0</td>\n",
       "      <td>NaN</td>\n",
       "      <td>2.0</td>\n",
       "      <td>1.0</td>\n",
       "      <td>0</td>\n",
       "      <td>Puente Alto, Sgto Menadier 2779</td>\n",
       "      <td>Departamento ubicado en segundo piso, en plena...</td>\n",
       "      <td>871.42</td>\n",
       "      <td>0</td>\n",
       "      <td>southeast</td>\n",
       "    </tr>\n",
       "    <tr>\n",
       "      <th>1</th>\n",
       "      <td>2020-09-09</td>\n",
       "      <td>Ñuñoa</td>\n",
       "      <td>0</td>\n",
       "      <td>0</td>\n",
       "      <td>70.0</td>\n",
       "      <td>NaN</td>\n",
       "      <td>2.0</td>\n",
       "      <td>2.0</td>\n",
       "      <td>0</td>\n",
       "      <td>Ñuñoa, Irarrázaval 1401</td>\n",
       "      <td>Depto Vista despejada 2D 2B E B *2 dormitorios...</td>\n",
       "      <td>4900.00</td>\n",
       "      <td>1</td>\n",
       "      <td>east</td>\n",
       "    </tr>\n",
       "    <tr>\n",
       "      <th>2</th>\n",
       "      <td>2020-09-09</td>\n",
       "      <td>Santiago</td>\n",
       "      <td>0</td>\n",
       "      <td>0</td>\n",
       "      <td>23.0</td>\n",
       "      <td>NaN</td>\n",
       "      <td>1.0</td>\n",
       "      <td>1.0</td>\n",
       "      <td>0</td>\n",
       "      <td>Santiago, Huérfanos</td>\n",
       "      <td>Oportunidad Inversionistas o particulares. Ven...</td>\n",
       "      <td>1575.00</td>\n",
       "      <td>1</td>\n",
       "      <td>center</td>\n",
       "    </tr>\n",
       "    <tr>\n",
       "      <th>3</th>\n",
       "      <td>2020-09-09</td>\n",
       "      <td>Las Condes</td>\n",
       "      <td>0</td>\n",
       "      <td>0</td>\n",
       "      <td>163.0</td>\n",
       "      <td>NaN</td>\n",
       "      <td>3.0</td>\n",
       "      <td>4.0</td>\n",
       "      <td>0</td>\n",
       "      <td>Santiago, Vespucio Norte</td>\n",
       "      <td>Vespucio Norte, Las Condes, Vendo confortable ...</td>\n",
       "      <td>13500.00</td>\n",
       "      <td>1</td>\n",
       "      <td>northeast</td>\n",
       "    </tr>\n",
       "    <tr>\n",
       "      <th>4</th>\n",
       "      <td>2020-09-09</td>\n",
       "      <td>Ñuñoa</td>\n",
       "      <td>0</td>\n",
       "      <td>0</td>\n",
       "      <td>85.0</td>\n",
       "      <td>NaN</td>\n",
       "      <td>3.0</td>\n",
       "      <td>1.0</td>\n",
       "      <td>0</td>\n",
       "      <td>Ñuñoa, Fidias a 3 cuadras metro Ñuble</td>\n",
       "      <td>Amplio y luminoso departamento dúplex en Villa...</td>\n",
       "      <td>3346.26</td>\n",
       "      <td>1</td>\n",
       "      <td>east</td>\n",
       "    </tr>\n",
       "  </tbody>\n",
       "</table>\n",
       "</div>"
      ],
      "text/plain": [
       "         date       comuna  house  new  total_area  built_area  bedrooms  \\\n",
       "0  2020-09-10  Puente Alto      0    0        42.0         NaN       2.0   \n",
       "1  2020-09-09        Ñuñoa      0    0        70.0         NaN       2.0   \n",
       "2  2020-09-09     Santiago      0    0        23.0         NaN       1.0   \n",
       "3  2020-09-09   Las Condes      0    0       163.0         NaN       3.0   \n",
       "4  2020-09-09        Ñuñoa      0    0        85.0         NaN       3.0   \n",
       "\n",
       "   bathrooms  furnished                                address  \\\n",
       "0        1.0          0        Puente Alto, Sgto Menadier 2779   \n",
       "1        2.0          0                Ñuñoa, Irarrázaval 1401   \n",
       "2        1.0          0                    Santiago, Huérfanos   \n",
       "3        4.0          0               Santiago, Vespucio Norte   \n",
       "4        1.0          0  Ñuñoa, Fidias a 3 cuadras metro Ñuble   \n",
       "\n",
       "                                         description  price_uf  days_old  \\\n",
       "0  Departamento ubicado en segundo piso, en plena...    871.42         0   \n",
       "1  Depto Vista despejada 2D 2B E B *2 dormitorios...   4900.00         1   \n",
       "2  Oportunidad Inversionistas o particulares. Ven...   1575.00         1   \n",
       "3  Vespucio Norte, Las Condes, Vendo confortable ...  13500.00         1   \n",
       "4  Amplio y luminoso departamento dúplex en Villa...   3346.26         1   \n",
       "\n",
       "        zone  \n",
       "0  southeast  \n",
       "1       east  \n",
       "2     center  \n",
       "3  northeast  \n",
       "4       east  "
      ]
     },
     "execution_count": 2,
     "metadata": {},
     "output_type": "execute_result"
    }
   ],
   "source": [
    "# Create a dataframe from the CSV file containing the analyzed data\n",
    "data = pd.read_csv('analyzed_data.csv')\n",
    "data.head()"
   ]
  },
  {
   "cell_type": "markdown",
   "metadata": {},
   "source": [
    "Below we select the features that we want to use in the model. In the EDA stage of the project we saw which features have strong correlations with price.  Since the columns `new`, `furnished`, and `days_old` had very weak correlations with price, these columns will not be used. We will also discard `date`, `comuna`, `address`, and `description`, making `zone` the only non-numerical column."
   ]
  },
  {
   "cell_type": "code",
   "execution_count": 3,
   "metadata": {},
   "outputs": [
    {
     "data": {
      "text/html": [
       "<div>\n",
       "<style scoped>\n",
       "    .dataframe tbody tr th:only-of-type {\n",
       "        vertical-align: middle;\n",
       "    }\n",
       "\n",
       "    .dataframe tbody tr th {\n",
       "        vertical-align: top;\n",
       "    }\n",
       "\n",
       "    .dataframe thead th {\n",
       "        text-align: right;\n",
       "    }\n",
       "</style>\n",
       "<table border=\"1\" class=\"dataframe\">\n",
       "  <thead>\n",
       "    <tr style=\"text-align: right;\">\n",
       "      <th></th>\n",
       "      <th>house</th>\n",
       "      <th>total_area</th>\n",
       "      <th>built_area</th>\n",
       "      <th>bedrooms</th>\n",
       "      <th>bathrooms</th>\n",
       "      <th>zone</th>\n",
       "      <th>price_uf</th>\n",
       "    </tr>\n",
       "  </thead>\n",
       "  <tbody>\n",
       "    <tr>\n",
       "      <th>0</th>\n",
       "      <td>0</td>\n",
       "      <td>42.0</td>\n",
       "      <td>NaN</td>\n",
       "      <td>2.0</td>\n",
       "      <td>1.0</td>\n",
       "      <td>southeast</td>\n",
       "      <td>871.42</td>\n",
       "    </tr>\n",
       "    <tr>\n",
       "      <th>1</th>\n",
       "      <td>0</td>\n",
       "      <td>70.0</td>\n",
       "      <td>NaN</td>\n",
       "      <td>2.0</td>\n",
       "      <td>2.0</td>\n",
       "      <td>east</td>\n",
       "      <td>4900.00</td>\n",
       "    </tr>\n",
       "    <tr>\n",
       "      <th>2</th>\n",
       "      <td>0</td>\n",
       "      <td>23.0</td>\n",
       "      <td>NaN</td>\n",
       "      <td>1.0</td>\n",
       "      <td>1.0</td>\n",
       "      <td>center</td>\n",
       "      <td>1575.00</td>\n",
       "    </tr>\n",
       "    <tr>\n",
       "      <th>3</th>\n",
       "      <td>0</td>\n",
       "      <td>163.0</td>\n",
       "      <td>NaN</td>\n",
       "      <td>3.0</td>\n",
       "      <td>4.0</td>\n",
       "      <td>northeast</td>\n",
       "      <td>13500.00</td>\n",
       "    </tr>\n",
       "    <tr>\n",
       "      <th>4</th>\n",
       "      <td>0</td>\n",
       "      <td>85.0</td>\n",
       "      <td>NaN</td>\n",
       "      <td>3.0</td>\n",
       "      <td>1.0</td>\n",
       "      <td>east</td>\n",
       "      <td>3346.26</td>\n",
       "    </tr>\n",
       "  </tbody>\n",
       "</table>\n",
       "</div>"
      ],
      "text/plain": [
       "   house  total_area  built_area  bedrooms  bathrooms       zone  price_uf\n",
       "0      0        42.0         NaN       2.0        1.0  southeast    871.42\n",
       "1      0        70.0         NaN       2.0        2.0       east   4900.00\n",
       "2      0        23.0         NaN       1.0        1.0     center   1575.00\n",
       "3      0       163.0         NaN       3.0        4.0  northeast  13500.00\n",
       "4      0        85.0         NaN       3.0        1.0       east   3346.26"
      ]
     },
     "execution_count": 3,
     "metadata": {},
     "output_type": "execute_result"
    }
   ],
   "source": [
    "# Select the features that will be used\n",
    "df = data.loc[:,['house', 'total_area', 'built_area', 'bedrooms', 'bathrooms', 'zone', 'price_uf']]\n",
    "df.head()"
   ]
  },
  {
   "cell_type": "code",
   "execution_count": 4,
   "metadata": {},
   "outputs": [
    {
     "data": {
      "image/png": "[encoded data removed]",
      "text/plain": [
       "<Figure size 1080x720 with 6 Axes>"
      ]
     },
     "metadata": {},
     "output_type": "display_data"
    }
   ],
   "source": [
    "# Have a look at the distributions of the features\n",
    "sns.set()\n",
    "df.hist(figsize=(15,10))\n",
    "plt.subplots_adjust(hspace=0.5);"
   ]
  },
  {
   "cell_type": "code",
   "execution_count": 5,
   "metadata": {},
   "outputs": [
    {
     "data": {
      "text/html": [
       "<div>\n",
       "<style scoped>\n",
       "    .dataframe tbody tr th:only-of-type {\n",
       "        vertical-align: middle;\n",
       "    }\n",
       "\n",
       "    .dataframe tbody tr th {\n",
       "        vertical-align: top;\n",
       "    }\n",
       "\n",
       "    .dataframe thead th {\n",
       "        text-align: right;\n",
       "    }\n",
       "</style>\n",
       "<table border=\"1\" class=\"dataframe\">\n",
       "  <thead>\n",
       "    <tr style=\"text-align: right;\">\n",
       "      <th></th>\n",
       "      <th>count</th>\n",
       "      <th>%</th>\n",
       "    </tr>\n",
       "  </thead>\n",
       "  <tbody>\n",
       "    <tr>\n",
       "      <th>built_area</th>\n",
       "      <td>3429</td>\n",
       "      <td>60.884233</td>\n",
       "    </tr>\n",
       "    <tr>\n",
       "      <th>total_area</th>\n",
       "      <td>1617</td>\n",
       "      <td>28.710938</td>\n",
       "    </tr>\n",
       "    <tr>\n",
       "      <th>bathrooms</th>\n",
       "      <td>132</td>\n",
       "      <td>2.343750</td>\n",
       "    </tr>\n",
       "    <tr>\n",
       "      <th>bedrooms</th>\n",
       "      <td>29</td>\n",
       "      <td>0.514915</td>\n",
       "    </tr>\n",
       "    <tr>\n",
       "      <th>house</th>\n",
       "      <td>0</td>\n",
       "      <td>0.000000</td>\n",
       "    </tr>\n",
       "    <tr>\n",
       "      <th>zone</th>\n",
       "      <td>0</td>\n",
       "      <td>0.000000</td>\n",
       "    </tr>\n",
       "    <tr>\n",
       "      <th>price_uf</th>\n",
       "      <td>0</td>\n",
       "      <td>0.000000</td>\n",
       "    </tr>\n",
       "  </tbody>\n",
       "</table>\n",
       "</div>"
      ],
      "text/plain": [
       "            count          %\n",
       "built_area   3429  60.884233\n",
       "total_area   1617  28.710938\n",
       "bathrooms     132   2.343750\n",
       "bedrooms       29   0.514915\n",
       "house           0   0.000000\n",
       "zone            0   0.000000\n",
       "price_uf        0   0.000000"
      ]
     },
     "execution_count": 5,
     "metadata": {},
     "output_type": "execute_result"
    }
   ],
   "source": [
    "# See which columns are missing the most data\n",
    "missing = pd.concat([df.isnull().sum(), 100 * df.isnull().mean()], axis=1)\n",
    "missing.columns=['count', '%']\n",
    "missing.sort_values(by='%', ascending=False)"
   ]
  },
  {
   "cell_type": "markdown",
   "metadata": {},
   "source": [
    "Over 60% of the listings have null values for `built_area`. However, this is not as big of a problem as it might appear. Below we see that almost all of the listings with missing values for `built_area` are apartments. Remember that apartments only include values for `total_area`. One might argue that the sensible choice would be to drop the `built_area` column, however this column has a very high correlation with price, so we would lose potentially valuable information. If the listing is an apartment we can essentially argue that `total_area` and `built_area` are equivalent, so we will use the values for `total_area` to fill in the missing `built_area` values for apartments. This does not solve the problem of missing values in the `total_area` column, but we will deal with them later."
   ]
  },
  {
   "cell_type": "code",
   "execution_count": 6,
   "metadata": {},
   "outputs": [
    {
     "data": {
      "text/plain": [
       "0    3382\n",
       "1      47\n",
       "Name: house, dtype: int64"
      ]
     },
     "execution_count": 6,
     "metadata": {},
     "output_type": "execute_result"
    }
   ],
   "source": [
    "# Almost all of the missing values for built_area are for apartments\n",
    "df[df['built_area'].isnull()]['house'].value_counts()"
   ]
  },
  {
   "cell_type": "code",
   "execution_count": 7,
   "metadata": {},
   "outputs": [
    {
     "data": {
      "text/plain": [
       "0    1583\n",
       "1      34\n",
       "Name: house, dtype: int64"
      ]
     },
     "execution_count": 7,
     "metadata": {},
     "output_type": "execute_result"
    }
   ],
   "source": [
    "# Same is true for total_area\n",
    "df[df['total_area'].isnull()]['house'].value_counts()"
   ]
  },
  {
   "cell_type": "code",
   "execution_count": 8,
   "metadata": {},
   "outputs": [
    {
     "data": {
      "text/html": [
       "<div>\n",
       "<style scoped>\n",
       "    .dataframe tbody tr th:only-of-type {\n",
       "        vertical-align: middle;\n",
       "    }\n",
       "\n",
       "    .dataframe tbody tr th {\n",
       "        vertical-align: top;\n",
       "    }\n",
       "\n",
       "    .dataframe thead th {\n",
       "        text-align: right;\n",
       "    }\n",
       "</style>\n",
       "<table border=\"1\" class=\"dataframe\">\n",
       "  <thead>\n",
       "    <tr style=\"text-align: right;\">\n",
       "      <th></th>\n",
       "      <th>house</th>\n",
       "      <th>total_area</th>\n",
       "      <th>built_area</th>\n",
       "      <th>bedrooms</th>\n",
       "      <th>bathrooms</th>\n",
       "      <th>zone</th>\n",
       "      <th>price_uf</th>\n",
       "    </tr>\n",
       "  </thead>\n",
       "  <tbody>\n",
       "    <tr>\n",
       "      <th>0</th>\n",
       "      <td>0</td>\n",
       "      <td>42.0</td>\n",
       "      <td>42.0</td>\n",
       "      <td>2.0</td>\n",
       "      <td>1.0</td>\n",
       "      <td>southeast</td>\n",
       "      <td>871.42</td>\n",
       "    </tr>\n",
       "    <tr>\n",
       "      <th>1</th>\n",
       "      <td>0</td>\n",
       "      <td>70.0</td>\n",
       "      <td>70.0</td>\n",
       "      <td>2.0</td>\n",
       "      <td>2.0</td>\n",
       "      <td>east</td>\n",
       "      <td>4900.00</td>\n",
       "    </tr>\n",
       "    <tr>\n",
       "      <th>2</th>\n",
       "      <td>0</td>\n",
       "      <td>23.0</td>\n",
       "      <td>23.0</td>\n",
       "      <td>1.0</td>\n",
       "      <td>1.0</td>\n",
       "      <td>center</td>\n",
       "      <td>1575.00</td>\n",
       "    </tr>\n",
       "    <tr>\n",
       "      <th>3</th>\n",
       "      <td>0</td>\n",
       "      <td>163.0</td>\n",
       "      <td>163.0</td>\n",
       "      <td>3.0</td>\n",
       "      <td>4.0</td>\n",
       "      <td>northeast</td>\n",
       "      <td>13500.00</td>\n",
       "    </tr>\n",
       "    <tr>\n",
       "      <th>4</th>\n",
       "      <td>0</td>\n",
       "      <td>85.0</td>\n",
       "      <td>85.0</td>\n",
       "      <td>3.0</td>\n",
       "      <td>1.0</td>\n",
       "      <td>east</td>\n",
       "      <td>3346.26</td>\n",
       "    </tr>\n",
       "  </tbody>\n",
       "</table>\n",
       "</div>"
      ],
      "text/plain": [
       "   house  total_area  built_area  bedrooms  bathrooms       zone  price_uf\n",
       "0      0        42.0        42.0       2.0        1.0  southeast    871.42\n",
       "1      0        70.0        70.0       2.0        2.0       east   4900.00\n",
       "2      0        23.0        23.0       1.0        1.0     center   1575.00\n",
       "3      0       163.0       163.0       3.0        4.0  northeast  13500.00\n",
       "4      0        85.0        85.0       3.0        1.0       east   3346.26"
      ]
     },
     "execution_count": 8,
     "metadata": {},
     "output_type": "execute_result"
    }
   ],
   "source": [
    "# For apartments, fill missing built_area with total_area\n",
    "indices = df['house'] == 0\n",
    "df.loc[indices, 'built_area'] = df.loc[indices, 'built_area'].fillna(df['total_area'])\n",
    "df.head()"
   ]
  },
  {
   "cell_type": "code",
   "execution_count": 9,
   "metadata": {},
   "outputs": [
    {
     "name": "stdout",
     "output_type": "stream",
     "text": [
      "Rows before: 5632\n",
      "Rows after: 5551\n"
     ]
    }
   ],
   "source": [
    "# Drop missing values for house areas, as there are not many and they are difficult to guess\n",
    "print('Rows before:', df.shape[0])\n",
    "df = df[~((df.house == 1) & (df.total_area.isnull() | df.built_area.isnull()))]\n",
    "print('Rows after:', df.shape[0])"
   ]
  },
  {
   "cell_type": "markdown",
   "metadata": {},
   "source": [
    "Now we will create dummy variables for the different zones that were created in the previous stage.  A variable will be made for each zone except for 'center'. Listings in this zone will have a value of zero for all of the zones. This prevents redundancy."
   ]
  },
  {
   "cell_type": "code",
   "execution_count": 10,
   "metadata": {},
   "outputs": [
    {
     "data": {
      "text/plain": [
       "array(['southeast', 'east', 'center', 'northeast', 'north', 'south',\n",
       "       'west', 'rural east', 'rural west'], dtype=object)"
      ]
     },
     "execution_count": 10,
     "metadata": {},
     "output_type": "execute_result"
    }
   ],
   "source": [
    "# See the unique values for 'zone'. All but one will become a column\n",
    "df['zone'].unique()"
   ]
  },
  {
   "cell_type": "code",
   "execution_count": 11,
   "metadata": {},
   "outputs": [
    {
     "data": {
      "text/html": [
       "<div>\n",
       "<style scoped>\n",
       "    .dataframe tbody tr th:only-of-type {\n",
       "        vertical-align: middle;\n",
       "    }\n",
       "\n",
       "    .dataframe tbody tr th {\n",
       "        vertical-align: top;\n",
       "    }\n",
       "\n",
       "    .dataframe thead th {\n",
       "        text-align: right;\n",
       "    }\n",
       "</style>\n",
       "<table border=\"1\" class=\"dataframe\">\n",
       "  <thead>\n",
       "    <tr style=\"text-align: right;\">\n",
       "      <th></th>\n",
       "      <th>house</th>\n",
       "      <th>total_area</th>\n",
       "      <th>built_area</th>\n",
       "      <th>bedrooms</th>\n",
       "      <th>bathrooms</th>\n",
       "      <th>price_uf</th>\n",
       "      <th>z_east</th>\n",
       "      <th>z_north</th>\n",
       "      <th>z_northeast</th>\n",
       "      <th>z_rural east</th>\n",
       "      <th>z_rural west</th>\n",
       "      <th>z_south</th>\n",
       "      <th>z_southeast</th>\n",
       "      <th>z_west</th>\n",
       "    </tr>\n",
       "  </thead>\n",
       "  <tbody>\n",
       "    <tr>\n",
       "      <th>0</th>\n",
       "      <td>0</td>\n",
       "      <td>42.0</td>\n",
       "      <td>42.0</td>\n",
       "      <td>2.0</td>\n",
       "      <td>1.0</td>\n",
       "      <td>871.42</td>\n",
       "      <td>0</td>\n",
       "      <td>0</td>\n",
       "      <td>0</td>\n",
       "      <td>0</td>\n",
       "      <td>0</td>\n",
       "      <td>0</td>\n",
       "      <td>1</td>\n",
       "      <td>0</td>\n",
       "    </tr>\n",
       "    <tr>\n",
       "      <th>1</th>\n",
       "      <td>0</td>\n",
       "      <td>70.0</td>\n",
       "      <td>70.0</td>\n",
       "      <td>2.0</td>\n",
       "      <td>2.0</td>\n",
       "      <td>4900.00</td>\n",
       "      <td>1</td>\n",
       "      <td>0</td>\n",
       "      <td>0</td>\n",
       "      <td>0</td>\n",
       "      <td>0</td>\n",
       "      <td>0</td>\n",
       "      <td>0</td>\n",
       "      <td>0</td>\n",
       "    </tr>\n",
       "    <tr>\n",
       "      <th>2</th>\n",
       "      <td>0</td>\n",
       "      <td>23.0</td>\n",
       "      <td>23.0</td>\n",
       "      <td>1.0</td>\n",
       "      <td>1.0</td>\n",
       "      <td>1575.00</td>\n",
       "      <td>0</td>\n",
       "      <td>0</td>\n",
       "      <td>0</td>\n",
       "      <td>0</td>\n",
       "      <td>0</td>\n",
       "      <td>0</td>\n",
       "      <td>0</td>\n",
       "      <td>0</td>\n",
       "    </tr>\n",
       "    <tr>\n",
       "      <th>3</th>\n",
       "      <td>0</td>\n",
       "      <td>163.0</td>\n",
       "      <td>163.0</td>\n",
       "      <td>3.0</td>\n",
       "      <td>4.0</td>\n",
       "      <td>13500.00</td>\n",
       "      <td>0</td>\n",
       "      <td>0</td>\n",
       "      <td>1</td>\n",
       "      <td>0</td>\n",
       "      <td>0</td>\n",
       "      <td>0</td>\n",
       "      <td>0</td>\n",
       "      <td>0</td>\n",
       "    </tr>\n",
       "    <tr>\n",
       "      <th>4</th>\n",
       "      <td>0</td>\n",
       "      <td>85.0</td>\n",
       "      <td>85.0</td>\n",
       "      <td>3.0</td>\n",
       "      <td>1.0</td>\n",
       "      <td>3346.26</td>\n",
       "      <td>1</td>\n",
       "      <td>0</td>\n",
       "      <td>0</td>\n",
       "      <td>0</td>\n",
       "      <td>0</td>\n",
       "      <td>0</td>\n",
       "      <td>0</td>\n",
       "      <td>0</td>\n",
       "    </tr>\n",
       "  </tbody>\n",
       "</table>\n",
       "</div>"
      ],
      "text/plain": [
       "   house  total_area  built_area  bedrooms  bathrooms  price_uf  z_east  \\\n",
       "0      0        42.0        42.0       2.0        1.0    871.42       0   \n",
       "1      0        70.0        70.0       2.0        2.0   4900.00       1   \n",
       "2      0        23.0        23.0       1.0        1.0   1575.00       0   \n",
       "3      0       163.0       163.0       3.0        4.0  13500.00       0   \n",
       "4      0        85.0        85.0       3.0        1.0   3346.26       1   \n",
       "\n",
       "   z_north  z_northeast  z_rural east  z_rural west  z_south  z_southeast  \\\n",
       "0        0            0             0             0        0            1   \n",
       "1        0            0             0             0        0            0   \n",
       "2        0            0             0             0        0            0   \n",
       "3        0            1             0             0        0            0   \n",
       "4        0            0             0             0        0            0   \n",
       "\n",
       "   z_west  \n",
       "0       0  \n",
       "1       0  \n",
       "2       0  \n",
       "3       0  \n",
       "4       0  "
      ]
     },
     "execution_count": 11,
     "metadata": {},
     "output_type": "execute_result"
    }
   ],
   "source": [
    "# Create dummy variables from \"zone\" feature\n",
    "df = pd.get_dummies(df, columns=['zone'], drop_first='True', prefix='z')\n",
    "df.head()"
   ]
  },
  {
   "cell_type": "code",
   "execution_count": 12,
   "metadata": {},
   "outputs": [
    {
     "data": {
      "text/html": [
       "<div>\n",
       "<style scoped>\n",
       "    .dataframe tbody tr th:only-of-type {\n",
       "        vertical-align: middle;\n",
       "    }\n",
       "\n",
       "    .dataframe tbody tr th {\n",
       "        vertical-align: top;\n",
       "    }\n",
       "\n",
       "    .dataframe thead th {\n",
       "        text-align: right;\n",
       "    }\n",
       "</style>\n",
       "<table border=\"1\" class=\"dataframe\">\n",
       "  <thead>\n",
       "    <tr style=\"text-align: right;\">\n",
       "      <th></th>\n",
       "      <th>count</th>\n",
       "      <th>%</th>\n",
       "    </tr>\n",
       "  </thead>\n",
       "  <tbody>\n",
       "    <tr>\n",
       "      <th>total_area</th>\n",
       "      <td>1583</td>\n",
       "      <td>28.517384</td>\n",
       "    </tr>\n",
       "    <tr>\n",
       "      <th>built_area</th>\n",
       "      <td>1583</td>\n",
       "      <td>28.517384</td>\n",
       "    </tr>\n",
       "    <tr>\n",
       "      <th>bathrooms</th>\n",
       "      <td>127</td>\n",
       "      <td>2.287876</td>\n",
       "    </tr>\n",
       "    <tr>\n",
       "      <th>bedrooms</th>\n",
       "      <td>18</td>\n",
       "      <td>0.324266</td>\n",
       "    </tr>\n",
       "    <tr>\n",
       "      <th>house</th>\n",
       "      <td>0</td>\n",
       "      <td>0.000000</td>\n",
       "    </tr>\n",
       "    <tr>\n",
       "      <th>price_uf</th>\n",
       "      <td>0</td>\n",
       "      <td>0.000000</td>\n",
       "    </tr>\n",
       "    <tr>\n",
       "      <th>z_east</th>\n",
       "      <td>0</td>\n",
       "      <td>0.000000</td>\n",
       "    </tr>\n",
       "    <tr>\n",
       "      <th>z_north</th>\n",
       "      <td>0</td>\n",
       "      <td>0.000000</td>\n",
       "    </tr>\n",
       "    <tr>\n",
       "      <th>z_northeast</th>\n",
       "      <td>0</td>\n",
       "      <td>0.000000</td>\n",
       "    </tr>\n",
       "    <tr>\n",
       "      <th>z_rural east</th>\n",
       "      <td>0</td>\n",
       "      <td>0.000000</td>\n",
       "    </tr>\n",
       "    <tr>\n",
       "      <th>z_rural west</th>\n",
       "      <td>0</td>\n",
       "      <td>0.000000</td>\n",
       "    </tr>\n",
       "    <tr>\n",
       "      <th>z_south</th>\n",
       "      <td>0</td>\n",
       "      <td>0.000000</td>\n",
       "    </tr>\n",
       "    <tr>\n",
       "      <th>z_southeast</th>\n",
       "      <td>0</td>\n",
       "      <td>0.000000</td>\n",
       "    </tr>\n",
       "    <tr>\n",
       "      <th>z_west</th>\n",
       "      <td>0</td>\n",
       "      <td>0.000000</td>\n",
       "    </tr>\n",
       "  </tbody>\n",
       "</table>\n",
       "</div>"
      ],
      "text/plain": [
       "              count          %\n",
       "total_area     1583  28.517384\n",
       "built_area     1583  28.517384\n",
       "bathrooms       127   2.287876\n",
       "bedrooms         18   0.324266\n",
       "house             0   0.000000\n",
       "price_uf          0   0.000000\n",
       "z_east            0   0.000000\n",
       "z_north           0   0.000000\n",
       "z_northeast       0   0.000000\n",
       "z_rural east      0   0.000000\n",
       "z_rural west      0   0.000000\n",
       "z_south           0   0.000000\n",
       "z_southeast       0   0.000000\n",
       "z_west            0   0.000000"
      ]
     },
     "execution_count": 12,
     "metadata": {},
     "output_type": "execute_result"
    }
   ],
   "source": [
    "# See how much missing data is left\n",
    "missing = pd.concat([df.isnull().sum(), 100 * df.isnull().mean()], axis=1)\n",
    "missing.columns=['count', '%']\n",
    "missing.sort_values(by='%', ascending=False)"
   ]
  },
  {
   "cell_type": "code",
   "execution_count": 13,
   "metadata": {},
   "outputs": [
    {
     "data": {
      "text/plain": [
       "house             int64\n",
       "total_area      float64\n",
       "built_area      float64\n",
       "bedrooms        float64\n",
       "bathrooms       float64\n",
       "price_uf        float64\n",
       "z_east            uint8\n",
       "z_north           uint8\n",
       "z_northeast       uint8\n",
       "z_rural east      uint8\n",
       "z_rural west      uint8\n",
       "z_south           uint8\n",
       "z_southeast       uint8\n",
       "z_west            uint8\n",
       "dtype: object"
      ]
     },
     "execution_count": 13,
     "metadata": {},
     "output_type": "execute_result"
    }
   ],
   "source": [
    "# Make sure the data types are all numerical\n",
    "df.dtypes"
   ]
  },
  {
   "cell_type": "markdown",
   "metadata": {},
   "source": [
    "Next it is time to split the data into training and test sets, and then use information from the training set to impute values in both the training and test sets."
   ]
  },
  {
   "cell_type": "code",
   "execution_count": 14,
   "metadata": {},
   "outputs": [],
   "source": [
    "# Split data into train and test sets\n",
    "X_train, X_test, y_train, y_test = train_test_split(df.drop(columns='price_uf'), \n",
    "                                                    df.price_uf, test_size=0.3, \n",
    "                                                    random_state=47)"
   ]
  },
  {
   "cell_type": "code",
   "execution_count": 15,
   "metadata": {},
   "outputs": [
    {
     "data": {
      "text/plain": [
       "((3885, 13), (1666, 13))"
      ]
     },
     "execution_count": 15,
     "metadata": {},
     "output_type": "execute_result"
    }
   ],
   "source": [
    "# Check shape\n",
    "X_train.shape, X_test.shape"
   ]
  },
  {
   "cell_type": "code",
   "execution_count": 16,
   "metadata": {},
   "outputs": [
    {
     "data": {
      "text/plain": [
       "((3885,), (1666,))"
      ]
     },
     "execution_count": 16,
     "metadata": {},
     "output_type": "execute_result"
    }
   ],
   "source": [
    "y_train.shape, y_test.shape"
   ]
  },
  {
   "cell_type": "markdown",
   "metadata": {},
   "source": [
    "Now that the data is split, it is time to deal with the missing values for `bedrooms` and `bathrooms`. In the Data Wrangling stage of the process we already dropped the rows that were missing both values, so now we can use whichever value is present to estimate the value that is missing. The cells below shows there are on average 0.78 bathrooms per bedroom in a given home, and the median numbers of bedrooms and bathrooms are 3 and 2 respectively. For each row, if the value for `bathrooms` is missing, we fill it by multiplying the value for `bedrooms` by 2/3 and rounding up to the nearest whole number. Conversely, to fill in the the missing values for `bedrooms` we will multiply the value for `bedrooms` by 3/2, and round down to the nearest integer."
   ]
  },
  {
   "cell_type": "code",
   "execution_count": 17,
   "metadata": {},
   "outputs": [
    {
     "data": {
      "text/plain": [
       "0.7767682304464522"
      ]
     },
     "execution_count": 17,
     "metadata": {},
     "output_type": "execute_result"
    }
   ],
   "source": [
    "ratio = X_train['bathrooms'] / X_train['bedrooms']\n",
    "ratio.mean()"
   ]
  },
  {
   "cell_type": "code",
   "execution_count": 18,
   "metadata": {},
   "outputs": [
    {
     "data": {
      "text/plain": [
       "bedrooms     3.0\n",
       "bathrooms    2.0\n",
       "dtype: float64"
      ]
     },
     "execution_count": 18,
     "metadata": {},
     "output_type": "execute_result"
    }
   ],
   "source": [
    "# Determine typical ratio of bedrooms to bathrooms\n",
    "X_train[['bedrooms', 'bathrooms']].median()"
   ]
  },
  {
   "cell_type": "code",
   "execution_count": 19,
   "metadata": {},
   "outputs": [],
   "source": [
    "# Use ratio to impute sensible values in training set\n",
    "X_train['bathrooms'].fillna(X_train['bedrooms']*(2/3), inplace=True)\n",
    "X_train['bathrooms'] = X_train['bathrooms'].apply(np.ceil).astype(int)\n",
    "\n",
    "X_train['bedrooms'].fillna(X_train['bathrooms']*(3/2), inplace=True)\n",
    "X_train['bedrooms'] = X_train['bedrooms'].astype(int)"
   ]
  },
  {
   "cell_type": "code",
   "execution_count": 20,
   "metadata": {},
   "outputs": [],
   "source": [
    "# Use ratio to impute sensible values in test set\n",
    "X_test['bathrooms'].fillna(X_test['bedrooms']*(2/3), inplace=True)\n",
    "X_test['bathrooms'] = X_test['bathrooms'].apply(np.ceil).astype(int)\n",
    "\n",
    "X_test['bedrooms'].fillna(X_test['bathrooms']*(3/2), inplace=True)\n",
    "X_test['bedrooms'] = X_test['bedrooms'].astype(int)"
   ]
  },
  {
   "cell_type": "code",
   "execution_count": 21,
   "metadata": {},
   "outputs": [
    {
     "data": {
      "text/plain": [
       "house              0\n",
       "total_area      1102\n",
       "built_area      1102\n",
       "bedrooms           0\n",
       "bathrooms          0\n",
       "z_east             0\n",
       "z_north            0\n",
       "z_northeast        0\n",
       "z_rural east       0\n",
       "z_rural west       0\n",
       "z_south            0\n",
       "z_southeast        0\n",
       "z_west             0\n",
       "dtype: int64"
      ]
     },
     "execution_count": 21,
     "metadata": {},
     "output_type": "execute_result"
    }
   ],
   "source": [
    "X_train.isnull().sum()"
   ]
  },
  {
   "cell_type": "markdown",
   "metadata": {},
   "source": [
    "There are still apartments missing values for both `built_area` and `total_area`. To fill these will take the median `total_area` of apartments from the training set and use those values to fill the training and test sets."
   ]
  },
  {
   "cell_type": "code",
   "execution_count": 22,
   "metadata": {},
   "outputs": [
    {
     "name": "stdout",
     "output_type": "stream",
     "text": [
      "65.0\n"
     ]
    }
   ],
   "source": [
    "# Get median area of apartments from training data\n",
    "median_area = X_train[X_train['house']==0]['total_area'].median()\n",
    "print(median_area)"
   ]
  },
  {
   "cell_type": "code",
   "execution_count": 23,
   "metadata": {},
   "outputs": [],
   "source": [
    "# Use this to impute values for training and test sets\n",
    "X_train.fillna(median_area, inplace=True)\n",
    "X_test.fillna(median_area, inplace=True)"
   ]
  },
  {
   "cell_type": "code",
   "execution_count": 24,
   "metadata": {},
   "outputs": [
    {
     "data": {
      "text/plain": [
       "house           0\n",
       "total_area      0\n",
       "built_area      0\n",
       "bedrooms        0\n",
       "bathrooms       0\n",
       "z_east          0\n",
       "z_north         0\n",
       "z_northeast     0\n",
       "z_rural east    0\n",
       "z_rural west    0\n",
       "z_south         0\n",
       "z_southeast     0\n",
       "z_west          0\n",
       "dtype: int64"
      ]
     },
     "execution_count": 24,
     "metadata": {},
     "output_type": "execute_result"
    }
   ],
   "source": [
    "# Make sure there are no more null values for training set\n",
    "X_train.isnull().sum()"
   ]
  },
  {
   "cell_type": "code",
   "execution_count": 25,
   "metadata": {},
   "outputs": [
    {
     "data": {
      "text/plain": [
       "house           0\n",
       "total_area      0\n",
       "built_area      0\n",
       "bedrooms        0\n",
       "bathrooms       0\n",
       "z_east          0\n",
       "z_north         0\n",
       "z_northeast     0\n",
       "z_rural east    0\n",
       "z_rural west    0\n",
       "z_south         0\n",
       "z_southeast     0\n",
       "z_west          0\n",
       "dtype: int64"
      ]
     },
     "execution_count": 25,
     "metadata": {},
     "output_type": "execute_result"
    }
   ],
   "source": [
    "# Make sure there are no more null values for test set\n",
    "X_test.isnull().sum()"
   ]
  },
  {
   "cell_type": "code",
   "execution_count": 26,
   "metadata": {},
   "outputs": [
    {
     "data": {
      "text/html": [
       "<div>\n",
       "<style scoped>\n",
       "    .dataframe tbody tr th:only-of-type {\n",
       "        vertical-align: middle;\n",
       "    }\n",
       "\n",
       "    .dataframe tbody tr th {\n",
       "        vertical-align: top;\n",
       "    }\n",
       "\n",
       "    .dataframe thead th {\n",
       "        text-align: right;\n",
       "    }\n",
       "</style>\n",
       "<table border=\"1\" class=\"dataframe\">\n",
       "  <thead>\n",
       "    <tr style=\"text-align: right;\">\n",
       "      <th></th>\n",
       "      <th>house</th>\n",
       "      <th>total_area</th>\n",
       "      <th>built_area</th>\n",
       "      <th>bedrooms</th>\n",
       "      <th>bathrooms</th>\n",
       "      <th>z_east</th>\n",
       "      <th>z_north</th>\n",
       "      <th>z_northeast</th>\n",
       "      <th>z_rural east</th>\n",
       "      <th>z_rural west</th>\n",
       "      <th>z_south</th>\n",
       "      <th>z_southeast</th>\n",
       "      <th>z_west</th>\n",
       "    </tr>\n",
       "  </thead>\n",
       "  <tbody>\n",
       "    <tr>\n",
       "      <th>5343</th>\n",
       "      <td>1</td>\n",
       "      <td>117.0</td>\n",
       "      <td>90.0</td>\n",
       "      <td>4</td>\n",
       "      <td>2</td>\n",
       "      <td>0</td>\n",
       "      <td>0</td>\n",
       "      <td>0</td>\n",
       "      <td>0</td>\n",
       "      <td>0</td>\n",
       "      <td>0</td>\n",
       "      <td>1</td>\n",
       "      <td>0</td>\n",
       "    </tr>\n",
       "    <tr>\n",
       "      <th>1836</th>\n",
       "      <td>0</td>\n",
       "      <td>25.0</td>\n",
       "      <td>25.0</td>\n",
       "      <td>3</td>\n",
       "      <td>2</td>\n",
       "      <td>0</td>\n",
       "      <td>0</td>\n",
       "      <td>1</td>\n",
       "      <td>0</td>\n",
       "      <td>0</td>\n",
       "      <td>0</td>\n",
       "      <td>0</td>\n",
       "      <td>0</td>\n",
       "    </tr>\n",
       "    <tr>\n",
       "      <th>2499</th>\n",
       "      <td>0</td>\n",
       "      <td>103.0</td>\n",
       "      <td>103.0</td>\n",
       "      <td>4</td>\n",
       "      <td>3</td>\n",
       "      <td>0</td>\n",
       "      <td>0</td>\n",
       "      <td>1</td>\n",
       "      <td>0</td>\n",
       "      <td>0</td>\n",
       "      <td>0</td>\n",
       "      <td>0</td>\n",
       "      <td>0</td>\n",
       "    </tr>\n",
       "    <tr>\n",
       "      <th>30</th>\n",
       "      <td>0</td>\n",
       "      <td>45.0</td>\n",
       "      <td>45.0</td>\n",
       "      <td>2</td>\n",
       "      <td>1</td>\n",
       "      <td>0</td>\n",
       "      <td>0</td>\n",
       "      <td>0</td>\n",
       "      <td>0</td>\n",
       "      <td>0</td>\n",
       "      <td>0</td>\n",
       "      <td>0</td>\n",
       "      <td>1</td>\n",
       "    </tr>\n",
       "    <tr>\n",
       "      <th>2666</th>\n",
       "      <td>0</td>\n",
       "      <td>47.0</td>\n",
       "      <td>47.0</td>\n",
       "      <td>2</td>\n",
       "      <td>2</td>\n",
       "      <td>0</td>\n",
       "      <td>0</td>\n",
       "      <td>0</td>\n",
       "      <td>0</td>\n",
       "      <td>0</td>\n",
       "      <td>1</td>\n",
       "      <td>0</td>\n",
       "      <td>0</td>\n",
       "    </tr>\n",
       "  </tbody>\n",
       "</table>\n",
       "</div>"
      ],
      "text/plain": [
       "      house  total_area  built_area  bedrooms  bathrooms  z_east  z_north  \\\n",
       "5343      1       117.0        90.0         4          2       0        0   \n",
       "1836      0        25.0        25.0         3          2       0        0   \n",
       "2499      0       103.0       103.0         4          3       0        0   \n",
       "30        0        45.0        45.0         2          1       0        0   \n",
       "2666      0        47.0        47.0         2          2       0        0   \n",
       "\n",
       "      z_northeast  z_rural east  z_rural west  z_south  z_southeast  z_west  \n",
       "5343            0             0             0        0            1       0  \n",
       "1836            1             0             0        0            0       0  \n",
       "2499            1             0             0        0            0       0  \n",
       "30              0             0             0        0            0       1  \n",
       "2666            0             0             0        1            0       0  "
      ]
     },
     "execution_count": 26,
     "metadata": {},
     "output_type": "execute_result"
    }
   ],
   "source": [
    "X_train.head()"
   ]
  },
  {
   "cell_type": "markdown",
   "metadata": {},
   "source": [
    "Finally, we need to scale the data, since our features are on vastly different scales. Also, some of the features are highly skewed, and most machine learning models work best with data that is more or less normally distributed. Power Transformer uses logarithmic transformation to make the data more closely resemble a normal distribution. When we fit the transformer to the data, it determines what power is optimal for each feature. We will fit the transformer to the training set and then use it to transform both the training and test sets."
   ]
  },
  {
   "cell_type": "code",
   "execution_count": 27,
   "metadata": {},
   "outputs": [
    {
     "data": {
      "text/plain": [
       "PowerTransformer(copy=False)"
      ]
     },
     "execution_count": 27,
     "metadata": {},
     "output_type": "execute_result"
    }
   ],
   "source": [
    "# Create instance of PowerTransformer and fit to training set\n",
    "power = PowerTransformer(copy=False)\n",
    "power.fit(X_train)"
   ]
  },
  {
   "cell_type": "code",
   "execution_count": 28,
   "metadata": {},
   "outputs": [
    {
     "name": "stdout",
     "output_type": "stream",
     "text": [
      "[-1.96792619e+00 -5.63253308e-01 -4.97614927e-01 -7.82278612e-03\n",
      " -5.57527347e-01 -1.06053333e+01 -2.36492116e+01 -7.33402207e+00\n",
      " -1.70345816e+01 -2.49105211e+01 -1.14289576e+01 -1.29899443e+01\n",
      " -1.81379486e+01]\n"
     ]
    }
   ],
   "source": [
    "# The lambda parameter shows the power of the transformation\n",
    "print(power.lambdas_)"
   ]
  },
  {
   "cell_type": "code",
   "execution_count": 31,
   "metadata": {},
   "outputs": [],
   "source": [
    "# Transform training and test sets\n",
    "X_train_scaled = power.transform(X_train)\n",
    "X_test_scaled = power.transform(X_test)"
   ]
  },
  {
   "cell_type": "code",
   "execution_count": 32,
   "metadata": {},
   "outputs": [
    {
     "data": {
      "text/html": [
       "<div>\n",
       "<style scoped>\n",
       "    .dataframe tbody tr th:only-of-type {\n",
       "        vertical-align: middle;\n",
       "    }\n",
       "\n",
       "    .dataframe tbody tr th {\n",
       "        vertical-align: top;\n",
       "    }\n",
       "\n",
       "    .dataframe thead th {\n",
       "        text-align: right;\n",
       "    }\n",
       "</style>\n",
       "<table border=\"1\" class=\"dataframe\">\n",
       "  <thead>\n",
       "    <tr style=\"text-align: right;\">\n",
       "      <th></th>\n",
       "      <th>house</th>\n",
       "      <th>total_area</th>\n",
       "      <th>built_area</th>\n",
       "      <th>bedrooms</th>\n",
       "      <th>bathrooms</th>\n",
       "      <th>z_east</th>\n",
       "      <th>z_north</th>\n",
       "      <th>z_northeast</th>\n",
       "      <th>z_rural east</th>\n",
       "      <th>z_rural west</th>\n",
       "      <th>z_south</th>\n",
       "      <th>z_southeast</th>\n",
       "      <th>z_west</th>\n",
       "    </tr>\n",
       "  </thead>\n",
       "  <tbody>\n",
       "    <tr>\n",
       "      <th>0</th>\n",
       "      <td>1.251419</td>\n",
       "      <td>0.194465</td>\n",
       "      <td>0.139287</td>\n",
       "      <td>0.847021</td>\n",
       "      <td>0.087006</td>\n",
       "      <td>-0.39572</td>\n",
       "      <td>-0.254886</td>\n",
       "      <td>-0.485071</td>\n",
       "      <td>-0.30417</td>\n",
       "      <td>-0.247942</td>\n",
       "      <td>-0.379464</td>\n",
       "      <td>2.830887</td>\n",
       "      <td>-0.293955</td>\n",
       "    </tr>\n",
       "    <tr>\n",
       "      <th>1</th>\n",
       "      <td>-0.799093</td>\n",
       "      <td>-2.535776</td>\n",
       "      <td>-2.865874</td>\n",
       "      <td>0.198918</td>\n",
       "      <td>0.087006</td>\n",
       "      <td>-0.39572</td>\n",
       "      <td>-0.254886</td>\n",
       "      <td>2.061553</td>\n",
       "      <td>-0.30417</td>\n",
       "      <td>-0.247942</td>\n",
       "      <td>-0.379464</td>\n",
       "      <td>-0.353246</td>\n",
       "      <td>-0.293955</td>\n",
       "    </tr>\n",
       "    <tr>\n",
       "      <th>2</th>\n",
       "      <td>-0.799093</td>\n",
       "      <td>0.044724</td>\n",
       "      <td>0.362569</td>\n",
       "      <td>0.847021</td>\n",
       "      <td>0.908910</td>\n",
       "      <td>-0.39572</td>\n",
       "      <td>-0.254886</td>\n",
       "      <td>2.061553</td>\n",
       "      <td>-0.30417</td>\n",
       "      <td>-0.247942</td>\n",
       "      <td>-0.379464</td>\n",
       "      <td>-0.353246</td>\n",
       "      <td>-0.293955</td>\n",
       "    </tr>\n",
       "    <tr>\n",
       "      <th>3</th>\n",
       "      <td>-0.799093</td>\n",
       "      <td>-1.227193</td>\n",
       "      <td>-1.264642</td>\n",
       "      <td>-0.638303</td>\n",
       "      <td>-1.319808</td>\n",
       "      <td>-0.39572</td>\n",
       "      <td>-0.254886</td>\n",
       "      <td>-0.485071</td>\n",
       "      <td>-0.30417</td>\n",
       "      <td>-0.247942</td>\n",
       "      <td>-0.379464</td>\n",
       "      <td>-0.353246</td>\n",
       "      <td>3.401884</td>\n",
       "    </tr>\n",
       "    <tr>\n",
       "      <th>4</th>\n",
       "      <td>-0.799093</td>\n",
       "      <td>-1.145409</td>\n",
       "      <td>-1.162440</td>\n",
       "      <td>-0.638303</td>\n",
       "      <td>0.087006</td>\n",
       "      <td>-0.39572</td>\n",
       "      <td>-0.254886</td>\n",
       "      <td>-0.485071</td>\n",
       "      <td>-0.30417</td>\n",
       "      <td>-0.247942</td>\n",
       "      <td>2.635296</td>\n",
       "      <td>-0.353246</td>\n",
       "      <td>-0.293955</td>\n",
       "    </tr>\n",
       "  </tbody>\n",
       "</table>\n",
       "</div>"
      ],
      "text/plain": [
       "      house  total_area  built_area  bedrooms  bathrooms   z_east   z_north  \\\n",
       "0  1.251419    0.194465    0.139287  0.847021   0.087006 -0.39572 -0.254886   \n",
       "1 -0.799093   -2.535776   -2.865874  0.198918   0.087006 -0.39572 -0.254886   \n",
       "2 -0.799093    0.044724    0.362569  0.847021   0.908910 -0.39572 -0.254886   \n",
       "3 -0.799093   -1.227193   -1.264642 -0.638303  -1.319808 -0.39572 -0.254886   \n",
       "4 -0.799093   -1.145409   -1.162440 -0.638303   0.087006 -0.39572 -0.254886   \n",
       "\n",
       "   z_northeast  z_rural east  z_rural west   z_south  z_southeast    z_west  \n",
       "0    -0.485071      -0.30417     -0.247942 -0.379464     2.830887 -0.293955  \n",
       "1     2.061553      -0.30417     -0.247942 -0.379464    -0.353246 -0.293955  \n",
       "2     2.061553      -0.30417     -0.247942 -0.379464    -0.353246 -0.293955  \n",
       "3    -0.485071      -0.30417     -0.247942 -0.379464    -0.353246  3.401884  \n",
       "4    -0.485071      -0.30417     -0.247942  2.635296    -0.353246 -0.293955  "
      ]
     },
     "execution_count": 32,
     "metadata": {},
     "output_type": "execute_result"
    }
   ],
   "source": [
    "# Outputs are numpy arrays, so change them back to pandas DataFrames\n",
    "X_train_scaled = pd.DataFrame(X_train_scaled, columns= X_train.columns)\n",
    "X_test_scaled = pd.DataFrame(X_test_scaled, columns= X_test.columns)\n",
    "X_train_scaled.head()"
   ]
  },
  {
   "cell_type": "markdown",
   "metadata": {},
   "source": [
    "Below are histograms of the original and scaled data showing how the distributions have shifted. The distributions of the binary columns look the same as before, although the values have been changed."
   ]
  },
  {
   "cell_type": "code",
   "execution_count": 33,
   "metadata": {},
   "outputs": [
    {
     "data": {
      "image/png": "[encoded data removed]",
      "text/plain": [
       "<Figure size 1080x1080 with 6 Axes>"
      ]
     },
     "metadata": {},
     "output_type": "display_data"
    }
   ],
   "source": [
    "# Original distributions before scaling, including one of the dummy vaiables\n",
    "X_train[['house', 'total_area', 'built_area', 'bedrooms', 'bathrooms', 'z_east']].hist(figsize=(15, 15));"
   ]
  },
  {
   "cell_type": "code",
   "execution_count": 34,
   "metadata": {},
   "outputs": [
    {
     "data": {
      "image/png": "[encoded data removed]",
      "text/plain": [
       "<Figure size 1080x1080 with 6 Axes>"
      ]
     },
     "metadata": {},
     "output_type": "display_data"
    }
   ],
   "source": [
    "# Distributions after scaling, including one dummy variable\n",
    "X_train_scaled[['house', 'total_area', 'built_area', 'bedrooms', 'bathrooms', 'z_east']].hist(figsize=(15, 15));"
   ]
  },
  {
   "cell_type": "code",
   "execution_count": 35,
   "metadata": {},
   "outputs": [],
   "source": [
    "# Save results to pickle files, including unscaled data\n",
    "with open('train.pkl', 'wb') as file:\n",
    "    pkl.dump([X_train, X_train_scaled, y_train], file)\n",
    "\n",
    "with open('test.pkl', 'wb') as file:\n",
    "    pkl.dump([X_test, X_test_sclaled, y_test], file)"
   ]
  }
 ],
 "metadata": {
  "kernelspec": {
   "display_name": "Python 3",
   "language": "python",
   "name": "python3"
  },
  "language_info": {
   "codemirror_mode": {
    "name": "ipython",
    "version": 3
   },
   "file_extension": ".py",
   "mimetype": "text/x-python",
   "name": "python",
   "nbconvert_exporter": "python",
   "pygments_lexer": "ipython3",
   "version": "3.6.10"
  }
 },
 "nbformat": 4,
 "nbformat_minor": 4
}
